{
 "cells": [
  {
   "cell_type": "code",
   "execution_count": 1,
   "metadata": {},
   "outputs": [],
   "source": [
    "import os\n",
    "import re\n",
    "import pandas as pd\n",
    "from sklearn.decomposition import NMF\n",
    "from scipy.sparse import dok_matrix\n",
    "import numpy as np\n",
    "import pandas as pd\n",
    "from scipy.spatial.distance import sqeuclidean, cosine\n",
    "import tensorflow as tf\n",
    "import math\n",
    "np.random.seed(0)"
   ]
  },
  {
   "cell_type": "markdown",
   "metadata": {},
   "source": [
    "# NON NEGATIVE-MATRIX FACTORIZATION"
   ]
  },
  {
   "cell_type": "markdown",
   "metadata": {},
   "source": [
    "solution au problème des zéros traités comme des notes par la NMF : https://nipunbatra.github.io/blog/2017/nnmf-tensorflow.html"
   ]
  },
  {
   "cell_type": "code",
   "execution_count": 2,
   "metadata": {},
   "outputs": [],
   "source": [
    "def MSE_err(truth,pred):\n",
    "    \"\"\"\n",
    "    computes MSE from real-pred difference\n",
    "    \"\"\"\n",
    "    return np.mean((truth-pred)**2)\n",
    "\n",
    "def MAE_err(truth,pred):\n",
    "    \"\"\"\n",
    "    computes MAE from real-pred difference\n",
    "    \"\"\"\n",
    "    return np.mean(abs(np.array(truth-pred)))"
   ]
  },
  {
   "cell_type": "markdown",
   "metadata": {},
   "source": [
    "### récupération des données"
   ]
  },
  {
   "cell_type": "code",
   "execution_count": 3,
   "metadata": {},
   "outputs": [],
   "source": [
    "path = \"ratings_60\""
   ]
  },
  {
   "cell_type": "code",
   "execution_count": 4,
   "metadata": {},
   "outputs": [
    {
     "name": "stdout",
     "output_type": "stream",
     "text": [
      "60 users and 1357 items.\n"
     ]
    }
   ],
   "source": [
    "d_user = dict() #{username : {serie: note, serie : note}}\n",
    "\n",
    "for user in sorted(os.listdir(path)):\n",
    "    username = re.sub(\".txt\", \"\", user)\n",
    "    d_user[username] = dict()\n",
    "    with open(path+\"/\"+user) as file: \n",
    "        lignes = file.readlines()\n",
    "        for ligne in lignes :\n",
    "            serie, rating = ligne.split(\" \")\n",
    "            rating = rating.rstrip(\"\\n\")\n",
    "            rating = float(rating)\n",
    "            \n",
    "            d_user[username][serie] = rating\n",
    "\n",
    "liste_series = set()\n",
    "for username, d_s in d_user.items() :\n",
    "    for serie, rating in d_s.items() :\n",
    "        liste_series.add(serie)\n",
    "liste_series = list(liste_series)\n",
    "\n",
    "data = []\n",
    "for username, d_s in d_user.items() :\n",
    "    for serie, rating in d_s.items() :\n",
    "        data.append( (username, serie, rating) )\n",
    "        \n",
    "# We first remap users and item to ids between (0,len(user)) and (0,len(item))\n",
    "u_dic = {} #{username : user id}\n",
    "i_dic = {} #{item title : item id}\n",
    "        \n",
    "all_data = [] #[(user id, item id, rating)]\n",
    "    \n",
    "d_username_id = dict()\n",
    "d_itemname_id = dict()\n",
    "for uid,iid,rating in data:  # iterating on all data\n",
    "    \n",
    "    uk = u_dic.setdefault(uid,len(u_dic))\n",
    "    ik = i_dic.setdefault(iid,len(i_dic))\n",
    "    all_data.append((uk,ik,float(rating)))\n",
    "    d_username_id[uid] = uk\n",
    "    d_itemname_id[iid] = ik\n",
    "\n",
    "num_user = len(u_dic)\n",
    "num_item = len(i_dic)\n",
    "\n",
    "print(str(num_user)+\" users and \"+str(num_item)+\" items.\")"
   ]
  },
  {
   "cell_type": "code",
   "execution_count": 5,
   "metadata": {},
   "outputs": [
    {
     "name": "stdout",
     "output_type": "stream",
     "text": [
      "Number of train examples:  3305\n",
      "Number of test examples:  368\n"
     ]
    }
   ],
   "source": [
    "# (1) Create sparse matrix from all ratings\n",
    "Full = dok_matrix((num_user, num_item), dtype=np.float32)\n",
    "\n",
    "for uid,iid,rating in all_data:\n",
    "    Full[uid,iid] = float(rating)\n",
    "    \n",
    "# We take 10% of the train set as test data\n",
    "train_mat = dok_matrix((num_user, num_item), dtype=np.float32)\n",
    "test = []\n",
    "train = []\n",
    "    \n",
    "for i,(uid,iid,rating) in enumerate(all_data):\n",
    "    if i%10 == 0: #one out of 10 is for test\n",
    "        test.append((uid,iid,rating))\n",
    "    else:\n",
    "        train.append((uid,iid,rating))\n",
    "        train_mat[uid,iid] = rating   \n",
    "\n",
    "print(\"Number of train examples: \", train_mat.nnz)\n",
    "print(\"Number of test examples: \", len(test))\n",
    "\n",
    "#True values for train and test\n",
    "truth_tr = np.array([rating for (uid,iid),rating in train_mat.items()])\n",
    "truth_te = np.array([rating for uid,iid,rating in test])"
   ]
  },
  {
   "cell_type": "markdown",
   "metadata": {},
   "source": [
    "# NMF"
   ]
  },
  {
   "cell_type": "code",
   "execution_count": 6,
   "metadata": {},
   "outputs": [
    {
     "data": {
      "text/html": [
       "<div>\n",
       "<style scoped>\n",
       "    .dataframe tbody tr th:only-of-type {\n",
       "        vertical-align: middle;\n",
       "    }\n",
       "\n",
       "    .dataframe tbody tr th {\n",
       "        vertical-align: top;\n",
       "    }\n",
       "\n",
       "    .dataframe thead th {\n",
       "        text-align: right;\n",
       "    }\n",
       "</style>\n",
       "<table border=\"1\" class=\"dataframe\">\n",
       "  <thead>\n",
       "    <tr style=\"text-align: right;\">\n",
       "      <th></th>\n",
       "      <th>0</th>\n",
       "      <th>1</th>\n",
       "      <th>2</th>\n",
       "      <th>3</th>\n",
       "      <th>4</th>\n",
       "      <th>5</th>\n",
       "      <th>6</th>\n",
       "      <th>7</th>\n",
       "      <th>8</th>\n",
       "      <th>9</th>\n",
       "      <th>...</th>\n",
       "      <th>1347</th>\n",
       "      <th>1348</th>\n",
       "      <th>1349</th>\n",
       "      <th>1350</th>\n",
       "      <th>1351</th>\n",
       "      <th>1352</th>\n",
       "      <th>1353</th>\n",
       "      <th>1354</th>\n",
       "      <th>1355</th>\n",
       "      <th>1356</th>\n",
       "    </tr>\n",
       "  </thead>\n",
       "  <tbody>\n",
       "    <tr>\n",
       "      <th>0</th>\n",
       "      <td>NaN</td>\n",
       "      <td>10.0</td>\n",
       "      <td>10.0</td>\n",
       "      <td>10.0</td>\n",
       "      <td>7.0</td>\n",
       "      <td>10.0</td>\n",
       "      <td>10.0</td>\n",
       "      <td>8.0</td>\n",
       "      <td>10.0</td>\n",
       "      <td>10.0</td>\n",
       "      <td>...</td>\n",
       "      <td>NaN</td>\n",
       "      <td>NaN</td>\n",
       "      <td>NaN</td>\n",
       "      <td>NaN</td>\n",
       "      <td>NaN</td>\n",
       "      <td>NaN</td>\n",
       "      <td>NaN</td>\n",
       "      <td>NaN</td>\n",
       "      <td>NaN</td>\n",
       "      <td>NaN</td>\n",
       "    </tr>\n",
       "    <tr>\n",
       "      <th>1</th>\n",
       "      <td>NaN</td>\n",
       "      <td>NaN</td>\n",
       "      <td>NaN</td>\n",
       "      <td>NaN</td>\n",
       "      <td>NaN</td>\n",
       "      <td>NaN</td>\n",
       "      <td>NaN</td>\n",
       "      <td>NaN</td>\n",
       "      <td>8.0</td>\n",
       "      <td>NaN</td>\n",
       "      <td>...</td>\n",
       "      <td>NaN</td>\n",
       "      <td>NaN</td>\n",
       "      <td>NaN</td>\n",
       "      <td>NaN</td>\n",
       "      <td>NaN</td>\n",
       "      <td>NaN</td>\n",
       "      <td>NaN</td>\n",
       "      <td>NaN</td>\n",
       "      <td>NaN</td>\n",
       "      <td>NaN</td>\n",
       "    </tr>\n",
       "    <tr>\n",
       "      <th>2</th>\n",
       "      <td>NaN</td>\n",
       "      <td>NaN</td>\n",
       "      <td>NaN</td>\n",
       "      <td>NaN</td>\n",
       "      <td>NaN</td>\n",
       "      <td>NaN</td>\n",
       "      <td>NaN</td>\n",
       "      <td>NaN</td>\n",
       "      <td>NaN</td>\n",
       "      <td>NaN</td>\n",
       "      <td>...</td>\n",
       "      <td>NaN</td>\n",
       "      <td>NaN</td>\n",
       "      <td>NaN</td>\n",
       "      <td>NaN</td>\n",
       "      <td>NaN</td>\n",
       "      <td>NaN</td>\n",
       "      <td>NaN</td>\n",
       "      <td>NaN</td>\n",
       "      <td>NaN</td>\n",
       "      <td>NaN</td>\n",
       "    </tr>\n",
       "    <tr>\n",
       "      <th>3</th>\n",
       "      <td>NaN</td>\n",
       "      <td>NaN</td>\n",
       "      <td>NaN</td>\n",
       "      <td>NaN</td>\n",
       "      <td>NaN</td>\n",
       "      <td>NaN</td>\n",
       "      <td>NaN</td>\n",
       "      <td>NaN</td>\n",
       "      <td>NaN</td>\n",
       "      <td>NaN</td>\n",
       "      <td>...</td>\n",
       "      <td>NaN</td>\n",
       "      <td>NaN</td>\n",
       "      <td>NaN</td>\n",
       "      <td>NaN</td>\n",
       "      <td>NaN</td>\n",
       "      <td>NaN</td>\n",
       "      <td>NaN</td>\n",
       "      <td>NaN</td>\n",
       "      <td>NaN</td>\n",
       "      <td>NaN</td>\n",
       "    </tr>\n",
       "    <tr>\n",
       "      <th>4</th>\n",
       "      <td>NaN</td>\n",
       "      <td>NaN</td>\n",
       "      <td>NaN</td>\n",
       "      <td>NaN</td>\n",
       "      <td>NaN</td>\n",
       "      <td>NaN</td>\n",
       "      <td>NaN</td>\n",
       "      <td>NaN</td>\n",
       "      <td>NaN</td>\n",
       "      <td>NaN</td>\n",
       "      <td>...</td>\n",
       "      <td>NaN</td>\n",
       "      <td>NaN</td>\n",
       "      <td>NaN</td>\n",
       "      <td>NaN</td>\n",
       "      <td>NaN</td>\n",
       "      <td>NaN</td>\n",
       "      <td>NaN</td>\n",
       "      <td>NaN</td>\n",
       "      <td>NaN</td>\n",
       "      <td>NaN</td>\n",
       "    </tr>\n",
       "  </tbody>\n",
       "</table>\n",
       "<p>5 rows × 1357 columns</p>\n",
       "</div>"
      ],
      "text/plain": [
       "   0     1     2     3     4     5     6     7     8     9     ...   1347  \\\n",
       "0   NaN  10.0  10.0  10.0   7.0  10.0  10.0   8.0  10.0  10.0  ...    NaN   \n",
       "1   NaN   NaN   NaN   NaN   NaN   NaN   NaN   NaN   8.0   NaN  ...    NaN   \n",
       "2   NaN   NaN   NaN   NaN   NaN   NaN   NaN   NaN   NaN   NaN  ...    NaN   \n",
       "3   NaN   NaN   NaN   NaN   NaN   NaN   NaN   NaN   NaN   NaN  ...    NaN   \n",
       "4   NaN   NaN   NaN   NaN   NaN   NaN   NaN   NaN   NaN   NaN  ...    NaN   \n",
       "\n",
       "   1348  1349  1350  1351  1352  1353  1354  1355  1356  \n",
       "0   NaN   NaN   NaN   NaN   NaN   NaN   NaN   NaN   NaN  \n",
       "1   NaN   NaN   NaN   NaN   NaN   NaN   NaN   NaN   NaN  \n",
       "2   NaN   NaN   NaN   NaN   NaN   NaN   NaN   NaN   NaN  \n",
       "3   NaN   NaN   NaN   NaN   NaN   NaN   NaN   NaN   NaN  \n",
       "4   NaN   NaN   NaN   NaN   NaN   NaN   NaN   NaN   NaN  \n",
       "\n",
       "[5 rows x 1357 columns]"
      ]
     },
     "execution_count": 6,
     "metadata": {},
     "output_type": "execute_result"
    }
   ],
   "source": [
    "A_orig = np.array(train_mat.todense())\n",
    "\n",
    "#on remplace les zeros (notes absentes) par des NaN\n",
    "for i in range(num_user):\n",
    "    for j in range(num_item):\n",
    "        if A_orig[i][j] == 0.0:\n",
    "            A_orig[i][j] = np.NaN\n",
    "            \n",
    "A_df = pd.DataFrame(A_orig)\n",
    "A_df.head()"
   ]
  },
  {
   "cell_type": "code",
   "execution_count": 33,
   "metadata": {},
   "outputs": [
    {
     "data": {
      "text/html": [
       "<div>\n",
       "<style scoped>\n",
       "    .dataframe tbody tr th:only-of-type {\n",
       "        vertical-align: middle;\n",
       "    }\n",
       "\n",
       "    .dataframe tbody tr th {\n",
       "        vertical-align: top;\n",
       "    }\n",
       "\n",
       "    .dataframe thead th {\n",
       "        text-align: right;\n",
       "    }\n",
       "</style>\n",
       "<table border=\"1\" class=\"dataframe\">\n",
       "  <thead>\n",
       "    <tr style=\"text-align: right;\">\n",
       "      <th></th>\n",
       "      <th>0</th>\n",
       "      <th>1</th>\n",
       "      <th>2</th>\n",
       "      <th>3</th>\n",
       "      <th>4</th>\n",
       "      <th>5</th>\n",
       "      <th>6</th>\n",
       "      <th>7</th>\n",
       "      <th>8</th>\n",
       "      <th>9</th>\n",
       "      <th>...</th>\n",
       "      <th>1347</th>\n",
       "      <th>1348</th>\n",
       "      <th>1349</th>\n",
       "      <th>1350</th>\n",
       "      <th>1351</th>\n",
       "      <th>1352</th>\n",
       "      <th>1353</th>\n",
       "      <th>1354</th>\n",
       "      <th>1355</th>\n",
       "      <th>1356</th>\n",
       "    </tr>\n",
       "  </thead>\n",
       "  <tbody>\n",
       "    <tr>\n",
       "      <th>0</th>\n",
       "      <td>False</td>\n",
       "      <td>True</td>\n",
       "      <td>True</td>\n",
       "      <td>True</td>\n",
       "      <td>True</td>\n",
       "      <td>True</td>\n",
       "      <td>True</td>\n",
       "      <td>True</td>\n",
       "      <td>True</td>\n",
       "      <td>True</td>\n",
       "      <td>...</td>\n",
       "      <td>False</td>\n",
       "      <td>False</td>\n",
       "      <td>False</td>\n",
       "      <td>False</td>\n",
       "      <td>False</td>\n",
       "      <td>False</td>\n",
       "      <td>False</td>\n",
       "      <td>False</td>\n",
       "      <td>False</td>\n",
       "      <td>False</td>\n",
       "    </tr>\n",
       "    <tr>\n",
       "      <th>1</th>\n",
       "      <td>False</td>\n",
       "      <td>False</td>\n",
       "      <td>False</td>\n",
       "      <td>False</td>\n",
       "      <td>False</td>\n",
       "      <td>False</td>\n",
       "      <td>False</td>\n",
       "      <td>False</td>\n",
       "      <td>False</td>\n",
       "      <td>False</td>\n",
       "      <td>...</td>\n",
       "      <td>False</td>\n",
       "      <td>False</td>\n",
       "      <td>False</td>\n",
       "      <td>False</td>\n",
       "      <td>False</td>\n",
       "      <td>False</td>\n",
       "      <td>False</td>\n",
       "      <td>False</td>\n",
       "      <td>False</td>\n",
       "      <td>False</td>\n",
       "    </tr>\n",
       "    <tr>\n",
       "      <th>2</th>\n",
       "      <td>False</td>\n",
       "      <td>False</td>\n",
       "      <td>False</td>\n",
       "      <td>False</td>\n",
       "      <td>False</td>\n",
       "      <td>False</td>\n",
       "      <td>False</td>\n",
       "      <td>False</td>\n",
       "      <td>False</td>\n",
       "      <td>True</td>\n",
       "      <td>...</td>\n",
       "      <td>False</td>\n",
       "      <td>False</td>\n",
       "      <td>False</td>\n",
       "      <td>False</td>\n",
       "      <td>False</td>\n",
       "      <td>False</td>\n",
       "      <td>False</td>\n",
       "      <td>False</td>\n",
       "      <td>False</td>\n",
       "      <td>False</td>\n",
       "    </tr>\n",
       "    <tr>\n",
       "      <th>3</th>\n",
       "      <td>False</td>\n",
       "      <td>False</td>\n",
       "      <td>False</td>\n",
       "      <td>False</td>\n",
       "      <td>False</td>\n",
       "      <td>False</td>\n",
       "      <td>False</td>\n",
       "      <td>False</td>\n",
       "      <td>False</td>\n",
       "      <td>False</td>\n",
       "      <td>...</td>\n",
       "      <td>False</td>\n",
       "      <td>False</td>\n",
       "      <td>False</td>\n",
       "      <td>False</td>\n",
       "      <td>False</td>\n",
       "      <td>False</td>\n",
       "      <td>False</td>\n",
       "      <td>False</td>\n",
       "      <td>False</td>\n",
       "      <td>False</td>\n",
       "    </tr>\n",
       "    <tr>\n",
       "      <th>4</th>\n",
       "      <td>False</td>\n",
       "      <td>False</td>\n",
       "      <td>False</td>\n",
       "      <td>False</td>\n",
       "      <td>False</td>\n",
       "      <td>False</td>\n",
       "      <td>False</td>\n",
       "      <td>False</td>\n",
       "      <td>False</td>\n",
       "      <td>False</td>\n",
       "      <td>...</td>\n",
       "      <td>False</td>\n",
       "      <td>False</td>\n",
       "      <td>False</td>\n",
       "      <td>False</td>\n",
       "      <td>False</td>\n",
       "      <td>False</td>\n",
       "      <td>False</td>\n",
       "      <td>False</td>\n",
       "      <td>False</td>\n",
       "      <td>False</td>\n",
       "    </tr>\n",
       "  </tbody>\n",
       "</table>\n",
       "<p>5 rows × 1357 columns</p>\n",
       "</div>"
      ],
      "text/plain": [
       "    0      1      2      3      4      5      6      7      8      9     \\\n",
       "0  False   True   True   True   True   True   True   True   True   True   \n",
       "1  False  False  False  False  False  False  False  False  False  False   \n",
       "2  False  False  False  False  False  False  False  False  False   True   \n",
       "3  False  False  False  False  False  False  False  False  False  False   \n",
       "4  False  False  False  False  False  False  False  False  False  False   \n",
       "\n",
       "   ...     1347   1348   1349   1350   1351   1352   1353   1354   1355   1356  \n",
       "0  ...    False  False  False  False  False  False  False  False  False  False  \n",
       "1  ...    False  False  False  False  False  False  False  False  False  False  \n",
       "2  ...    False  False  False  False  False  False  False  False  False  False  \n",
       "3  ...    False  False  False  False  False  False  False  False  False  False  \n",
       "4  ...    False  False  False  False  False  False  False  False  False  False  \n",
       "\n",
       "[5 rows x 1357 columns]"
      ]
     },
     "execution_count": 33,
     "metadata": {},
     "output_type": "execute_result"
    }
   ],
   "source": [
    "#on utilise un masque : les notes renseignées sont à True, les NaN à False\n",
    "np_mask = A_df.notnull()\n",
    "np_mask.head()"
   ]
  },
  {
   "cell_type": "markdown",
   "metadata": {},
   "source": [
    "#### Tensorflow setup"
   ]
  },
  {
   "cell_type": "code",
   "execution_count": 34,
   "metadata": {},
   "outputs": [],
   "source": [
    "# Boolean mask for computing cost only on valid (not missing) entries\n",
    "tf_mask = tf.Variable(np_mask.values)\n",
    "\n",
    "A = tf.constant(A_df.values)\n",
    "shape = A_df.values.shape\n",
    "\n",
    "#latent factors : nombre de dimensions latente\n",
    "rank = 200\n",
    "\n",
    "# Initializing random H and W\n",
    "temp_H = np.random.randn(rank, shape[1]).astype(np.float32)\n",
    "temp_H = np.divide(temp_H, temp_H.max())\n",
    "\n",
    "temp_W = np.random.randn(shape[0], rank).astype(np.float32)\n",
    "temp_W = np.divide(temp_W, temp_W.max())\n",
    "\n",
    "H =  tf.Variable(temp_H)\n",
    "W = tf.Variable(temp_W)\n",
    "WH = tf.matmul(W, H)"
   ]
  },
  {
   "cell_type": "markdown",
   "metadata": {},
   "source": [
    "#### Cost function"
   ]
  },
  {
   "cell_type": "code",
   "execution_count": 35,
   "metadata": {},
   "outputs": [],
   "source": [
    "#cost of Frobenius norm\n",
    "cost = tf.reduce_sum(tf.pow(tf.boolean_mask(A, tf_mask) - tf.boolean_mask(WH, tf_mask), 2))"
   ]
  },
  {
   "cell_type": "markdown",
   "metadata": {},
   "source": [
    "#### Initialization"
   ]
  },
  {
   "cell_type": "code",
   "execution_count": 36,
   "metadata": {},
   "outputs": [],
   "source": [
    "# Learning rate\n",
    "lr = 0.001\n",
    "# Number of steps\n",
    "steps = 1000\n",
    "train_step = tf.train.GradientDescentOptimizer(lr).minimize(cost)\n",
    "init = tf.global_variables_initializer()"
   ]
  },
  {
   "cell_type": "markdown",
   "metadata": {},
   "source": [
    "#### Ensuring non-negativity (on veut uniquement des valeurs positives dans W et H tq A = W*H)"
   ]
  },
  {
   "cell_type": "code",
   "execution_count": 37,
   "metadata": {},
   "outputs": [],
   "source": [
    "# Clipping operation. This ensure that W and H learnt are non-negative\n",
    "clip_W = W.assign(tf.maximum(tf.zeros_like(W), W))\n",
    "clip_H = H.assign(tf.maximum(tf.zeros_like(H), H))\n",
    "clip = tf.group(clip_W, clip_H)"
   ]
  },
  {
   "cell_type": "markdown",
   "metadata": {},
   "source": [
    "#### Ok let's go"
   ]
  },
  {
   "cell_type": "code",
   "execution_count": 38,
   "metadata": {},
   "outputs": [
    {
     "name": "stdout",
     "output_type": "stream",
     "text": [
      "\n",
      "Cost: 120459.148438\n",
      "****************************************\n",
      "\n",
      "Cost: 211.744476\n",
      "****************************************\n",
      "\n",
      "Cost: 15.723871\n",
      "****************************************\n",
      "\n",
      "Cost: 2.687321\n",
      "****************************************\n",
      "\n",
      "Cost: 0.633908\n",
      "****************************************\n",
      "\n",
      "Cost: 0.172783\n",
      "****************************************\n",
      "\n",
      "Cost: 0.051176\n",
      "****************************************\n",
      "\n",
      "Cost: 0.015993\n",
      "****************************************\n",
      "\n",
      "Cost: 0.005192\n",
      "****************************************\n",
      "\n",
      "Cost: 0.001733\n",
      "****************************************\n"
     ]
    }
   ],
   "source": [
    "steps = 1000\n",
    "with tf.Session() as sess:\n",
    "    sess.run(init)\n",
    "    for i in range(steps):\n",
    "        sess.run(train_step)\n",
    "        sess.run(clip)\n",
    "        if i%100==0:\n",
    "            print(\"\\nCost: %f\" % sess.run(cost))\n",
    "            print(\"*\"*40)\n",
    "    learnt_W = sess.run(W)\n",
    "    learnt_H = sess.run(H)"
   ]
  },
  {
   "cell_type": "code",
   "execution_count": 12,
   "metadata": {},
   "outputs": [],
   "source": [
    "def pred_func(W, H, u, i):\n",
    "    H_t = H.T\n",
    "    return np.dot(W[u], H_t[i])\n",
    "\n",
    "def replace_sup10_inf1(l):\n",
    "    res = []\n",
    "    for i in range(len(l)):\n",
    "        if l[i] > 10.0:\n",
    "            res.append(10.0)\n",
    "        elif l[i] < 1.0:\n",
    "            res.append(1.0)\n",
    "        else:\n",
    "            res.append(l[i])\n",
    "    return res"
   ]
  },
  {
   "cell_type": "code",
   "execution_count": 40,
   "metadata": {},
   "outputs": [],
   "source": [
    "prediction_tr = np.array([pred_func(learnt_W, learnt_H, u, i) for (u,i),rating in train_mat.items()])\n",
    "prediction_te = np.array([pred_func(learnt_W, learnt_H, u, i) for u,i,rating in test])"
   ]
  },
  {
   "cell_type": "code",
   "execution_count": 41,
   "metadata": {},
   "outputs": [],
   "source": [
    "#on arrondi les ratings predits\n",
    "prediction_tr = prediction_tr.round()\n",
    "prediction_te = prediction_te.round()"
   ]
  },
  {
   "cell_type": "code",
   "execution_count": 42,
   "metadata": {},
   "outputs": [],
   "source": [
    "#on remplace les ratings > 10 par 10, < 1 par 1\n",
    "prediction_tr = replace_sup10_inf1(prediction_tr)\n",
    "prediction_te = replace_sup10_inf1(prediction_te)"
   ]
  },
  {
   "cell_type": "markdown",
   "metadata": {},
   "source": [
    "#### L'heure de vérité"
   ]
  },
  {
   "cell_type": "code",
   "execution_count": 43,
   "metadata": {},
   "outputs": [
    {
     "name": "stdout",
     "output_type": "stream",
     "text": [
      "Training Error:\n",
      "MSE: 0.0\n",
      "MAE: 0.0\n",
      "Test Error:\n",
      "MSE: 5.315217391304348\n",
      "MAE: 1.815217391304348\n"
     ]
    }
   ],
   "source": [
    "print(\"Training Error:\")\n",
    "print(\"MSE:\",  MSE_err(prediction_tr,truth_tr))\n",
    "print(\"MAE:\",  MAE_err(prediction_tr,truth_tr))\n",
    "    \n",
    "print(\"Test Error:\")\n",
    "print(\"MSE:\",  MSE_err(prediction_te,truth_te))\n",
    "print(\"MAE:\",  MAE_err(prediction_te,truth_te))"
   ]
  },
  {
   "cell_type": "markdown",
   "metadata": {},
   "source": [
    "Tada !"
   ]
  },
  {
   "cell_type": "markdown",
   "metadata": {},
   "source": [
    "<b>A voir:</b> Comment optimiser le nombre de dimensions latentes ?"
   ]
  },
  {
   "cell_type": "markdown",
   "metadata": {},
   "source": [
    "# Prise en compte user/item bias"
   ]
  },
  {
   "cell_type": "code",
   "execution_count": 20,
   "metadata": {},
   "outputs": [
    {
     "name": "stderr",
     "output_type": "stream",
     "text": [
      "c:\\users\\amina\\appdata\\local\\programs\\python\\python35\\lib\\site-packages\\ipykernel_launcher.py:17: RuntimeWarning: Mean of empty slice.\n",
      "c:\\users\\amina\\appdata\\local\\programs\\python\\python35\\lib\\site-packages\\numpy\\core\\_methods.py:85: RuntimeWarning: invalid value encountered in double_scalars\n",
      "  ret = ret.dtype.type(ret / rcount)\n"
     ]
    }
   ],
   "source": [
    "train_mat_mean = np.array(list(train_mat.values())).mean() #moyenne des notes dans la matrice train\n",
    "item_bias = [] #biais item : moyenne des notes reçues l'item - moyenne du dataset\n",
    "user_bias = [] #biais user : moyenne des notes données par l'utilisateur - moyenne du dataset\n",
    "\n",
    "for i in range(0, num_user):\n",
    "    user = train_mat[i]\n",
    "    user_mean = np.array(list(user.values())).mean()\n",
    "    bias = user_mean - train_mat_mean\n",
    "    if np.isnan(bias):\n",
    "        user_bias.append(0)\n",
    "    else:\n",
    "        user_bias.append(bias)\n",
    "\n",
    "train_mat_T = train_mat.copy().transpose()\n",
    "for i in range(0, num_item):\n",
    "    item = train_mat_T[i]\n",
    "    item_mean = np.array(list(item.values())).mean()\n",
    "    bias = item_mean - train_mat_mean\n",
    "    if np.isnan(bias):\n",
    "        item_bias.append(0)\n",
    "    else:\n",
    "        item_bias.append(bias)"
   ]
  },
  {
   "cell_type": "code",
   "execution_count": 21,
   "metadata": {},
   "outputs": [],
   "source": [
    "train_bias = dok_matrix((num_user, num_item), dtype=np.float32)\n",
    "\n",
    "for (u,i), rating in train_mat.items():\n",
    "    train_bias[u,i] = rating - train_mat_mean - user_bias[u] - item_bias[i]"
   ]
  },
  {
   "cell_type": "code",
   "execution_count": 22,
   "metadata": {},
   "outputs": [],
   "source": [
    "def pred_func_bias(W, H, mean, user_bias, item_bias, u, i):\n",
    "    H_t = H.T\n",
    "    return np.dot(W[u], H_t[i])+mean+ user_bias[u]+item_bias[i]"
   ]
  },
  {
   "cell_type": "code",
   "execution_count": 32,
   "metadata": {},
   "outputs": [
    {
     "name": "stdout",
     "output_type": "stream",
     "text": [
      "\n",
      "Cost: 23262.197266\n",
      "****************************************\n",
      "\n",
      "Cost: 6144.735352\n",
      "****************************************\n",
      "\n",
      "Cost: 5411.951172\n",
      "****************************************\n",
      "\n",
      "Cost: 5197.051270\n",
      "****************************************\n",
      "\n",
      "Cost: 5119.221680\n",
      "****************************************\n",
      "\n",
      "Cost: 5085.755859\n",
      "****************************************\n",
      "\n",
      "Cost: 5071.203125\n",
      "****************************************\n",
      "\n",
      "Cost: 5064.835449\n",
      "****************************************\n",
      "\n",
      "Cost: 5061.595703\n",
      "****************************************\n",
      "\n",
      "Cost: 5059.794434\n",
      "****************************************\n"
     ]
    }
   ],
   "source": [
    "A_orig = np.array(train_bias.todense())\n",
    "\n",
    "#on remplace les zeros (notes absentes) par des NaN\n",
    "for i in range(num_user):\n",
    "    for j in range(num_item):\n",
    "        if A_orig[i][j] == 0.0:\n",
    "            A_orig[i][j] = np.NaN\n",
    "            \n",
    "A_df = pd.DataFrame(A_orig)\n",
    "\n",
    "#on utilise un masque\n",
    "np_mask = A_df.notnull()\n",
    "\n",
    "# Boolean mask for computing cost only on valid (not missing) entries\n",
    "tf_mask = tf.Variable(np_mask.values)\n",
    "\n",
    "A = tf.constant(A_df.values)\n",
    "shape = A_df.values.shape\n",
    "\n",
    "#latent factors : nombre de dimensions latente\n",
    "rank = 200\n",
    "\n",
    "# Initializing random H and W\n",
    "temp_H = np.random.randn(rank, shape[1]).astype(np.float32)\n",
    "temp_H = np.divide(temp_H, temp_H.max())\n",
    "\n",
    "temp_W = np.random.randn(shape[0], rank).astype(np.float32)\n",
    "temp_W = np.divide(temp_W, temp_W.max())\n",
    "\n",
    "H =  tf.Variable(temp_H)\n",
    "W = tf.Variable(temp_W)\n",
    "WH = tf.matmul(W, H)\n",
    "\n",
    "#cost of Frobenius norm\n",
    "cost = tf.reduce_sum(tf.pow(tf.boolean_mask(A, tf_mask) - tf.boolean_mask(WH, tf_mask), 2))\n",
    "\n",
    "# Learning rate\n",
    "lr = 0.001\n",
    "# Number of steps\n",
    "steps = 1000\n",
    "train_step = tf.train.GradientDescentOptimizer(lr).minimize(cost)\n",
    "init = tf.global_variables_initializer()\n",
    "\n",
    "# Clipping operation. This ensure that W and H learnt are non-negative\n",
    "clip_W = W.assign(tf.maximum(tf.zeros_like(W), W))\n",
    "clip_H = H.assign(tf.maximum(tf.zeros_like(H), H))\n",
    "clip = tf.group(clip_W, clip_H)\n",
    "\n",
    "steps = 1000\n",
    "with tf.Session() as sess:\n",
    "    sess.run(init)\n",
    "    for i in range(steps):\n",
    "        sess.run(train_step)\n",
    "        sess.run(clip)\n",
    "        if i%100==0:\n",
    "            print(\"\\nCost: %f\" % sess.run(cost))\n",
    "            print(\"*\"*40)\n",
    "    learnt_W = sess.run(W)\n",
    "    learnt_H = sess.run(H)"
   ]
  },
  {
   "cell_type": "code",
   "execution_count": 33,
   "metadata": {},
   "outputs": [],
   "source": [
    "prediction_tr = np.array([pred_func_bias(learnt_W, learnt_H, train_mat_mean,  user_bias, item_bias, u, i,) for (u,i),rating in train_mat.items()])\n",
    "prediction_te = np.array([pred_func_bias(learnt_W, learnt_H, train_mat_mean,  user_bias, item_bias, u, i) for u,i,rating in test])\n",
    "\n",
    "#on arrondi les ratings predits\n",
    "prediction_tr = prediction_tr.round()\n",
    "prediction_te = prediction_te.round()\n",
    "\n",
    "#on remplace les ratings > 10 par 10, < 1 par 1\n",
    "prediction_tr = replace_sup10_inf1(prediction_tr)\n",
    "prediction_te = replace_sup10_inf1(prediction_te)"
   ]
  },
  {
   "cell_type": "code",
   "execution_count": 34,
   "metadata": {},
   "outputs": [
    {
     "name": "stdout",
     "output_type": "stream",
     "text": [
      "Training Error:\n",
      "MSE: 1.3797276853252647\n",
      "MAE: 0.5573373676248109\n",
      "Test Error:\n",
      "MSE: 6.274456521739131\n",
      "MAE: 1.6983695652173914\n"
     ]
    }
   ],
   "source": [
    "print(\"Training Error:\")\n",
    "print(\"MSE:\",  MSE_err(prediction_tr,truth_tr))\n",
    "print(\"MAE:\",  MAE_err(prediction_tr,truth_tr))\n",
    "    \n",
    "print(\"Test Error:\")\n",
    "print(\"MSE:\",  MSE_err(prediction_te,truth_te))\n",
    "print(\"MAE:\",  MAE_err(prediction_te,truth_te))"
   ]
  }
 ],
 "metadata": {
  "kernelspec": {
   "display_name": "Python 3",
   "language": "python",
   "name": "python3"
  },
  "language_info": {
   "codemirror_mode": {
    "name": "ipython",
    "version": 3
   },
   "file_extension": ".py",
   "mimetype": "text/x-python",
   "name": "python",
   "nbconvert_exporter": "python",
   "pygments_lexer": "ipython3",
   "version": "3.5.1"
  }
 },
 "nbformat": 4,
 "nbformat_minor": 2
}
