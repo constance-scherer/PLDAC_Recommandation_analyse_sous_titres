{
 "cells": [
  {
   "cell_type": "markdown",
   "metadata": {},
   "source": [
    "# Pertinence {0, 1}"
   ]
  },
  {
   "cell_type": "markdown",
   "metadata": {},
   "source": [
    "En calculant les scores nDCG pour nos recommandations, nous avons observé des scores très bas (environ 0.01). Nous voulons donc essayer une autre méthode pour les jugements de pertinence pour voir si nous pouvons obtenir des scores plus significativement différents.  \n",
    "Nous remplaçons dans notre matrice de pertinence précédente toutes les valeurs non-nulles par des 1."
   ]
  },
  {
   "cell_type": "code",
   "execution_count": 1,
   "metadata": {},
   "outputs": [],
   "source": [
    "import os\n",
    "import re\n",
    "import pandas as pd\n",
    "from sklearn.decomposition import NMF\n",
    "from scipy.sparse import dok_matrix\n",
    "import numpy as np\n",
    "import pandas as pd\n",
    "from scipy.spatial.distance import sqeuclidean, cosine\n",
    "import pickle\n",
    "from collections import OrderedDict\n",
    "import matplotlib.pyplot as plt"
   ]
  },
  {
   "cell_type": "code",
   "execution_count": 2,
   "metadata": {},
   "outputs": [],
   "source": [
    "#path_d_user = \"/Vrac/PLDAC_addic7ed/pickles/d_user.p\"\n",
    "path_d_user = \"/Users/constancescherer/Desktop/pickles/d_user.p\"\n",
    "with open(path_d_user, 'rb') as pickle_file:\n",
    "    d_user = pickle.load(pickle_file)\n",
    "    \n",
    "#path_d_pert = \"/Vrac/PLDAC_addic7ed/pickles/d_pert.p\"\n",
    "path_d_pert = \"/Users/constancescherer/Desktop/pickles/d_pert.p\"\n",
    "with open(path_d_pert, 'rb') as pickle_file:\n",
    "    d_pert = pickle.load(pickle_file)"
   ]
  },
  {
   "cell_type": "markdown",
   "metadata": {},
   "source": [
    "## Pertinences séries"
   ]
  },
  {
   "cell_type": "code",
   "execution_count": 4,
   "metadata": {},
   "outputs": [],
   "source": [
    "d_pert_01 = dict() \n",
    "for s1, d_p in d_pert.items() :\n",
    "    d_pert_01[s1] = dict()\n",
    "    for s2, p in d_p.items() :\n",
    "        if p != 0 :\n",
    "            d_pert_01[s1][s2] = 1\n",
    "        else :\n",
    "            d_pert_01[s1][s2] = 0\n",
    "            "
   ]
  },
  {
   "cell_type": "code",
   "execution_count": 5,
   "metadata": {},
   "outputs": [],
   "source": [
    "pickle.dump( d_pert_01, open( \"/Users/constancescherer/Desktop/pickles/d_pert_01.p\", \"wb\" ))"
   ]
  },
  {
   "cell_type": "code",
   "execution_count": 8,
   "metadata": {},
   "outputs": [],
   "source": [
    "pertinence = np.ones((len(d_pert), len(d_pert)))\n",
    "i = 0\n",
    "for serie1, dic in d_pert_01.items():\n",
    "    j = 0\n",
    "    for serie2, p in dic.items() :\n",
    "        pertinence[i][j] = p\n",
    "        j += 1\n",
    "    i += 1"
   ]
  },
  {
   "cell_type": "code",
   "execution_count": 9,
   "metadata": {},
   "outputs": [
    {
     "data": {
      "image/png": "[encoded data removed]",
      "text/plain": [
       "<Figure size 432x288 with 1 Axes>"
      ]
     },
     "metadata": {},
     "output_type": "display_data"
    }
   ],
   "source": [
    "plt.imshow(pertinence, cmap='magma')\n",
    "plt.savefig('img/pertinence_01.pdf')"
   ]
  },
  {
   "cell_type": "markdown",
   "metadata": {},
   "source": [
    "On voit mieux les séries pertinentes ou non."
   ]
  },
  {
   "cell_type": "markdown",
   "metadata": {},
   "source": [
    "## Pertinences utilisateurs"
   ]
  },
  {
   "cell_type": "code",
   "execution_count": 11,
   "metadata": {},
   "outputs": [],
   "source": [
    "path_series_ratings = \"/Users/constancescherer/Desktop/ratings/ratings_imdb/series\"\n",
    "#path_series_ratings = \"/Vrac/PLDAC_addic7ed/ratings/ratings_imdb/series\"\n",
    "d_series = dict() #{serie : {username: note, username : note}}\n",
    "\n",
    "for serie in sorted(os.listdir(path_series_ratings)):\n",
    "    if serie[0] == '.' :\n",
    "        continue\n",
    "    seriename = re.sub(\".txt\", \"\", serie)\n",
    "    dico = dict()\n",
    "    with open(path_series_ratings+\"/\"+serie) as file: \n",
    "        lignes = file.readlines()\n",
    "    for ligne in lignes :\n",
    "        l = ligne.split(\" \")\n",
    "        username = l[0]\n",
    "        rating = l[-1]\n",
    "        #username, rating = ligne.split(\" \")\n",
    "        rating = rating.rstrip(\"\\n\")\n",
    "        rating = float(rating)\n",
    "        dico[username] = rating\n",
    "        if len(dico) > 1 :\n",
    "            d_series[seriename] = dico"
   ]
  },
  {
   "cell_type": "code",
   "execution_count": 12,
   "metadata": {},
   "outputs": [],
   "source": [
    "pickle.dump( d_series, open( \"/Users/constancescherer/Desktop/pickles/d_series\", \"wb\" ))"
   ]
  },
  {
   "cell_type": "code",
   "execution_count": 13,
   "metadata": {},
   "outputs": [],
   "source": [
    "k = 3"
   ]
  },
  {
   "cell_type": "code",
   "execution_count": 14,
   "metadata": {},
   "outputs": [],
   "source": [
    "d_res = dict()\n",
    "for user, d_notes in d_user.items() :\n",
    "    sorted_x = sorted(d_notes.items(), key=lambda kv: kv[1])\n",
    "    sorted_x.reverse()\n",
    "    sorted_dict = OrderedDict(sorted_x)\n",
    "    l_series_preferees = list(sorted_dict.keys())[:k]\n",
    "    \n",
    "    moy = [] # liste de dictionnaires\n",
    "    for serie in l_series_preferees :\n",
    "        if serie not in d_pert_01.keys() :\n",
    "            continue\n",
    "        moy.append(d_pert_01[serie])\n",
    "\n",
    "    d_res[user] = dict.fromkeys(d_series.keys(), 0)\n",
    "    for i in range(0, len(moy)) :\n",
    "        d = moy[i]\n",
    "        for s, p in d.items() :\n",
    "            d_res[user][s] += p\n",
    "            \n",
    "    for s, n in d_res[user].items() :\n",
    "        d_res[user][s] = n/k\n",
    "    "
   ]
  },
  {
   "cell_type": "code",
   "execution_count": 16,
   "metadata": {},
   "outputs": [],
   "source": [
    "d_pert_user_01 = d_res\n",
    "pickle.dump( d_pert_user_01, open( \"/Users/constancescherer/Desktop/pickles/d_pert_user_01_k3.p\", \"wb\" ))"
   ]
  },
  {
   "cell_type": "code",
   "execution_count": 18,
   "metadata": {},
   "outputs": [],
   "source": [
    "pertinence_users = np.ones((len(d_user), len(d_series)))\n",
    "i = 0\n",
    "for user, d_pert_u in d_pert_user_01.items() :\n",
    "    j = 0\n",
    "    for serie, p in d_pert_u.items() :\n",
    "        pertinence_users[i][j] = p\n",
    "        j += 1\n",
    "    i += 1"
   ]
  },
  {
   "cell_type": "code",
   "execution_count": 19,
   "metadata": {},
   "outputs": [
    {
     "data": {
      "image/png": "[encoded data removed]",
      "text/plain": [
       "<Figure size 432x288 with 1 Axes>"
      ]
     },
     "metadata": {},
     "output_type": "display_data"
    }
   ],
   "source": [
    "plt.imshow(pertinence_users, cmap='magma')\n",
    "plt.savefig('pertinence_user_01.pdf')"
   ]
  },
  {
   "cell_type": "markdown",
   "metadata": {},
   "source": [
    "Ici aussi, on voit beaucoup mieux."
   ]
  },
  {
   "cell_type": "markdown",
   "metadata": {},
   "source": [
    "## Pertinences utilisateurs {0,1}"
   ]
  },
  {
   "cell_type": "markdown",
   "metadata": {},
   "source": [
    "Ramener aussi les pertinences utilisateurs entre 0 et 1 ?"
   ]
  },
  {
   "cell_type": "code",
   "execution_count": 20,
   "metadata": {},
   "outputs": [],
   "source": [
    "d_pert_user_01_real = dict() \n",
    "for user, d_p in d_pert_user_01.items() :\n",
    "    d_pert_user_01_real[user] = dict()\n",
    "    for s, p in d_p.items() :\n",
    "        if p != 0 :\n",
    "            d_pert_user_01_real[user][s] = 1\n",
    "        else : \n",
    "            d_pert_user_01_real[user][s] = 0"
   ]
  },
  {
   "cell_type": "code",
   "execution_count": 21,
   "metadata": {},
   "outputs": [],
   "source": [
    "pickle.dump( d_pert_user_01_real, open( \"/Users/constancescherer/Desktop/pickles/d_pert_user_01_real_k3.p\", \"wb\" ))"
   ]
  },
  {
   "cell_type": "code",
   "execution_count": 24,
   "metadata": {},
   "outputs": [],
   "source": [
    "pertinence_users = np.ones((len(d_user), len(d_series)))\n",
    "i = 0\n",
    "for user, d_pert_u in d_pert_user_01_real.items() :\n",
    "    j = 0\n",
    "    for serie, p in d_pert_u.items() :\n",
    "        pertinence_users[i][j] = p\n",
    "        j += 1\n",
    "    i += 1"
   ]
  },
  {
   "cell_type": "code",
   "execution_count": 26,
   "metadata": {},
   "outputs": [
    {
     "data": {
      "image/png": "[encoded data removed]",
      "text/plain": [
       "<Figure size 432x288 with 1 Axes>"
      ]
     },
     "metadata": {},
     "output_type": "display_data"
    }
   ],
   "source": [
    "plt.imshow(pertinence_users, cmap='magma')\n",
    "plt.savefig('img/pertinence_user_01_real.pdf')"
   ]
  },
  {
   "cell_type": "code",
   "execution_count": null,
   "metadata": {},
   "outputs": [],
   "source": []
  },
  {
   "cell_type": "code",
   "execution_count": null,
   "metadata": {},
   "outputs": [],
   "source": []
  },
  {
   "cell_type": "code",
   "execution_count": null,
   "metadata": {},
   "outputs": [],
   "source": []
  }
 ],
 "metadata": {
  "kernelspec": {
   "display_name": "Python 3",
   "language": "python",
   "name": "python3"
  },
  "language_info": {
   "codemirror_mode": {
    "name": "ipython",
    "version": 3
   },
   "file_extension": ".py",
   "mimetype": "text/x-python",
   "name": "python",
   "nbconvert_exporter": "python",
   "pygments_lexer": "ipython3",
   "version": "3.6.4"
  }
 },
 "nbformat": 4,
 "nbformat_minor": 2
}
