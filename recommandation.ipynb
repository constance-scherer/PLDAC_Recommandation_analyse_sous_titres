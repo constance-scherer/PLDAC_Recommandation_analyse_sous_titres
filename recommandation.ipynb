{
 "cells": [
  {
   "cell_type": "markdown",
   "metadata": {},
   "source": [
    "# Recommandation"
   ]
  },
  {
   "cell_type": "markdown",
   "metadata": {},
   "source": [
    "Nous voulons recommander des séries à nos utilisateurs. Pour ce faire, nous voulons utiliser deux méthodes (et les comparer).  \n",
    "En premier, nous utilisons le filtrage collaboratif pour prédire les notes qu'un utilisateur va mettre à une série, puis nous recommandons les séries les mieux notées.  \n",
    "Ensuite, nous utilisons le contenu des séries et leur proximité (sur les sous-titres) pour prédire les notes qu'un utilisateur va mettre à une série, puis nous recommandons les mieux notées.  \n",
    "Nous utilisons enfin la nDCG comme mesure d'évaluation de nos recommandations."
   ]
  },
  {
   "cell_type": "code",
   "execution_count": 1,
   "metadata": {},
   "outputs": [],
   "source": [
    "from utils.collaborative import *\n",
    "from utils.similarities import *\n",
    "from utils.predictions_content import *\n",
    "from utils.ndcg import *\n",
    "import operator\n",
    "import pickle\n",
    "from collections import OrderedDict\n",
    "from utils.predictions_notes import *\n",
    "from utils.recommandation import *"
   ]
  },
  {
   "cell_type": "code",
   "execution_count": 2,
   "metadata": {},
   "outputs": [],
   "source": [
    "#path_d_user = \"/Users/constancescherer/Desktop/pickles/d_user.p\"\n",
    "#path_sim = \"/Users/constancescherer/Desktop/pickles/sim.p\"\n",
    "#path_most_sim = \"/Users/constancescherer/Desktop/pickles/most_sim.p\"\n",
    "\n",
    "path_d_user = \"/Vrac/PLDAC_addic7ed/pickles/d_user.p\"\n",
    "path_sim = \"/Vrac/PLDAC_addic7ed/pickles/sim.p\"\n",
    "path_most_sim = \"/Vrac/PLDAC_addic7ed/pickles/most_sim.p\"\n",
    "path_d_pert_user = \"/Vrac/PLDAC_addic7ed/pickles/d_pert_user_k3.p\"\n",
    "path_d_user = \"/Vrac/PLDAC_addic7ed/pickles/d_user.p\"\n",
    "\n",
    "# dictionnaire d_users\n",
    "# {username : {serie : rating}}\n",
    "with open(path_d_user, 'rb') as pickle_file:\n",
    "    d_user = pickle.load(pickle_file)\n",
    "\n",
    "# matrice des similarités cosinus\n",
    "with open(path_sim, 'rb') as pickle_file:\n",
    "    sim = pickle.load(pickle_file)\n",
    "\n",
    "# dictionnaire des séries les plus similaires\n",
    "with open(path_most_sim, 'rb') as pickle_file:\n",
    "    most_similar = pickle.load(pickle_file)\n",
    "    \n",
    "with open(path_d_pert_user, 'rb') as pickle_file:\n",
    "    d_pert_user = pickle.load(pickle_file)\n",
    "    \n",
    "with open(path_d_user, 'rb') as pickle_file:\n",
    "    d_user = pickle.load(pickle_file)"
   ]
  },
  {
   "cell_type": "code",
   "execution_count": 3,
   "metadata": {},
   "outputs": [],
   "source": [
    "#path_ratings = \"/Users/constancescherer/Desktop/ratings/ratings_imdb/users\"\n",
    "path_ratings = \"/Vrac/PLDAC_addic7ed/ratings/ratings_imdb/users\"\n",
    "\n",
    "liste_series = get_liste_series(d_user)\n",
    "data = get_data(d_user)\n",
    "all_data, num_user, num_item = get_all_data(data)\n",
    "train, train_mat, test = get_train_test(num_user, num_item, all_data, test_size=10)\n",
    "mean, u_means, i_means,U_ksvd, I_ksvd =  get_Uksvd_Iksvd(train, train_mat, num_user, num_item)\n",
    "d_username_id, d_itemname_id, Full = create_sparse_mat(data)\n",
    "\n",
    "\n",
    "#path_series = \"/Users/constancescherer/Desktop/addic7ed_good_encoding\"\n",
    "path_series = '/Vrac/PLDAC_addic7ed/addic7ed_final'\n",
    "\n",
    "d_info, d_name = getDicts(path_series)\n",
    "d_ind = reverse_dict(d_name)\n",
    "d_titre_filename = get_d_titre_filename(\"titles/title-filename.txt\")\n",
    "d_filename_titre = reverse_dict(d_titre_filename)\n",
    "d_id_username = reverse_dict(d_username_id)\n",
    "d_id_serie = reverse_dict(d_itemname_id)\n",
    "\n",
    "reversed_u_dic, reversed_i_dic = create_reversed_dic(d_username_id, d_itemname_id)"
   ]
  },
  {
   "cell_type": "markdown",
   "metadata": {},
   "source": [
    "## Filtrage collaboratif"
   ]
  },
  {
   "cell_type": "markdown",
   "metadata": {},
   "source": [
    "Pour le filtrage collaboratif, nous utilisons une fonction de prédiction des notes basées sur le kSVD (la NMF ?) pour prédire les notes d'un utilisateur.  \n",
    "Cette fonction prend en compte les biais utilisateur et item dans le calcul de la note.  \n",
    "Les notes supérieures à 10 sont remises à 10 et les notes inférieures à 1 sont remises à 1.  \n",
    "On calcule la moyenne de la nDCG sur tous les utilisateurs."
   ]
  },
  {
   "cell_type": "code",
   "execution_count": 4,
   "metadata": {},
   "outputs": [
    {
     "data": {
      "text/plain": [
       "0.009099272364258655"
      ]
     },
     "execution_count": 4,
     "metadata": {},
     "output_type": "execute_result"
    }
   ],
   "source": [
    "ndcg_moy_fc(d_pert_user, d_username_id, \n",
    "        d_itemname_id, \n",
    "        d_user,\n",
    "        U_ksvd,\n",
    "        I_ksvd,\n",
    "        u_means,\n",
    "        i_means,\n",
    "        mean)"
   ]
  },
  {
   "cell_type": "markdown",
   "metadata": {},
   "source": [
    "## Contenu"
   ]
  },
  {
   "cell_type": "markdown",
   "metadata": {},
   "source": [
    "Pour la recommandation par le contenu, on prédit la note d'une série en faisant la moyenne des notes que l'utilisateur a données aux kppv de la série.  \n",
    "On calcule la moyenne de la ndcg sur tous les utilisateurs pour plusieurs corpus créés avec différents paramètres."
   ]
  },
  {
   "cell_type": "markdown",
   "metadata": {},
   "source": [
    "### Premier essai"
   ]
  },
  {
   "cell_type": "code",
   "execution_count": 5,
   "metadata": {},
   "outputs": [
    {
     "data": {
      "text/plain": [
       "0.010128227014587739"
      ]
     },
     "execution_count": 5,
     "metadata": {},
     "output_type": "execute_result"
    }
   ],
   "source": [
    "ndcg_moy_content(d_pert_user,\n",
    "        d_username_id,\n",
    "        d_itemname_id,\n",
    "        d_name,\n",
    "        d_user,\n",
    "        d_ind, \n",
    "        d_titre_filename, \n",
    "        d_filename_titre, \n",
    "        d_id_username, \n",
    "        d_id_serie, \n",
    "        sim )"
   ]
  },
  {
   "cell_type": "markdown",
   "metadata": {},
   "source": [
    "### Corpus voc = 25000 ; min_df = 20 ; max_df = 0.4"
   ]
  },
  {
   "cell_type": "code",
   "execution_count": 6,
   "metadata": {},
   "outputs": [
    {
     "data": {
      "text/plain": [
       "0.010274283037648619"
      ]
     },
     "execution_count": 6,
     "metadata": {},
     "output_type": "execute_result"
    }
   ],
   "source": [
    "path_mat_corpus = \"/Vrac/PLDAC_addic7ed/pickles_new/pickles/mat_voc_25000_mindf_20_max_df_0.4.p\"\n",
    "with open(path_mat_corpus, 'rb') as pickle_file:\n",
    "    mat_corpus = pickle.load(pickle_file)\n",
    "    \n",
    "sim = similarities_from_sparse_mat(mat_corpus)\n",
    "\n",
    "ndcg_moy_content(d_pert_user,\n",
    "        d_username_id,\n",
    "        d_itemname_id,\n",
    "        d_name,\n",
    "        d_user,\n",
    "        d_ind, \n",
    "        d_titre_filename, \n",
    "        d_filename_titre, \n",
    "        d_id_username, \n",
    "        d_id_serie, \n",
    "        sim )"
   ]
  },
  {
   "cell_type": "markdown",
   "metadata": {},
   "source": [
    "### Corpus voc = 50000 ; min_df = 20 ; max_df = 0.4"
   ]
  },
  {
   "cell_type": "code",
   "execution_count": 7,
   "metadata": {},
   "outputs": [
    {
     "data": {
      "text/plain": [
       "0.01031449286485212"
      ]
     },
     "execution_count": 7,
     "metadata": {},
     "output_type": "execute_result"
    }
   ],
   "source": [
    "path_mat_corpus = \"/Vrac/PLDAC_addic7ed/pickles_new/pickles/mat_voc_50000_mindf_20_max_df_0.4.p\"\n",
    "with open(path_mat_corpus, 'rb') as pickle_file:\n",
    "    mat_corpus = pickle.load(pickle_file)\n",
    "    \n",
    "sim = similarities_from_sparse_mat(mat_corpus)\n",
    "\n",
    "ndcg_moy_content(d_pert_user,\n",
    "        d_username_id,\n",
    "        d_itemname_id,\n",
    "        d_name,\n",
    "        d_user,\n",
    "        d_ind, \n",
    "        d_titre_filename, \n",
    "        d_filename_titre, \n",
    "        d_id_username, \n",
    "        d_id_serie, \n",
    "        sim )"
   ]
  },
  {
   "cell_type": "markdown",
   "metadata": {},
   "source": [
    "### Corpus voc = 53540 ; min_df = 20 ; max_df = 0.4"
   ]
  },
  {
   "cell_type": "code",
   "execution_count": 8,
   "metadata": {},
   "outputs": [
    {
     "data": {
      "text/plain": [
       "0.010320320494801688"
      ]
     },
     "execution_count": 8,
     "metadata": {},
     "output_type": "execute_result"
    }
   ],
   "source": [
    "path_mat_corpus = \"/Vrac/PLDAC_addic7ed/pickles_new/pickles/mat_voc_53540_mindf_20_max_df_0.4.p\"\n",
    "with open(path_mat_corpus, 'rb') as pickle_file:\n",
    "    mat_corpus = pickle.load(pickle_file)\n",
    "    \n",
    "sim = similarities_from_sparse_mat(mat_corpus)\n",
    "\n",
    "ndcg_moy_content(d_pert_user,\n",
    "        d_username_id,\n",
    "        d_itemname_id,\n",
    "        d_name,\n",
    "        d_user,\n",
    "        d_ind, \n",
    "        d_titre_filename, \n",
    "        d_filename_titre, \n",
    "        d_id_username, \n",
    "        d_id_serie, \n",
    "        sim )"
   ]
  },
  {
   "cell_type": "markdown",
   "metadata": {},
   "source": [
    "### Corpus voc = 141418 ; min_df = 3 ; max_df = 0.4"
   ]
  },
  {
   "cell_type": "code",
   "execution_count": 9,
   "metadata": {},
   "outputs": [
    {
     "data": {
      "text/plain": [
       "0.010165390584077316"
      ]
     },
     "execution_count": 9,
     "metadata": {},
     "output_type": "execute_result"
    }
   ],
   "source": [
    "path_mat_corpus = \"/Vrac/PLDAC_addic7ed/pickles_new/pickles/mat_voc_141418_mindf_3_max_df_0.4.p\"\n",
    "with open(path_mat_corpus, 'rb') as pickle_file:\n",
    "    mat_corpus = pickle.load(pickle_file)\n",
    "    \n",
    "sim = similarities_from_sparse_mat(mat_corpus)\n",
    "\n",
    "ndcg_moy_content(d_pert_user,\n",
    "        d_username_id,\n",
    "        d_itemname_id,\n",
    "        d_name,\n",
    "        d_user,\n",
    "        d_ind, \n",
    "        d_titre_filename, \n",
    "        d_filename_titre, \n",
    "        d_id_username, \n",
    "        d_id_serie, \n",
    "        sim )"
   ]
  },
  {
   "cell_type": "markdown",
   "metadata": {},
   "source": [
    "### Corpus voc = 50000 ; min_df = 3 ; max_df = 0.4"
   ]
  },
  {
   "cell_type": "code",
   "execution_count": 10,
   "metadata": {},
   "outputs": [
    {
     "data": {
      "text/plain": [
       "0.010321408902829319"
      ]
     },
     "execution_count": 10,
     "metadata": {},
     "output_type": "execute_result"
    }
   ],
   "source": [
    "path_mat_corpus = \"/Vrac/PLDAC_addic7ed/pickles_new/pickles/mat_voc_50000_mindf_3_max_df_0.4.p\"\n",
    "with open(path_mat_corpus, 'rb') as pickle_file:\n",
    "    mat_corpus = pickle.load(pickle_file)\n",
    "    \n",
    "sim = similarities_from_sparse_mat(mat_corpus)\n",
    "\n",
    "ndcg_moy_content(d_pert_user,\n",
    "        d_username_id,\n",
    "        d_itemname_id,\n",
    "        d_name,\n",
    "        d_user,\n",
    "        d_ind, \n",
    "        d_titre_filename, \n",
    "        d_filename_titre, \n",
    "        d_id_username, \n",
    "        d_id_serie, \n",
    "        sim )"
   ]
  },
  {
   "cell_type": "markdown",
   "metadata": {},
   "source": [
    "### Corpus voc = 50000 ; min_df = 10 ; max_df = 0.4"
   ]
  },
  {
   "cell_type": "code",
   "execution_count": 11,
   "metadata": {},
   "outputs": [
    {
     "data": {
      "text/plain": [
       "0.010260569646536846"
      ]
     },
     "execution_count": 11,
     "metadata": {},
     "output_type": "execute_result"
    }
   ],
   "source": [
    "ndcg_c = []\n",
    "path_mat_corpus = \"/Vrac/PLDAC_addic7ed/pickles_new/pickles/mat_voc_50000_mindf_10_max_df_0.4.p\"\n",
    "with open(path_mat_corpus, 'rb') as pickle_file:\n",
    "    mat_corpus = pickle.load(pickle_file)\n",
    "    \n",
    "sim = similarities_from_sparse_mat(mat_corpus)\n",
    "\n",
    "ndcg_moy_content(d_pert_user,\n",
    "        d_username_id,\n",
    "        d_itemname_id,\n",
    "        d_name,\n",
    "        d_user,\n",
    "        d_ind, \n",
    "        d_titre_filename, \n",
    "        d_filename_titre, \n",
    "        d_id_username, \n",
    "        d_id_serie, \n",
    "        sim )"
   ]
  },
  {
   "cell_type": "markdown",
   "metadata": {},
   "source": [
    "### Corpus voc = 50000 ; min_df = 15 ; max_df = 0.4"
   ]
  },
  {
   "cell_type": "code",
   "execution_count": 12,
   "metadata": {},
   "outputs": [
    {
     "data": {
      "text/plain": [
       "0.01029980970515261"
      ]
     },
     "execution_count": 12,
     "metadata": {},
     "output_type": "execute_result"
    }
   ],
   "source": [
    "ndcg_c = []\n",
    "path_mat_corpus = \"/Vrac/PLDAC_addic7ed/pickles_new/pickles/mat_voc_50000_mindf_15_max_df_0.4.p\"\n",
    "with open(path_mat_corpus, 'rb') as pickle_file:\n",
    "    mat_corpus = pickle.load(pickle_file)\n",
    "    \n",
    "sim = similarities_from_sparse_mat(mat_corpus)\n",
    "ndcg_moy_content(d_pert_user,\n",
    "        d_username_id,\n",
    "        d_itemname_id,\n",
    "        d_name,\n",
    "        d_user,\n",
    "        d_ind, \n",
    "        d_titre_filename, \n",
    "        d_filename_titre, \n",
    "        d_id_username, \n",
    "        d_id_serie, \n",
    "        sim )"
   ]
  },
  {
   "cell_type": "markdown",
   "metadata": {},
   "source": [
    "### Corpus voc = 50000 ; min_df = 5 ; max_df = 0.4"
   ]
  },
  {
   "cell_type": "code",
   "execution_count": 13,
   "metadata": {},
   "outputs": [
    {
     "data": {
      "text/plain": [
       "0.010258960982460236"
      ]
     },
     "execution_count": 13,
     "metadata": {},
     "output_type": "execute_result"
    }
   ],
   "source": [
    "ndcg_c = []\n",
    "path_mat_corpus = \"/Vrac/PLDAC_addic7ed/pickles_new/pickles/mat_voc_50000_mindf_5_max_df_0.4.p\"\n",
    "with open(path_mat_corpus, 'rb') as pickle_file:\n",
    "    mat_corpus = pickle.load(pickle_file)\n",
    "    \n",
    "sim = similarities_from_sparse_mat(mat_corpus)\n",
    "ndcg_moy_content(d_pert_user,\n",
    "        d_username_id,\n",
    "        d_itemname_id,\n",
    "        d_name,\n",
    "        d_user,\n",
    "        d_ind, \n",
    "        d_titre_filename, \n",
    "        d_filename_titre, \n",
    "        d_id_username, \n",
    "        d_id_serie, \n",
    "        sim )"
   ]
  },
  {
   "cell_type": "code",
   "execution_count": null,
   "metadata": {},
   "outputs": [],
   "source": []
  },
  {
   "cell_type": "code",
   "execution_count": null,
   "metadata": {},
   "outputs": [],
   "source": []
  },
  {
   "cell_type": "code",
   "execution_count": null,
   "metadata": {},
   "outputs": [],
   "source": []
  },
  {
   "cell_type": "code",
   "execution_count": null,
   "metadata": {},
   "outputs": [],
   "source": []
  }
 ],
 "metadata": {
  "kernelspec": {
   "display_name": "Python 3",
   "language": "python",
   "name": "python3"
  },
  "language_info": {
   "codemirror_mode": {
    "name": "ipython",
    "version": 3
   },
   "file_extension": ".py",
   "mimetype": "text/x-python",
   "name": "python",
   "nbconvert_exporter": "python",
   "pygments_lexer": "ipython3",
   "version": "3.5.3"
  }
 },
 "nbformat": 4,
 "nbformat_minor": 2
}
