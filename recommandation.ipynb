{
 "cells": [
  {
   "cell_type": "markdown",
   "metadata": {},
   "source": [
    "# Recommandation"
   ]
  },
  {
   "cell_type": "markdown",
   "metadata": {},
   "source": [
    "Nous voulons recommander des séries à nos utilisateurs. Pour ce faire, nous voulons utiliser deux méthodes (et les comparer).  \n",
    "En premier, nous utilisons le filtrage collaboratif pour prédire les notes qu'un utilisateur va mettre à une série, puis nous recommandons les séries les mieux notées.  \n",
    "Ensuite, nous utilisons le contenu des séries et leur proximité (sur les sous-titres) pour prédire les notes qu'un utilisateur va mettre à une série, puis nous recommandons les mieux notées.  \n",
    "Nous utilisons enfin la nDCG comme mesure d'évaluation de nos recommandations."
   ]
  },
  {
   "cell_type": "code",
   "execution_count": 1,
   "metadata": {},
   "outputs": [
    {
     "name": "stdout",
     "output_type": "stream",
     "text": [
      "Import collaborative.py ok\n",
      "Import similarities ok\n",
      "Import predictions_notes ok\n",
      "Import predictions_content ok\n",
      "Import recommandation ok\n",
      "Import ndcg ok\n"
     ]
    }
   ],
   "source": [
    "from utils.collaborative import *\n",
    "from utils.similarities import *\n",
    "from utils.predictions_content import *\n",
    "from utils.ndcg import *\n",
    "import operator\n",
    "import pickle\n",
    "from collections import OrderedDict\n",
    "from utils.predictions_notes import *\n",
    "from utils.recommandation import *"
   ]
  },
  {
   "cell_type": "code",
   "execution_count": 2,
   "metadata": {},
   "outputs": [],
   "source": [
    "#path_d_user = \"/Users/constancescherer/Desktop/pickles/d_user.p\"\n",
    "#path_sim = \"/Users/constancescherer/Desktop/pickles/sim.p\"\n",
    "#path_most_sim = \"/Users/constancescherer/Desktop/pickles/most_sim.p\"\n",
    "#path_d_pert_user = \"/Users/constancescherer/Desktop/pickles/d_pert_user_k3.p\"\n",
    "\n",
    "path_d_user = \"/Vrac/PLDAC_addic7ed/pickles/d_user.p\"\n",
    "path_sim = \"/Vrac/PLDAC_addic7ed/pickles/sim.p\"\n",
    "path_most_sim = \"/Vrac/PLDAC_addic7ed/pickles/most_sim.p\"\n",
    "path_d_pert_user = \"/Vrac/PLDAC_addic7ed/pickles/d_pert_user_k3.p\"\n",
    "\n",
    "\n",
    "# dictionnaire d_users\n",
    "# {username : {serie : rating}}\n",
    "with open(path_d_user, 'rb') as pickle_file:\n",
    "    d_user = pickle.load(pickle_file)\n",
    "\n",
    "# matrice des similarités cosinus\n",
    "with open(path_sim, 'rb') as pickle_file:\n",
    "    sim = pickle.load(pickle_file)\n",
    "\n",
    "# dictionnaire des séries les plus similaires\n",
    "with open(path_most_sim, 'rb') as pickle_file:\n",
    "    most_similar = pickle.load(pickle_file)\n",
    "    \n",
    "with open(path_d_pert_user, 'rb') as pickle_file:\n",
    "    d_pert_user = pickle.load(pickle_file)\n"
   ]
  },
  {
   "cell_type": "code",
   "execution_count": 3,
   "metadata": {},
   "outputs": [],
   "source": [
    "#path_ratings = \"/Users/constancescherer/Desktop/ratings/ratings_imdb/users\"\n",
    "path_ratings = \"/Vrac/PLDAC_addic7ed/ratings/ratings_imdb/users\"\n",
    "\n",
    "liste_series = get_liste_series(d_user)\n",
    "data = get_data(d_user)\n",
    "all_data, num_user, num_item = get_all_data(data)\n",
    "train, train_mat, test = get_train_test(num_user, num_item, all_data, test_size=10)\n",
    "mean, u_means, i_means,U_ksvd, I_ksvd =  get_Uksvd_Iksvd(train, train_mat, num_user, num_item)\n",
    "d_username_id, d_itemname_id, Full = create_sparse_mat(data)\n",
    "\n",
    "\n",
    "#path_series = \"/Users/constancescherer/Desktop/addic7ed_final\"\n",
    "path_series = '/Vrac/PLDAC_addic7ed/addic7ed_final'\n",
    "\n",
    "d_info, d_name = getDicts(path_series)\n",
    "d_ind = reverse_dict(d_name)\n",
    "d_titre_filename = get_d_titre_filename(\"titles/title-filename.txt\")\n",
    "d_filename_titre = reverse_dict(d_titre_filename)\n",
    "d_id_username = reverse_dict(d_username_id)\n",
    "d_id_serie = reverse_dict(d_itemname_id)\n",
    "\n",
    "reversed_u_dic, reversed_i_dic = create_reversed_dic(d_username_id, d_itemname_id)"
   ]
  },
  {
   "cell_type": "code",
   "execution_count": 6,
   "metadata": {},
   "outputs": [
    {
     "ename": "AttributeError",
     "evalue": "module 'os' has no attribute 'dir'",
     "output_type": "error",
     "traceback": [
      "\u001b[0;31m---------------------------------------------------------------------------\u001b[0m",
      "\u001b[0;31mAttributeError\u001b[0m                            Traceback (most recent call last)",
      "\u001b[0;32m<ipython-input-6-1ae09dd62b19>\u001b[0m in \u001b[0;36m<module>\u001b[0;34m()\u001b[0m\n\u001b[0;32m----> 1\u001b[0;31m \u001b[0mlen\u001b[0m\u001b[0;34m(\u001b[0m\u001b[0mos\u001b[0m\u001b[0;34m.\u001b[0m\u001b[0mdir\u001b[0m\u001b[0;34m(\u001b[0m\u001b[0;34m\"path_series\"\u001b[0m\u001b[0;34m)\u001b[0m\u001b[0;34m)\u001b[0m\u001b[0;34m\u001b[0m\u001b[0m\n\u001b[0m",
      "\u001b[0;31mAttributeError\u001b[0m: module 'os' has no attribute 'dir'"
     ]
    }
   ],
   "source": [
    "len(os.dir(\"path_series\"))"
   ]
  },
  {
   "cell_type": "markdown",
   "metadata": {},
   "source": [
    "## Filtrage collaboratif"
   ]
  },
  {
   "cell_type": "markdown",
   "metadata": {},
   "source": [
    "Pour le filtrage collaboratif, nous utilisons une fonction de prédiction des notes basées sur le kSVD (la NMF ?) pour prédire les notes d'un utilisateur.  \n",
    "Cette fonction prend en compte les biais utilisateur et item dans le calcul de la note.  \n",
    "Les notes supérieures à 10 sont remises à 10 et les notes inférieures à 1 sont remises à 1.  \n",
    "On calcule la moyenne de la nDCG sur tous les utilisateurs."
   ]
  },
  {
   "cell_type": "code",
   "execution_count": 4,
   "metadata": {},
   "outputs": [
    {
     "data": {
      "text/plain": [
       "0.045093703623889446"
      ]
     },
     "execution_count": 4,
     "metadata": {},
     "output_type": "execute_result"
    }
   ],
   "source": [
    "ndcg_moy_fc(d_pert_user, d_username_id, \n",
    "        d_itemname_id, \n",
    "        d_user,\n",
    "        U_ksvd,\n",
    "        I_ksvd,\n",
    "        u_means,\n",
    "        i_means,\n",
    "        mean)"
   ]
  },
  {
   "cell_type": "markdown",
   "metadata": {},
   "source": [
    "## Contenu"
   ]
  },
  {
   "cell_type": "markdown",
   "metadata": {},
   "source": [
    "Pour la recommandation par le contenu, on prédit la note d'une série en faisant la moyenne des notes que l'utilisateur a données aux kppv de la série.  \n",
    "On calcule la moyenne de la ndcg sur tous les utilisateurs pour plusieurs corpus créés avec différents paramètres."
   ]
  },
  {
   "cell_type": "markdown",
   "metadata": {},
   "source": [
    "### Premier essai"
   ]
  },
  {
   "cell_type": "code",
   "execution_count": 5,
   "metadata": {},
   "outputs": [
    {
     "data": {
      "text/plain": [
       "0.03370791848374078"
      ]
     },
     "execution_count": 5,
     "metadata": {},
     "output_type": "execute_result"
    }
   ],
   "source": [
    "ndcg_moy_content(d_pert_user,\n",
    "        d_username_id,\n",
    "        d_itemname_id,\n",
    "        d_name,\n",
    "        d_user,\n",
    "        d_ind, \n",
    "        d_titre_filename, \n",
    "        d_filename_titre, \n",
    "        d_id_username, \n",
    "        d_id_serie, \n",
    "        sim )"
   ]
  },
  {
   "cell_type": "markdown",
   "metadata": {},
   "source": [
    "### Corpus voc = 25000 ; min_df = 20 ; max_df = 0.4"
   ]
  },
  {
   "cell_type": "code",
   "execution_count": 6,
   "metadata": {},
   "outputs": [
    {
     "data": {
      "text/plain": [
       "0.008462550798484904"
      ]
     },
     "execution_count": 6,
     "metadata": {},
     "output_type": "execute_result"
    }
   ],
   "source": [
    "path_mat_corpus = \"/Users/constancescherer/Desktop/pickles_new/pickles/mat_voc_25000_mindf_20_max_df_0.4.p\"\n",
    "#path_mat_corpus = \"/Vrac/PLDAC_addic7ed/pickles_new/pickles/mat_voc_25000_mindf_20_max_df_0.4.p\"\n",
    "with open(path_mat_corpus, 'rb') as pickle_file:\n",
    "    mat_corpus = pickle.load(pickle_file)\n",
    "    \n",
    "sim = similarities_from_sparse_mat(mat_corpus)\n",
    "\n",
    "ndcg_moy_content(d_pert_user,\n",
    "        d_username_id,\n",
    "        d_itemname_id,\n",
    "        d_name,\n",
    "        d_user,\n",
    "        d_ind, \n",
    "        d_titre_filename, \n",
    "        d_filename_titre, \n",
    "        d_id_username, \n",
    "        d_id_serie, \n",
    "        sim )"
   ]
  },
  {
   "cell_type": "markdown",
   "metadata": {},
   "source": [
    "### Corpus voc = 50000 ; min_df = 20 ; max_df = 0.4"
   ]
  },
  {
   "cell_type": "code",
   "execution_count": 7,
   "metadata": {},
   "outputs": [
    {
     "data": {
      "text/plain": [
       "0.00858315350303621"
      ]
     },
     "execution_count": 7,
     "metadata": {},
     "output_type": "execute_result"
    }
   ],
   "source": [
    "path_mat_corpus = \"/Users/constancescherer/Desktop/pickles_new/pickles/mat_voc_50000_mindf_20_max_df_0.4.p\"\n",
    "#path_mat_corpus = \"/Vrac/PLDAC_addic7ed/pickles_new/pickles/mat_voc_50000_mindf_20_max_df_0.4.p\"\n",
    "with open(path_mat_corpus, 'rb') as pickle_file:\n",
    "    mat_corpus = pickle.load(pickle_file)\n",
    "    \n",
    "sim = similarities_from_sparse_mat(mat_corpus)\n",
    "\n",
    "ndcg_moy_content(d_pert_user,\n",
    "        d_username_id,\n",
    "        d_itemname_id,\n",
    "        d_name,\n",
    "        d_user,\n",
    "        d_ind, \n",
    "        d_titre_filename, \n",
    "        d_filename_titre, \n",
    "        d_id_username, \n",
    "        d_id_serie, \n",
    "        sim )"
   ]
  },
  {
   "cell_type": "markdown",
   "metadata": {},
   "source": [
    "### Corpus voc = 53540 ; min_df = 20 ; max_df = 0.4"
   ]
  },
  {
   "cell_type": "code",
   "execution_count": 8,
   "metadata": {},
   "outputs": [
    {
     "data": {
      "text/plain": [
       "0.00859205905799698"
      ]
     },
     "execution_count": 8,
     "metadata": {},
     "output_type": "execute_result"
    }
   ],
   "source": [
    "path_mat_corpus = \"/Users/constancescherer/Desktop/pickles_new/pickles/mat_voc_53540_mindf_20_max_df_0.4.p\"\n",
    "#path_mat_corpus = \"/Vrac/PLDAC_addic7ed/pickles_new/pickles/mat_voc_53540_mindf_20_max_df_0.4.p\"\n",
    "with open(path_mat_corpus, 'rb') as pickle_file:\n",
    "    mat_corpus = pickle.load(pickle_file)\n",
    "    \n",
    "sim = similarities_from_sparse_mat(mat_corpus)\n",
    "\n",
    "ndcg_moy_content(d_pert_user,\n",
    "        d_username_id,\n",
    "        d_itemname_id,\n",
    "        d_name,\n",
    "        d_user,\n",
    "        d_ind, \n",
    "        d_titre_filename, \n",
    "        d_filename_titre, \n",
    "        d_id_username, \n",
    "        d_id_serie, \n",
    "        sim )"
   ]
  },
  {
   "cell_type": "markdown",
   "metadata": {},
   "source": [
    "### Corpus voc = 141418 ; min_df = 3 ; max_df = 0.4"
   ]
  },
  {
   "cell_type": "code",
   "execution_count": 9,
   "metadata": {},
   "outputs": [
    {
     "data": {
      "text/plain": [
       "0.009343573118280614"
      ]
     },
     "execution_count": 9,
     "metadata": {},
     "output_type": "execute_result"
    }
   ],
   "source": [
    "path_mat_corpus = \"/Users/constancescherer/Desktop/pickles_new/pickles/mat_voc_141418_mindf_3_max_df_0.4.p\"\n",
    "#path_mat_corpus = \"/Vrac/PLDAC_addic7ed/pickles_new/pickles/mat_voc_141418_mindf_3_max_df_0.4.p\"\n",
    "with open(path_mat_corpus, 'rb') as pickle_file:\n",
    "    mat_corpus = pickle.load(pickle_file)\n",
    "    \n",
    "sim = similarities_from_sparse_mat(mat_corpus)\n",
    "\n",
    "ndcg_moy_content(d_pert_user,\n",
    "        d_username_id,\n",
    "        d_itemname_id,\n",
    "        d_name,\n",
    "        d_user,\n",
    "        d_ind, \n",
    "        d_titre_filename, \n",
    "        d_filename_titre, \n",
    "        d_id_username, \n",
    "        d_id_serie, \n",
    "        sim )"
   ]
  },
  {
   "cell_type": "markdown",
   "metadata": {},
   "source": [
    "### Corpus voc = 50000 ; min_df = 3 ; max_df = 0.4"
   ]
  },
  {
   "cell_type": "code",
   "execution_count": 10,
   "metadata": {},
   "outputs": [
    {
     "data": {
      "text/plain": [
       "0.009453971314197306"
      ]
     },
     "execution_count": 10,
     "metadata": {},
     "output_type": "execute_result"
    }
   ],
   "source": [
    "path_mat_corpus = \"/Users/constancescherer/Desktop/pickles_new/pickles/mat_voc_50000_mindf_3_max_df_0.4.p\"\n",
    "#path_mat_corpus = \"/Vrac/PLDAC_addic7ed/pickles_new/pickles/mat_voc_50000_mindf_3_max_df_0.4.p\"\n",
    "with open(path_mat_corpus, 'rb') as pickle_file:\n",
    "    mat_corpus = pickle.load(pickle_file)\n",
    "    \n",
    "sim = similarities_from_sparse_mat(mat_corpus)\n",
    "\n",
    "ndcg_moy_content(d_pert_user,\n",
    "        d_username_id,\n",
    "        d_itemname_id,\n",
    "        d_name,\n",
    "        d_user,\n",
    "        d_ind, \n",
    "        d_titre_filename, \n",
    "        d_filename_titre, \n",
    "        d_id_username, \n",
    "        d_id_serie, \n",
    "        sim )"
   ]
  },
  {
   "cell_type": "markdown",
   "metadata": {},
   "source": [
    "### Corpus voc = 50000 ; min_df = 10 ; max_df = 0.4"
   ]
  },
  {
   "cell_type": "code",
   "execution_count": 11,
   "metadata": {},
   "outputs": [
    {
     "data": {
      "text/plain": [
       "0.009190918384756074"
      ]
     },
     "execution_count": 11,
     "metadata": {},
     "output_type": "execute_result"
    }
   ],
   "source": [
    "path_mat_corpus = \"/Users/constancescherer/Desktop/pickles_new/pickles/mat_voc_50000_mindf_10_max_df_0.4.p\"\n",
    "#path_mat_corpus = \"/Vrac/PLDAC_addic7ed/pickles_new/pickles/mat_voc_50000_mindf_10_max_df_0.4.p\"\n",
    "with open(path_mat_corpus, 'rb') as pickle_file:\n",
    "    mat_corpus = pickle.load(pickle_file)\n",
    "    \n",
    "sim = similarities_from_sparse_mat(mat_corpus)\n",
    "\n",
    "ndcg_moy_content(d_pert_user,\n",
    "        d_username_id,\n",
    "        d_itemname_id,\n",
    "        d_name,\n",
    "        d_user,\n",
    "        d_ind, \n",
    "        d_titre_filename, \n",
    "        d_filename_titre, \n",
    "        d_id_username, \n",
    "        d_id_serie, \n",
    "        sim )"
   ]
  },
  {
   "cell_type": "markdown",
   "metadata": {},
   "source": [
    "### Corpus voc = 50000 ; min_df = 15 ; max_df = 0.4"
   ]
  },
  {
   "cell_type": "code",
   "execution_count": 12,
   "metadata": {},
   "outputs": [
    {
     "data": {
      "text/plain": [
       "0.008659011747069902"
      ]
     },
     "execution_count": 12,
     "metadata": {},
     "output_type": "execute_result"
    }
   ],
   "source": [
    "path_mat_corpus = \"/Users/constancescherer/Desktop/pickles_new/pickles/mat_voc_50000_mindf_15_max_df_0.4.p\"\n",
    "#path_mat_corpus = \"/Vrac/PLDAC_addic7ed/pickles_new/pickles/mat_voc_50000_mindf_15_max_df_0.4.p\"\n",
    "with open(path_mat_corpus, 'rb') as pickle_file:\n",
    "    mat_corpus = pickle.load(pickle_file)\n",
    "    \n",
    "sim = similarities_from_sparse_mat(mat_corpus)\n",
    "ndcg_moy_content(d_pert_user,\n",
    "        d_username_id,\n",
    "        d_itemname_id,\n",
    "        d_name,\n",
    "        d_user,\n",
    "        d_ind, \n",
    "        d_titre_filename, \n",
    "        d_filename_titre, \n",
    "        d_id_username, \n",
    "        d_id_serie, \n",
    "        sim )"
   ]
  },
  {
   "cell_type": "markdown",
   "metadata": {},
   "source": [
    "### Corpus voc = 50000 ; min_df = 5 ; max_df = 0.4"
   ]
  },
  {
   "cell_type": "code",
   "execution_count": 13,
   "metadata": {},
   "outputs": [
    {
     "data": {
      "text/plain": [
       "0.00921873772152227"
      ]
     },
     "execution_count": 13,
     "metadata": {},
     "output_type": "execute_result"
    }
   ],
   "source": [
    "path_mat_corpus = \"/Users/constancescherer/Desktop/pickles_new/pickles/mat_voc_50000_mindf_5_max_df_0.4.p\"\n",
    "#path_mat_corpus = \"/Vrac/PLDAC_addic7ed/pickles_new/pickles/mat_voc_50000_mindf_5_max_df_0.4.p\"\n",
    "with open(path_mat_corpus, 'rb') as pickle_file:\n",
    "    mat_corpus = pickle.load(pickle_file)\n",
    "    \n",
    "sim = similarities_from_sparse_mat(mat_corpus)\n",
    "ndcg_moy_content(d_pert_user,\n",
    "        d_username_id,\n",
    "        d_itemname_id,\n",
    "        d_name,\n",
    "        d_user,\n",
    "        d_ind, \n",
    "        d_titre_filename, \n",
    "        d_filename_titre, \n",
    "        d_id_username, \n",
    "        d_id_serie, \n",
    "        sim )"
   ]
  },
  {
   "cell_type": "markdown",
   "metadata": {},
   "source": [
    "Les résultats sont assez bas, mais c'est sûrement du au fait que les jugements de pertinence sont très bas aussi. On va essayer de changer les jugements de pertinence de la façon suivante : dans la matrice de pertinence, si le jugement est différent de 0, on le remplace par un 1, sinon on le laisse à 0. On n'a plus des jugements plus ou moins bons, juste si des séries sont pertinentes ou non pour d'autres séries. Ensuite, on refait les pertinences utilisateurs avec ça et on voit si ça change quelque chose.  \n",
    "Pour l'instant, c'est la recommandation basée sur le contenu qui fonctionne le mieux, avec le corpus formé avec un vocabulaire de 50 000 mots, un min_df de 3 et un max_df de 0.4 qui a le meilleur score.  \n",
    "Il reste toujours le problème que des séries très peu notées arrivent toujours en tête, surtout pour le filtrage collaboratif (hypothèse : leur biais item est très élevé car le peu de gens les ayants notées les ont très bien notées). Pour palier ce problème, nous proposons l'idée suivante : parmi les séries ayant la même note prédite pour un utilisateur, nous les classons par popularité (nombre de notes supérieures à 7). La majorité des utilisateurs mettant de très bonnes notes aux séries qu'ils ont notées, leur biais utilisateur est également grand, et on se retrouve avec des utilisateurs qui ont beaucoup de séries avec des notes prédites de 10. Parmi celles-ci, il nous semble plus pertinent de recommander en premier les séries les plus populaires."
   ]
  },
  {
   "cell_type": "markdown",
   "metadata": {},
   "source": [
    "**<font color='red'>À faire**\n",
    "\n",
    "- Pertinences séries {0, 1}\n",
    "- Pertinences utilisateurs qui en découlent\n",
    "- Tri par popularité à l'intérieur des recommandations"
   ]
  },
  {
   "cell_type": "code",
   "execution_count": null,
   "metadata": {},
   "outputs": [],
   "source": []
  }
 ],
 "metadata": {
  "kernelspec": {
   "display_name": "Python 3",
   "language": "python",
   "name": "python3"
  },
  "language_info": {
   "codemirror_mode": {
    "name": "ipython",
    "version": 3
   },
   "file_extension": ".py",
   "mimetype": "text/x-python",
   "name": "python",
   "nbconvert_exporter": "python",
   "pygments_lexer": "ipython3",
   "version": "3.5.3"
  }
 },
 "nbformat": 4,
 "nbformat_minor": 2
}
