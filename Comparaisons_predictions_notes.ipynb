{
 "cells": [
  {
   "cell_type": "markdown",
   "metadata": {},
   "source": [
    "# Comparaisons entre différentes manières de prédiction de notes"
   ]
  },
  {
   "cell_type": "markdown",
   "metadata": {},
   "source": [
    "Ce notebook présente la MSE et la MAE pour différentes façons de prédire les notes d'utilisateurs sur des séries.  \n",
    "4000 utilisateurs pour 3000 séries.  \n",
    "Au moins 4 notes pour chacun des utilisateurs.  \n",
    "Les différents algorithmes comparés :\n",
    "- kSVD\n",
    "- NMF\n",
    "- content\n"
   ]
  },
  {
   "cell_type": "code",
   "execution_count": 2,
   "metadata": {},
   "outputs": [
    {
     "name": "stderr",
     "output_type": "stream",
     "text": [
      "/Users/constancescherer/anaconda3/lib/python3.6/site-packages/h5py/__init__.py:36: FutureWarning: Conversion of the second argument of issubdtype from `float` to `np.floating` is deprecated. In future, it will be treated as `np.float64 == np.dtype(float).type`.\n",
      "  from ._conv import register_converters as _register_converters\n"
     ]
    }
   ],
   "source": [
    "from utils.predictions_content import *\n",
    "from utils.predictions_notes import *\n",
    "from utils.collaborative import *"
   ]
  },
  {
   "cell_type": "code",
   "execution_count": 13,
   "metadata": {},
   "outputs": [],
   "source": [
    "#path = \"/Vrac/PLDAC_addic7ed/ratings/ratings_imdb/users\"\n",
    "path_ratings = \"/Users/constancescherer/Desktop/ratings/ratings_imdb/users\"\n",
    "path_d_user = \"/Users/constancescherer/Desktop/pickles/d_user.p\"\n",
    "#d_user= get_d_user(path)\n",
    "with open(path_d_user, 'rb') as pickle_file:\n",
    "    d_user = pickle.load(pickle_file)\n",
    "\n",
    "liste_series = get_liste_series(d_user)\n",
    "data = get_data(d_user)\n",
    "all_data, num_user, num_item = get_all_data(data)\n",
    "train, train_mat, test = get_train_test(num_user, num_item, all_data, test_size=20)\n",
    "mean, u_means, i_means,U_ksvd, I_ksvd =  get_Uksvd_Iksvd(train, train_mat, num_user, num_item)\n",
    "d_username_id, d_itemname_id, Full = create_sparse_mat(data)\n",
    "\n",
    "path_series = \"/Users/constancescherer/Desktop/addic7ed_final\"\n",
    "#path_series = '/Vrac/PLDAC_addic7ed/addic7ed_clean'\n",
    "d_info, d_name = getDicts(path_series)\n",
    "d_ind = reverse_dict(d_name)\n",
    "d_titre_filename = get_d_titre_filename(\"titles/title-filename.txt\")\n",
    "d_filename_titre = reverse_dict(d_titre_filename)\n",
    "d_id_username = reverse_dict(d_username_id)\n",
    "d_id_serie = reverse_dict(d_itemname_id)\n",
    "\n",
    "path_sim = \"/Users/constancescherer/Desktop/pickles/sim.p\"\n",
    "# matrice des similarités cosinus\n",
    "with open(path_sim, 'rb') as pickle_file:\n",
    "    similarities = pickle.load(pickle_file)"
   ]
  },
  {
   "cell_type": "code",
   "execution_count": 6,
   "metadata": {},
   "outputs": [],
   "source": [
    "def error_ksvd(train_mat, test) :\n",
    "    ## Getting the truth values\n",
    "    truth_tr = np.array([rating for (uid,iid),rating in train_mat.items()])\n",
    "    truth_te = np.array([rating for uid,iid,rating in test])\n",
    "\n",
    "    prediction_tr = np.array([pred_func_ksvd(u,i, U_ksvd, I_ksvd, u_means, i_means, mean) for (u,i),rating in train_mat.items()])\n",
    "    prediction_te = np.array([pred_func_ksvd(u,i, U_ksvd, I_ksvd, u_means, i_means, mean) for u,i,rating in test])\n",
    "\n",
    "\n",
    "    print(\"Training Error:\")\n",
    "    print(\"MSE:\",  MSE_err(prediction_tr,truth_tr))\n",
    "    print(\"MAE:\",  MAE_err(prediction_tr,truth_tr))\n",
    "\n",
    "    print(\"Test Error:\")\n",
    "    print(\"MSE:\",  MSE_err(prediction_te,truth_te))\n",
    "    print(\"MAE:\",  MAE_err(prediction_te,truth_te))"
   ]
  },
  {
   "cell_type": "code",
   "execution_count": 20,
   "metadata": {},
   "outputs": [],
   "source": [
    "def error_NMF(train_mat, test, num_user, num_item) :\n",
    "    ## Getting the truth values\n",
    "    truth_tr = np.array([rating for (uid,iid),rating in train_mat.items()])\n",
    "    truth_te = np.array([rating for uid,iid,rating in test])\n",
    "    \n",
    "    prediction_tr, prediction_te = predictions_NMF(train_mat,test, 100, num_user, num_item)\n",
    "    print(\"Training Error:\")\n",
    "    print(\"MSE:\",  MSE_err(prediction_tr,truth_tr))\n",
    "    print(\"MAE:\",  MAE_err(prediction_tr,truth_tr))\n",
    "\n",
    "    print(\"Test Error:\")\n",
    "    print(\"MSE:\",  MSE_err(prediction_te,truth_te))\n",
    "    print(\"MAE:\",  MAE_err(prediction_te,truth_te))"
   ]
  },
  {
   "cell_type": "code",
   "execution_count": 17,
   "metadata": {},
   "outputs": [],
   "source": [
    "def error_content(train_mat, test, d_name, d_user, d_ind, d_titre_filename, d_filename_titre, d_id_username, d_id_serie, similarities) :\n",
    "    ## Getting the truth values\n",
    "    truth_tr = np.array([rating for (uid,iid),rating in train_mat.items()])\n",
    "    truth_te = np.array([rating for uid,iid,rating in test])\n",
    "\n",
    "    prediction_tr = np.array([pred_content(u, i, d_name, d_user, d_ind, d_titre_filename, d_filename_titre, d_id_username, d_id_serie, similarities) for (u,i),rating in train_mat.items()])\n",
    "    prediction_te = np.array([pred_content(u, i, d_name, d_user, d_ind, d_titre_filename, d_filename_titre, d_id_username, d_id_serie, similarities) for u,i,rating in test])\n",
    "\n",
    "\n",
    "    print(\"Training Error:\")\n",
    "    print(\"MSE:\",  MSE_err(prediction_tr,truth_tr))\n",
    "    print(\"MAE:\",  MAE_err(prediction_tr,truth_tr))\n",
    "\n",
    "    print(\"Test Error:\")\n",
    "    print(\"MSE:\",  MSE_err(prediction_te,truth_te))\n",
    "    print(\"MAE:\",  MAE_err(prediction_te,truth_te))"
   ]
  },
  {
   "cell_type": "markdown",
   "metadata": {},
   "source": [
    "## kSVD"
   ]
  },
  {
   "cell_type": "code",
   "execution_count": 7,
   "metadata": {},
   "outputs": [
    {
     "name": "stdout",
     "output_type": "stream",
     "text": [
      "Training Error:\n",
      "MSE: 1.56699724060131\n",
      "MAE: 0.7990219988643135\n",
      "Test Error:\n",
      "MSE: 5.645013042355757\n",
      "MAE: 1.8067640310042217\n"
     ]
    }
   ],
   "source": [
    "error_ksvd(train_mat, test)"
   ]
  },
  {
   "cell_type": "markdown",
   "metadata": {},
   "source": [
    "## NMF"
   ]
  },
  {
   "cell_type": "code",
   "execution_count": 21,
   "metadata": {},
   "outputs": [
    {
     "name": "stdout",
     "output_type": "stream",
     "text": [
      "Training Error:\n",
      "MSE: 0.001972234\n",
      "MAE: 0.001972234\n",
      "Test Error:\n",
      "MSE: 9.03600293901543\n",
      "MAE: 2.3188831741366642\n"
     ]
    }
   ],
   "source": [
    "error_NMF(train_mat, test, num_user, num_item)"
   ]
  },
  {
   "cell_type": "markdown",
   "metadata": {},
   "source": [
    "## Content"
   ]
  },
  {
   "cell_type": "code",
   "execution_count": 19,
   "metadata": {},
   "outputs": [
    {
     "name": "stdout",
     "output_type": "stream",
     "text": [
      "Training Error:\n",
      "MSE: 3.6809385084067014\n",
      "MAE: 1.3689624502107582\n",
      "Test Error:\n",
      "MSE: 3.7667972895746593\n",
      "MAE: 1.393093313739897\n"
     ]
    }
   ],
   "source": [
    "error_content(train_mat, test, d_name, d_user, d_ind, d_titre_filename, d_filename_titre, d_id_username, d_id_serie, similarities)"
   ]
  },
  {
   "cell_type": "markdown",
   "metadata": {},
   "source": [
    "kSVD et content donnent de bons résultats en test. La NMF est un peu moins bonne en test mais elle ne prend pas en compte les biais des utilisateurs et des items (contrairement au kSVD)."
   ]
  },
  {
   "cell_type": "code",
   "execution_count": null,
   "metadata": {},
   "outputs": [],
   "source": []
  }
 ],
 "metadata": {
  "kernelspec": {
   "display_name": "Python 3",
   "language": "python",
   "name": "python3"
  },
  "language_info": {
   "codemirror_mode": {
    "name": "ipython",
    "version": 3
   },
   "file_extension": ".py",
   "mimetype": "text/x-python",
   "name": "python",
   "nbconvert_exporter": "python",
   "pygments_lexer": "ipython3",
   "version": "3.6.4"
  }
 },
 "nbformat": 4,
 "nbformat_minor": 2
}
