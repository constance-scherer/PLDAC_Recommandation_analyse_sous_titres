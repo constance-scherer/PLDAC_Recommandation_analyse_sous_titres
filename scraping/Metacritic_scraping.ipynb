{
 "cells": [
  {
   "cell_type": "markdown",
   "metadata": {},
   "source": [
    "# Scraping Metacritic"
   ]
  },
  {
   "cell_type": "markdown",
   "metadata": {},
   "source": [
    "## Dexter"
   ]
  },
  {
   "cell_type": "markdown",
   "metadata": {},
   "source": [
    "Allons récupérer les notes des utilisateurs pour Dexter sur Metacritic (https://www.metacritic.com/tv/dexter/user-reviews).\n",
    "\n",
    "Pour l'instant, on récupère juste la première page pour ne pas risquer le <font color='red'> **ban** </font>.\n",
    "\n",
    "C'est par saison et pas par série, je suis la tristesse."
   ]
  },
  {
   "cell_type": "code",
   "execution_count": 7,
   "metadata": {},
   "outputs": [],
   "source": [
    "import requests\n",
    "from bs4 import BeautifulSoup"
   ]
  },
  {
   "cell_type": "code",
   "execution_count": 5,
   "metadata": {},
   "outputs": [
    {
     "data": {
      "text/plain": [
       "<Response [200]>"
      ]
     },
     "execution_count": 5,
     "metadata": {},
     "output_type": "execute_result"
    }
   ],
   "source": [
    "url = \"https://www.metacritic.com/tv/dexter/user-reviews\"\n",
    "# http://jacketheredge.com/Webscraping+Metacritic.html - pour éviter 403 (forbidden)\n",
    "user_agent = 'Mozilla/5.0 (Windows; U; Windows NT 5.1; en-US; rv:1.9.0.7) Gecko/2009021910 Firefox/3.0.7'\n",
    "headers={'User-Agent':user_agent,} \n",
    "\n",
    "response = requests.get(url, headers=headers)\n",
    "response"
   ]
  },
  {
   "cell_type": "markdown",
   "metadata": {},
   "source": [
    "### Récupérer la première review (nom utilisateur + note)"
   ]
  },
  {
   "cell_type": "code",
   "execution_count": 8,
   "metadata": {},
   "outputs": [],
   "source": [
    "html_soup = BeautifulSoup(response.text, 'html.parser')"
   ]
  },
  {
   "cell_type": "code",
   "execution_count": 21,
   "metadata": {},
   "outputs": [],
   "source": [
    "review = html_soup.find('div', class_ = 'review_section')"
   ]
  },
  {
   "cell_type": "code",
   "execution_count": 25,
   "metadata": {},
   "outputs": [],
   "source": [
    "user = review.a.text"
   ]
  },
  {
   "cell_type": "code",
   "execution_count": 26,
   "metadata": {},
   "outputs": [
    {
     "data": {
      "text/plain": [
       "'NYcritic'"
      ]
     },
     "execution_count": 26,
     "metadata": {},
     "output_type": "execute_result"
    }
   ],
   "source": [
    "user"
   ]
  },
  {
   "cell_type": "code",
   "execution_count": 35,
   "metadata": {},
   "outputs": [],
   "source": [
    "r = review.find('div', class_=\"review_grade\")"
   ]
  },
  {
   "cell_type": "code",
   "execution_count": 37,
   "metadata": {},
   "outputs": [],
   "source": [
    "rating = int(r.div.text)"
   ]
  },
  {
   "cell_type": "code",
   "execution_count": 38,
   "metadata": {},
   "outputs": [
    {
     "data": {
      "text/plain": [
       "9"
      ]
     },
     "execution_count": 38,
     "metadata": {},
     "output_type": "execute_result"
    }
   ],
   "source": [
    "rating"
   ]
  },
  {
   "cell_type": "markdown",
   "metadata": {},
   "source": [
    "### Récupérer toutes les reviews de la page\n"
   ]
  },
  {
   "cell_type": "code",
   "execution_count": 56,
   "metadata": {},
   "outputs": [
    {
     "data": {
      "text/plain": [
       "103"
      ]
     },
     "execution_count": 56,
     "metadata": {},
     "output_type": "execute_result"
    }
   ],
   "source": [
    "nb_reviews = 100 # nb of reviews per page\n",
    "reviews = html_soup.find_all('div', class_ = 'review_stats')\n",
    "len(reviews)"
   ]
  },
  {
   "cell_type": "code",
   "execution_count": 65,
   "metadata": {},
   "outputs": [
    {
     "data": {
      "text/plain": [
       "<div class=\"review_stats\">\n",
       "<div class=\"review_critic\">\n",
       "<div class=\"name\">\n",
       "<span>rossc</span>\n",
       "</div>\n",
       "<div class=\"date\">Oct 17, 2006</div>\n",
       "</div>\n",
       "<div class=\"review_grade\">\n",
       "<div class=\"metascore_w user medium tvshow positive indiv perfect\">10</div>\n",
       "</div>\n",
       "</div>"
      ]
     },
     "execution_count": 65,
     "metadata": {},
     "output_type": "execute_result"
    }
   ],
   "source": [
    "r = reviews[1]\n",
    "r"
   ]
  },
  {
   "cell_type": "code",
   "execution_count": 69,
   "metadata": {},
   "outputs": [],
   "source": [
    "n = r.find('div', class_='name')"
   ]
  },
  {
   "cell_type": "code",
   "execution_count": 72,
   "metadata": {},
   "outputs": [
    {
     "data": {
      "text/plain": [
       "'rossc'"
      ]
     },
     "execution_count": 72,
     "metadata": {},
     "output_type": "execute_result"
    }
   ],
   "source": [
    "list(n.children)[1].text"
   ]
  },
  {
   "cell_type": "code",
   "execution_count": 74,
   "metadata": {},
   "outputs": [
    {
     "data": {
      "text/plain": [
       "'NYcritic'"
      ]
     },
     "execution_count": 74,
     "metadata": {},
     "output_type": "execute_result"
    }
   ],
   "source": [
    "r0 = reviews[0]\n",
    "n0 = r0.find('div', class_='name')\n",
    "list(n0.children)[1].text"
   ]
  },
  {
   "cell_type": "code",
   "execution_count": 77,
   "metadata": {},
   "outputs": [],
   "source": [
    "d = dict()\n",
    "for i in range(0, nb_reviews) :\n",
    "    name = reviews[i].find('div', class_='name')\n",
    "    user = list(name.children)[1].text\n",
    "    r = reviews[i].find('div', class_=\"review_grade\")\n",
    "    rating = int(r.div.text)\n",
    "    d[user] = {'Dexter' : rating}\n"
   ]
  },
  {
   "cell_type": "markdown",
   "metadata": {},
   "source": [
    "Ça marche bien mais plusieurs problèmes :\n",
    "- *notes par saison (POURQUOI :'( )*\n",
    "    - on pourrait faire une moyenne des notes sur chaque saison pour un utilisateur \n",
    "    - tous les utilisateurs qui ont noté la saison 1 de Dexter n'ont pas noté la saison 2 (et 3 et 4, etc) de Dexter\n",
    "    - on pourrait imaginer une pénalité dans la moyenne pour chaque saison non notée (on la considère comme non regardée)\n",
    "    \n",
    "    \n",
    "- *comment faire pour récupérer depuis les noms des dossiers de sous-titres ?*\n",
    "    - pour Dexter, pas de soucis, on met en minuscule et on est bon\n",
    "    - pour CSI par exemple, le nom dans le dossier des sous-titres est \"CSI_Crime_Scene_Invertigation\" mais c'est seulement \"csi\" dans l'url du site\n",
    "    \n",
    "    \n",
    "- *les noms de séries en plusieurs mots mais sans acronymes ?? (apparemment avec des '-' dans l'url mais pas forcément les mêmes noms)*\n",
    "    - possibilité de récupérer les noms que le site utilise ? mais comment les relier avec nos titres après"
   ]
  },
  {
   "cell_type": "code",
   "execution_count": null,
   "metadata": {},
   "outputs": [],
   "source": []
  },
  {
   "cell_type": "code",
   "execution_count": null,
   "metadata": {},
   "outputs": [],
   "source": []
  },
  {
   "cell_type": "code",
   "execution_count": null,
   "metadata": {},
   "outputs": [],
   "source": []
  },
  {
   "cell_type": "code",
   "execution_count": null,
   "metadata": {},
   "outputs": [],
   "source": []
  },
  {
   "cell_type": "code",
   "execution_count": null,
   "metadata": {},
   "outputs": [],
   "source": []
  },
  {
   "cell_type": "code",
   "execution_count": null,
   "metadata": {},
   "outputs": [],
   "source": []
  },
  {
   "cell_type": "code",
   "execution_count": null,
   "metadata": {},
   "outputs": [],
   "source": []
  },
  {
   "cell_type": "code",
   "execution_count": null,
   "metadata": {},
   "outputs": [],
   "source": []
  },
  {
   "cell_type": "code",
   "execution_count": null,
   "metadata": {},
   "outputs": [],
   "source": []
  },
  {
   "cell_type": "code",
   "execution_count": null,
   "metadata": {},
   "outputs": [],
   "source": []
  },
  {
   "cell_type": "code",
   "execution_count": null,
   "metadata": {},
   "outputs": [],
   "source": []
  },
  {
   "cell_type": "code",
   "execution_count": null,
   "metadata": {},
   "outputs": [],
   "source": []
  }
 ],
 "metadata": {
  "kernelspec": {
   "display_name": "Python 3",
   "language": "python",
   "name": "python3"
  },
  "language_info": {
   "codemirror_mode": {
    "name": "ipython",
    "version": 3
   },
   "file_extension": ".py",
   "mimetype": "text/x-python",
   "name": "python",
   "nbconvert_exporter": "python",
   "pygments_lexer": "ipython3",
   "version": "3.6.4"
  }
 },
 "nbformat": 4,
 "nbformat_minor": 2
}
