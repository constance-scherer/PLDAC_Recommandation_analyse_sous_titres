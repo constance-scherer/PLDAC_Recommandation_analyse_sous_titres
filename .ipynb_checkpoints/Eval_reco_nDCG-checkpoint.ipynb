{
 "cells": [
  {
   "cell_type": "markdown",
   "metadata": {},
   "source": [
    "# Évaluation des recommandations"
   ]
  },
  {
   "cell_type": "markdown",
   "metadata": {},
   "source": [
    "Nous voulons évaluer les recommandations que nous faisons. Nous utilisons comme mesure la nDCG."
   ]
  },
  {
   "cell_type": "code",
   "execution_count": 17,
   "metadata": {},
   "outputs": [],
   "source": [
    "import pickle\n",
    "import math\n",
    "from collections import OrderedDict"
   ]
  },
  {
   "cell_type": "code",
   "execution_count": 7,
   "metadata": {},
   "outputs": [],
   "source": [
    "# Pickle loads\n",
    "path_d_pert_user = \"/Vrac/PLDAC_addic7ed/pickles/d_pert_user_k3.p\"\n",
    "with open(path_d_pert_user, 'rb') as pickle_file:\n",
    "    d_pert_user = pickle.load(pickle_file)\n",
    "    \n",
    "    \n",
    "path_d_user = \"/Vrac/PLDAC_addic7ed/pickles/d_user.p\"\n",
    "with open(path_d_user, 'rb') as pickle_file:\n",
    "    d_user = pickle.load(pickle_file)"
   ]
  },
  {
   "cell_type": "code",
   "execution_count": 6,
   "metadata": {},
   "outputs": [],
   "source": [
    "def dcg(reco, user, d_pert_user) :\n",
    "    \"\"\"\n",
    "    reco : liste de titres de series, dans l'ordre de la recommandation\n",
    "    user : utilisateur pour qui on fait la recommandation\n",
    "    d_pert_user : dictionnaire des pertinences par utilisateurs\n",
    "    \"\"\"\n",
    "    d_pert = d_pert_user[user]\n",
    "    res = d_pert[reco[0]]\n",
    "    for i in range(1, len(reco)) :\n",
    "        res += d_pert[reco[1]]/math.log2(i+1)\n",
    "        \n",
    "    return res"
   ]
  },
  {
   "cell_type": "code",
   "execution_count": 19,
   "metadata": {},
   "outputs": [],
   "source": [
    "def ideal_reco(user, k, d_pert_user, d_user) :\n",
    "    \"\"\"\n",
    "    user : utilisateur pour lequel on veut faire la recommandation\n",
    "    k : nombre de series a predire\n",
    "    d_pert_user : dictionnaire des pertinences utilisateurs\n",
    "    d_user : dictionnaire user\n",
    "    renvoie la meilleure recommandation pour user (pour la ndcg)\n",
    "    \"\"\"\n",
    "    d_notes = d_user[user]\n",
    "    series_vues = list(d_notes.keys())\n",
    "    d_pert = d_pert_user[user]\n",
    "    sorted_x = sorted(d_pert.items(), key=lambda kv: kv[1])\n",
    "    sorted_x.reverse()\n",
    "    sorted_dict = OrderedDict(sorted_x)\n",
    "    ideal_reco = []\n",
    "    i = 0\n",
    "    while len(ideal_reco) < k or i < len(d_pert) :\n",
    "        serie, pert = sorted_x[i]\n",
    "        if serie not in series_vues :\n",
    "            ideal_reco.append(serie)\n",
    "        i += 1\n",
    "        \n",
    "    return ideal_reco"
   ]
  },
  {
   "cell_type": "code",
   "execution_count": 23,
   "metadata": {},
   "outputs": [],
   "source": [
    "def ndcg(reco, user, d_pert_user, d_user) :\n",
    "    \"\"\"\n",
    "    reco : liste de titres de series, dans l'ordre de la recommandation\n",
    "    user : utilisateur pour qui on fait la recommandation\n",
    "    d_pert_user : dictionnaire des pertinences par utilisateurs\n",
    "    \"\"\"\n",
    "    DCG = dcg(reco, user, d_pert_user)\n",
    "    k = len(reco)\n",
    "    d_pert = d_pert_user[user]\n",
    "    sorted_x = sorted(d_pert.items(), key=lambda kv: kv[1])\n",
    "    sorted_x.reverse()\n",
    "    sorted_dict = OrderedDict(sorted_x)\n",
    "    ideal_r = ideal_reco(user, k, d_pert_user, d_user)\n",
    "    \n",
    "    IDCG = dcg(ideal_r, user, d_pert_user,)\n",
    "    \n",
    "    return DCG/IDCG"
   ]
  },
  {
   "cell_type": "code",
   "execution_count": 9,
   "metadata": {},
   "outputs": [
    {
     "data": {
      "text/plain": [
       "{'american-horror-story': 2.0,\n",
       " 'angel': 9.0,\n",
       " 'baby-daddy': 5.0,\n",
       " 'black-mirror': 8.0,\n",
       " 'doctor-foster': 8.0,\n",
       " 'dollhouse': 5.0,\n",
       " 'episodes': 7.0,\n",
       " 'misfits': 8.0,\n",
       " 'outlander': 5.0,\n",
       " 'outnumbered': 8.0,\n",
       " 'pretty-little-liars': 3.0,\n",
       " 'the-big-bang-theory': 2.0,\n",
       " 'the-vampire-diaries': 3.0,\n",
       " 'two-pints-of-lager-and-a-packet-of-crisps': 8.0}"
      ]
     },
     "execution_count": 9,
     "metadata": {},
     "output_type": "execute_result"
    }
   ],
   "source": [
    "user = 'shannen-l-c'\n",
    "d_user[user]"
   ]
  },
  {
   "cell_type": "code",
   "execution_count": 12,
   "metadata": {},
   "outputs": [],
   "source": [
    "reco = ['doctor-who', 'heroes']"
   ]
  },
  {
   "cell_type": "code",
   "execution_count": 13,
   "metadata": {},
   "outputs": [
    {
     "data": {
      "text/plain": [
       "0.055641958275847656"
      ]
     },
     "execution_count": 13,
     "metadata": {},
     "output_type": "execute_result"
    }
   ],
   "source": [
    "dcg(reco, user, d_pert_user)"
   ]
  },
  {
   "cell_type": "code",
   "execution_count": 24,
   "metadata": {},
   "outputs": [
    {
     "data": {
      "text/plain": [
       "0.0026907742524959503"
      ]
     },
     "execution_count": 24,
     "metadata": {},
     "output_type": "execute_result"
    }
   ],
   "source": [
    "ndcg(reco, user, d_pert_user, d_user)"
   ]
  },
  {
   "cell_type": "markdown",
   "metadata": {},
   "source": [
    "Les scores ne sont pas très élevés avec cet exemple..."
   ]
  }
 ],
 "metadata": {
  "kernelspec": {
   "display_name": "Python 3",
   "language": "python",
   "name": "python3"
  },
  "language_info": {
   "codemirror_mode": {
    "name": "ipython",
    "version": 3
   },
   "file_extension": ".py",
   "mimetype": "text/x-python",
   "name": "python",
   "nbconvert_exporter": "python",
   "pygments_lexer": "ipython3",
   "version": "3.6.4"
  }
 },
 "nbformat": 4,
 "nbformat_minor": 2
}
