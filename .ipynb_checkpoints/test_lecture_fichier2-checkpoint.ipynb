{
 "cells": [
  {
   "cell_type": "code",
   "execution_count": 21,
   "metadata": {},
   "outputs": [],
   "source": [
    "from sklearn.feature_extraction.text import CountVectorizer\n",
    "from nltk.corpus import stopwords\n",
    "import numpy as np\n",
    "import matplotlib.pyplot as plt\n",
    "import pandas as pd"
   ]
  },
  {
   "cell_type": "code",
   "execution_count": 91,
   "metadata": {},
   "outputs": [],
   "source": [
    "#entree = \"/Vrac/PLDAC_addic7ed/addic7ed/175___Avatar__The_Last_Airbender/01/00__Pilot.txt\" \n",
    "entree = \"/Vrac/PLDAC_addic7ed/addic7ed/1___Lost/01/01__Pilot_(1).txt\" \n",
    "fichier = open(entree, \"r\", encoding = \"ISO-8859-1\")\n",
    "lignes = fichier.readlines()\n",
    "fichier.close()\n",
    "texte = \"\"\n",
    "for ligne in lignes :\n",
    "    if ligne[0] not in \"0123456789\":\n",
    "        texte += ligne\n",
    "\n",
    "#print(texte)"
   ]
  },
  {
   "cell_type": "code",
   "execution_count": 92,
   "metadata": {
    "scrolled": true
   },
   "outputs": [
    {
     "name": "stdout",
     "output_type": "stream",
     "text": [
      "505\n"
     ]
    }
   ],
   "source": [
    "# taille du vocabulaire (sans stopwords)\n",
    "corpus = [texte]\n",
    "vectorizer = CountVectorizer()\n",
    "X = vectorizer.fit_transform(corpus)\n",
    "dico1 = vectorizer.get_feature_names()\n",
    "#print(dico1)\n",
    "#print(X.toarray())\n",
    "print(len(dico1))"
   ]
  },
  {
   "cell_type": "code",
   "execution_count": 10,
   "metadata": {},
   "outputs": [
    {
     "name": "stderr",
     "output_type": "stream",
     "text": [
      "[nltk_data] Downloading package stopwords to\n",
      "[nltk_data]     /users/Etu6/3520166/nltk_data...\n",
      "[nltk_data]   Unzipping corpora/stopwords.zip.\n"
     ]
    },
    {
     "data": {
      "text/plain": [
       "True"
      ]
     },
     "execution_count": 10,
     "metadata": {},
     "output_type": "execute_result"
    }
   ],
   "source": [
    "import nltk\n",
    "nltk.download('stopwords')"
   ]
  },
  {
   "cell_type": "code",
   "execution_count": 5,
   "metadata": {},
   "outputs": [],
   "source": [
    "#import nltk\n",
    "#nltk.download('punkt')"
   ]
  },
  {
   "cell_type": "code",
   "execution_count": 104,
   "metadata": {},
   "outputs": [],
   "source": [
    "corpus = [texte]\n",
    "\n",
    "entree = \"stopwords4.txt\"\n",
    "fichier = open(entree, \"r\")\n",
    "lignes = fichier.readlines()\n",
    "fichier.close()\n",
    "sw = []\n",
    "for ligne in lignes :\n",
    "    sw.append(ligne[:-1])\n",
    "        "
   ]
  },
  {
   "cell_type": "code",
   "execution_count": 105,
   "metadata": {},
   "outputs": [],
   "source": [
    "vectorizer = CountVectorizer(stop_words = sw)\n",
    "X = vectorizer.fit_transform(corpus)\n",
    "dico2 = vectorizer.get_feature_names()\n",
    "nb_occ = X.toarray()[0]\n",
    "\n",
    "#print(dico2)\n",
    "#print(X.toarray())\n",
    "#print(len(dico2))"
   ]
  },
  {
   "cell_type": "markdown",
   "metadata": {},
   "source": [
    "En filtrant les mots en utilisant l'ensemble *stopwords.words('english')*, on passe de 505 à 408 mots dans le dictionnaire."
   ]
  },
  {
   "cell_type": "markdown",
   "metadata": {},
   "source": [
    "Le mot le plus présent dans le premier épisode de Lost est *\"help\"*."
   ]
  },
  {
   "cell_type": "markdown",
   "metadata": {},
   "source": [
    "#### Les n mots les plus présents dans le premier épisode de Lost"
   ]
  },
  {
   "cell_type": "code",
   "execution_count": 106,
   "metadata": {},
   "outputs": [
    {
     "data": {
      "text/html": [
       "<div>\n",
       "<style scoped>\n",
       "    .dataframe tbody tr th:only-of-type {\n",
       "        vertical-align: middle;\n",
       "    }\n",
       "\n",
       "    .dataframe tbody tr th {\n",
       "        vertical-align: top;\n",
       "    }\n",
       "\n",
       "    .dataframe thead th {\n",
       "        text-align: right;\n",
       "    }\n",
       "</style>\n",
       "<table border=\"1\" class=\"dataframe\">\n",
       "  <thead>\n",
       "    <tr style=\"text-align: right;\">\n",
       "      <th></th>\n",
       "      <th>Word</th>\n",
       "      <th>Nb_occ</th>\n",
       "    </tr>\n",
       "  </thead>\n",
       "  <tbody>\n",
       "    <tr>\n",
       "      <th>0</th>\n",
       "      <td>help</td>\n",
       "      <td>21</td>\n",
       "    </tr>\n",
       "    <tr>\n",
       "      <th>1</th>\n",
       "      <td>transceiver</td>\n",
       "      <td>8</td>\n",
       "    </tr>\n",
       "    <tr>\n",
       "      <th>2</th>\n",
       "      <td>charlie</td>\n",
       "      <td>7</td>\n",
       "    </tr>\n",
       "    <tr>\n",
       "      <th>3</th>\n",
       "      <td>jack</td>\n",
       "      <td>7</td>\n",
       "    </tr>\n",
       "    <tr>\n",
       "      <th>4</th>\n",
       "      <td>gonna</td>\n",
       "      <td>7</td>\n",
       "    </tr>\n",
       "    <tr>\n",
       "      <th>5</th>\n",
       "      <td>heard</td>\n",
       "      <td>6</td>\n",
       "    </tr>\n",
       "    <tr>\n",
       "      <th>6</th>\n",
       "      <td>shaft</td>\n",
       "      <td>5</td>\n",
       "    </tr>\n",
       "    <tr>\n",
       "      <th>7</th>\n",
       "      <td>drive</td>\n",
       "      <td>5</td>\n",
       "    </tr>\n",
       "    <tr>\n",
       "      <th>8</th>\n",
       "      <td>rescue</td>\n",
       "      <td>5</td>\n",
       "    </tr>\n",
       "    <tr>\n",
       "      <th>9</th>\n",
       "      <td>look</td>\n",
       "      <td>5</td>\n",
       "    </tr>\n",
       "    <tr>\n",
       "      <th>10</th>\n",
       "      <td>name</td>\n",
       "      <td>4</td>\n",
       "    </tr>\n",
       "    <tr>\n",
       "      <th>11</th>\n",
       "      <td>move</td>\n",
       "      <td>4</td>\n",
       "    </tr>\n",
       "    <tr>\n",
       "      <th>12</th>\n",
       "      <td>please</td>\n",
       "      <td>4</td>\n",
       "    </tr>\n",
       "    <tr>\n",
       "      <th>13</th>\n",
       "      <td>kate</td>\n",
       "      <td>4</td>\n",
       "    </tr>\n",
       "    <tr>\n",
       "      <th>14</th>\n",
       "      <td>fine</td>\n",
       "      <td>4</td>\n",
       "    </tr>\n",
       "    <tr>\n",
       "      <th>15</th>\n",
       "      <td>pen</td>\n",
       "      <td>4</td>\n",
       "    </tr>\n",
       "    <tr>\n",
       "      <th>16</th>\n",
       "      <td>stay</td>\n",
       "      <td>4</td>\n",
       "    </tr>\n",
       "    <tr>\n",
       "      <th>17</th>\n",
       "      <td>excuse</td>\n",
       "      <td>4</td>\n",
       "    </tr>\n",
       "    <tr>\n",
       "      <th>18</th>\n",
       "      <td>cockpit</td>\n",
       "      <td>3</td>\n",
       "    </tr>\n",
       "    <tr>\n",
       "      <th>19</th>\n",
       "      <td>signal</td>\n",
       "      <td>3</td>\n",
       "    </tr>\n",
       "  </tbody>\n",
       "</table>\n",
       "</div>"
      ],
      "text/plain": [
       "           Word  Nb_occ\n",
       "0          help      21\n",
       "1   transceiver       8\n",
       "2       charlie       7\n",
       "3          jack       7\n",
       "4         gonna       7\n",
       "5         heard       6\n",
       "6         shaft       5\n",
       "7         drive       5\n",
       "8        rescue       5\n",
       "9          look       5\n",
       "10         name       4\n",
       "11         move       4\n",
       "12       please       4\n",
       "13         kate       4\n",
       "14         fine       4\n",
       "15          pen       4\n",
       "16         stay       4\n",
       "17       excuse       4\n",
       "18      cockpit       3\n",
       "19       signal       3"
      ]
     },
     "execution_count": 106,
     "metadata": {},
     "output_type": "execute_result"
    },
    {
     "data": {
      "image/png": "[encoded data removed]",
      "text/plain": [
       "<Figure size 432x288 with 1 Axes>"
      ]
     },
     "metadata": {},
     "output_type": "display_data"
    }
   ],
   "source": [
    "n = 20\n",
    "ind = np.argpartition(nb_occ, -n)[-n:]\n",
    "ind = ind[np.argsort(-nb_occ[ind])]\n",
    "words = [dico2[i] for i in ind]\n",
    "\n",
    "words_count = []\n",
    "i = 0\n",
    "for i in range(len(words)):\n",
    "    words_count.append(nb_occ[ind[i]])\n",
    "    \n",
    "df = pd.DataFrame(np.column_stack([words, words_count]), columns=['Word', 'Nb_occ'])\n",
    "df.Nb_occ=pd.to_numeric(df.Nb_occ)\n",
    "\n",
    "titre = \"les \"+str(n)+\" mots les plus presents dans le premier episode de Lost\"\n",
    "hist = df.plot(kind='bar', x='Word', y='Nb_occ', color='mediumvioletred', title =titre).get_figure()\n",
    "path_fig = \"img/\"+titre+'.png'\n",
    "hist.savefig(path_fig,  bbox_inches=\"tight\")\n",
    "df"
   ]
  }
 ],
 "metadata": {
  "kernelspec": {
   "display_name": "Python 3",
   "language": "python",
   "name": "python3"
  },
  "language_info": {
   "codemirror_mode": {
    "name": "ipython",
    "version": 3
   },
   "file_extension": ".py",
   "mimetype": "text/x-python",
   "name": "python",
   "nbconvert_exporter": "python",
   "pygments_lexer": "ipython3",
   "version": "3.6.4"
  }
 },
 "nbformat": 4,
 "nbformat_minor": 2
}
