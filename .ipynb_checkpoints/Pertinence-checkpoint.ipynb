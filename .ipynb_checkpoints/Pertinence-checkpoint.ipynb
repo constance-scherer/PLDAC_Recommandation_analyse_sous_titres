{
 "cells": [
  {
   "cell_type": "markdown",
   "metadata": {},
   "source": [
    "# Pertinence"
   ]
  },
  {
   "cell_type": "markdown",
   "metadata": {},
   "source": [
    "Pour pouvoir évaluer nos recommandations, nous voulons utiliser la nDCG. Pour ce faire, nous avons besoin d'un jugement de pertinence.  \n",
    "Nous allons donc créer une matrice de pertinence pour avoir le pourcentage de pertinence de chaque série par rapport à toutes les autres.  \n",
    "Ex :  \n",
    "Parmi tous les utilisateurs qui ont aimé la série I1, on compte ceux qui ont aussi aimé I2 et on divise par le nombre d'utilisateurs qui ont vu I1. Ça nous donne le pourcentage d'utilisateurs ayant aimé I1 qui ont aussi aimé I2.  \n",
    "Plus le pourcentage est élevé, plus la recommandation est bonne.  \n",
    "On considère qu'un utilisateur aime une série s'il lui a mis au moins 7.\n"
   ]
  },
  {
   "cell_type": "code",
   "execution_count": 44,
   "metadata": {},
   "outputs": [],
   "source": [
    "import os\n",
    "import re\n",
    "import pandas as pd\n",
    "from sklearn.decomposition import NMF\n",
    "from scipy.sparse import dok_matrix\n",
    "import numpy as np\n",
    "import pandas as pd\n",
    "from scipy.spatial.distance import sqeuclidean, cosine\n",
    "import pickle\n",
    "from collections import OrderedDict\n",
    "import matplotlib.pyplot as plt"
   ]
  },
  {
   "cell_type": "code",
   "execution_count": 18,
   "metadata": {},
   "outputs": [],
   "source": [
    "#path_series_ratings = \"/Users/constancescherer/Desktop/ratings/ratings_imdb/series\"\n",
    "path_series_ratings = \"/Vrac/PLDAC_addic7ed/ratings/ratings_imdb/series\"\n",
    "d_series = dict() #{serie : {username: note, username : note}}\n",
    "\n",
    "for serie in sorted(os.listdir(path_series_ratings)):\n",
    "    if serie[0] == '.' :\n",
    "        continue\n",
    "    seriename = re.sub(\".txt\", \"\", serie)\n",
    "    dico = dict()\n",
    "    with open(path_series_ratings+\"/\"+serie) as file: \n",
    "        lignes = file.readlines()\n",
    "    for ligne in lignes :\n",
    "        l = ligne.split(\" \")\n",
    "        username = l[0]\n",
    "        rating = l[-1]\n",
    "        #username, rating = ligne.split(\" \")\n",
    "        rating = rating.rstrip(\"\\n\")\n",
    "        rating = float(rating)\n",
    "        dico[username] = rating\n",
    "        if len(dico) > 1 :\n",
    "            d_series[seriename] = dico"
   ]
  },
  {
   "cell_type": "code",
   "execution_count": 25,
   "metadata": {},
   "outputs": [],
   "source": [
    "def intersection(lst1, lst2): \n",
    "    lst3 = [value for value in lst1 if value in lst2] \n",
    "    return lst3 "
   ]
  },
  {
   "cell_type": "code",
   "execution_count": 17,
   "metadata": {},
   "outputs": [],
   "source": [
    "user_got = [k for k, v in d_series['game-of-thrones'].items() if v > 7]"
   ]
  },
  {
   "cell_type": "code",
   "execution_count": 18,
   "metadata": {},
   "outputs": [],
   "source": [
    "user_bb = [k for k, v in d_series['breaking-bad'].items() if v > 7]"
   ]
  },
  {
   "cell_type": "code",
   "execution_count": 28,
   "metadata": {},
   "outputs": [],
   "source": [
    "l = intersection(user_bb, user_got)"
   ]
  },
  {
   "cell_type": "code",
   "execution_count": 29,
   "metadata": {},
   "outputs": [
    {
     "data": {
      "text/plain": [
       "27"
      ]
     },
     "execution_count": 29,
     "metadata": {},
     "output_type": "execute_result"
    }
   ],
   "source": [
    "len(l)"
   ]
  },
  {
   "cell_type": "code",
   "execution_count": 34,
   "metadata": {},
   "outputs": [],
   "source": [
    "d_pert = dict()\n",
    "for serie1 in d_series.keys() :\n",
    "    users1 = [k for k, v in d_series[serie1].items() if v > 7]\n",
    "    d_pert[serie1] = dict()\n",
    "    for serie2 in d_series.keys() :\n",
    "        users2 = [k for k, v in d_series[serie2].items() if v > 7]\n",
    "        inter = intersection(users1, users2)\n",
    "        if len(users1) == 0 :\n",
    "            d_pert[serie1][serie2] = 0\n",
    "        else :\n",
    "            d_pert[serie1][serie2] = len(inter)/len(users1)"
   ]
  },
  {
   "cell_type": "code",
   "execution_count": 38,
   "metadata": {},
   "outputs": [],
   "source": [
    "pickle.dump(d_pert, open('d_pert.p', 'wb'))"
   ]
  },
  {
   "cell_type": "code",
   "execution_count": 46,
   "metadata": {},
   "outputs": [],
   "source": [
    "pertinence = np.ones((len(d_series), len(d_series)))\n",
    "i = 0\n",
    "for serie1, dic in d_pert.items():\n",
    "    j = 0\n",
    "    for serie2, p in dic.items() :\n",
    "        pertinence[i][j] = p\n",
    "        j += 1\n",
    "    i += 1"
   ]
  },
  {
   "cell_type": "code",
   "execution_count": 48,
   "metadata": {},
   "outputs": [],
   "source": []
  },
  {
   "cell_type": "code",
   "execution_count": 71,
   "metadata": {},
   "outputs": [
    {
     "data": {
      "image/png": "[encoded data removed]",
      "text/plain": [
       "<Figure size 432x288 with 1 Axes>"
      ]
     },
     "metadata": {},
     "output_type": "display_data"
    }
   ],
   "source": [
    "plt.imshow(pertinence, cmap='magma')\n",
    "plt.savefig('pertinence.pdf')"
   ]
  },
  {
   "cell_type": "markdown",
   "metadata": {},
   "source": [
    "Diagonale de 1 (serie1 avec serie1), quelques trous pour les séries que personne n'a noté au dessus de 7.  \n",
    "Beaaaaaaaaaaaaaaaaucoup de 0, mais quelques valeurs au dessus."
   ]
  },
  {
   "cell_type": "code",
   "execution_count": 3,
   "metadata": {},
   "outputs": [],
   "source": [
    "d_max = dict()\n",
    "for serie1, dic in d_pert.items() :\n",
    "    maxi = -1\n",
    "    for serie2, p in dic.items() :\n",
    "        if p > maxi and serie1 != serie2:\n",
    "            maxi = p\n",
    "            d_max[serie1] = serie2"
   ]
  },
  {
   "cell_type": "code",
   "execution_count": 5,
   "metadata": {},
   "outputs": [],
   "source": [
    "pickle.dump( d_max, open( \"/Vrac/PLDAC_addic7ed/pickles/d_max.p\", \"wb\" ))"
   ]
  },
  {
   "cell_type": "code",
   "execution_count": 80,
   "metadata": {},
   "outputs": [
    {
     "data": {
      "text/plain": [
       "'the-walking-dead'"
      ]
     },
     "execution_count": 80,
     "metadata": {},
     "output_type": "execute_result"
    }
   ],
   "source": [
    "d_max['game-of-thrones']"
   ]
  },
  {
   "cell_type": "code",
   "execution_count": 153,
   "metadata": {},
   "outputs": [
    {
     "data": {
      "text/plain": [
       "'atlantis'"
      ]
     },
     "execution_count": 153,
     "metadata": {},
     "output_type": "execute_result"
    }
   ],
   "source": [
    "d_max['stargate-sg-1']"
   ]
  },
  {
   "cell_type": "markdown",
   "metadata": {},
   "source": [
    "Après avoir été testé sur 2 volontaires sur quelques dizaines de séries, ce jugement de pertinence semble plutôt bon."
   ]
  },
  {
   "cell_type": "markdown",
   "metadata": {},
   "source": [
    "## Pertinence utilisateur"
   ]
  },
  {
   "cell_type": "markdown",
   "metadata": {},
   "source": [
    "On voudrait maintenant avoir à notre disposition une pertinence par utilisateur, ie savoir si une série est une bonne recommandation pour un utilisateur et plus pour une autre série.  \n",
    "Pour ce faire, on regarde les k séries les mieux notées par un utilisateur et on fait la moyenne des pertinences pour avoir un vecteur qui approxime au mieux les gouts d'un utilisateur."
   ]
  },
  {
   "cell_type": "code",
   "execution_count": 9,
   "metadata": {},
   "outputs": [],
   "source": [
    "path_d_user = \"/Vrac/PLDAC_addic7ed/pickles/d_user.p\"\n",
    "with open(path_d_user, 'rb') as pickle_file:\n",
    "    d_user = pickle.load(pickle_file)\n",
    "path_d_pert = \"/Vrac/PLDAC_addic7ed/pickles/d_pert.p\"\n",
    "with open(path_d_pert, 'rb') as pickle_file:\n",
    "    d_pert = pickle.load(pickle_file)"
   ]
  },
  {
   "cell_type": "code",
   "execution_count": 41,
   "metadata": {},
   "outputs": [],
   "source": [
    "k = 3"
   ]
  },
  {
   "cell_type": "code",
   "execution_count": 35,
   "metadata": {},
   "outputs": [],
   "source": [
    "d_res = dict()\n",
    "for user, d_notes in d_user.items() :\n",
    "    sorted_x = sorted(d_notes.items(), key=lambda kv: kv[1])\n",
    "    sorted_x.reverse()\n",
    "    sorted_dict = OrderedDict(sorted_x)\n",
    "    l_series_preferees = list(sorted_dict.keys())[:k]\n",
    "    \n",
    "    moy = [] # liste de dictionnaires\n",
    "    for serie in l_series_preferees :\n",
    "        if serie not in d_pert.keys() :\n",
    "            continue\n",
    "        moy.append(d_pert[serie])\n",
    "\n",
    "    d_res[user] = dict.fromkeys(d_series.keys(), 0)\n",
    "    for i in range(0, len(moy)) :\n",
    "        d = moy[i]\n",
    "        for s, p in d.items() :\n",
    "            d_res[user][s] += p\n",
    "            \n",
    "    for s, n in d_res[user].items() :\n",
    "        d_res[user][s] = n/k\n",
    "    "
   ]
  },
  {
   "cell_type": "code",
   "execution_count": 40,
   "metadata": {},
   "outputs": [],
   "source": [
    "d_pert_user = d_res\n",
    "pickle.dump( d_pert_user, open( \"/Vrac/PLDAC_addic7ed/pickles/d_pert_user_k3.p\", \"wb\" ))"
   ]
  },
  {
   "cell_type": "code",
   "execution_count": 49,
   "metadata": {},
   "outputs": [],
   "source": [
    "pertinence_users = np.ones((len(d_user), len(d_series)))"
   ]
  },
  {
   "cell_type": "code",
   "execution_count": 50,
   "metadata": {},
   "outputs": [],
   "source": [
    "i = 0\n",
    "for user, d_pert_u in d_pert_user.items() :\n",
    "    j = 0\n",
    "    for serie, p in d_pert_u.items() :\n",
    "        pertinence_users[i][j] = p\n",
    "        j += 1\n",
    "    i += 1"
   ]
  },
  {
   "cell_type": "code",
   "execution_count": 51,
   "metadata": {},
   "outputs": [
    {
     "data": {
      "image/png": "[encoded data removed]",
      "text/plain": [
       "<Figure size 432x288 with 1 Axes>"
      ]
     },
     "metadata": {},
     "output_type": "display_data"
    }
   ],
   "source": [
    "plt.imshow(pertinence_users, cmap='magma')\n",
    "plt.savefig('pertinence_user.pdf')"
   ]
  },
  {
   "cell_type": "code",
   "execution_count": 54,
   "metadata": {},
   "outputs": [
    {
     "data": {
      "text/plain": [
       "1685288"
      ]
     },
     "execution_count": 54,
     "metadata": {},
     "output_type": "execute_result"
    }
   ],
   "source": [
    "cpt = 0\n",
    "for i in range(0, len(pertinence_users)) :\n",
    "    for j in range(0, len(pertinence_users[i])) :\n",
    "        if pertinence_users[i][j] != 0:\n",
    "            cpt += 1\n",
    "            \n",
    "cpt"
   ]
  },
  {
   "cell_type": "code",
   "execution_count": 55,
   "metadata": {},
   "outputs": [
    {
     "data": {
      "text/plain": [
       "7249320"
      ]
     },
     "execution_count": 55,
     "metadata": {},
     "output_type": "execute_result"
    }
   ],
   "source": [
    "3098*2340"
   ]
  },
  {
   "cell_type": "code",
   "execution_count": 1,
   "metadata": {},
   "outputs": [
    {
     "data": {
      "text/plain": [
       "0.23247532182328826"
      ]
     },
     "execution_count": 1,
     "metadata": {},
     "output_type": "execute_result"
    }
   ],
   "source": [
    "(1685288)/7249320"
   ]
  },
  {
   "cell_type": "markdown",
   "metadata": {},
   "source": [
    "Seulement 23% des pairings user-serie ne sont pas nuls (= sont pertinents, les 0 nous donnent une information de non-pertinence)."
   ]
  },
  {
   "cell_type": "code",
   "execution_count": null,
   "metadata": {},
   "outputs": [],
   "source": []
  }
 ],
 "metadata": {
  "kernelspec": {
   "display_name": "Python 3",
   "language": "python",
   "name": "python3"
  },
  "language_info": {
   "codemirror_mode": {
    "name": "ipython",
    "version": 3
   },
   "file_extension": ".py",
   "mimetype": "text/x-python",
   "name": "python",
   "nbconvert_exporter": "python",
   "pygments_lexer": "ipython3",
   "version": "3.6.4"
  }
 },
 "nbformat": 4,
 "nbformat_minor": 2
}
