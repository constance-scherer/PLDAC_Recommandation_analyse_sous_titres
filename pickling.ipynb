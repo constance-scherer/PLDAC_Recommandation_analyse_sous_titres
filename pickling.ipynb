{
 "cells": [
  {
   "cell_type": "code",
   "execution_count": 1,
   "metadata": {},
   "outputs": [],
   "source": [
    "from utils.preprocessing import *\n",
    "from utils.swSets import *\n",
    "import matplotlib.pyplot as plt\n",
    "import pickle"
   ]
  },
  {
   "cell_type": "markdown",
   "metadata": {},
   "source": [
    "## <font color=\"rebeccapurple\"> Corpus"
   ]
  },
  {
   "cell_type": "code",
   "execution_count": 5,
   "metadata": {},
   "outputs": [],
   "source": [
    "#path = \"/Vrac/PLDAC_reco/shows\""
   ]
  },
  {
   "cell_type": "code",
   "execution_count": 6,
   "metadata": {},
   "outputs": [],
   "source": [
    "#corpus = corpus_shows(path)"
   ]
  },
  {
   "cell_type": "code",
   "execution_count": 9,
   "metadata": {},
   "outputs": [],
   "source": [
    "#pickle.dump(corpus, open(\"/Vrac/PLDAC_reco/pickles/corpus.p\", \"wb\"))"
   ]
  },
  {
   "cell_type": "code",
   "execution_count": 2,
   "metadata": {},
   "outputs": [],
   "source": [
    "corpus = pickle.load(open(\"/Vrac/PLDAC_reco/pickles/corpus.p\", \"rb\"))"
   ]
  },
  {
   "cell_type": "markdown",
   "metadata": {},
   "source": [
    "## <font color=\"rebeccapurple\"> Taille du vocabulaire"
   ]
  },
  {
   "cell_type": "code",
   "execution_count": 7,
   "metadata": {},
   "outputs": [
    {
     "name": "stdout",
     "output_type": "stream",
     "text": [
      "taille vocabulaire :  561922\n"
     ]
    }
   ],
   "source": [
    "mat = getTfidfSparseMat(corpus, my_stopwords=stopwords_set)"
   ]
  },
  {
   "cell_type": "markdown",
   "metadata": {},
   "source": [
    "La taille du vocabulaire sans autre traitement que les stopwords est de 561922"
   ]
  },
  {
   "cell_type": "code",
   "execution_count": 11,
   "metadata": {},
   "outputs": [],
   "source": [
    "pickle.dump(mat, open(\"/Vrac/PLDAC_reco/pickles/mat.p\", \"wb\"))"
   ]
  },
  {
   "cell_type": "markdown",
   "metadata": {},
   "source": [
    "## <font color=\"rebeccapurple\"> test differents paramètres"
   ]
  },
  {
   "cell_type": "markdown",
   "metadata": {},
   "source": [
    "### <font color=\"darkviolet\"> max_features=50000, min_df=20, max_df=0.4"
   ]
  },
  {
   "cell_type": "code",
   "execution_count": 12,
   "metadata": {},
   "outputs": [
    {
     "name": "stdout",
     "output_type": "stream",
     "text": [
      "taille vocabulaire :  50000\n"
     ]
    }
   ],
   "source": [
    "mat = getTfidfSparseMat(corpus, my_stopwords=stopwords_set,max_features=50000, min_df=20, max_df=0.4)"
   ]
  },
  {
   "cell_type": "code",
   "execution_count": 13,
   "metadata": {},
   "outputs": [],
   "source": [
    "pickle.dump(mat, open(\"/Vrac/PLDAC_reco/pickles/mat_voc_50000_mindf_20_max_df_0.4.p\", \"wb\"))"
   ]
  },
  {
   "cell_type": "markdown",
   "metadata": {},
   "source": [
    "### <font color=\"darkviolet\">min_df=20, max_df=0.4"
   ]
  },
  {
   "cell_type": "code",
   "execution_count": 16,
   "metadata": {},
   "outputs": [
    {
     "name": "stdout",
     "output_type": "stream",
     "text": [
      "taille vocabulaire :  53540\n"
     ]
    }
   ],
   "source": [
    "mat = getTfidfSparseMat(corpus, my_stopwords=stopwords_set, min_df=20, max_df=0.4)"
   ]
  },
  {
   "cell_type": "code",
   "execution_count": 17,
   "metadata": {},
   "outputs": [],
   "source": [
    "pickle.dump(mat, open(\"/Vrac/PLDAC_reco/pickles/mat_voc_53540_mindf_20_max_df_0.4.p\", \"wb\"))"
   ]
  },
  {
   "cell_type": "markdown",
   "metadata": {},
   "source": [
    "**remarque**: utiliser un min_df de 20 et un max df de 0.4 permettent déjà de réduire le vocabulaire de façon conséquente :  561922 --->  53540"
   ]
  },
  {
   "cell_type": "markdown",
   "metadata": {},
   "source": [
    "### <font color=\"darkviolet\"> max_features=25000, min_df=20, max_df=0.4"
   ]
  },
  {
   "cell_type": "code",
   "execution_count": 18,
   "metadata": {},
   "outputs": [
    {
     "name": "stdout",
     "output_type": "stream",
     "text": [
      "taille vocabulaire :  25000\n"
     ]
    }
   ],
   "source": [
    "mat = getTfidfSparseMat(corpus, my_stopwords=stopwords_set, max_features=25000, min_df=20, max_df=0.4)"
   ]
  },
  {
   "cell_type": "code",
   "execution_count": 19,
   "metadata": {},
   "outputs": [],
   "source": [
    "pickle.dump(mat, open(\"/Vrac/PLDAC_reco/pickles/mat_voc_25000_mindf_20_max_df_0.4.p\", \"wb\"))"
   ]
  },
  {
   "cell_type": "markdown",
   "metadata": {},
   "source": [
    "### <font color=\"darkviolet\">min_df=3, max_df=0.4"
   ]
  },
  {
   "cell_type": "code",
   "execution_count": 3,
   "metadata": {},
   "outputs": [
    {
     "name": "stdout",
     "output_type": "stream",
     "text": [
      "taille vocabulaire :  141418\n"
     ]
    }
   ],
   "source": [
    "mat = getTfidfSparseMat(corpus, my_stopwords=stopwords_set, min_df=3, max_df=0.4)"
   ]
  },
  {
   "cell_type": "code",
   "execution_count": 4,
   "metadata": {},
   "outputs": [],
   "source": [
    "pickle.dump(mat, open(\"/Vrac/PLDAC_reco/pickles/mat_voc_141418_mindf_3_max_df_0.4.p\", \"wb\"))"
   ]
  },
  {
   "cell_type": "markdown",
   "metadata": {},
   "source": [
    "### <font color=\"darkviolet\">max_features = 50000, min_df=3, max_df=0.4"
   ]
  },
  {
   "cell_type": "code",
   "execution_count": 5,
   "metadata": {},
   "outputs": [
    {
     "name": "stdout",
     "output_type": "stream",
     "text": [
      "taille vocabulaire :  50000\n"
     ]
    }
   ],
   "source": [
    "mat = getTfidfSparseMat(corpus, my_stopwords=stopwords_set, max_features=50000, min_df=3, max_df=0.4)"
   ]
  },
  {
   "cell_type": "code",
   "execution_count": 6,
   "metadata": {},
   "outputs": [],
   "source": [
    "pickle.dump(mat, open(\"/Vrac/PLDAC_reco/pickles/mat_voc_50000_mindf_3_max_df_0.4.p\", \"wb\"))"
   ]
  },
  {
   "cell_type": "markdown",
   "metadata": {},
   "source": [
    "### <font color=\"darkviolet\">max_features = 50000, min_df=10, max_df=0.4"
   ]
  },
  {
   "cell_type": "code",
   "execution_count": 7,
   "metadata": {},
   "outputs": [
    {
     "name": "stdout",
     "output_type": "stream",
     "text": [
      "taille vocabulaire :  50000\n"
     ]
    }
   ],
   "source": [
    "mat = getTfidfSparseMat(corpus, my_stopwords=stopwords_set, max_features=50000, min_df=10, max_df=0.4)"
   ]
  },
  {
   "cell_type": "code",
   "execution_count": 8,
   "metadata": {},
   "outputs": [],
   "source": [
    "pickle.dump(mat, open(\"/Vrac/PLDAC_reco/pickles/mat_voc_50000_mindf_10_max_df_0.4.p\", \"wb\"))"
   ]
  },
  {
   "cell_type": "markdown",
   "metadata": {},
   "source": [
    "### <font color=\"darkviolet\">max_features = 50000, min_df=15, max_df=0.4"
   ]
  },
  {
   "cell_type": "code",
   "execution_count": 9,
   "metadata": {},
   "outputs": [
    {
     "name": "stdout",
     "output_type": "stream",
     "text": [
      "taille vocabulaire :  50000\n"
     ]
    }
   ],
   "source": [
    "mat = getTfidfSparseMat(corpus, my_stopwords=stopwords_set, max_features=50000, min_df=15, max_df=0.4)"
   ]
  },
  {
   "cell_type": "code",
   "execution_count": 10,
   "metadata": {},
   "outputs": [],
   "source": [
    "pickle.dump(mat, open(\"/Vrac/PLDAC_reco/pickles/mat_voc_50000_mindf_15_max_df_0.4.p\", \"wb\"))"
   ]
  },
  {
   "cell_type": "markdown",
   "metadata": {},
   "source": [
    "### <font color=\"darkviolet\">max_features = 50000, min_df=5, max_df=0.4"
   ]
  },
  {
   "cell_type": "code",
   "execution_count": 11,
   "metadata": {},
   "outputs": [
    {
     "name": "stdout",
     "output_type": "stream",
     "text": [
      "taille vocabulaire :  50000\n"
     ]
    }
   ],
   "source": [
    "mat = getTfidfSparseMat(corpus, my_stopwords=stopwords_set, max_features=50000, min_df=5, max_df=0.4)"
   ]
  },
  {
   "cell_type": "code",
   "execution_count": 12,
   "metadata": {},
   "outputs": [],
   "source": [
    "pickle.dump(mat, open(\"/Vrac/PLDAC_reco/pickles/mat_voc_50000_mindf_5_max_df_0.4.p\", \"wb\"))"
   ]
  }
 ],
 "metadata": {
  "kernelspec": {
   "display_name": "Python 3",
   "language": "python",
   "name": "python3"
  },
  "language_info": {
   "codemirror_mode": {
    "name": "ipython",
    "version": 3
   },
   "file_extension": ".py",
   "mimetype": "text/x-python",
   "name": "python",
   "nbconvert_exporter": "python",
   "pygments_lexer": "ipython3",
   "version": "3.5.3"
  }
 },
 "nbformat": 4,
 "nbformat_minor": 2
}
