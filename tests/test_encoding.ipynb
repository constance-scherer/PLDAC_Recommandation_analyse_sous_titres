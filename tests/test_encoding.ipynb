{
 "cells": [
  {
   "cell_type": "markdown",
   "metadata": {},
   "source": [
    "# Détection de l'encoding"
   ]
  },
  {
   "cell_type": "code",
   "execution_count": 2,
   "metadata": {},
   "outputs": [],
   "source": [
    "from bs4 import UnicodeDammit\n",
    "import chardet"
   ]
  },
  {
   "cell_type": "code",
   "execution_count": 23,
   "metadata": {},
   "outputs": [
    {
     "data": {
      "text/plain": [
       "{'confidence': 1.0, 'encoding': 'UTF-8-SIG'}"
      ]
     },
     "execution_count": 23,
     "metadata": {},
     "output_type": "execute_result"
    }
   ],
   "source": [
    "path_serie1 = \"/Vrac/PLDAC_addic7ed/data/5122___Blood_(Korean_Drama)/01/02__Episode_2.txt\"\n",
    "rawdata = open(path_serie1, 'rb').read()\n",
    "result = chardet.detect(rawdata)\n",
    "charenc = result['encoding']\n",
    "result"
   ]
  },
  {
   "cell_type": "code",
   "execution_count": 28,
   "metadata": {},
   "outputs": [],
   "source": [
    "import os\n",
    "import re\n",
    "import nltk\n",
    "from textblob import TextBlob\n",
    "from nltk.stem import WordNetLemmatizer\n",
    "\n",
    "def verifier_ligne(ligne):\n",
    "    \"\"\"return True si la ligne est un sous-titre, False sinon\"\"\"\n",
    "    timestamp_regex = r'[0-9]{2}:[0-9]{2}:[0-9]{2}' \n",
    "    subnumber_regex =r'^[0-9]+$'\n",
    "    \n",
    "    liste_regex = [timestamp_regex, subnumber_regex]\n",
    "\n",
    "    l = ligne.lower()\n",
    "    if \"addic7ed\" in l:\n",
    "        return False\n",
    "    #if l.startswith(\"sync\"):\n",
    "        #return False\n",
    "    for regex in liste_regex:\n",
    "        if re.match(regex, ligne):\n",
    "            return False\n",
    "    return True\n",
    "\n",
    "def transformer_ligne(ligne):\n",
    "    \"\"\"str -> str\n",
    "    effectue transformation souhaitees sur la ligne\"\"\"\n",
    "    tag_regex = r'<(/)*[a-zA-Z]+>' #to get rif of tags\n",
    "    alphanum_regex = r'\\W+'  #get rid of non alphanumeric characters\n",
    "    new_line = re.sub(tag_regex, '', ligne)\n",
    "    new_line = re.sub(r'\\W+', ' ', new_line)\n",
    "    return new_line\n",
    "\n",
    "def scan_folder(parent_folder, corp):\n",
    "    \"\"\"retourne corpus des textes contenus dans parent_folder sous forme de liste de string\"\"\"\n",
    "    # iterate over all the files in directory 'parent_folder'\n",
    "\n",
    "    for file_name in sorted(os.listdir(parent_folder)):\n",
    "        if file_name.endswith(\".txt\"):\n",
    "            print(file_name)\n",
    "            path = parent_folder+\"/\"+file_name\n",
    "            rawdata = open(path, 'rb').read()\n",
    "            result = chardet.detect(rawdata)\n",
    "            charenc = result['encoding']\n",
    "            fichier = open(path, \"r\", encoding = charenc)\n",
    "            lignes = fichier.readlines()\n",
    "            fichier.close()\n",
    "            \n",
    "            texte = \"\"\n",
    "            for ligne in lignes :\n",
    "                #ligne = ligne.lower()\n",
    "                if verifier_ligne(ligne):\n",
    "                    new_line = transformer_ligne(ligne)\n",
    "                    texte += new_line\n",
    "            corp.append(texte)\n",
    "        \n",
    "        else:\n",
    "            current_path = \"\".join((parent_folder, \"/\", file_name))\n",
    "            if os.path.isdir(current_path):\n",
    "                # if we're checking a sub-directory, recall this method\n",
    "                scan_folder(current_path, corp)\n",
    "    \n",
    "    return corp\n",
    "\n",
    "\n",
    "#pour eviter les variables globales utiliser get_corpus qui appelle scan_folder\n",
    "def get_corpus(parent_folder):\n",
    "    \"\"\"retourne corpus des textes contenus dans parent_folder sous forme de liste de string\"\"\"\n",
    "    c = []\n",
    "    res = scan_folder(parent_folder, c)\n",
    "    return res"
   ]
  },
  {
   "cell_type": "code",
   "execution_count": 20,
   "metadata": {},
   "outputs": [
    {
     "data": {
      "text/plain": [
       "'Previously on Lost  Mayday Mayday  The French are coming I ve never been so happy to hear the French  Does anyone speak French  I m alone now  On the island alone  Please someone come  They re dead  It killed them  It killed them all  Guys where are we  I found the wire on the beach  I thought it might have something to do with the transmission we picked up   with a Frenchwoman repeating on a loop for 16 years  Has it really been that long  You  Your people  the ones you re determined to get back to  Watch them closely  I mean I was sleeping and I woke up  and he was trying to hurt my baby   We gotta find out who everyone is  Wanna start a census  I interviewed everyone at the beach Jack  One of them isn t in the manifest  He wasn t on the plane  We re not the only people on this island  and we all know it  They ve attacked us  Sabotaged us abducted us murdered us  Maybe it s time we started worrying about them  Danielle  What are you doing here  When I saw black smoke  That night they came  You have only three choices  Run  Hide  Or die  All I can tell you is we do have a plan  Go into the jungle get some dynamite blow open a hatch  and then you hide everyone inside  God knows how long that dynamite has been out there  So unless you want to blow up  I m coming with you   Good luck  Same to you   See you soon  Yes you will  Keep it straight  Go go  Bye Vincent   Come on go  Bye Vincent  Okay  Shhh  Claire Everybody s leaving  Well I can t go anywhere all right  I ve got the baby and I m I m so tired  I can t can t carry him  And now he s wet and there s sand everywhere   I don t have anymore nappies  Why don t you let me help  No look nobody ever taught me how to do this Okay   It s gonna be okay  Why do people keep telling me that  Are they the ones with the baby  We ve got to get there before sundown  Once you reach the caves stay there  The rest of us will be right behind you  Sayid  I need a gun  I know Jack gave em to you  I want one right now I have to protect Claire  Rousseau said the others won t be here till night  She s certifiable What if they show up before   Last time you had a sidearm  I killed a murderer I did us a favor  You re emotionally involved Let me handle the weapons  You re not here all the time You can t protect her I need a gun  If you want to help Claire get her packed carry her child to the caves  That s what she needs  How exactly does something like this happen  Are you on the same island as I am  I guess that explains it  Hold on wait Hold wait  What are we a couple miles inland  A tsunami probably swept it here Huh Right  Hey  Hey where are you going  The explosives are in the hold of the ship  Rousseau wait  I did what you asked You need dynamite  You don t need me  Let her go Jack  Who s gonna lead us back  I ll lead us back  Damn it  You heard her Explosives are in the hold Let s go  Hold on I came here to tell you how to handle dynamite  not explore a ghost ship You think  Just stay out here  Um  I m gonna stay out here and hang with Arnzt  Slaves  This ship must have been en route to a mining colony  Probably set off from the eastern coast of Africa  Mozambique  Jack John Over here   and then my third wife she says get this   I didn t sign up for this  You tell me what the hell is that even supposed to mean  What am I boring you  Huh  You know what I m sorry  I m sorry that I m not cool enough to be part of your  merry little band of adventurers  What  I know a clique when I see it I teach high school pally  You know you people think  you re the only ones on this island doing anything of value  I got news for you  There were 40 other survivors of this plane crash  and we are all people too  Okay  You know what  I can probably get it open if I just  No We should take it outside  Why You don t even know if this  You re not prying open a crate that says Explosives with a pickax  Yeah I agree with Jack  Take it outside open it there  Okay  I got it  You mind showing us the way  It s not just the teenagers The gym teachers  you think they let me sit with them in the cafeteria No They do not  This is all in your head  Really You explain to me why Kate  gets the best pieces of wreckage for her shelter  And the Korean guy Does he catch fish for everybody on the island  No He does not He doesn t  And some of us have actually lost weight while we were here  You mind telling me where you re hiding the carbs   Cause I can t figure  What the hell are you people doing  Wait wait Stop Stop right where you are  Put that down carefully Put it down carefully  Put it gently Gently Damn it  Carefully gently Gently  Get outta there Get away from it Come on   Get out Move away from it  What the hell is your  Shh Be quiet  Do any of you have any idea  what happens to dynamite in 90 plus degree heat Huh  Do you know  Any of you  It sweats nitroglycerin  What are you doing Did I ask you to come closer  Dynamite   is nitroglycerine stabilized by clay  Nitroglycerine   is the most dangerous and unstable explosive known to man  Hey Kate gimme your shirt  Now Princess give me your shirt I need to wrap the dynamite  Just throw it to me right here  Just be careful Come on hurry up  Okay good Now back up  Back up Just back up  Get outta my way  Any of you ever hear  about the guy who invented nitroglycerin  Probably not  because he blew his freaking face off  His lab assistant came into the room  saw that his mentor had detonated  and he said Huh  I guess this stuff does work  We re not gonna take more of this stuff than we need  because nitroglycerine is extremely temperamental  So we just  Dude  Ahhh   Sorry for the inconvenience  I m sure you are  Sir your bag was unattended   Am I free to go  Yes sir  Good  I have a plane to catch  Could you hand me a paper towel there bud  Uh paper towel this one s broken   Uh  Oh  Oh You don t speak English Sorry  Dad look  How does a place this big never get discovered  Don t know  But you could build yourself one hell of a beach resort right over there  Yeah you build your resort  I m happy to say goodbye to this place forever  What about everybody else Think they ll be okay   Sawyer singing Redemption Song  I hope so buddy  At least until we can get em some help   Redemption songs   Is all I ever had  Singing Bob Marley  No  Why You like Bob Marley  Man who doesn t like Bob Marley  Damn it  Do you really need all that  Yeah I do  Why do you have to bring so much  Don t you have a hike to lead  I m fine  These belonged to your brother  I need these things  I can t just leave them  What are we doing  Hiding  As if they won t find us  It s just  It s too much  It s too much  It won t be too much if I carry it for you  Now come on  I have a hike to lead  You okay  That was messed up  Yeah  He just   exploded   in front of us  He was just trying to help  This is because I came  What  I m   kind of bad luck  Hey  It was an accident  An accident  Yeah  Locke  We should think about this  All right  Maybe this isn t the best way  It s the only way Jack   How many do we need to blow the hatch  Two should take care of the hinge   Three to be safe  Safe  I m removing the driest pieces to minimize our risk transporting it  You ever play Operation  Sure Don t touch the sides  I  I always   got nailed   on the funny bone  Bzzzz  You like to play games John  Absolutely  Okay  I know we re in a rush to escape to the caves  so I ve solved the Turnip Head transport issue  This is uh just a blanket from the plane  And then this piece of wood here that goes through this bamboo  Here you go  It s a Bjรถrn   A Bjรถrn  Bjรถrn It s   Dutch for uh baby carrier  Yeah Thanks   Well that s okay  Thank you   Thanks  Oh That s okay  Let s put him there   It s really  Sayid   Where is he  What   Sayid where is he  He already left   I need him now  Jack and Kate  There s no time Where is Sayid  All right just calm down I ll get him for you   Stay here all right  Okay  That s okay  Sayid Sayid  What happened out there  What is his name  Your child  What is his name  Oh I haven t named him yet  May I hold him  Um why do you need Sayid  You don t want me to hold him  No I just fed him I don t think it s a good idea Okay  Please  When did I do that  Why did I scratch you   What s going on  Uh  My flight L uh  My flight to LA leaves in a couple of hours  so you gotta get moving you know Uh  You wanna do one more bump for the road  It s all gone  We did it all last night I got some champagne   You gotta have some left  Mm mm  Nope It s done  I ll look you up next time I m in Sydney okay  I ll uh send you an autographed copy of uh my CD  then you can listen when you want  I don t want your crap CD from your crap band  Last night in the bar you said you were a fan  Fine I m a huge fan  Drive Thru is the best damn band ever  Now just gimme a bump  cause I know you got some  Shaft Drive Shaft  What s that in your hand  Nothing   Holding out on me  I m not holding out   Give it to me  What   I m not holding  Give it  I got nothing in my hand Get off  Get up   Get off  Get up Let it go Let it go   What are you crazy  Let it go   Get off  Let it go  Get off Get off me  Ow  You re pathetic  You re pathetic  Sayid Sayid  Rousseau s on the beach She needs you   Rousseau What for  I don t know  Help Help  Help Someone Help   Oh my God  Help   What happened  Her head   Where s my baby  Oh my God  Is he all right   Rousseau Was she alone  Did she take my baby  Which way did she go  I don t know She took my baby  This is your fault You brought her into the camp  If you had given me a gun  Do not hit me again  You want to waste time assigning blame  There s plenty to go around  She has a head start If we leave now we can catch her  How we gonna do that  Because I know where she s going   Please now  I want my baby  I can carry all the sticks in my pack  The more insulation we stuff in the better  I think we should split em up  What  It s not smart to keep it all together so we split em up  If we need three sticks to blow the hinge  then we should bring six  Three and three  A fail safe In case one of us  You and me then  No I m taking one  Not gonna happen  This is why I came   You wasted a trip  I need to do this  Kate no one owes anyone anything   I m carrying one  We re done   This is not your decision  It is  We ll draw straws  They re coming We don t have time to argue about who risks their life so   we let fate decide  Works for me   What about you  You wanna carry some dynamite  What  You got some Arnzt on you  Short sticks carry the packs  Looks like it s you and me Kate  So what s this stuff even do  Well the transmitter sends out an SOS  in case someone s listening  And if there s anything out there  we ll see it on this radar screen here  Here we go  Come on  Someone find us  Those are messages everybody wrote  Sure are  They re private  Yep  I for one never knew how much Tracey  missed her hubby and two kids back in Fresno  Yet she s sleeping next to good ol Scott  to keep her warm at night  That s Steve Scott s dead  Whatever  Long ride Kazoo We gotta keep ourselves entertained  Who the hell is Hugo and how s he got  a hundred and sixty million dollars to leave to his mom  How d you like it if I read yours  You can t cause I didn t write one  Why not   Cause the only letter I ever wrote is to the man I m gonna kill   Why you gonna kill him  Cause I need to   Why  Because  Are you bloody joking  Why would she go for the black smoke Isn t that where the others are  The others are why she would go there  Rousseau told us she saw black smoke  the day her own child was taken 16 years ago  They took something from her  And now she believes she has something they want   She s making a trade  I believe she is Yes  That s insane She s insane  Don t apply reason to her actions She s a mother who lost her child  Just like Claire  This isn t about revenge  Don t make it personal  I m coming with you  That s not a good idea  This is my baby okay I let her take him   Claire listen  Don t tell me what to do  Calm down  I am coming with you This is my fault and I m coming  and you can t stop me  It s fine all right It s all right  I m supposed to raise him  Get him back Charlie  Get Aaron back  Aaron  Please  Get him back Please  Claire I will get him back  Promise  Hey you want something to eat  I guess that s a no then  If you re worried about Vincent he s gonna be okay man  Dogs fly in the luggage compartment all the time  All right  I gotta call work  Right over there  Don t go anywhere okay  No I live in a studio apartment  I gotta be out the door in the morning for work by 5am  Who s gonna watch him How s he getting to school What about after  I can t do this Ma  You know I was  Listen I was thinking um  I was thinking maybe you could take him  But Ma if it s a question of money I  What am I supposed to do with him He s not supposed to be mine  This was never part of the plan  Yeah I  Thanks Ma  Hey man   I was uh  I need new batteries  Hey   You wanna try  What  Come on come here   You drive for awhile  Really  Absolutely Okay now Look  The most important part of this boat is the rudder  It s how you steer  You turn it gradually Nothing sharp okay  Push it this way  Where are we going  Look  So we re going approximately north by northeast  So hopefully that puts us into a shipping lane  Or we hit some land  What do I aim for  See that cloud on the horizon   Right there  Yeah  You aim for that  Yep   Okay  Got it  How come you and my mom didn t stay together  We tried  It just didn t work out So our lives our interests  just went in different directions  How come I never saw you   Cause your mom didn t want me to  She did what she thought was best  She was wrong   Rudder  Hey we hit a log   We lost the rudder  Rudder Rudder  We re losing it It s sinking Stop the boat  Stop the boat Just pull the sail down  Right  Dad  Sawyer  Sawyer Give me the rope Throw it   Sawyer  It s sinking  I can t reach it  Got it  Tie it around the rudder and we ll pull you in  Okay  Michael Michael  Got it Come on  Come on buddy  You just saved our ass buddy  Here s your shirt  You should put that back on before you burn  Sorry  Yeah well  It s the luck of the draw  Sun sets in 90 minutes give or take  If we want to get back to the hatch we have to hustle  Okay this is how we do this  I ll lead Kate you re right behind me  Then Hurley John you bring up the rear   If you see me heading the wrong way  We should stagger our formation  Keep a safe distance from each other  All right We stagger  If anyone hears anything or sees anything  Like the security system that eats people  Yeah Like that  You two you take your packs off you put em down and you run   You got it  Got it  Yes sir  Okay  Let s do this  He died bravely  What  Your brother  Yeah  Thanks  Do you think all this   all we ve been through  Do you think we re being punished  Punished for what  Things we did before  The secrets we kept  The lies we told  Who do you think is punishing us  Fate  No one s punishing us  No such thing as fate  Are you okay  I m fine Keep going  We re losing the light   Try to keep up  I m coming  Sayid  Sayid  Sayid  Over here  Sayid  You can barely breathe We re going to rest  Rest She s out there right now  In another mile you re going to collapse We re going to take a break  Is this where Boone fell  The plane was up there  Where did it come from  Based on the maps inside Nigeria   Anyone onboard  Two men dressed as priests   Priests  Drug runners in disguise  The plane was loaded with heroin  All right  Now we go  So dude what do you think s inside that hatch thing  What do you think s inside it  Stacks of TV dinners  from the fifties or something  And TVs with cable  Some cell phones  Clean socks Soap  Twinkies  You know for dessert after the TV dinners  Twinkies keep for like 8 000 years man  I like Twinkies too  Come on really What do you think s inside  Hope  I think hope s inside  Whoever named this place Dark Territory  genius  Yeah I saw it  We gotta get out of here  Locke What are you doing  Locke  Locke  Locke Locke  Jack  Jack  Ahhh  Locke  Ahh   Oh my God Locke  I need the dynamite  No no It s in my pack  Go get it Hurry Go   John John just hold on  Oh   Just let me go  What   I ll be all right  No   Let me go I ll be all right  I got it I got it  Be careful unwrapping it  All right   Now throw it in  No Lt ll blow us up   Do it Hurry I can t hold him  Don t do this   Throw it in Now Kate  Ah  Hey  Your wife wife made this for you  Sun  She sounded it out huh   So you can learn English  Uh Yes  Yeah I wish she made one for me  So what words are in here  English words What can you say  Ah Um  Starboard  Aft Port  Uh Sail  Uh   Eat  Yeah right  She did you well  I hope you know how lucky you are man  Back in business  Alrighty  Oh hey  it s yours   Here we are  You  What  You  Um  Thank you Thanks  I made you some tea  I m fine  Thanks  Aaron is a beautiful name  What does it mean  I don t know what Aaron means   They will bring him back  Don t say that   They will  How do you know that  Because he said he would  Charlie will bring your baby back   There  Charlie wait  Charlie  Ah  See Let me see   It s bleeding  We need to put pressure on it  Okay Put pressure   Ow  There   Animal What is she Ow  Keep the pressure on like this  She s been here for 16 years She s learned how to set traps quickly  Okay let s have a look It s too deep  It s bleeding too much You have to go back  I m not You have to fix it   I m not a doctor  You re a soldier  What do people do when they get wounded  I m not going back without that baby Sayid  Don t move   Gunpowder  Remove the towel tilt your head back  Remove the towel  This is because I hit you isn t it  This is not going to be pleasant  You ready  One Two Three  Oh man  I need my car  Twenty minutes Look I can t miss my flight  My mom s birthday s tomorrow  Come on come on come on come on come on come on Cool  Some of us have a bloody flight to make  Excuse me Coming through Excuse me Excuse me  Excuse me  Come on Come on  No No No  No  Excuse me Excuse me Look out Coming through  Excuse me Excuse me Look out Excuse me  Flight 917 is now boarding at gate 85  Flight 917 is now boarding at gate 85  Any way we can hurry that up My mom s birthday s tomorrow  Or today I don t know I don t really get the whole time change thing  but I gotta make that flight  I am going as fast as the system will allow me dear  You are confirmed for seat 20 G  However the airline has a policy that a man of your size  must purchase two tickets  What I didn t have to do that on the flight out here  Am I going to have to weigh you dear  Fine Whatever I ll buy the one next to it   Alrighty Here s two together  Book it  Departure gate for flight 143 has been changed  Uh oh   Uh oh What uh oh  It appears that your flight is already boarding  in the international terminal This is the domestic terminal  I don t think you re meant to make this flight dear  Sorry Pardon me  Excuse me Sorry  Excuse me Sorry Excuse me  Excuse me Coming through Behind you Look out  Excuse me Excuse me  Excuse me Sorry Sorry Sorry this is an emergency I gotta  I gotta cut through Excuse me Dude Dude   Back of the line  Let me go ahead I m gonna miss my   You don t understand This is  Back of the line  Next  Now You re taking the computer out now  Hey Old guy  I ll give you 500 to borrow your scooter  I just had a hip replacement I need this  Okay Sixteen hundred bucks  Excuse me Excuse me  Whoa Coming through Look out  Look out look out Coming through  Excuse me Excuse me  Look out Heads up Coming through Look out  Coming through Coming through  Konnichiwa Excuse me  Yeah coming through  Look out Look out Hey Hold it  Hold the door Hold the door  Hold Hold the door  I gotta get on this flight   Sir the Jetway s closed  Please  For the love of all that is good and holy in the world  let me on this plane  All right one second  Hunter This is Gina We ve got one more  Ta  This is your lucky day  Fifteen 16 23 42 four  You say something  Nope  I thought I heard 23  Does that mean something to you   What  That number 23  The guy who called the feds on me back in Australia  did it for a 23 000 reward  Mean something to you  Nah It s just a number  Better catch up I can barely see em  We shouldn t be this close to each other Jack  If we blow up we blow up  What the hell was all that about back there   What was what about  You asked to let you go  That s right  That thing was taking you down the hole   It wasn t gonna hurt me  It was gonna kill you  I seriously doubt that  Look I need for you to  I need for you to explain to me what the hell s going on inside your head  I need to know why you believe that thing wasn t gonna   I believe that I was being tested  Tested  Yeah Tested  I think that s why you and I don t see eye to eye sometimes Jack   Because you re a man of science  Yeah   And what does that make you  Me  Well I m a man of faith  Do you really think all this is an accident  That we a group of strangers survived  Many of us with just superficial injuries  You think we crashed on this place by coincidence Especially this place  We were brought here for a purpose For a reason All of us  Each one of us was brought here for a reason  Brought here  And who brought us here John  The island  The island brought us here  This is no ordinary place You ve seen that I know you have  The island chose you too Jack  It s destiny  Did you talk with Boone about destiny John  Boone was a sacrifice that the island demanded  What happened to him at that plane was a part of a chain of events  that led us here that led us down a path  that led you and me to this day to right now  And where s that path end John  The path ends at the hatch  The hatch Jack All of it All of it happened so we can open the hatch  No No we re opening the hatch so that we can survive  Survival is all relative Jack  I don t believe in destiny  Yes you do  You just don t know it yet   I turned it on a little while ago  Sayid said every hour  Look we re 15 miles out We could be here for weeks   If that battery runs out  The man said every hour   Nothing  Five minutes No more  Aye aye  Know what I like about you Mike  You got the patience of a saint  Yeah Why you say that  I ve seen the way he talks to you  The way he runs around does whatever the hell he wants  I d have shown him the back of my hand a long time ago   You would huh  Hell of a lot cheaper than a shrink  Is that what your father did to you Show you the back of his hand  My daddy never got a chance to beat me  Shot himself when I was eight  That why you wanna die  What  Since you told me you wanted on this raft I couldn t figure it out  Why s a guy who only cares about himself  wanna risk his life to save everyone else  Way I see it there s only two choices  You re either a hero or you wanna die  Well  I ain t no hero Mike  That what I think it is  Something s out there  I m sorry sir but the special wheelchair that we use  for loading disabled passengers no one seems to know where it is right now  and unless we find it I m not sure we can get you on  There s not another flight till tomorrow  I m aware but there s nothing I can do  Look I can get Michelle We can carry him on  Mind if we carry you on  No that would be fine  Here we go  Here s your seat  I ll get your bags sir  If you need anything press the call button  Okay Thank you  Hugo  take these extra sticks back a couple hundred yards  Me  Oh okay Got it  Be careful  Can I have a flashlight   Cause uh the torch around the dynamite thing not making sense to me  Kate you run the fuse   Jack and I will rig the charges  Okay  What the hell is that  There s no footprints no tracks  This is it This is the black smoke   Where are they  I don t know  She s here  Danielle   You come out Right now  Calm down  Danielle I can hear you Come out  Please He needs his mother   They were not here  Danielle  you have to give us the baby  I just wanted my Alex back  I thought if I gave them the baby  It s okay I know  It s okay  I got him  There never were any others  You started the fires yourself  No I heard them whispering  You re a nut job You heard nothing  I heard them say they were coming for the child  The others said they were coming for the boy  You re pathetic  Wire  Hold that end  Now the fuse  I ll do it   That s as far as it goes  It s far enough  I ll light it You take cover  There ll be enough burn time for me to get clear   Hurley  Wait Just a sec  What was that about back there  What was what about  Putting the dynamite in your pack   I made a judgment call  We drew straws  I m not gonna let drawing straws make decisions like that  You had no right  Everybody wants me to be a leader till I make a decision they don t like  You want to keep second guessing me That s your call  There s something you need to know  If we survive this if we survive tonight   we re gonna have a Locke problem  And I have to know that you ve got my back  I got your back  Are we ready  Wait a sec Wait a sec  No no no  Stop Stop we can t do this  Stop Wait Stop We can t do this  Stop it Stop it We can t  Stop don t light it We can t do this  We can t do this Stop What are you  We gotta stop it The numbers are bad  What are you doing Why d you do that  Wait The numbers are bad The numbers are bad   The numbers are bad  Stop   No we can t  Hurley   Get back  We can t The numbers  You gotta get back You gotta get back  It s closer Give me the damn flare gun   Hold on  It s closer I m telling you  I know okay I ve got one flare One flare  Okay I know You don t see anything  What the hell are you expecting In case you haven t noticed it s dark   What is it Is it a ship  We don t know little man  Starboard Port  Uh Port Port  What the hell am I supposed to do  Han You and Chewie wanna slow down and talk to me   We have to fire the flare  We don t know what it is  It could be anything Junk We don t know if Sayid s radar works   He ever fix something that don t  It s moving away   Junk knows how to steer  We re moving It doesn t mean  Are you gonna give me the damn gun or am I gonna have to take it  What re you gonna do Shoot me  It s almost gone  Come on  Please God  It s coming back It s coming back   Yes  Hell yeah Okay  All right Okay I know it  Shh  Ahoy  Oh man are we glad to see you  What s going on What are you folks doing this far out here  We were we were in the plane crash  We ve been on an island for a month man  Plane crash huh Well how about that  We were on an island flight 815 Hey where are we  Hey it s a good thing we found you  We survived and there s a whole group of people on the island   Well ain t that something  Yeah  Only the thing is  we re gonna have to take the boy  What What d you say  The boy We re gonna have to take him  Hey what the hell s going on here Who are you people  Just give us the boy  I m not giving you anybody  Well all right then  No   Dad Dad  No Walt no  Dad help   Walt  Dad please Help Dad Help me  Dad  Walt  Help me Dad Please  Walt Walt  Walt No  '"
      ]
     },
     "execution_count": 20,
     "metadata": {},
     "output_type": "execute_result"
    }
   ],
   "source": [
    "path_serie1 = \"/Vrac/PLDAC_addic7ed/data/175___Avatar__The_Last_Airbender/01\"\n",
    "path_serie2 = \"/Vrac/PLDAC_addic7ed/data/1___Lost/01\"\n",
    "corpus = get_corpus(path_serie1)\n",
    "corpus += get_corpus(path_serie2)\n",
    "corpus[-1]"
   ]
  },
  {
   "cell_type": "code",
   "execution_count": 29,
   "metadata": {},
   "outputs": [
    {
     "name": "stdout",
     "output_type": "stream",
     "text": [
      "/Vrac/PLDAC_addic7ed/data/886___Judge_John_Deed\n",
      "00__Exacting_Justice.txt\n",
      "01__Rough_Justice.txt\n",
      "02__Duty_of_Care.txt\n",
      "03__Appropriate_Response.txt\n",
      "04__Hidden_Agenda.txt\n",
      "01__Political_Expediency.txt\n",
      "02__Abuse_of_Power.txt\n",
      "03__Nobody_s_Fool.txt\n",
      "04__Everyone_s_Child.txt\n",
      "01__Health_Hazard.txt\n",
      "02__Judicial_Review.txt\n",
      "03__Conspiracy.txt\n"
     ]
    },
    {
     "ename": "UnicodeDecodeError",
     "evalue": "'charmap' codec can't decode byte 0xfc in position 2789: character maps to <undefined>",
     "output_type": "error",
     "traceback": [
      "\u001b[0;31m---------------------------------------------------------------------------\u001b[0m",
      "\u001b[0;31mUnicodeDecodeError\u001b[0m                        Traceback (most recent call last)",
      "\u001b[0;32m<ipython-input-29-4023c30de9c0>\u001b[0m in \u001b[0;36m<module>\u001b[0;34m\u001b[0m\n\u001b[1;32m      4\u001b[0m \u001b[0;32mfor\u001b[0m \u001b[0mpath\u001b[0m \u001b[0;32min\u001b[0m \u001b[0mpaths\u001b[0m \u001b[0;34m:\u001b[0m\u001b[0;34m\u001b[0m\u001b[0m\n\u001b[1;32m      5\u001b[0m     \u001b[0mprint\u001b[0m\u001b[0;34m(\u001b[0m\u001b[0mpath\u001b[0m\u001b[0;34m)\u001b[0m\u001b[0;34m\u001b[0m\u001b[0m\n\u001b[0;32m----> 6\u001b[0;31m     \u001b[0mc\u001b[0m \u001b[0;34m+=\u001b[0m \u001b[0mget_corpus\u001b[0m\u001b[0;34m(\u001b[0m\u001b[0mpath\u001b[0m\u001b[0;34m)\u001b[0m\u001b[0;34m\u001b[0m\u001b[0m\n\u001b[0m",
      "\u001b[0;32m<ipython-input-28-7a7c3cd8da44>\u001b[0m in \u001b[0;36mget_corpus\u001b[0;34m(parent_folder)\u001b[0m\n\u001b[1;32m     67\u001b[0m     \u001b[0;34m\"\"\"retourne corpus des textes contenus dans parent_folder sous forme de liste de string\"\"\"\u001b[0m\u001b[0;34m\u001b[0m\u001b[0m\n\u001b[1;32m     68\u001b[0m     \u001b[0mc\u001b[0m \u001b[0;34m=\u001b[0m \u001b[0;34m[\u001b[0m\u001b[0;34m]\u001b[0m\u001b[0;34m\u001b[0m\u001b[0m\n\u001b[0;32m---> 69\u001b[0;31m     \u001b[0mres\u001b[0m \u001b[0;34m=\u001b[0m \u001b[0mscan_folder\u001b[0m\u001b[0;34m(\u001b[0m\u001b[0mparent_folder\u001b[0m\u001b[0;34m,\u001b[0m \u001b[0mc\u001b[0m\u001b[0;34m)\u001b[0m\u001b[0;34m\u001b[0m\u001b[0m\n\u001b[0m\u001b[1;32m     70\u001b[0m     \u001b[0;32mreturn\u001b[0m \u001b[0mres\u001b[0m\u001b[0;34m\u001b[0m\u001b[0m\n",
      "\u001b[0;32m<ipython-input-28-7a7c3cd8da44>\u001b[0m in \u001b[0;36mscan_folder\u001b[0;34m(parent_folder, corp)\u001b[0m\n\u001b[1;32m     58\u001b[0m             \u001b[0;32mif\u001b[0m \u001b[0mos\u001b[0m\u001b[0;34m.\u001b[0m\u001b[0mpath\u001b[0m\u001b[0;34m.\u001b[0m\u001b[0misdir\u001b[0m\u001b[0;34m(\u001b[0m\u001b[0mcurrent_path\u001b[0m\u001b[0;34m)\u001b[0m\u001b[0;34m:\u001b[0m\u001b[0;34m\u001b[0m\u001b[0m\n\u001b[1;32m     59\u001b[0m                 \u001b[0;31m# if we're checking a sub-directory, recall this method\u001b[0m\u001b[0;34m\u001b[0m\u001b[0;34m\u001b[0m\u001b[0m\n\u001b[0;32m---> 60\u001b[0;31m                 \u001b[0mscan_folder\u001b[0m\u001b[0;34m(\u001b[0m\u001b[0mcurrent_path\u001b[0m\u001b[0;34m,\u001b[0m \u001b[0mcorp\u001b[0m\u001b[0;34m)\u001b[0m\u001b[0;34m\u001b[0m\u001b[0m\n\u001b[0m\u001b[1;32m     61\u001b[0m \u001b[0;34m\u001b[0m\u001b[0m\n\u001b[1;32m     62\u001b[0m     \u001b[0;32mreturn\u001b[0m \u001b[0mcorp\u001b[0m\u001b[0;34m\u001b[0m\u001b[0m\n",
      "\u001b[0;32m<ipython-input-28-7a7c3cd8da44>\u001b[0m in \u001b[0;36mscan_folder\u001b[0;34m(parent_folder, corp)\u001b[0m\n\u001b[1;32m     43\u001b[0m             \u001b[0mcharenc\u001b[0m \u001b[0;34m=\u001b[0m \u001b[0mresult\u001b[0m\u001b[0;34m[\u001b[0m\u001b[0;34m'encoding'\u001b[0m\u001b[0;34m]\u001b[0m\u001b[0;34m\u001b[0m\u001b[0m\n\u001b[1;32m     44\u001b[0m             \u001b[0mfichier\u001b[0m \u001b[0;34m=\u001b[0m \u001b[0mopen\u001b[0m\u001b[0;34m(\u001b[0m\u001b[0mpath\u001b[0m\u001b[0;34m,\u001b[0m \u001b[0;34m\"r\"\u001b[0m\u001b[0;34m,\u001b[0m \u001b[0mencoding\u001b[0m \u001b[0;34m=\u001b[0m \u001b[0mcharenc\u001b[0m\u001b[0;34m)\u001b[0m\u001b[0;34m\u001b[0m\u001b[0m\n\u001b[0;32m---> 45\u001b[0;31m             \u001b[0mlignes\u001b[0m \u001b[0;34m=\u001b[0m \u001b[0mfichier\u001b[0m\u001b[0;34m.\u001b[0m\u001b[0mreadlines\u001b[0m\u001b[0;34m(\u001b[0m\u001b[0;34m)\u001b[0m\u001b[0;34m\u001b[0m\u001b[0m\n\u001b[0m\u001b[1;32m     46\u001b[0m             \u001b[0mfichier\u001b[0m\u001b[0;34m.\u001b[0m\u001b[0mclose\u001b[0m\u001b[0;34m(\u001b[0m\u001b[0;34m)\u001b[0m\u001b[0;34m\u001b[0m\u001b[0m\n\u001b[1;32m     47\u001b[0m \u001b[0;34m\u001b[0m\u001b[0m\n",
      "\u001b[0;32m/usr/lib/python3.5/encodings/cp1255.py\u001b[0m in \u001b[0;36mdecode\u001b[0;34m(self, input, final)\u001b[0m\n\u001b[1;32m     21\u001b[0m \u001b[0;32mclass\u001b[0m \u001b[0mIncrementalDecoder\u001b[0m\u001b[0;34m(\u001b[0m\u001b[0mcodecs\u001b[0m\u001b[0;34m.\u001b[0m\u001b[0mIncrementalDecoder\u001b[0m\u001b[0;34m)\u001b[0m\u001b[0;34m:\u001b[0m\u001b[0;34m\u001b[0m\u001b[0m\n\u001b[1;32m     22\u001b[0m     \u001b[0;32mdef\u001b[0m \u001b[0mdecode\u001b[0m\u001b[0;34m(\u001b[0m\u001b[0mself\u001b[0m\u001b[0;34m,\u001b[0m \u001b[0minput\u001b[0m\u001b[0;34m,\u001b[0m \u001b[0mfinal\u001b[0m\u001b[0;34m=\u001b[0m\u001b[0;32mFalse\u001b[0m\u001b[0;34m)\u001b[0m\u001b[0;34m:\u001b[0m\u001b[0;34m\u001b[0m\u001b[0m\n\u001b[0;32m---> 23\u001b[0;31m         \u001b[0;32mreturn\u001b[0m \u001b[0mcodecs\u001b[0m\u001b[0;34m.\u001b[0m\u001b[0mcharmap_decode\u001b[0m\u001b[0;34m(\u001b[0m\u001b[0minput\u001b[0m\u001b[0;34m,\u001b[0m\u001b[0mself\u001b[0m\u001b[0;34m.\u001b[0m\u001b[0merrors\u001b[0m\u001b[0;34m,\u001b[0m\u001b[0mdecoding_table\u001b[0m\u001b[0;34m)\u001b[0m\u001b[0;34m[\u001b[0m\u001b[0;36m0\u001b[0m\u001b[0;34m]\u001b[0m\u001b[0;34m\u001b[0m\u001b[0m\n\u001b[0m\u001b[1;32m     24\u001b[0m \u001b[0;34m\u001b[0m\u001b[0m\n\u001b[1;32m     25\u001b[0m \u001b[0;32mclass\u001b[0m \u001b[0mStreamWriter\u001b[0m\u001b[0;34m(\u001b[0m\u001b[0mCodec\u001b[0m\u001b[0;34m,\u001b[0m\u001b[0mcodecs\u001b[0m\u001b[0;34m.\u001b[0m\u001b[0mStreamWriter\u001b[0m\u001b[0;34m)\u001b[0m\u001b[0;34m:\u001b[0m\u001b[0;34m\u001b[0m\u001b[0m\n",
      "\u001b[0;31mUnicodeDecodeError\u001b[0m: 'charmap' codec can't decode byte 0xfc in position 2789: character maps to <undefined>"
     ]
    }
   ],
   "source": [
    "p = \"/Vrac/PLDAC_addic7ed/data/\"\n",
    "paths = [p+\"886___Judge_John_Deed\"]\n",
    "c = []\n",
    "for path in paths :\n",
    "    print(path)\n",
    "    c += get_corpus(path)"
   ]
  },
  {
   "cell_type": "code",
   "execution_count": null,
   "metadata": {},
   "outputs": [],
   "source": []
  },
  {
   "cell_type": "code",
   "execution_count": null,
   "metadata": {},
   "outputs": [],
   "source": []
  },
  {
   "cell_type": "code",
   "execution_count": null,
   "metadata": {},
   "outputs": [],
   "source": []
  },
  {
   "cell_type": "code",
   "execution_count": null,
   "metadata": {},
   "outputs": [],
   "source": []
  },
  {
   "cell_type": "code",
   "execution_count": null,
   "metadata": {},
   "outputs": [],
   "source": []
  },
  {
   "cell_type": "code",
   "execution_count": null,
   "metadata": {},
   "outputs": [],
   "source": []
  },
  {
   "cell_type": "code",
   "execution_count": null,
   "metadata": {},
   "outputs": [],
   "source": []
  },
  {
   "cell_type": "code",
   "execution_count": null,
   "metadata": {},
   "outputs": [],
   "source": []
  },
  {
   "cell_type": "code",
   "execution_count": null,
   "metadata": {},
   "outputs": [],
   "source": []
  },
  {
   "cell_type": "code",
   "execution_count": null,
   "metadata": {},
   "outputs": [],
   "source": []
  },
  {
   "cell_type": "code",
   "execution_count": null,
   "metadata": {},
   "outputs": [],
   "source": []
  },
  {
   "cell_type": "code",
   "execution_count": null,
   "metadata": {},
   "outputs": [],
   "source": []
  },
  {
   "cell_type": "code",
   "execution_count": null,
   "metadata": {},
   "outputs": [],
   "source": []
  },
  {
   "cell_type": "code",
   "execution_count": null,
   "metadata": {},
   "outputs": [],
   "source": []
  },
  {
   "cell_type": "code",
   "execution_count": null,
   "metadata": {},
   "outputs": [],
   "source": []
  },
  {
   "cell_type": "code",
   "execution_count": null,
   "metadata": {},
   "outputs": [],
   "source": []
  },
  {
   "cell_type": "code",
   "execution_count": null,
   "metadata": {},
   "outputs": [],
   "source": []
  },
  {
   "cell_type": "code",
   "execution_count": null,
   "metadata": {},
   "outputs": [],
   "source": []
  },
  {
   "cell_type": "code",
   "execution_count": null,
   "metadata": {},
   "outputs": [],
   "source": []
  },
  {
   "cell_type": "code",
   "execution_count": null,
   "metadata": {},
   "outputs": [],
   "source": []
  },
  {
   "cell_type": "code",
   "execution_count": null,
   "metadata": {},
   "outputs": [],
   "source": []
  },
  {
   "cell_type": "code",
   "execution_count": null,
   "metadata": {},
   "outputs": [],
   "source": []
  },
  {
   "cell_type": "code",
   "execution_count": null,
   "metadata": {},
   "outputs": [],
   "source": []
  },
  {
   "cell_type": "code",
   "execution_count": null,
   "metadata": {},
   "outputs": [],
   "source": []
  },
  {
   "cell_type": "code",
   "execution_count": null,
   "metadata": {},
   "outputs": [],
   "source": []
  },
  {
   "cell_type": "code",
   "execution_count": null,
   "metadata": {},
   "outputs": [],
   "source": []
  },
  {
   "cell_type": "code",
   "execution_count": null,
   "metadata": {},
   "outputs": [],
   "source": []
  },
  {
   "cell_type": "code",
   "execution_count": null,
   "metadata": {},
   "outputs": [],
   "source": []
  },
  {
   "cell_type": "code",
   "execution_count": null,
   "metadata": {},
   "outputs": [],
   "source": []
  },
  {
   "cell_type": "code",
   "execution_count": null,
   "metadata": {},
   "outputs": [],
   "source": []
  },
  {
   "cell_type": "code",
   "execution_count": null,
   "metadata": {},
   "outputs": [],
   "source": []
  },
  {
   "cell_type": "code",
   "execution_count": null,
   "metadata": {},
   "outputs": [],
   "source": []
  },
  {
   "cell_type": "code",
   "execution_count": null,
   "metadata": {},
   "outputs": [],
   "source": []
  },
  {
   "cell_type": "code",
   "execution_count": null,
   "metadata": {},
   "outputs": [],
   "source": []
  },
  {
   "cell_type": "code",
   "execution_count": null,
   "metadata": {},
   "outputs": [],
   "source": []
  }
 ],
 "metadata": {
  "kernelspec": {
   "display_name": "Python 3",
   "language": "python",
   "name": "python3"
  },
  "language_info": {
   "codemirror_mode": {
    "name": "ipython",
    "version": 3
   },
   "file_extension": ".py",
   "mimetype": "text/x-python",
   "name": "python",
   "nbconvert_exporter": "python",
   "pygments_lexer": "ipython3",
   "version": "3.5.3"
  }
 },
 "nbformat": 4,
 "nbformat_minor": 2
}
