{
 "cells": [
  {
   "cell_type": "markdown",
   "metadata": {},
   "source": [
    "# Comparaison reco"
   ]
  },
  {
   "cell_type": "code",
   "execution_count": 1,
   "metadata": {},
   "outputs": [],
   "source": [
    "from utils.collaborative import *"
   ]
  },
  {
   "cell_type": "code",
   "execution_count": 2,
   "metadata": {},
   "outputs": [],
   "source": [
    "path = '/Vrac/PLDAC_addic7ed/ratings/ratings_60'"
   ]
  },
  {
   "cell_type": "code",
   "execution_count": 3,
   "metadata": {},
   "outputs": [],
   "source": [
    "d_user = dict() #{username : {serie: note, serie : note}}\n",
    "\n",
    "for user in sorted(os.listdir(path)):\n",
    "    username = re.sub(\".txt\", \"\", user)\n",
    "    d_user[username] = dict()\n",
    "    with open(path+\"/\"+user) as file: \n",
    "        lignes = file.readlines()\n",
    "        for ligne in lignes :\n",
    "            serie, rating = ligne.split(\" \")\n",
    "            rating = rating.rstrip(\"\\n\")\n",
    "            rating = float(rating)\n",
    "            \n",
    "            d_user[username][serie] = rating"
   ]
  },
  {
   "cell_type": "code",
   "execution_count": 4,
   "metadata": {},
   "outputs": [
    {
     "data": {
      "text/plain": [
       "1357"
      ]
     },
     "execution_count": 4,
     "metadata": {},
     "output_type": "execute_result"
    }
   ],
   "source": [
    "liste_series = set()\n",
    "for username, d_s in d_user.items() :\n",
    "    for serie, rating in d_s.items() :\n",
    "        liste_series.add(serie)\n",
    "liste_series = list(liste_series)\n",
    "len(liste_series)"
   ]
  },
  {
   "cell_type": "code",
   "execution_count": 5,
   "metadata": {},
   "outputs": [],
   "source": [
    "data = []\n",
    "for username, d_s in d_user.items() :\n",
    "    for serie, rating in d_s.items() :\n",
    "        data.append( (username, serie, rating) )"
   ]
  },
  {
   "cell_type": "code",
   "execution_count": 6,
   "metadata": {},
   "outputs": [
    {
     "name": "stdout",
     "output_type": "stream",
     "text": [
      "60 users and 1357 items.\n"
     ]
    }
   ],
   "source": [
    "# We first remap users and item to ids between (0,len(user)) and (0,len(item))\n",
    "u_dic = {} #{username : user id}\n",
    "i_dic = {} #{item title : item id}\n",
    "        \n",
    "all_data = [] #[(user id, item id, rating)]\n",
    "    \n",
    "d_username_id = dict()\n",
    "d_itemname_id = dict()\n",
    "for uid,iid,rating in data:  # iterating on all data\n",
    "    \n",
    "    uk = u_dic.setdefault(uid,len(u_dic))\n",
    "    ik = i_dic.setdefault(iid,len(i_dic))\n",
    "    all_data.append((uk,ik,float(rating)))\n",
    "    d_username_id[uid] = uk\n",
    "    d_itemname_id[iid] = ik\n",
    "\n",
    "num_user = len(u_dic)\n",
    "num_item = len(i_dic)\n",
    "\n",
    "print(str(num_user)+\" users and \"+str(num_item)+\" items.\")"
   ]
  },
  {
   "cell_type": "code",
   "execution_count": 7,
   "metadata": {},
   "outputs": [
    {
     "data": {
      "text/plain": [
       "(1357, 25)"
      ]
     },
     "execution_count": 7,
     "metadata": {},
     "output_type": "execute_result"
    }
   ],
   "source": [
    "# (1) Create sparse matrix from all ratings\n",
    "Full = dok_matrix((num_user, num_item), dtype=np.float32)\n",
    "\n",
    "for uid,iid,rating in all_data:\n",
    "    Full[uid,iid] = float(rating)\n",
    "    \n",
    "    \n",
    "# (2) Factorizing matrix\n",
    "\n",
    "model = NMF(n_components=25, init='random', random_state=0, max_iter=350)\n",
    "U = model.fit_transform(Full) #users\n",
    "I = model.components_      #items\n",
    "\n",
    "I = I.transpose()\n",
    "I.shape\n"
   ]
  },
  {
   "cell_type": "code",
   "execution_count": 13,
   "metadata": {},
   "outputs": [
    {
     "name": "stdout",
     "output_type": "stream",
     "text": [
      "Number of train examples:  3305\n",
      "Number of test examples:  368\n"
     ]
    }
   ],
   "source": [
    "# We take 10% of the train set as test data\n",
    "train_mat = dok_matrix((num_user, num_item), dtype=np.float32)\n",
    "test = []\n",
    "train = []\n",
    "    \n",
    "for i,(uid,iid,rating) in enumerate(all_data):\n",
    "    if i%10 == 0: #one out of 10 is for test\n",
    "        test.append((uid,iid,rating))\n",
    "    else:\n",
    "        train.append((uid,iid,rating))\n",
    "        train_mat[uid,iid] = rating\n",
    "    \n",
    "print(\"Number of train examples: \", train_mat.nnz)\n",
    "print(\"Number of test examples: \", len(test))\n",
    "\n",
    "truth_tr = np.array([rating for (uid,iid),rating in train_mat.items()])\n",
    "truth_te = np.array([rating for uid,iid,rating in test])"
   ]
  },
  {
   "cell_type": "code",
   "execution_count": 9,
   "metadata": {},
   "outputs": [
    {
     "data": {
      "text/html": [
       "<div>\n",
       "<style scoped>\n",
       "    .dataframe tbody tr th:only-of-type {\n",
       "        vertical-align: middle;\n",
       "    }\n",
       "\n",
       "    .dataframe tbody tr th {\n",
       "        vertical-align: top;\n",
       "    }\n",
       "\n",
       "    .dataframe thead th {\n",
       "        text-align: right;\n",
       "    }\n",
       "</style>\n",
       "<table border=\"1\" class=\"dataframe\">\n",
       "  <thead>\n",
       "    <tr style=\"text-align: right;\">\n",
       "      <th></th>\n",
       "      <th>0</th>\n",
       "      <th>1</th>\n",
       "      <th>2</th>\n",
       "      <th>3</th>\n",
       "      <th>4</th>\n",
       "      <th>5</th>\n",
       "      <th>6</th>\n",
       "      <th>7</th>\n",
       "      <th>8</th>\n",
       "      <th>9</th>\n",
       "      <th>...</th>\n",
       "      <th>1347</th>\n",
       "      <th>1348</th>\n",
       "      <th>1349</th>\n",
       "      <th>1350</th>\n",
       "      <th>1351</th>\n",
       "      <th>1352</th>\n",
       "      <th>1353</th>\n",
       "      <th>1354</th>\n",
       "      <th>1355</th>\n",
       "      <th>1356</th>\n",
       "    </tr>\n",
       "  </thead>\n",
       "  <tbody>\n",
       "    <tr>\n",
       "      <th>0</th>\n",
       "      <td>NaN</td>\n",
       "      <td>7.0</td>\n",
       "      <td>8.0</td>\n",
       "      <td>10.0</td>\n",
       "      <td>10.0</td>\n",
       "      <td>8.0</td>\n",
       "      <td>8.0</td>\n",
       "      <td>10.0</td>\n",
       "      <td>10.0</td>\n",
       "      <td>6.0</td>\n",
       "      <td>...</td>\n",
       "      <td>NaN</td>\n",
       "      <td>NaN</td>\n",
       "      <td>NaN</td>\n",
       "      <td>NaN</td>\n",
       "      <td>NaN</td>\n",
       "      <td>NaN</td>\n",
       "      <td>NaN</td>\n",
       "      <td>NaN</td>\n",
       "      <td>NaN</td>\n",
       "      <td>NaN</td>\n",
       "    </tr>\n",
       "    <tr>\n",
       "      <th>1</th>\n",
       "      <td>NaN</td>\n",
       "      <td>NaN</td>\n",
       "      <td>NaN</td>\n",
       "      <td>NaN</td>\n",
       "      <td>NaN</td>\n",
       "      <td>NaN</td>\n",
       "      <td>NaN</td>\n",
       "      <td>NaN</td>\n",
       "      <td>NaN</td>\n",
       "      <td>NaN</td>\n",
       "      <td>...</td>\n",
       "      <td>NaN</td>\n",
       "      <td>NaN</td>\n",
       "      <td>NaN</td>\n",
       "      <td>NaN</td>\n",
       "      <td>NaN</td>\n",
       "      <td>NaN</td>\n",
       "      <td>NaN</td>\n",
       "      <td>NaN</td>\n",
       "      <td>NaN</td>\n",
       "      <td>NaN</td>\n",
       "    </tr>\n",
       "    <tr>\n",
       "      <th>2</th>\n",
       "      <td>NaN</td>\n",
       "      <td>NaN</td>\n",
       "      <td>NaN</td>\n",
       "      <td>NaN</td>\n",
       "      <td>NaN</td>\n",
       "      <td>NaN</td>\n",
       "      <td>NaN</td>\n",
       "      <td>NaN</td>\n",
       "      <td>NaN</td>\n",
       "      <td>NaN</td>\n",
       "      <td>...</td>\n",
       "      <td>NaN</td>\n",
       "      <td>NaN</td>\n",
       "      <td>NaN</td>\n",
       "      <td>NaN</td>\n",
       "      <td>NaN</td>\n",
       "      <td>NaN</td>\n",
       "      <td>NaN</td>\n",
       "      <td>NaN</td>\n",
       "      <td>NaN</td>\n",
       "      <td>NaN</td>\n",
       "    </tr>\n",
       "    <tr>\n",
       "      <th>3</th>\n",
       "      <td>NaN</td>\n",
       "      <td>NaN</td>\n",
       "      <td>NaN</td>\n",
       "      <td>NaN</td>\n",
       "      <td>NaN</td>\n",
       "      <td>NaN</td>\n",
       "      <td>NaN</td>\n",
       "      <td>NaN</td>\n",
       "      <td>NaN</td>\n",
       "      <td>NaN</td>\n",
       "      <td>...</td>\n",
       "      <td>NaN</td>\n",
       "      <td>NaN</td>\n",
       "      <td>NaN</td>\n",
       "      <td>NaN</td>\n",
       "      <td>NaN</td>\n",
       "      <td>NaN</td>\n",
       "      <td>NaN</td>\n",
       "      <td>NaN</td>\n",
       "      <td>NaN</td>\n",
       "      <td>NaN</td>\n",
       "    </tr>\n",
       "    <tr>\n",
       "      <th>4</th>\n",
       "      <td>NaN</td>\n",
       "      <td>NaN</td>\n",
       "      <td>NaN</td>\n",
       "      <td>NaN</td>\n",
       "      <td>NaN</td>\n",
       "      <td>NaN</td>\n",
       "      <td>NaN</td>\n",
       "      <td>NaN</td>\n",
       "      <td>NaN</td>\n",
       "      <td>NaN</td>\n",
       "      <td>...</td>\n",
       "      <td>NaN</td>\n",
       "      <td>NaN</td>\n",
       "      <td>NaN</td>\n",
       "      <td>NaN</td>\n",
       "      <td>NaN</td>\n",
       "      <td>NaN</td>\n",
       "      <td>NaN</td>\n",
       "      <td>NaN</td>\n",
       "      <td>NaN</td>\n",
       "      <td>NaN</td>\n",
       "    </tr>\n",
       "  </tbody>\n",
       "</table>\n",
       "<p>5 rows × 1357 columns</p>\n",
       "</div>"
      ],
      "text/plain": [
       "   0     1     2     3     4     5     6     7     8     9     ...  1347  \\\n",
       "0   NaN   7.0   8.0  10.0  10.0   8.0   8.0  10.0  10.0   6.0  ...   NaN   \n",
       "1   NaN   NaN   NaN   NaN   NaN   NaN   NaN   NaN   NaN   NaN  ...   NaN   \n",
       "2   NaN   NaN   NaN   NaN   NaN   NaN   NaN   NaN   NaN   NaN  ...   NaN   \n",
       "3   NaN   NaN   NaN   NaN   NaN   NaN   NaN   NaN   NaN   NaN  ...   NaN   \n",
       "4   NaN   NaN   NaN   NaN   NaN   NaN   NaN   NaN   NaN   NaN  ...   NaN   \n",
       "\n",
       "   1348  1349  1350  1351  1352  1353  1354  1355  1356  \n",
       "0   NaN   NaN   NaN   NaN   NaN   NaN   NaN   NaN   NaN  \n",
       "1   NaN   NaN   NaN   NaN   NaN   NaN   NaN   NaN   NaN  \n",
       "2   NaN   NaN   NaN   NaN   NaN   NaN   NaN   NaN   NaN  \n",
       "3   NaN   NaN   NaN   NaN   NaN   NaN   NaN   NaN   NaN  \n",
       "4   NaN   NaN   NaN   NaN   NaN   NaN   NaN   NaN   NaN  \n",
       "\n",
       "[5 rows x 1357 columns]"
      ]
     },
     "execution_count": 9,
     "metadata": {},
     "output_type": "execute_result"
    }
   ],
   "source": [
    "A_orig = np.array(train_mat.todense())\n",
    "\n",
    "#on remplace les zeros (notes absentes) par des NaN\n",
    "for i in range(num_user):\n",
    "    for j in range(num_item):\n",
    "        if A_orig[i][j] == 0.0:\n",
    "            A_orig[i][j] = np.NaN\n",
    "            \n",
    "A_df = pd.DataFrame(A_orig)\n",
    "A_df.head()"
   ]
  },
  {
   "cell_type": "markdown",
   "metadata": {},
   "source": [
    "## NMF"
   ]
  },
  {
   "cell_type": "code",
   "execution_count": 14,
   "metadata": {},
   "outputs": [],
   "source": [
    "max_comp = 200\n",
    "\n",
    "n = []\n",
    "\n",
    "test_mae_nmf = []\n",
    "\n",
    "for i in range(10, max_comp, 10) :\n",
    "    n.append(i)\n",
    "    \n",
    "    prediction_tr, prediction_te = predictions_NMF(train_mat, test, i, num_user, num_item)\n",
    "    \n",
    "    test_mae_nmf.append(MAE_err(prediction_te,truth_te))\n",
    "    "
   ]
  },
  {
   "cell_type": "markdown",
   "metadata": {},
   "source": [
    "## SVD"
   ]
  },
  {
   "cell_type": "code",
   "execution_count": 15,
   "metadata": {},
   "outputs": [],
   "source": [
    "max_comp = 200\n",
    "\n",
    "n = []\n",
    "\n",
    "test_mae_svd = []\n",
    "\n",
    "\n",
    "for i in range(10, max_comp, 10) :\n",
    "    n.append(i)\n",
    "    \n",
    "    ## SVD Model\n",
    "    model = TruncatedSVD(n_components=150)\n",
    "\n",
    "    #get submatrices\n",
    "    U_svd = model.fit_transform(train_mat)\n",
    "    I_svd = model.components_.transpose()\n",
    "    \n",
    "    #predictions\n",
    "    prediction_tr = np.array([pred_func_svd(U_svd, I_svd, u, i) for (u,i),rating in train_mat.items()])\n",
    "    prediction_te = np.array([pred_func_svd(U_svd, I_svd, u, i) for u,i,rating in test])\n",
    "    \n",
    "    \n",
    "    test_mae_svd.append(MAE_err(prediction_te,truth_te))\n"
   ]
  },
  {
   "cell_type": "markdown",
   "metadata": {},
   "source": [
    "## mSVD"
   ]
  },
  {
   "cell_type": "code",
   "execution_count": 16,
   "metadata": {},
   "outputs": [],
   "source": [
    "max_comp = 200\n",
    "\n",
    "n = []\n",
    "\n",
    "test_mae_msvd = []\n",
    "\n",
    "\n",
    "for i in range(10, max_comp, 10) :\n",
    "    n.append(i)\n",
    "    \n",
    "    # (1) compute mean of training ratings\n",
    "    mean = np.mean([rating for (uid,iid),rating in train_mat.items()])\n",
    "\n",
    "\n",
    "    # (2) mean normalize training matrix\n",
    "    tmn = dok_matrix((num_user, num_item), dtype=np.float32)\n",
    "\n",
    "    for (uid,iid), rating in train_mat.items():\n",
    "        tmn[uid,iid] = rating - mean\n",
    "\n",
    "    # (3) factorize matrix\n",
    "    model_norm = TruncatedSVD(n_components=150)\n",
    "\n",
    "    #get submatrices\n",
    "    U_msvd = model.fit_transform(tmn)\n",
    "    I_msvd = model.components_.transpose()\n",
    "\n",
    "\n",
    "    prediction_tr = np.array([pred_func_msvd(U_msvd,I_msvd, u, i,mean) for (u,i),rating in train_mat.items()])\n",
    "    prediction_te = np.array([pred_func_msvd(U_msvd, I_msvd, u, i, mean) for u,i,rating in test])\n",
    "\n",
    "    \n",
    "    test_mae_msvd.append(MAE_err(prediction_te,truth_te))"
   ]
  },
  {
   "cell_type": "markdown",
   "metadata": {},
   "source": [
    "## kSVD"
   ]
  },
  {
   "cell_type": "code",
   "execution_count": 17,
   "metadata": {},
   "outputs": [],
   "source": [
    "max_comp = 200\n",
    "\n",
    "n = []\n",
    "\n",
    "test_mae_ksvd = []\n",
    "\n",
    "\n",
    "for i in range(10, max_comp, 10) :\n",
    "    n.append(i)\n",
    "\n",
    "\n",
    "    # (1) compute means of training set\n",
    "    mean = mean\n",
    "\n",
    "    # user and item deviation to mean\n",
    "    u_means = {u:(np.mean(ratings - mean)) for u,ratings in group_by_user(train).items()}\n",
    "    i_means = {i:(np.mean(ratings) - mean) for i,ratings in group_by_item(train).items()}\n",
    "\n",
    "\n",
    "    # (2) normalize training matrix\n",
    "    tmn_k = dok_matrix((num_user, num_item), dtype=np.float32)\n",
    "\n",
    "    for (uid,iid), rating in train_mat.items():\n",
    "        tmn_k[uid,iid] = rating - mean - u_means.get(uid,0) - i_means.get(iid,0)\n",
    "\n",
    "    # (3) factorize matrix\n",
    "    model_kor = TruncatedSVD(n_components=150)\n",
    "\n",
    "\n",
    "    U_ksvd = model.fit_transform(tmn_k)\n",
    "    I_ksvd = model.components_.transpose()\n",
    "\n",
    "\n",
    "    prediction_tr = np.array([pred_func_ksvd(U_ksvd, I_ksvd, u, i, mean, u_means, i_means) for (u,i),rating in train_mat.items()])\n",
    "    prediction_te = np.array([pred_func_ksvd(U_ksvd, I_ksvd, u, i, mean, u_means, i_means) for u,i,rating in test])\n",
    "    \n",
    "    \n",
    "    test_mae_ksvd.append(MAE_err(prediction_te,truth_te))"
   ]
  },
  {
   "cell_type": "code",
   "execution_count": 19,
   "metadata": {},
   "outputs": [
    {
     "data": {
      "image/png": "[encoded data removed]",
      "text/plain": [
       "<Figure size 432x288 with 1 Axes>"
      ]
     },
     "metadata": {},
     "output_type": "display_data"
    }
   ],
   "source": [
    "plt.plot(n, test_mae_nmf, label='NMF', color='mediumvioletred')\n",
    "plt.plot(n, test_mae_svd, label='SVD', color='mediumseagreen')\n",
    "plt.plot(n, test_mae_msvd, label='mSVD', color='tomato')\n",
    "plt.plot(n, test_mae_ksvd, label='kSVD', color='steelblue')\n",
    "plt.title(\"Erreur test MAE\")\n",
    "plt.xlabel(\"nombre de composantes\")\n",
    "plt.ylabel(\"erreur\")\n",
    "plt.legend()\n",
    "plt.savefig(\"img/error/comparaison.png\")\n",
    "plt.show()"
   ]
  },
  {
   "cell_type": "code",
   "execution_count": null,
   "metadata": {},
   "outputs": [],
   "source": []
  },
  {
   "cell_type": "code",
   "execution_count": null,
   "metadata": {},
   "outputs": [],
   "source": []
  },
  {
   "cell_type": "code",
   "execution_count": null,
   "metadata": {},
   "outputs": [],
   "source": []
  },
  {
   "cell_type": "code",
   "execution_count": null,
   "metadata": {},
   "outputs": [],
   "source": []
  },
  {
   "cell_type": "code",
   "execution_count": null,
   "metadata": {},
   "outputs": [],
   "source": []
  },
  {
   "cell_type": "code",
   "execution_count": null,
   "metadata": {},
   "outputs": [],
   "source": []
  },
  {
   "cell_type": "code",
   "execution_count": null,
   "metadata": {},
   "outputs": [],
   "source": []
  },
  {
   "cell_type": "code",
   "execution_count": null,
   "metadata": {},
   "outputs": [],
   "source": []
  },
  {
   "cell_type": "code",
   "execution_count": null,
   "metadata": {},
   "outputs": [],
   "source": []
  },
  {
   "cell_type": "code",
   "execution_count": null,
   "metadata": {},
   "outputs": [],
   "source": []
  },
  {
   "cell_type": "code",
   "execution_count": null,
   "metadata": {},
   "outputs": [],
   "source": []
  },
  {
   "cell_type": "code",
   "execution_count": null,
   "metadata": {},
   "outputs": [],
   "source": []
  },
  {
   "cell_type": "code",
   "execution_count": null,
   "metadata": {},
   "outputs": [],
   "source": []
  },
  {
   "cell_type": "code",
   "execution_count": null,
   "metadata": {},
   "outputs": [],
   "source": []
  },
  {
   "cell_type": "code",
   "execution_count": null,
   "metadata": {},
   "outputs": [],
   "source": []
  }
 ],
 "metadata": {
  "kernelspec": {
   "display_name": "Python 3",
   "language": "python",
   "name": "python3"
  },
  "language_info": {
   "codemirror_mode": {
    "name": "ipython",
    "version": 3
   },
   "file_extension": ".py",
   "mimetype": "text/x-python",
   "name": "python",
   "nbconvert_exporter": "python",
   "pygments_lexer": "ipython3",
   "version": "3.5.3"
  }
 },
 "nbformat": 4,
 "nbformat_minor": 2
}
