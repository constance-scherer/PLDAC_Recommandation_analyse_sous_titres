{
 "cells": [
  {
   "cell_type": "markdown",
   "metadata": {},
   "source": [
    "# <font color='darkred'> Clustering sur les épisodes"
   ]
  },
  {
   "cell_type": "code",
   "execution_count": 1,
   "metadata": {},
   "outputs": [],
   "source": [
    "from sklearn.feature_extraction.text import CountVectorizer\n",
    "from nltk.corpus import stopwords\n",
    "import numpy as np\n",
    "import matplotlib.pyplot as plt\n",
    "import pandas as pd\n",
    "import os\n",
    "from sklearn.feature_extraction import stop_words\n",
    "import nltk\n",
    "from sklearn.feature_extraction.text import TfidfVectorizer\n",
    "import re\n",
    "import math\n",
    "from scipy import sparse"
   ]
  },
  {
   "cell_type": "code",
   "execution_count": 182,
   "metadata": {},
   "outputs": [],
   "source": [
    "import os\n",
    "import re\n",
    "import nltk\n",
    "from textblob import TextBlob\n",
    "from nltk.stem import WordNetLemmatizer\n",
    "\n",
    "def verifier_ligne(ligne):\n",
    "    \"\"\"return True si la ligne est un sous-titre, False sinon\"\"\"\n",
    "    timestamp_regex = r'[0-9]{2}:[0-9]{2}:[0-9]{2}' \n",
    "    subnumber_regex =r'^[0-9]+$'\n",
    "    \n",
    "    liste_regex = [timestamp_regex, subnumber_regex]\n",
    "\n",
    "    l = ligne.lower()\n",
    "    if \"addic7ed\" in l:\n",
    "        return False\n",
    "    #if l.startswith(\"sync\"):\n",
    "        #return False\n",
    "    for regex in liste_regex:\n",
    "        if re.match(regex, ligne):\n",
    "            return False\n",
    "    return True\n",
    "\n",
    "def transformer_ligne(ligne):\n",
    "    \"\"\"str -> str\n",
    "    effectue transformation souhaitees sur la ligne\"\"\"\n",
    "    tag_regex = r'<(/)*[a-zA-Z]+>' #to get rif of tags\n",
    "    alphanum_regex = r'\\W+'  #get rid of non alphanumeric characters\n",
    "    new_line = re.sub(tag_regex, '', ligne)\n",
    "    new_line = re.sub(r'\\W+', ' ', new_line)\n",
    "    return new_line\n",
    "\n",
    "def scan_folder(parent_folder, corp):\n",
    "    \"\"\"retourne corpus des textes contenus dans parent_folder sous forme de liste de string\"\"\"\n",
    "    # iterate over all the files in directory 'parent_folder'\n",
    "\n",
    "    for file_name in sorted(os.listdir(parent_folder)):\n",
    "        if file_name.endswith(\".txt\"):\n",
    "            path = parent_folder+\"/\"+file_name\n",
    "            fichier = open(path, \"r\", encoding = \"ISO-8859-1\")\n",
    "            lignes = fichier.readlines()\n",
    "            fichier.close()\n",
    "            \n",
    "            texte = \"\"\n",
    "            for ligne in lignes :\n",
    "                #ligne = ligne.lower()\n",
    "                if verifier_ligne(ligne):\n",
    "                    new_line = transformer_ligne(ligne)\n",
    "                    texte += new_line\n",
    "            corp.append(texte)\n",
    "        \n",
    "        else:\n",
    "            current_path = \"\".join((parent_folder, \"/\", file_name))\n",
    "            if os.path.isdir(current_path):\n",
    "                # if we're checking a sub-directory, recall this method\n",
    "                scan_folder(current_path, corp)\n",
    "    \n",
    "    return corp\n",
    "\n",
    "\n",
    "#pour eviter les variables globales utiliser get_corpus qui appelle scan_folder\n",
    "def get_corpus(parent_folder):\n",
    "    \"\"\"retourne corpus des textes contenus dans parent_folder sous forme de liste de string\"\"\"\n",
    "    c = []\n",
    "    res = scan_folder(parent_folder, c)\n",
    "    return res\n",
    "\n",
    "def stemming_tokenizer(str_input):\n",
    "    blob = TextBlob(str_input.lower())\n",
    "    tokens = blob.words\n",
    "    words = [token.stem() for token in tokens]\n",
    "    return words\n",
    "\n",
    "def lemmatizing_tokenizer(str_input):\n",
    "    lemmatizer = WordNetLemmatizer()\n",
    "    tokens = nltk.word_tokenize(str_input)\n",
    "    words = [lemmatizer.lemmatize(word, pos=\"v\") for word in tokens]\n",
    "    return words\n",
    "\n",
    "def lemmatizing_tokenizer_v2(str_input):\n",
    "    words = []\n",
    "    wnl = WordNetLemmatizer()\n",
    "    tokens_tagged =pos_tag(word_tokenize(str_input))\n",
    "    for word, tag in tokens_tagged:\n",
    "        if tag.startswith(\"NN\"):\n",
    "            word = wnl.lemmatize(word, pos='n')\n",
    "        elif tag.startswith('VB'):\n",
    "            word = wnl.lemmatize(word, pos='v')\n",
    "        elif tag.startswith('JJ'):\n",
    "            word = wnl.lemmatize(word, pos='a')\n",
    "        else:\n",
    "            pass\n",
    "        words.append(word)\n",
    "\n",
    "    return words"
   ]
  },
  {
   "cell_type": "code",
   "execution_count": 183,
   "metadata": {},
   "outputs": [],
   "source": [
    "c = get_corpus(\"/Vrac/PLDAC_addic7ed/data/1___Lost/05\")"
   ]
  },
  {
   "cell_type": "markdown",
   "metadata": {},
   "source": [
    "### <font color='darkgreen'> Ensemble de stopwords"
   ]
  },
  {
   "cell_type": "code",
   "execution_count": 80,
   "metadata": {},
   "outputs": [
    {
     "data": {
      "text/plain": [
       "436"
      ]
     },
     "execution_count": 80,
     "metadata": {},
     "output_type": "execute_result"
    }
   ],
   "source": [
    "path = \"/users/Etu6/3520166/PLDAC_Recommandation_analyse_sous_titres-master/ressources/stopwords.txt\"\n",
    "fichier = open(path, \"r\")\n",
    "lignes = fichier.readlines()\n",
    "fichier.close()\n",
    "stopwords_set = set()\n",
    "for l in lignes :\n",
    "    l = l.rstrip('\\n')\n",
    "    stopwords_set.add(l)\n",
    "len(stopwords_set)"
   ]
  },
  {
   "cell_type": "markdown",
   "metadata": {},
   "source": [
    "## <font color='darkblue'> Clustering par saison"
   ]
  },
  {
   "cell_type": "markdown",
   "metadata": {},
   "source": [
    "On veut voir si l'algo des kMeans est capable de différencier les épisodes de la saison 1 d'Avatar de la saison 2 de la même série en se basant sur les tf-idf des mots par rapport aux deux saisons.\n",
    "\n",
    "On réalise deux corpus composés des deux saisons afin de calculer séparement les tf-idf des mots par saison (sinon, c'est beaucoup plus facile de différencier des épisodes)."
   ]
  },
  {
   "cell_type": "code",
   "execution_count": 81,
   "metadata": {},
   "outputs": [],
   "source": [
    "# formation du corpus \n",
    "path_serie1 = \"/Vrac/PLDAC_addic7ed/data/175___Avatar__The_Last_Airbender/01\"\n",
    "path_serie2 = \"/Vrac/PLDAC_addic7ed/data/175___Avatar__The_Last_Airbender/02\"\n",
    "\n",
    "corpus1 = get_corpus(path_serie1)\n",
    "corpus2 = get_corpus(path_serie2)\n",
    "\n",
    "corpus = corpus1 + corpus2\n",
    "\n",
    "# ensemble de stopwords = stopwords_set"
   ]
  },
  {
   "cell_type": "code",
   "execution_count": 82,
   "metadata": {},
   "outputs": [],
   "source": [
    "vectorizer = TfidfVectorizer(stop_words = stopwords_set)\n",
    "X1 = vectorizer.fit_transform(corpus1)\n",
    "voc1 = vectorizer.get_feature_names()\n",
    "dense1 = X1.todense()\n",
    "denselist1 = dense1.tolist()\n",
    "df_tfidf1 = pd.DataFrame(denselist1, columns=voc1)\n",
    "\n",
    "vectorizer = TfidfVectorizer(stop_words = stopwords_set)\n",
    "X2 = vectorizer.fit_transform(corpus2)\n",
    "voc2 = vectorizer.get_feature_names()\n",
    "dense2 = X2.todense()\n",
    "denselist2 = dense2.tolist()\n",
    "df_tfidf2 = pd.DataFrame(denselist2, columns=voc2)"
   ]
  },
  {
   "cell_type": "code",
   "execution_count": 83,
   "metadata": {},
   "outputs": [],
   "source": [
    "frames = [df_tfidf1, df_tfidf2]\n",
    "df_tfidf = pd.concat(frames, sort=True)\n",
    "df_tfidf = df_tfidf.fillna(0)"
   ]
  },
  {
   "cell_type": "code",
   "execution_count": 87,
   "metadata": {},
   "outputs": [
    {
     "data": {
      "text/plain": [
       "41"
      ]
     },
     "execution_count": 87,
     "metadata": {},
     "output_type": "execute_result"
    }
   ],
   "source": [
    "# labels corrects pour calculer l'accuracy\n",
    "# 1 = saison 1\n",
    "# 0 = saison 2\n",
    "\n",
    "y = []\n",
    "for i in range(0, 21) :\n",
    "    y.append(1)\n",
    "for i in range(0, 20) :\n",
    "    y.append(0)\n",
    "len(y)"
   ]
  },
  {
   "cell_type": "code",
   "execution_count": 85,
   "metadata": {},
   "outputs": [],
   "source": [
    "matrix_tfidf = df_tfidf.values\n",
    "# pour la transformer en sparse matrix\n",
    "sparse_matrix_tfidf = sparse.csr_matrix(matrix_tfidf)\n",
    "from sklearn.cluster import KMeans\n",
    "kmeans = KMeans(n_clusters=2, random_state=0).fit(sparse_matrix_tfidf)\n",
    "labels = kmeans.labels_"
   ]
  },
  {
   "cell_type": "code",
   "execution_count": 86,
   "metadata": {},
   "outputs": [
    {
     "name": "stdout",
     "output_type": "stream",
     "text": [
      "Épisode 0 classé dans le groupe : 1\n",
      "Épisode 1 classé dans le groupe : 1\n",
      "Épisode 2 classé dans le groupe : 1\n",
      "Épisode 3 classé dans le groupe : 1\n",
      "Épisode 4 classé dans le groupe : 1\n",
      "Épisode 5 classé dans le groupe : 1\n",
      "Épisode 6 classé dans le groupe : 1\n",
      "Épisode 7 classé dans le groupe : 1\n",
      "Épisode 8 classé dans le groupe : 1\n",
      "Épisode 9 classé dans le groupe : 1\n",
      "Épisode 10 classé dans le groupe : 1\n",
      "Épisode 11 classé dans le groupe : 1\n",
      "Épisode 12 classé dans le groupe : 1\n",
      "Épisode 13 classé dans le groupe : 1\n",
      "Épisode 14 classé dans le groupe : 1\n",
      "Épisode 15 classé dans le groupe : 0\n",
      "Épisode 16 classé dans le groupe : 1\n",
      "Épisode 17 classé dans le groupe : 1\n",
      "Épisode 18 classé dans le groupe : 1\n",
      "Épisode 19 classé dans le groupe : 1\n",
      "Épisode 20 classé dans le groupe : 1\n",
      "Épisode 21 classé dans le groupe : 0\n",
      "Épisode 22 classé dans le groupe : 0\n",
      "Épisode 23 classé dans le groupe : 1\n",
      "Épisode 24 classé dans le groupe : 0\n",
      "Épisode 25 classé dans le groupe : 0\n",
      "Épisode 26 classé dans le groupe : 0\n",
      "Épisode 27 classé dans le groupe : 1\n",
      "Épisode 28 classé dans le groupe : 1\n",
      "Épisode 29 classé dans le groupe : 0\n",
      "Épisode 30 classé dans le groupe : 0\n",
      "Épisode 31 classé dans le groupe : 1\n",
      "Épisode 32 classé dans le groupe : 0\n",
      "Épisode 33 classé dans le groupe : 0\n",
      "Épisode 34 classé dans le groupe : 0\n",
      "Épisode 35 classé dans le groupe : 1\n",
      "Épisode 36 classé dans le groupe : 0\n",
      "Épisode 37 classé dans le groupe : 0\n",
      "Épisode 38 classé dans le groupe : 1\n",
      "Épisode 39 classé dans le groupe : 0\n",
      "Épisode 40 classé dans le groupe : 1\n"
     ]
    }
   ],
   "source": [
    "for i in range(0, len(labels)) :\n",
    "    print(\"Épisode \"+str(i)+\" classé dans le groupe : \"+str(labels[i]))"
   ]
  },
  {
   "cell_type": "code",
   "execution_count": 88,
   "metadata": {},
   "outputs": [
    {
     "name": "stdout",
     "output_type": "stream",
     "text": [
      "Accuracy = 0.8048780487804879\n"
     ]
    }
   ],
   "source": [
    "cpt = 0\n",
    "for i in range(0, len(labels)) :\n",
    "    if y[i] == labels[i] :\n",
    "        cpt += 1\n",
    "print(\"Accuracy = \"+str(cpt/len(labels)))"
   ]
  },
  {
   "cell_type": "markdown",
   "metadata": {},
   "source": [
    "Pour cet exemple, l'accuracy est bonne."
   ]
  },
  {
   "cell_type": "markdown",
   "metadata": {},
   "source": [
    "## <font color='darkblue'> Clustering par série"
   ]
  },
  {
   "cell_type": "markdown",
   "metadata": {},
   "source": [
    "On veut voir la même chose qu'avant mais cette fois-ci entre les épisodes de deux séries différentes."
   ]
  },
  {
   "cell_type": "markdown",
   "metadata": {},
   "source": [
    "### <font color='darkgreen'> Séries très différentes"
   ]
  },
  {
   "cell_type": "markdown",
   "metadata": {},
   "source": [
    "Premiers tests sur deux séries très différentes :\n",
    "- Lost\n",
    "- Avatar\n",
    "\n",
    "On s'attend à de bons résultats : le vocabulaire employé dans les deux séries est très différent."
   ]
  },
  {
   "cell_type": "code",
   "execution_count": 89,
   "metadata": {},
   "outputs": [],
   "source": [
    "# formation du corpus \n",
    "path_serie1 = \"/Vrac/PLDAC_addic7ed/data/175___Avatar__The_Last_Airbender/01\"\n",
    "path_serie2 = \"/Vrac/PLDAC_addic7ed/data/1___Lost/01\"\n",
    "\n",
    "corpus1 = get_corpus(path_serie1)\n",
    "corpus2 = get_corpus(path_serie2)\n",
    "\n",
    "corpus = corpus1 + corpus2\n",
    "\n",
    "# ensemble de stopwords = stopwords_set"
   ]
  },
  {
   "cell_type": "code",
   "execution_count": 90,
   "metadata": {},
   "outputs": [],
   "source": [
    "vectorizer = TfidfVectorizer(stop_words = stopwords_set)\n",
    "X1 = vectorizer.fit_transform(corpus1)\n",
    "voc1 = vectorizer.get_feature_names()\n",
    "dense1 = X1.todense()\n",
    "denselist1 = dense1.tolist()\n",
    "df_tfidf1 = pd.DataFrame(denselist1, columns=voc1)\n",
    "\n",
    "vectorizer = TfidfVectorizer(stop_words = stopwords_set)\n",
    "X2 = vectorizer.fit_transform(corpus2)\n",
    "voc2 = vectorizer.get_feature_names()\n",
    "dense2 = X2.todense()\n",
    "denselist2 = dense2.tolist()\n",
    "df_tfidf2 = pd.DataFrame(denselist2, columns=voc2)"
   ]
  },
  {
   "cell_type": "code",
   "execution_count": 91,
   "metadata": {},
   "outputs": [],
   "source": [
    "frames = [df_tfidf1, df_tfidf2]\n",
    "df_tfidf = pd.concat(frames, sort=True)\n",
    "df_tfidf = df_tfidf.fillna(0)"
   ]
  },
  {
   "cell_type": "code",
   "execution_count": 92,
   "metadata": {},
   "outputs": [],
   "source": [
    "matrix_tfidf = df_tfidf.values\n",
    "# pour la transformer en sparse matrix\n",
    "sparse_matrix_tfidf = sparse.csr_matrix(matrix_tfidf)\n",
    "from sklearn.cluster import KMeans\n",
    "kmeans = KMeans(n_clusters=2, random_state=0).fit(sparse_matrix_tfidf)\n",
    "labels = kmeans.labels_"
   ]
  },
  {
   "cell_type": "code",
   "execution_count": 93,
   "metadata": {},
   "outputs": [
    {
     "name": "stdout",
     "output_type": "stream",
     "text": [
      "Épisode 0 classé dans le groupe : 0\n",
      "Épisode 1 classé dans le groupe : 0\n",
      "Épisode 2 classé dans le groupe : 0\n",
      "Épisode 3 classé dans le groupe : 0\n",
      "Épisode 4 classé dans le groupe : 0\n",
      "Épisode 5 classé dans le groupe : 0\n",
      "Épisode 6 classé dans le groupe : 0\n",
      "Épisode 7 classé dans le groupe : 0\n",
      "Épisode 8 classé dans le groupe : 0\n",
      "Épisode 9 classé dans le groupe : 0\n",
      "Épisode 10 classé dans le groupe : 0\n",
      "Épisode 11 classé dans le groupe : 0\n",
      "Épisode 12 classé dans le groupe : 0\n",
      "Épisode 13 classé dans le groupe : 0\n",
      "Épisode 14 classé dans le groupe : 0\n",
      "Épisode 15 classé dans le groupe : 0\n",
      "Épisode 16 classé dans le groupe : 0\n",
      "Épisode 17 classé dans le groupe : 0\n",
      "Épisode 18 classé dans le groupe : 0\n",
      "Épisode 19 classé dans le groupe : 0\n",
      "Épisode 20 classé dans le groupe : 0\n",
      "Épisode 21 classé dans le groupe : 1\n",
      "Épisode 22 classé dans le groupe : 1\n",
      "Épisode 23 classé dans le groupe : 1\n",
      "Épisode 24 classé dans le groupe : 1\n",
      "Épisode 25 classé dans le groupe : 1\n",
      "Épisode 26 classé dans le groupe : 1\n",
      "Épisode 27 classé dans le groupe : 1\n",
      "Épisode 28 classé dans le groupe : 1\n",
      "Épisode 29 classé dans le groupe : 1\n",
      "Épisode 30 classé dans le groupe : 1\n",
      "Épisode 31 classé dans le groupe : 1\n",
      "Épisode 32 classé dans le groupe : 1\n",
      "Épisode 33 classé dans le groupe : 1\n",
      "Épisode 34 classé dans le groupe : 1\n",
      "Épisode 35 classé dans le groupe : 1\n",
      "Épisode 36 classé dans le groupe : 1\n",
      "Épisode 37 classé dans le groupe : 1\n",
      "Épisode 38 classé dans le groupe : 1\n",
      "Épisode 39 classé dans le groupe : 1\n",
      "Épisode 40 classé dans le groupe : 1\n",
      "Épisode 41 classé dans le groupe : 1\n",
      "Épisode 42 classé dans le groupe : 1\n",
      "Épisode 43 classé dans le groupe : 1\n",
      "Épisode 44 classé dans le groupe : 1\n"
     ]
    }
   ],
   "source": [
    "for i in range(0, len(labels)) :\n",
    "    print(\"Épisode \"+str(i)+\" classé dans le groupe : \"+str(labels[i]))"
   ]
  },
  {
   "cell_type": "code",
   "execution_count": 94,
   "metadata": {},
   "outputs": [
    {
     "data": {
      "text/plain": [
       "45"
      ]
     },
     "execution_count": 94,
     "metadata": {},
     "output_type": "execute_result"
    }
   ],
   "source": [
    "y = []\n",
    "for i in range(0, len(corpus1)) :\n",
    "    y.append(0)\n",
    "for i in range(0, len(corpus2)) :\n",
    "    y.append(1)\n",
    "len(y)"
   ]
  },
  {
   "cell_type": "code",
   "execution_count": 95,
   "metadata": {},
   "outputs": [
    {
     "name": "stdout",
     "output_type": "stream",
     "text": [
      "Accuracy = 1.0\n"
     ]
    }
   ],
   "source": [
    "cpt = 0\n",
    "for i in range(0, len(labels)) :\n",
    "    if y[i] == labels[i] :\n",
    "        cpt += 1\n",
    "print(\"Accuracy = \"+str(cpt/len(labels)))"
   ]
  },
  {
   "cell_type": "markdown",
   "metadata": {},
   "source": [
    "Pour ces deux séries, classification parfaite."
   ]
  },
  {
   "cell_type": "markdown",
   "metadata": {},
   "source": [
    "### <font color='darkgreen'> Séries très similaires"
   ]
  },
  {
   "cell_type": "markdown",
   "metadata": {},
   "source": [
    "On s'intéresse maintenant à deux séries avec un vocabulaire plus similaire.\n",
    "- Dr House\n",
    "- Grey's Anatomy\n",
    "\n"
   ]
  },
  {
   "cell_type": "code",
   "execution_count": 96,
   "metadata": {},
   "outputs": [],
   "source": [
    "# formation du corpus \n",
    "path_serie1 =\"/Vrac/PLDAC_addic7ed/data/30___Grey_s_Anatomy/01\"\n",
    "path_serie2 = \"/Vrac/PLDAC_addic7ed/addic7ed/15___House/01\"\n",
    "\n",
    "corpus1 = get_corpus(path_serie1)\n",
    "corpus2 = get_corpus(path_serie2)\n",
    "\n",
    "corpus = corpus1 + corpus2\n",
    "\n",
    "# ensemble de stopwords = stopwords_set"
   ]
  },
  {
   "cell_type": "code",
   "execution_count": 97,
   "metadata": {},
   "outputs": [],
   "source": [
    "vectorizer = TfidfVectorizer(stop_words = stopwords_set)\n",
    "X1 = vectorizer.fit_transform(corpus1)\n",
    "voc1 = vectorizer.get_feature_names()\n",
    "dense1 = X1.todense()\n",
    "denselist1 = dense1.tolist()\n",
    "df_tfidf1 = pd.DataFrame(denselist1, columns=voc1)\n",
    "\n",
    "vectorizer = TfidfVectorizer(stop_words = stopwords_set)\n",
    "X2 = vectorizer.fit_transform(corpus2)\n",
    "voc2 = vectorizer.get_feature_names()\n",
    "dense2 = X2.todense()\n",
    "denselist2 = dense2.tolist()\n",
    "df_tfidf2 = pd.DataFrame(denselist2, columns=voc2)"
   ]
  },
  {
   "cell_type": "code",
   "execution_count": 98,
   "metadata": {},
   "outputs": [],
   "source": [
    "frames = [df_tfidf1, df_tfidf2]\n",
    "df_tfidf = pd.concat(frames, sort=True)\n",
    "df_tfidf = df_tfidf.fillna(0)"
   ]
  },
  {
   "cell_type": "code",
   "execution_count": 99,
   "metadata": {},
   "outputs": [
    {
     "data": {
      "text/plain": [
       "31"
      ]
     },
     "execution_count": 99,
     "metadata": {},
     "output_type": "execute_result"
    }
   ],
   "source": [
    "matrix_tfidf = df_tfidf.values\n",
    "# pour la transformer en sparse matrix\n",
    "sparse_matrix_tfidf = sparse.csr_matrix(matrix_tfidf)\n",
    "from sklearn.cluster import KMeans\n",
    "kmeans = KMeans(n_clusters=2, random_state=0).fit(sparse_matrix_tfidf)\n",
    "labels = kmeans.labels_\n",
    "len(labels)"
   ]
  },
  {
   "cell_type": "code",
   "execution_count": 101,
   "metadata": {},
   "outputs": [
    {
     "name": "stdout",
     "output_type": "stream",
     "text": [
      "Épisode 0 classé dans le groupe : 0\n",
      "Épisode 1 classé dans le groupe : 0\n",
      "Épisode 2 classé dans le groupe : 0\n",
      "Épisode 3 classé dans le groupe : 0\n",
      "Épisode 4 classé dans le groupe : 0\n",
      "Épisode 5 classé dans le groupe : 1\n",
      "Épisode 6 classé dans le groupe : 0\n",
      "Épisode 7 classé dans le groupe : 0\n",
      "Épisode 8 classé dans le groupe : 1\n",
      "Épisode 9 classé dans le groupe : 1\n",
      "Épisode 10 classé dans le groupe : 1\n",
      "Épisode 11 classé dans le groupe : 1\n",
      "Épisode 12 classé dans le groupe : 1\n",
      "Épisode 13 classé dans le groupe : 1\n",
      "Épisode 14 classé dans le groupe : 1\n",
      "Épisode 15 classé dans le groupe : 1\n",
      "Épisode 16 classé dans le groupe : 1\n",
      "Épisode 17 classé dans le groupe : 1\n",
      "Épisode 18 classé dans le groupe : 1\n",
      "Épisode 19 classé dans le groupe : 1\n",
      "Épisode 20 classé dans le groupe : 1\n",
      "Épisode 21 classé dans le groupe : 1\n",
      "Épisode 22 classé dans le groupe : 1\n",
      "Épisode 23 classé dans le groupe : 1\n",
      "Épisode 24 classé dans le groupe : 1\n",
      "Épisode 25 classé dans le groupe : 1\n",
      "Épisode 26 classé dans le groupe : 1\n",
      "Épisode 27 classé dans le groupe : 1\n",
      "Épisode 28 classé dans le groupe : 1\n",
      "Épisode 29 classé dans le groupe : 1\n",
      "Épisode 30 classé dans le groupe : 1\n"
     ]
    }
   ],
   "source": [
    "for i in range(0, len(labels)) :\n",
    "    print(\"Épisode \"+str(i)+\" classé dans le groupe : \"+str(labels[i]))"
   ]
  },
  {
   "cell_type": "code",
   "execution_count": 102,
   "metadata": {},
   "outputs": [
    {
     "data": {
      "text/plain": [
       "31"
      ]
     },
     "execution_count": 102,
     "metadata": {},
     "output_type": "execute_result"
    }
   ],
   "source": [
    "y = []\n",
    "for i in range(0, len(corpus1)) :\n",
    "    y.append(0)\n",
    "for i in range(0, len(corpus2)) :\n",
    "    y.append(1)\n",
    "len(y)"
   ]
  },
  {
   "cell_type": "code",
   "execution_count": 103,
   "metadata": {},
   "outputs": [
    {
     "name": "stdout",
     "output_type": "stream",
     "text": [
      "Accuracy = 0.9354838709677419\n"
     ]
    }
   ],
   "source": [
    "cpt = 0\n",
    "for i in range(0, len(labels)) :\n",
    "    if y[i] == labels[i] :\n",
    "        cpt += 1\n",
    "print(\"Accuracy = \"+str(cpt/len(labels)))"
   ]
  },
  {
   "cell_type": "markdown",
   "metadata": {},
   "source": [
    "Ici, les deux séries utilisent un vocabulaire similaire (vocabulaire médical en plus) ce qui peut expliquer la petite baisse en accuracy. "
   ]
  },
  {
   "cell_type": "markdown",
   "metadata": {},
   "source": [
    "## <font color='darkblue'> Problèmes des noms propres"
   ]
  },
  {
   "cell_type": "markdown",
   "metadata": {},
   "source": [
    "Afin de pimenter un peu la classification, on va essayer d'enlever les noms propres, qui sont très discriminants pour différencier deux épisodes de séries différentes."
   ]
  },
  {
   "cell_type": "code",
   "execution_count": 104,
   "metadata": {},
   "outputs": [],
   "source": [
    "# formation du corpus \n",
    "path_serie1 =\"/Vrac/PLDAC_addic7ed/data/30___Grey_s_Anatomy/01\"\n",
    "path_serie2 = \"/Vrac/PLDAC_addic7ed/addic7ed/15___House/01\"\n",
    "\n",
    "corpus1 = get_corpus(path_serie1)\n",
    "corpus2 = get_corpus(path_serie2)\n",
    "\n",
    "corpus = corpus1 + corpus2\n",
    "\n",
    "# ensemble de stopwords = stopwords_set"
   ]
  },
  {
   "cell_type": "code",
   "execution_count": 106,
   "metadata": {},
   "outputs": [],
   "source": [
    "vectorizer = TfidfVectorizer(stop_words = stopwords_set)\n",
    "X1 = vectorizer.fit_transform(corpus1)\n",
    "voc1 = vectorizer.get_feature_names()\n",
    "dense1 = X1.todense()\n",
    "denselist1 = dense1.tolist()\n",
    "df_tfidf1 = pd.DataFrame(denselist1, columns=voc1)\n",
    "\n",
    "vectorizer = TfidfVectorizer(stop_words = stopwords_set)\n",
    "X2 = vectorizer.fit_transform(corpus2)\n",
    "voc2 = vectorizer.get_feature_names()\n",
    "dense2 = X2.todense()\n",
    "denselist2 = dense2.tolist()\n",
    "df_tfidf2 = pd.DataFrame(denselist2, columns=voc2)"
   ]
  },
  {
   "cell_type": "code",
   "execution_count": 107,
   "metadata": {},
   "outputs": [],
   "source": [
    "frames = [df_tfidf1, df_tfidf2]\n",
    "df_tfidf = pd.concat(frames, sort=True)\n",
    "df_tfidf = df_tfidf.fillna(0)"
   ]
  },
  {
   "cell_type": "code",
   "execution_count": 108,
   "metadata": {},
   "outputs": [
    {
     "data": {
      "text/html": [
       "<div>\n",
       "<style scoped>\n",
       "    .dataframe tbody tr th:only-of-type {\n",
       "        vertical-align: middle;\n",
       "    }\n",
       "\n",
       "    .dataframe tbody tr th {\n",
       "        vertical-align: top;\n",
       "    }\n",
       "\n",
       "    .dataframe thead th {\n",
       "        text-align: right;\n",
       "    }\n",
       "</style>\n",
       "<table border=\"1\" class=\"dataframe\">\n",
       "  <thead>\n",
       "    <tr style=\"text-align: right;\">\n",
       "      <th></th>\n",
       "      <th>top1</th>\n",
       "      <th>top2</th>\n",
       "      <th>top3</th>\n",
       "      <th>top4</th>\n",
       "      <th>top5</th>\n",
       "      <th>top6</th>\n",
       "      <th>top7</th>\n",
       "      <th>top8</th>\n",
       "      <th>top9</th>\n",
       "      <th>top10</th>\n",
       "      <th>top11</th>\n",
       "      <th>top12</th>\n",
       "      <th>top13</th>\n",
       "      <th>top14</th>\n",
       "      <th>top15</th>\n",
       "      <th>top16</th>\n",
       "      <th>top17</th>\n",
       "      <th>top18</th>\n",
       "      <th>top19</th>\n",
       "      <th>top20</th>\n",
       "    </tr>\n",
       "  </thead>\n",
       "  <tbody>\n",
       "    <tr>\n",
       "      <th>17</th>\n",
       "      <td>james</td>\n",
       "      <td>twitch</td>\n",
       "      <td>tuberculoma</td>\n",
       "      <td>whoah</td>\n",
       "      <td>wrist</td>\n",
       "      <td>victoria</td>\n",
       "      <td>pin</td>\n",
       "      <td>mri</td>\n",
       "      <td>homeless</td>\n",
       "      <td>fury</td>\n",
       "      <td>meningitis</td>\n",
       "      <td>foreman</td>\n",
       "      <td>prozac</td>\n",
       "      <td>terharg</td>\n",
       "      <td>streets</td>\n",
       "      <td>cancer</td>\n",
       "      <td>treatment</td>\n",
       "      <td>doesn</td>\n",
       "      <td>sorry</td>\n",
       "      <td>105</td>\n",
       "    </tr>\n",
       "    <tr>\n",
       "      <th>18</th>\n",
       "      <td>mark</td>\n",
       "      <td>alzheimer</td>\n",
       "      <td>attack</td>\n",
       "      <td>stacy</td>\n",
       "      <td>yoga</td>\n",
       "      <td>paris</td>\n",
       "      <td>blah</td>\n",
       "      <td>aip</td>\n",
       "      <td>mountain</td>\n",
       "      <td>encephalitis</td>\n",
       "      <td>gregg</td>\n",
       "      <td>warner</td>\n",
       "      <td>gonna</td>\n",
       "      <td>doesn</td>\n",
       "      <td>house</td>\n",
       "      <td>time</td>\n",
       "      <td>bladder</td>\n",
       "      <td>paranoia</td>\n",
       "      <td>friends</td>\n",
       "      <td>guy</td>\n",
       "    </tr>\n",
       "    <tr>\n",
       "      <th>19</th>\n",
       "      <td>meningitis</td>\n",
       "      <td>rash</td>\n",
       "      <td>form</td>\n",
       "      <td>mary</td>\n",
       "      <td>neck</td>\n",
       "      <td>blue</td>\n",
       "      <td>bleeding</td>\n",
       "      <td>ow</td>\n",
       "      <td>blood</td>\n",
       "      <td>interview</td>\n",
       "      <td>interviewing</td>\n",
       "      <td>brenda</td>\n",
       "      <td>lumbar</td>\n",
       "      <td>puncture</td>\n",
       "      <td>stomach</td>\n",
       "      <td>fine</td>\n",
       "      <td>people</td>\n",
       "      <td>asian</td>\n",
       "      <td>pool</td>\n",
       "      <td>shoes</td>\n",
       "    </tr>\n",
       "    <tr>\n",
       "      <th>20</th>\n",
       "      <td>mom</td>\n",
       "      <td>dvt</td>\n",
       "      <td>schizophrenia</td>\n",
       "      <td>vitamin</td>\n",
       "      <td>luke</td>\n",
       "      <td>gonna</td>\n",
       "      <td>birthday</td>\n",
       "      <td>meds</td>\n",
       "      <td>dr</td>\n",
       "      <td>blood</td>\n",
       "      <td>ampicillin</td>\n",
       "      <td>schizophrenic</td>\n",
       "      <td>pt</td>\n",
       "      <td>pickles</td>\n",
       "      <td>tumor</td>\n",
       "      <td>alcohol</td>\n",
       "      <td>crazy</td>\n",
       "      <td>services</td>\n",
       "      <td>praise</td>\n",
       "      <td>shrink</td>\n",
       "    </tr>\n",
       "    <tr>\n",
       "      <th>21</th>\n",
       "      <td>matt</td>\n",
       "      <td>chi</td>\n",
       "      <td>hydrolase</td>\n",
       "      <td>davis</td>\n",
       "      <td>kid</td>\n",
       "      <td>poisoned</td>\n",
       "      <td>time</td>\n",
       "      <td>son</td>\n",
       "      <td>mom</td>\n",
       "      <td>tomato</td>\n",
       "      <td>cdc</td>\n",
       "      <td>clothes</td>\n",
       "      <td>poison</td>\n",
       "      <td>pesticides</td>\n",
       "      <td>washed</td>\n",
       "      <td>bus</td>\n",
       "      <td>gonna</td>\n",
       "      <td>detergent</td>\n",
       "      <td>pesticide</td>\n",
       "      <td>disulfoton</td>\n",
       "    </tr>\n",
       "  </tbody>\n",
       "</table>\n",
       "</div>"
      ],
      "text/plain": [
       "          top1       top2           top3     top4   top5      top6      top7  \\\n",
       "17       james     twitch    tuberculoma    whoah  wrist  victoria       pin   \n",
       "18        mark  alzheimer         attack    stacy   yoga     paris      blah   \n",
       "19  meningitis       rash           form     mary   neck      blue  bleeding   \n",
       "20         mom        dvt  schizophrenia  vitamin   luke     gonna  birthday   \n",
       "21        matt        chi      hydrolase    davis    kid  poisoned      time   \n",
       "\n",
       "    top8      top9         top10         top11          top12   top13  \\\n",
       "17   mri  homeless          fury    meningitis        foreman  prozac   \n",
       "18   aip  mountain  encephalitis         gregg         warner   gonna   \n",
       "19    ow     blood     interview  interviewing         brenda  lumbar   \n",
       "20  meds        dr         blood    ampicillin  schizophrenic      pt   \n",
       "21   son       mom        tomato           cdc        clothes  poison   \n",
       "\n",
       "         top14    top15    top16      top17      top18      top19       top20  \n",
       "17     terharg  streets   cancer  treatment      doesn      sorry         105  \n",
       "18       doesn    house     time    bladder   paranoia    friends         guy  \n",
       "19    puncture  stomach     fine     people      asian       pool       shoes  \n",
       "20     pickles    tumor  alcohol      crazy   services     praise      shrink  \n",
       "21  pesticides   washed      bus      gonna  detergent  pesticide  disulfoton  "
      ]
     },
     "execution_count": 108,
     "metadata": {},
     "output_type": "execute_result"
    }
   ],
   "source": [
    "nlargest = 20\n",
    "order = np.argsort(-df_tfidf.values, axis=1)[:, :nlargest]\n",
    "result = pd.DataFrame(df_tfidf.columns[order], \n",
    "                      columns=['top{}'.format(i) for i in range(1, nlargest+1)],\n",
    "                      index=df_tfidf.index)\n",
    "result.tail()"
   ]
  },
  {
   "cell_type": "markdown",
   "metadata": {},
   "source": [
    "On voit que les tf-idf les plus élevés sont très souvent des noms propres.\n",
    "\n",
    "Le but va être de les éliminer pour chaque épisode afin de voir si les kMeans peuvent différencier sur autre chose.\n",
    "\n",
    "Dans un premier temps, on enlève, pour chaque épisode, les 20 mots dont les tf-idf sont les plus grands. C'est peut-être un peu trop, on ajustera après.\n",
    "\n",
    "Il faut soit remplacer le tf-idf de ces mots par autre chose ou bien les enlever du vocabulaire pour tous les épisodes.\n",
    "- remplacer : par un 0 ? un nombre aléatoire ? autre chose ?\n",
    "        -> on veut que ces mots ne soient plus discriminants pour la classification\n",
    "- enlever : on récupère pour chaque épisode les 20 mots avec les plus grands tf-idf et on crée un ensemble puis on enlève tous ces mots dans tous les épisodes "
   ]
  },
  {
   "cell_type": "markdown",
   "metadata": {},
   "source": [
    "### <font color='darkgreen'> Élimination du dataFrame"
   ]
  },
  {
   "cell_type": "markdown",
   "metadata": {},
   "source": [
    "On récupère pour chaque épisode les 20 mots avec les plus grands tf-idf et on crée un ensemble puis on enlève tous ces mots dans tous les épisodes."
   ]
  },
  {
   "cell_type": "code",
   "execution_count": 109,
   "metadata": {},
   "outputs": [
    {
     "data": {
      "text/plain": [
       "471"
      ]
     },
     "execution_count": 109,
     "metadata": {},
     "output_type": "execute_result"
    }
   ],
   "source": [
    "noms = result.values\n",
    "set_noms_propres = set()\n",
    "for ep in noms :\n",
    "    for mot in ep :\n",
    "        set_noms_propres.add(mot)\n",
    "liste_noms_propres = list(set_noms_propres)\n",
    "len(liste_noms_propres)"
   ]
  },
  {
   "cell_type": "code",
   "execution_count": 110,
   "metadata": {},
   "outputs": [
    {
     "data": {
      "text/html": [
       "<div>\n",
       "<style scoped>\n",
       "    .dataframe tbody tr th:only-of-type {\n",
       "        vertical-align: middle;\n",
       "    }\n",
       "\n",
       "    .dataframe tbody tr th {\n",
       "        vertical-align: top;\n",
       "    }\n",
       "\n",
       "    .dataframe thead th {\n",
       "        text-align: right;\n",
       "    }\n",
       "</style>\n",
       "<table border=\"1\" class=\"dataframe\">\n",
       "  <thead>\n",
       "    <tr style=\"text-align: right;\">\n",
       "      <th></th>\n",
       "      <th>00</th>\n",
       "      <th>000</th>\n",
       "      <th>007</th>\n",
       "      <th>00am</th>\n",
       "      <th>03</th>\n",
       "      <th>10</th>\n",
       "      <th>100</th>\n",
       "      <th>100l65</th>\n",
       "      <th>100mg</th>\n",
       "      <th>101</th>\n",
       "      <th>...</th>\n",
       "      <th>yummy</th>\n",
       "      <th>yup</th>\n",
       "      <th>zebra</th>\n",
       "      <th>zebras</th>\n",
       "      <th>zero</th>\n",
       "      <th>zeros</th>\n",
       "      <th>zit</th>\n",
       "      <th>zits</th>\n",
       "      <th>zoo</th>\n",
       "      <th>ªclickâ</th>\n",
       "    </tr>\n",
       "  </thead>\n",
       "  <tbody>\n",
       "    <tr>\n",
       "      <th>0</th>\n",
       "      <td>0.000000</td>\n",
       "      <td>0.000000</td>\n",
       "      <td>0.00000</td>\n",
       "      <td>0.000000</td>\n",
       "      <td>0.0</td>\n",
       "      <td>0.012173</td>\n",
       "      <td>0.000000</td>\n",
       "      <td>0.021025</td>\n",
       "      <td>0.0</td>\n",
       "      <td>0.0</td>\n",
       "      <td>...</td>\n",
       "      <td>0.0</td>\n",
       "      <td>0.0</td>\n",
       "      <td>0.0</td>\n",
       "      <td>0.000000</td>\n",
       "      <td>0.0</td>\n",
       "      <td>0.0</td>\n",
       "      <td>0.0</td>\n",
       "      <td>0.0</td>\n",
       "      <td>0.0</td>\n",
       "      <td>0.0</td>\n",
       "    </tr>\n",
       "    <tr>\n",
       "      <th>1</th>\n",
       "      <td>0.069274</td>\n",
       "      <td>0.000000</td>\n",
       "      <td>0.00000</td>\n",
       "      <td>0.017794</td>\n",
       "      <td>0.0</td>\n",
       "      <td>0.020605</td>\n",
       "      <td>0.000000</td>\n",
       "      <td>0.000000</td>\n",
       "      <td>0.0</td>\n",
       "      <td>0.0</td>\n",
       "      <td>...</td>\n",
       "      <td>0.0</td>\n",
       "      <td>0.0</td>\n",
       "      <td>0.0</td>\n",
       "      <td>0.017794</td>\n",
       "      <td>0.0</td>\n",
       "      <td>0.0</td>\n",
       "      <td>0.0</td>\n",
       "      <td>0.0</td>\n",
       "      <td>0.0</td>\n",
       "      <td>0.0</td>\n",
       "    </tr>\n",
       "    <tr>\n",
       "      <th>2</th>\n",
       "      <td>0.000000</td>\n",
       "      <td>0.015689</td>\n",
       "      <td>0.15689</td>\n",
       "      <td>0.000000</td>\n",
       "      <td>0.0</td>\n",
       "      <td>0.010755</td>\n",
       "      <td>0.000000</td>\n",
       "      <td>0.000000</td>\n",
       "      <td>0.0</td>\n",
       "      <td>0.0</td>\n",
       "      <td>...</td>\n",
       "      <td>0.0</td>\n",
       "      <td>0.0</td>\n",
       "      <td>0.0</td>\n",
       "      <td>0.000000</td>\n",
       "      <td>0.0</td>\n",
       "      <td>0.0</td>\n",
       "      <td>0.0</td>\n",
       "      <td>0.0</td>\n",
       "      <td>0.0</td>\n",
       "      <td>0.0</td>\n",
       "    </tr>\n",
       "    <tr>\n",
       "      <th>3</th>\n",
       "      <td>0.014648</td>\n",
       "      <td>0.000000</td>\n",
       "      <td>0.00000</td>\n",
       "      <td>0.000000</td>\n",
       "      <td>0.0</td>\n",
       "      <td>0.000000</td>\n",
       "      <td>0.076272</td>\n",
       "      <td>0.000000</td>\n",
       "      <td>0.0</td>\n",
       "      <td>0.0</td>\n",
       "      <td>...</td>\n",
       "      <td>0.0</td>\n",
       "      <td>0.0</td>\n",
       "      <td>0.0</td>\n",
       "      <td>0.000000</td>\n",
       "      <td>0.0</td>\n",
       "      <td>0.0</td>\n",
       "      <td>0.0</td>\n",
       "      <td>0.0</td>\n",
       "      <td>0.0</td>\n",
       "      <td>0.0</td>\n",
       "    </tr>\n",
       "    <tr>\n",
       "      <th>4</th>\n",
       "      <td>0.063004</td>\n",
       "      <td>0.000000</td>\n",
       "      <td>0.00000</td>\n",
       "      <td>0.000000</td>\n",
       "      <td>0.0</td>\n",
       "      <td>0.000000</td>\n",
       "      <td>0.098415</td>\n",
       "      <td>0.000000</td>\n",
       "      <td>0.0</td>\n",
       "      <td>0.0</td>\n",
       "      <td>...</td>\n",
       "      <td>0.0</td>\n",
       "      <td>0.0</td>\n",
       "      <td>0.0</td>\n",
       "      <td>0.000000</td>\n",
       "      <td>0.0</td>\n",
       "      <td>0.0</td>\n",
       "      <td>0.0</td>\n",
       "      <td>0.0</td>\n",
       "      <td>0.0</td>\n",
       "      <td>0.0</td>\n",
       "    </tr>\n",
       "  </tbody>\n",
       "</table>\n",
       "<p>5 rows × 9251 columns</p>\n",
       "</div>"
      ],
      "text/plain": [
       "         00       000      007      00am   03        10       100    100l65  \\\n",
       "0  0.000000  0.000000  0.00000  0.000000  0.0  0.012173  0.000000  0.021025   \n",
       "1  0.069274  0.000000  0.00000  0.017794  0.0  0.020605  0.000000  0.000000   \n",
       "2  0.000000  0.015689  0.15689  0.000000  0.0  0.010755  0.000000  0.000000   \n",
       "3  0.014648  0.000000  0.00000  0.000000  0.0  0.000000  0.076272  0.000000   \n",
       "4  0.063004  0.000000  0.00000  0.000000  0.0  0.000000  0.098415  0.000000   \n",
       "\n",
       "   100mg  101  ...  yummy  yup  zebra    zebras  zero  zeros  zit  zits  zoo  \\\n",
       "0    0.0  0.0  ...    0.0  0.0    0.0  0.000000   0.0    0.0  0.0   0.0  0.0   \n",
       "1    0.0  0.0  ...    0.0  0.0    0.0  0.017794   0.0    0.0  0.0   0.0  0.0   \n",
       "2    0.0  0.0  ...    0.0  0.0    0.0  0.000000   0.0    0.0  0.0   0.0  0.0   \n",
       "3    0.0  0.0  ...    0.0  0.0    0.0  0.000000   0.0    0.0  0.0   0.0  0.0   \n",
       "4    0.0  0.0  ...    0.0  0.0    0.0  0.000000   0.0    0.0  0.0   0.0  0.0   \n",
       "\n",
       "   ªclickâ  \n",
       "0      0.0  \n",
       "1      0.0  \n",
       "2      0.0  \n",
       "3      0.0  \n",
       "4      0.0  \n",
       "\n",
       "[5 rows x 9251 columns]"
      ]
     },
     "execution_count": 110,
     "metadata": {},
     "output_type": "execute_result"
    }
   ],
   "source": [
    "df_tfidf.head()"
   ]
  },
  {
   "cell_type": "code",
   "execution_count": 112,
   "metadata": {},
   "outputs": [
    {
     "data": {
      "text/html": [
       "<div>\n",
       "<style scoped>\n",
       "    .dataframe tbody tr th:only-of-type {\n",
       "        vertical-align: middle;\n",
       "    }\n",
       "\n",
       "    .dataframe tbody tr th {\n",
       "        vertical-align: top;\n",
       "    }\n",
       "\n",
       "    .dataframe thead th {\n",
       "        text-align: right;\n",
       "    }\n",
       "</style>\n",
       "<table border=\"1\" class=\"dataframe\">\n",
       "  <thead>\n",
       "    <tr style=\"text-align: right;\">\n",
       "      <th></th>\n",
       "      <th>00</th>\n",
       "      <th>000</th>\n",
       "      <th>00am</th>\n",
       "      <th>03</th>\n",
       "      <th>10</th>\n",
       "      <th>100l65</th>\n",
       "      <th>100mg</th>\n",
       "      <th>101</th>\n",
       "      <th>102</th>\n",
       "      <th>103</th>\n",
       "      <th>...</th>\n",
       "      <th>yummy</th>\n",
       "      <th>yup</th>\n",
       "      <th>zebra</th>\n",
       "      <th>zebras</th>\n",
       "      <th>zero</th>\n",
       "      <th>zeros</th>\n",
       "      <th>zit</th>\n",
       "      <th>zits</th>\n",
       "      <th>zoo</th>\n",
       "      <th>ªclickâ</th>\n",
       "    </tr>\n",
       "  </thead>\n",
       "  <tbody>\n",
       "    <tr>\n",
       "      <th>0</th>\n",
       "      <td>0.000000</td>\n",
       "      <td>0.000000</td>\n",
       "      <td>0.000000</td>\n",
       "      <td>0.0</td>\n",
       "      <td>0.012173</td>\n",
       "      <td>0.021025</td>\n",
       "      <td>0.0</td>\n",
       "      <td>0.0</td>\n",
       "      <td>0.0</td>\n",
       "      <td>0.0</td>\n",
       "      <td>...</td>\n",
       "      <td>0.0</td>\n",
       "      <td>0.0</td>\n",
       "      <td>0.0</td>\n",
       "      <td>0.000000</td>\n",
       "      <td>0.0</td>\n",
       "      <td>0.0</td>\n",
       "      <td>0.0</td>\n",
       "      <td>0.0</td>\n",
       "      <td>0.0</td>\n",
       "      <td>0.0</td>\n",
       "    </tr>\n",
       "    <tr>\n",
       "      <th>1</th>\n",
       "      <td>0.069274</td>\n",
       "      <td>0.000000</td>\n",
       "      <td>0.017794</td>\n",
       "      <td>0.0</td>\n",
       "      <td>0.020605</td>\n",
       "      <td>0.000000</td>\n",
       "      <td>0.0</td>\n",
       "      <td>0.0</td>\n",
       "      <td>0.0</td>\n",
       "      <td>0.0</td>\n",
       "      <td>...</td>\n",
       "      <td>0.0</td>\n",
       "      <td>0.0</td>\n",
       "      <td>0.0</td>\n",
       "      <td>0.017794</td>\n",
       "      <td>0.0</td>\n",
       "      <td>0.0</td>\n",
       "      <td>0.0</td>\n",
       "      <td>0.0</td>\n",
       "      <td>0.0</td>\n",
       "      <td>0.0</td>\n",
       "    </tr>\n",
       "    <tr>\n",
       "      <th>2</th>\n",
       "      <td>0.000000</td>\n",
       "      <td>0.015689</td>\n",
       "      <td>0.000000</td>\n",
       "      <td>0.0</td>\n",
       "      <td>0.010755</td>\n",
       "      <td>0.000000</td>\n",
       "      <td>0.0</td>\n",
       "      <td>0.0</td>\n",
       "      <td>0.0</td>\n",
       "      <td>0.0</td>\n",
       "      <td>...</td>\n",
       "      <td>0.0</td>\n",
       "      <td>0.0</td>\n",
       "      <td>0.0</td>\n",
       "      <td>0.000000</td>\n",
       "      <td>0.0</td>\n",
       "      <td>0.0</td>\n",
       "      <td>0.0</td>\n",
       "      <td>0.0</td>\n",
       "      <td>0.0</td>\n",
       "      <td>0.0</td>\n",
       "    </tr>\n",
       "    <tr>\n",
       "      <th>3</th>\n",
       "      <td>0.014648</td>\n",
       "      <td>0.000000</td>\n",
       "      <td>0.000000</td>\n",
       "      <td>0.0</td>\n",
       "      <td>0.000000</td>\n",
       "      <td>0.000000</td>\n",
       "      <td>0.0</td>\n",
       "      <td>0.0</td>\n",
       "      <td>0.0</td>\n",
       "      <td>0.0</td>\n",
       "      <td>...</td>\n",
       "      <td>0.0</td>\n",
       "      <td>0.0</td>\n",
       "      <td>0.0</td>\n",
       "      <td>0.000000</td>\n",
       "      <td>0.0</td>\n",
       "      <td>0.0</td>\n",
       "      <td>0.0</td>\n",
       "      <td>0.0</td>\n",
       "      <td>0.0</td>\n",
       "      <td>0.0</td>\n",
       "    </tr>\n",
       "    <tr>\n",
       "      <th>4</th>\n",
       "      <td>0.063004</td>\n",
       "      <td>0.000000</td>\n",
       "      <td>0.000000</td>\n",
       "      <td>0.0</td>\n",
       "      <td>0.000000</td>\n",
       "      <td>0.000000</td>\n",
       "      <td>0.0</td>\n",
       "      <td>0.0</td>\n",
       "      <td>0.0</td>\n",
       "      <td>0.0</td>\n",
       "      <td>...</td>\n",
       "      <td>0.0</td>\n",
       "      <td>0.0</td>\n",
       "      <td>0.0</td>\n",
       "      <td>0.000000</td>\n",
       "      <td>0.0</td>\n",
       "      <td>0.0</td>\n",
       "      <td>0.0</td>\n",
       "      <td>0.0</td>\n",
       "      <td>0.0</td>\n",
       "      <td>0.0</td>\n",
       "    </tr>\n",
       "  </tbody>\n",
       "</table>\n",
       "<p>5 rows × 8780 columns</p>\n",
       "</div>"
      ],
      "text/plain": [
       "         00       000      00am   03        10    100l65  100mg  101  102  \\\n",
       "0  0.000000  0.000000  0.000000  0.0  0.012173  0.021025    0.0  0.0  0.0   \n",
       "1  0.069274  0.000000  0.017794  0.0  0.020605  0.000000    0.0  0.0  0.0   \n",
       "2  0.000000  0.015689  0.000000  0.0  0.010755  0.000000    0.0  0.0  0.0   \n",
       "3  0.014648  0.000000  0.000000  0.0  0.000000  0.000000    0.0  0.0  0.0   \n",
       "4  0.063004  0.000000  0.000000  0.0  0.000000  0.000000    0.0  0.0  0.0   \n",
       "\n",
       "   103  ...  yummy  yup  zebra    zebras  zero  zeros  zit  zits  zoo  ªclickâ  \n",
       "0  0.0  ...    0.0  0.0    0.0  0.000000   0.0    0.0  0.0   0.0  0.0      0.0  \n",
       "1  0.0  ...    0.0  0.0    0.0  0.017794   0.0    0.0  0.0   0.0  0.0      0.0  \n",
       "2  0.0  ...    0.0  0.0    0.0  0.000000   0.0    0.0  0.0   0.0  0.0      0.0  \n",
       "3  0.0  ...    0.0  0.0    0.0  0.000000   0.0    0.0  0.0   0.0  0.0      0.0  \n",
       "4  0.0  ...    0.0  0.0    0.0  0.000000   0.0    0.0  0.0   0.0  0.0      0.0  \n",
       "\n",
       "[5 rows x 8780 columns]"
      ]
     },
     "execution_count": 112,
     "metadata": {},
     "output_type": "execute_result"
    }
   ],
   "source": [
    "# pour se débarasser des colonnes\n",
    "df_copy = df_tfidf.copy()\n",
    "\n",
    "for mot in liste_noms_propres :\n",
    "    df_copy = df_copy.drop(mot, axis=1)\n",
    "    \n",
    "df_copy.head()"
   ]
  },
  {
   "cell_type": "code",
   "execution_count": 107,
   "metadata": {},
   "outputs": [],
   "source": [
    "vectorizer = TfidfVectorizer(stop_words = stopwords_set)\n",
    "X = vectorizer.fit_transform(corpus)\n",
    "feature_names = vectorizer.get_feature_names()\n",
    "dico = vectorizer.get_feature_names()\n",
    "dense = X.todense()\n",
    "denselist = dense.tolist()\n",
    "df_tfidf = pd.DataFrame(denselist, columns=feature_names)"
   ]
  },
  {
   "cell_type": "code",
   "execution_count": 149,
   "metadata": {},
   "outputs": [
    {
     "data": {
      "text/plain": [
       "31"
      ]
     },
     "execution_count": 149,
     "metadata": {},
     "output_type": "execute_result"
    }
   ],
   "source": [
    "matrix_tfidf = df_copy.values\n",
    "# pour la transformer en sparse matrix\n",
    "sparse_matrix_tfidf = sparse.csr_matrix(matrix_tfidf)\n",
    "from sklearn.cluster import KMeans\n",
    "kmeans = KMeans(n_clusters=2, random_state=0).fit(sparse_matrix_tfidf)\n",
    "labels = kmeans.labels_\n",
    "len(labels)"
   ]
  },
  {
   "cell_type": "code",
   "execution_count": 114,
   "metadata": {},
   "outputs": [
    {
     "name": "stdout",
     "output_type": "stream",
     "text": [
      "Épisode 0 classé dans le groupe : 0\n",
      "Épisode 1 classé dans le groupe : 0\n",
      "Épisode 2 classé dans le groupe : 0\n",
      "Épisode 3 classé dans le groupe : 0\n",
      "Épisode 4 classé dans le groupe : 0\n",
      "Épisode 5 classé dans le groupe : 0\n",
      "Épisode 6 classé dans le groupe : 0\n",
      "Épisode 7 classé dans le groupe : 0\n",
      "Épisode 8 classé dans le groupe : 0\n",
      "Épisode 9 classé dans le groupe : 0\n",
      "Épisode 10 classé dans le groupe : 0\n",
      "Épisode 11 classé dans le groupe : 0\n",
      "Épisode 12 classé dans le groupe : 0\n",
      "Épisode 13 classé dans le groupe : 0\n",
      "Épisode 14 classé dans le groupe : 0\n",
      "Épisode 15 classé dans le groupe : 0\n",
      "Épisode 16 classé dans le groupe : 0\n",
      "Épisode 17 classé dans le groupe : 0\n",
      "Épisode 18 classé dans le groupe : 0\n",
      "Épisode 19 classé dans le groupe : 0\n",
      "Épisode 20 classé dans le groupe : 0\n",
      "Épisode 21 classé dans le groupe : 0\n",
      "Épisode 22 classé dans le groupe : 0\n",
      "Épisode 23 classé dans le groupe : 0\n",
      "Épisode 24 classé dans le groupe : 0\n",
      "Épisode 25 classé dans le groupe : 0\n",
      "Épisode 26 classé dans le groupe : 0\n",
      "Épisode 27 classé dans le groupe : 0\n",
      "Épisode 28 classé dans le groupe : 1\n",
      "Épisode 29 classé dans le groupe : 0\n",
      "Épisode 30 classé dans le groupe : 0\n"
     ]
    }
   ],
   "source": [
    "for i in range(0, len(labels)) :\n",
    "    print(\"Épisode \"+str(i)+\" classé dans le groupe : \"+str(labels[i]))"
   ]
  },
  {
   "cell_type": "code",
   "execution_count": 144,
   "metadata": {},
   "outputs": [
    {
     "data": {
      "text/plain": [
       "31"
      ]
     },
     "execution_count": 144,
     "metadata": {},
     "output_type": "execute_result"
    }
   ],
   "source": [
    "y = []\n",
    "for i in range(0, len(corpus1)) :\n",
    "    y.append(1)\n",
    "for i in range(0, len(corpus2)) :\n",
    "    y.append(0)\n",
    "len(y)"
   ]
  },
  {
   "cell_type": "code",
   "execution_count": 145,
   "metadata": {},
   "outputs": [
    {
     "name": "stdout",
     "output_type": "stream",
     "text": [
      "Accuracy = 0.6774193548387096\n"
     ]
    }
   ],
   "source": [
    "cpt = 0\n",
    "for i in range(0, len(labels)) :\n",
    "    if y[i] == labels[i] :\n",
    "        cpt += 1\n",
    "print(\"Accuracy = \"+str(cpt/len(labels)))"
   ]
  },
  {
   "cell_type": "markdown",
   "metadata": {},
   "source": [
    "Accuracy assez mauvaise, dans les affectations, on peut voir que tous les épisodes sauf un sont classés dans le groupe 0."
   ]
  },
  {
   "cell_type": "markdown",
   "metadata": {},
   "source": [
    "## <font color='darkblue'> Des petites fonctions propres"
   ]
  },
  {
   "cell_type": "code",
   "execution_count": 118,
   "metadata": {},
   "outputs": [],
   "source": [
    "def accuracy(labels, y) :\n",
    "    \"\"\"\n",
    "    labels : labels prédis \n",
    "    y : labels corrects\n",
    "    renvoie l'accuracy\n",
    "    \"\"\"\n",
    "\n",
    "    cpt = 0\n",
    "    for i in range(0, len(labels)) :\n",
    "        if y[i] == labels[i] :\n",
    "            cpt += 1\n",
    "    \n",
    "    return cpt/len(labels)"
   ]
  },
  {
   "cell_type": "code",
   "execution_count": 131,
   "metadata": {},
   "outputs": [],
   "source": [
    "def retirer_n_premiers(n, df_tfidf) :\n",
    "\n",
    "    nlargest = n\n",
    "    order = np.argsort(-df_tfidf.values, axis=1)[:, :nlargest]\n",
    "    result = pd.DataFrame(df_tfidf.columns[order], \n",
    "                          columns=['top{}'.format(i) for i in range(1, nlargest+1)],\n",
    "                          index=df_tfidf.index)\n",
    "\n",
    "\n",
    "    noms = result.values\n",
    "    set_noms_propres = set()\n",
    "    for ep in noms :\n",
    "        for mot in ep :\n",
    "            set_noms_propres.add(mot)\n",
    "    liste_noms_propres = list(set_noms_propres)\n",
    "    len(liste_noms_propres)\n",
    "\n",
    "    # pour se débarasser des colonnes\n",
    "    df_copy = df_tfidf.copy()\n",
    "\n",
    "    for mot in liste_noms_propres :\n",
    "        df_copy = df_copy.drop(mot, axis=1)\n",
    "\n",
    "    \n",
    "    return df_copy"
   ]
  },
  {
   "cell_type": "code",
   "execution_count": 187,
   "metadata": {},
   "outputs": [],
   "source": [
    "def calcul_labels_corrects(corpus1, corpus2, labels) :\n",
    "    \n",
    "    y = []\n",
    "    for i in range(0, len(corpus1)) :\n",
    "        y.append(1)\n",
    "    for i in range(0, len(corpus2)) :\n",
    "        y.append(0)\n",
    "    \n",
    "    return y"
   ]
  },
  {
   "cell_type": "code",
   "execution_count": 188,
   "metadata": {},
   "outputs": [],
   "source": [
    "def classif_deux_series(path_serie1, path_serie2, stopwords_set, n=0) :\n",
    "    \"\"\"\n",
    "    pour classifier deux séries\n",
    "    on enlève les n plus grands tf-idf\n",
    "    \"\"\"\n",
    "    corpus1 = get_corpus(path_serie1)\n",
    "    corpus2 = get_corpus(path_serie2)\n",
    "    corpus = corpus1 + corpus2\n",
    "    \n",
    "    \n",
    "    vectorizer = TfidfVectorizer(stop_words = stopwords_set)\n",
    "    X1 = vectorizer.fit_transform(corpus1)\n",
    "    voc1 = vectorizer.get_feature_names()\n",
    "    dense1 = X1.todense()\n",
    "    denselist1 = dense1.tolist()\n",
    "    df_tfidf1 = pd.DataFrame(denselist1, columns=voc1)\n",
    "\n",
    "    vectorizer = TfidfVectorizer(stop_words = stopwords_set)\n",
    "    X2 = vectorizer.fit_transform(corpus2)\n",
    "    voc2 = vectorizer.get_feature_names()\n",
    "    dense2 = X2.todense()\n",
    "    denselist2 = dense2.tolist()\n",
    "    df_tfidf2 = pd.DataFrame(denselist2, columns=voc2)\n",
    "    \n",
    "    frames = [df_tfidf1, df_tfidf2]\n",
    "    df_tfidf = pd.concat(frames, sort=True)\n",
    "    df_tfidf = df_tfidf.fillna(0)\n",
    "    \n",
    "    if(n != 0) :\n",
    "        df_tfidf = retirer_n_premiers(n, df_tfidf)\n",
    "    \n",
    "    matrix_tfidf = df_tfidf.values\n",
    "    # pour la transformer en sparse matrix\n",
    "    sparse_matrix_tfidf = sparse.csr_matrix(matrix_tfidf)\n",
    "    from sklearn.cluster import KMeans\n",
    "    kmeans = KMeans(n_clusters=2, random_state=0, n_jobs=-1).fit(sparse_matrix_tfidf)\n",
    "    \n",
    "    labels = kmeans.labels_\n",
    "    \n",
    "    y = calcul_labels_corrects(corpus1, corpus2, labels)\n",
    "    \n",
    "    return labels, y"
   ]
  },
  {
   "cell_type": "code",
   "execution_count": 189,
   "metadata": {},
   "outputs": [
    {
     "data": {
      "text/plain": [
       "0.6829268292682927"
      ]
     },
     "execution_count": 189,
     "metadata": {},
     "output_type": "execute_result"
    }
   ],
   "source": [
    "path_serie1 = \"/Vrac/PLDAC_addic7ed/data/175___Avatar__The_Last_Airbender/01\"\n",
    "path_serie2 = \"/Vrac/PLDAC_addic7ed/data/175___Avatar__The_Last_Airbender/02\"\n",
    "\n",
    "l, y = classif_deux_series(path_serie1, path_serie2, stopwords_set)\n",
    "accuracy(l, y)"
   ]
  },
  {
   "cell_type": "code",
   "execution_count": 153,
   "metadata": {},
   "outputs": [],
   "source": [
    "import matplotlib.pyplot as plt"
   ]
  },
  {
   "cell_type": "code",
   "execution_count": 190,
   "metadata": {},
   "outputs": [
    {
     "data": {
      "text/plain": [
       "[<matplotlib.lines.Line2D at 0x7f5b97470e80>]"
      ]
     },
     "execution_count": 190,
     "metadata": {},
     "output_type": "execute_result"
    },
    {
     "data": {
      "image/png": "[encoded data removed]",
      "text/plain": [
       "<Figure size 432x288 with 1 Axes>"
      ]
     },
     "metadata": {},
     "output_type": "display_data"
    }
   ],
   "source": [
    "n = 20\n",
    "x = range(0, n)\n",
    "acc = []\n",
    "for i in x :\n",
    "    l, y = classif_deux_series(path_serie1, path_serie2, stopwords_set, i)\n",
    "    acc.append(accuracy(l, y))\n",
    "\n",
    "plt.plot(x, acc, color='deeppink')"
   ]
  },
  {
   "cell_type": "code",
   "execution_count": null,
   "metadata": {},
   "outputs": [],
   "source": []
  },
  {
   "cell_type": "code",
   "execution_count": null,
   "metadata": {},
   "outputs": [],
   "source": []
  },
  {
   "cell_type": "code",
   "execution_count": null,
   "metadata": {},
   "outputs": [],
   "source": []
  },
  {
   "cell_type": "code",
   "execution_count": null,
   "metadata": {},
   "outputs": [],
   "source": []
  },
  {
   "cell_type": "code",
   "execution_count": null,
   "metadata": {},
   "outputs": [],
   "source": []
  },
  {
   "cell_type": "code",
   "execution_count": null,
   "metadata": {},
   "outputs": [],
   "source": []
  },
  {
   "cell_type": "code",
   "execution_count": null,
   "metadata": {},
   "outputs": [],
   "source": []
  },
  {
   "cell_type": "code",
   "execution_count": null,
   "metadata": {},
   "outputs": [],
   "source": []
  },
  {
   "cell_type": "code",
   "execution_count": null,
   "metadata": {},
   "outputs": [],
   "source": []
  }
 ],
 "metadata": {
  "kernelspec": {
   "display_name": "Python 3",
   "language": "python",
   "name": "python3"
  },
  "language_info": {
   "codemirror_mode": {
    "name": "ipython",
    "version": 3
   },
   "file_extension": ".py",
   "mimetype": "text/x-python",
   "name": "python",
   "nbconvert_exporter": "python",
   "pygments_lexer": "ipython3",
   "version": "3.5.3"
  }
 },
 "nbformat": 4,
 "nbformat_minor": 2
}
