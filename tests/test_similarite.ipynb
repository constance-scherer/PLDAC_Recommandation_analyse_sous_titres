{
 "cells": [
  {
   "cell_type": "markdown",
   "metadata": {},
   "source": [
    "# Similarités entre deux épsiodes"
   ]
  },
  {
   "cell_type": "code",
   "execution_count": 46,
   "metadata": {},
   "outputs": [],
   "source": [
    "from sklearn.feature_extraction.text import CountVectorizer\n",
    "from nltk.corpus import stopwords\n",
    "import numpy as np\n",
    "import matplotlib.pyplot as plt\n",
    "import pandas as pd\n",
    "import os\n",
    "from sklearn.feature_extraction import stop_words\n",
    "import nltk\n",
    "from sklearn.feature_extraction.text import TfidfVectorizer\n",
    "import re\n",
    "import math"
   ]
  },
  {
   "cell_type": "code",
   "execution_count": 29,
   "metadata": {},
   "outputs": [],
   "source": [
    "voc = {'hello', 'bonjour', 'hallo', 'coucou', 'salut'}\n",
    "v1 = 'hello bonjour salut '\n",
    "v2 = 'hello salut coucou '\n",
    "v3 = 'hallo hallo hallo '\n",
    "\n",
    "texte = v1 + v2 + v3\n",
    "liste = [v1, v2, v3]"
   ]
  },
  {
   "cell_type": "code",
   "execution_count": 30,
   "metadata": {},
   "outputs": [
    {
     "data": {
      "text/plain": [
       "['bonjour', 'coucou', 'hallo', 'hello', 'salut']"
      ]
     },
     "execution_count": 30,
     "metadata": {},
     "output_type": "execute_result"
    }
   ],
   "source": [
    "corpus = [texte]\n",
    "vectorizer = CountVectorizer()\n",
    "X = vectorizer.fit_transform(corpus)\n",
    "voc = vectorizer.get_feature_names()\n",
    "voc"
   ]
  },
  {
   "cell_type": "code",
   "execution_count": 31,
   "metadata": {},
   "outputs": [
    {
     "data": {
      "text/plain": [
       "['hello', 'bonjour', 'salut', '']"
      ]
     },
     "execution_count": 31,
     "metadata": {},
     "output_type": "execute_result"
    }
   ],
   "source": [
    "v1.split(\" \")"
   ]
  },
  {
   "cell_type": "code",
   "execution_count": 32,
   "metadata": {},
   "outputs": [
    {
     "data": {
      "text/plain": [
       "[[1, 0, 0, 1, 1], [0, 1, 0, 1, 1], [0, 0, 1, 0, 0]]"
      ]
     },
     "execution_count": 32,
     "metadata": {},
     "output_type": "execute_result"
    }
   ],
   "source": [
    "m = []\n",
    "for t in liste :\n",
    "    mots = t.split(' ')\n",
    "    v = []\n",
    "    for mot in voc :\n",
    "        if mot in t :\n",
    "            v.append(1)\n",
    "        else:\n",
    "            v.append(0)\n",
    "    \n",
    "    m.append(v)\n",
    "    \n",
    "m"
   ]
  },
  {
   "cell_type": "code",
   "execution_count": 34,
   "metadata": {},
   "outputs": [],
   "source": [
    "def distance_euclidienne(v1, v2) :\n",
    "    d = 0\n",
    "    for i in range(0, len(v1)) :\n",
    "        d += (v1[i] - v2[i])**2\n",
    "    \n",
    "    return math.sqrt(d)"
   ]
  },
  {
   "cell_type": "code",
   "execution_count": 36,
   "metadata": {},
   "outputs": [
    {
     "data": {
      "text/plain": [
       "2.0"
      ]
     },
     "execution_count": 36,
     "metadata": {},
     "output_type": "execute_result"
    }
   ],
   "source": [
    "distance_euclidienne(m[0], m[2])"
   ]
  },
  {
   "cell_type": "code",
   "execution_count": 43,
   "metadata": {},
   "outputs": [
    {
     "name": "stdout",
     "output_type": "stream",
     "text": [
      "hello bonjour salut  hello salut coucou \n"
     ]
    }
   ],
   "source": [
    "d_min = 100000\n",
    "i_1, i_2 = (0, 0)\n",
    "for i in range(0, len(m)) :\n",
    "    v1 = m[i]\n",
    "    for j in range(0, len(m)) :\n",
    "        v2 = m[j]\n",
    "        if( v1 != v2):\n",
    "            d = distance_euclidienne(v1, v2)\n",
    "            if d_min > d :\n",
    "                d_min = d\n",
    "                i_1 = i\n",
    "                i_2 = j\n",
    "                \n",
    "print(liste[i_1], liste[i_2])"
   ]
  },
  {
   "cell_type": "code",
   "execution_count": 89,
   "metadata": {},
   "outputs": [],
   "source": [
    "def verifier_ligne(ligne):\n",
    "    \"\"\"\n",
    "    return True si la ligne est un sous-titre, False sinon\n",
    "    \"\"\"\n",
    "    timestamp_regex = r'[0-9]{2}:[0-9]{2}:[0-9]{2}' \n",
    "    subnumber_regex =r'^[0-9]+$'\n",
    "    liste_regex = [timestamp_regex, subnumber_regex]\n",
    "\n",
    "    for regex in liste_regex:\n",
    "        if re.match(regex, ligne):\n",
    "            return False\n",
    "    return True\n",
    "\n",
    "def preprocessing_fichier(nom_fichier) :\n",
    "    \"\"\"\n",
    "    string -> string\n",
    "    à partir du nom d'un fichier de sous-titres, renvoie le texte des sous-titres\n",
    "    \"\"\"\n",
    "    fichier = open(nom_fichier, 'r', encoding = \"ISO-8859-1\")\n",
    "    lignes = fichier.readlines()\n",
    "    fichier.close()\n",
    "    texte = \"\"\n",
    "    for ligne in lignes :\n",
    "        if verifier_ligne(ligne) :\n",
    "\n",
    "            m = re.sub(r'[^\\w'+\"-\"']', ' ', ligne)\n",
    "            \n",
    "            texte += m\n",
    "    \n",
    "    return texte\n",
    "\n",
    "\n",
    "def scan_folder(parent_folder, corp):\n",
    "    \"\"\"\n",
    "    retourne corpus des textes contenus dans parent_folder sous forme de liste de string\n",
    "    \"\"\"\n",
    "    # iterate over all the files in directory 'parent_folder'\n",
    "    for file_name in os.listdir(parent_folder):\n",
    "        if file_name.endswith(\".txt\"):\n",
    "            path = parent_folder+\"/\"+file_name\n",
    "            \n",
    "            texte = preprocessing_fichier(path)\n",
    "            \n",
    "            corp.append(texte)\n",
    "        \n",
    "        else:\n",
    "            current_path = \"\".join((parent_folder, \"/\", file_name))\n",
    "            if os.path.isdir(current_path):\n",
    "                # if we're checking a sub-directory, recall this method\n",
    "                scan_folder(current_path, corp)\n",
    "    \n",
    "    return corp\n",
    "\n",
    "\n",
    "#pour eviter les variables globales\n",
    "def get_corpus(parent_folder):\n",
    "    c = []\n",
    "    res = scan_folder(parent_folder, c)\n",
    "    return res\n",
    "\n",
    "\n",
    "def get_hist(df, x_axis, y_axis, titre, colour, font_size=None, horizontal=False):\n",
    "    \"\"\"\n",
    "    \n",
    "    \"\"\"\n",
    "    if horizontal:\n",
    "        hist = df.plot.barh(x=x_axis, y=y_axis, color=colour, title =titre, fontsize = font_size, edgecolor = \"none\").get_figure()\n",
    "    else:\n",
    "        hist = df.plot.bar(x=x_axis, y=y_axis, color=colour, title =titre, fontsize = font_size, edgecolor = \"none\").get_figure()\n",
    "    path_fig = \"img/\"+titre+'.png'\n",
    "    hist.savefig(path_fig,  bbox_inches=\"tight\")"
   ]
  },
  {
   "cell_type": "code",
   "execution_count": 90,
   "metadata": {},
   "outputs": [],
   "source": [
    "corpus = get_corpus(\"data/175___Avatar__The_Last_Airbender/01\") # liste des épisodes\n",
    "#definition de l'ensemble de stopwords\n",
    "nltk_sw = set(stopwords.words('english'))\n",
    "sklearn_sw = set(stop_words.ENGLISH_STOP_WORDS)\n",
    "stopwords_set = nltk_sw | sklearn_sw\n",
    "l_nb = [str(i) for i in range(1000000)]\n",
    "l_mots = [\"don\", \"yeah\", \"hey\", \"okay\", \"oh\", \"uh\", \"yes\", \"ok\"]\n",
    "for mot in l_mots :\n",
    "    stopwords_set.add(mot)\n",
    "for nb in l_nb:\n",
    "    stopwords_set.add(nb)"
   ]
  },
  {
   "cell_type": "code",
   "execution_count": 91,
   "metadata": {},
   "outputs": [
    {
     "data": {
      "text/plain": [
       "3332"
      ]
     },
     "execution_count": 91,
     "metadata": {},
     "output_type": "execute_result"
    }
   ],
   "source": [
    "vectorizer = CountVectorizer(stop_words = stopwords_set)\n",
    "X = vectorizer.fit_transform(corpus)\n",
    "voca = vectorizer.get_feature_names() # liste du vocabulaire (en enlevant les stopwords) par ordre alphabétique\n",
    "len(voca)"
   ]
  },
  {
   "cell_type": "code",
   "execution_count": 56,
   "metadata": {},
   "outputs": [],
   "source": [
    "from nltk.stem import PorterStemmer\n",
    "from nltk.tokenize import sent_tokenize, word_tokenize"
   ]
  },
  {
   "cell_type": "code",
   "execution_count": 92,
   "metadata": {},
   "outputs": [],
   "source": [
    "ps = PorterStemmer()\n",
    "voca_stem = set()\n",
    "for word in voca:\n",
    "    voca_stem.add(ps.stem(word))\n",
    "voca_stem = sorted(list(voca_stem))\n"
   ]
  },
  {
   "cell_type": "code",
   "execution_count": 93,
   "metadata": {},
   "outputs": [
    {
     "data": {
      "text/html": [
       "<div>\n",
       "<style scoped>\n",
       "    .dataframe tbody tr th:only-of-type {\n",
       "        vertical-align: middle;\n",
       "    }\n",
       "\n",
       "    .dataframe tbody tr th {\n",
       "        vertical-align: top;\n",
       "    }\n",
       "\n",
       "    .dataframe thead th {\n",
       "        text-align: right;\n",
       "    }\n",
       "</style>\n",
       "<table border=\"1\" class=\"dataframe\">\n",
       "  <thead>\n",
       "    <tr style=\"text-align: right;\">\n",
       "      <th></th>\n",
       "      <th>gonna</th>\n",
       "      <th>good</th>\n",
       "      <th>goodbye</th>\n",
       "      <th>goodness</th>\n",
       "      <th>goodnight</th>\n",
       "      <th>gooey</th>\n",
       "      <th>goofy</th>\n",
       "      <th>got</th>\n",
       "      <th>gotta</th>\n",
       "      <th>gotten</th>\n",
       "      <th>...</th>\n",
       "      <th>yu</th>\n",
       "      <th>yue</th>\n",
       "      <th>yugoda</th>\n",
       "      <th>yup</th>\n",
       "      <th>zhang</th>\n",
       "      <th>zhangs</th>\n",
       "      <th>zhao</th>\n",
       "      <th>zigzags</th>\n",
       "      <th>zone</th>\n",
       "      <th>zuko</th>\n",
       "    </tr>\n",
       "  </thead>\n",
       "  <tbody>\n",
       "    <tr>\n",
       "      <th>0</th>\n",
       "      <td>0.045290</td>\n",
       "      <td>0.064909</td>\n",
       "      <td>0.019577</td>\n",
       "      <td>0.0</td>\n",
       "      <td>0.0</td>\n",
       "      <td>0.0</td>\n",
       "      <td>0.0</td>\n",
       "      <td>0.059264</td>\n",
       "      <td>0.015010</td>\n",
       "      <td>0.00000</td>\n",
       "      <td>...</td>\n",
       "      <td>0.0</td>\n",
       "      <td>0.0</td>\n",
       "      <td>0.0</td>\n",
       "      <td>0.000000</td>\n",
       "      <td>0.0</td>\n",
       "      <td>0.0</td>\n",
       "      <td>0.0</td>\n",
       "      <td>0.000000</td>\n",
       "      <td>0.0</td>\n",
       "      <td>0.054517</td>\n",
       "    </tr>\n",
       "    <tr>\n",
       "      <th>1</th>\n",
       "      <td>0.058033</td>\n",
       "      <td>0.099806</td>\n",
       "      <td>0.000000</td>\n",
       "      <td>0.0</td>\n",
       "      <td>0.0</td>\n",
       "      <td>0.0</td>\n",
       "      <td>0.0</td>\n",
       "      <td>0.036450</td>\n",
       "      <td>0.030772</td>\n",
       "      <td>0.03171</td>\n",
       "      <td>...</td>\n",
       "      <td>0.0</td>\n",
       "      <td>0.0</td>\n",
       "      <td>0.0</td>\n",
       "      <td>0.000000</td>\n",
       "      <td>0.0</td>\n",
       "      <td>0.0</td>\n",
       "      <td>0.0</td>\n",
       "      <td>0.000000</td>\n",
       "      <td>0.0</td>\n",
       "      <td>0.000000</td>\n",
       "    </tr>\n",
       "    <tr>\n",
       "      <th>2</th>\n",
       "      <td>0.024527</td>\n",
       "      <td>0.011717</td>\n",
       "      <td>0.000000</td>\n",
       "      <td>0.0</td>\n",
       "      <td>0.0</td>\n",
       "      <td>0.0</td>\n",
       "      <td>0.0</td>\n",
       "      <td>0.000000</td>\n",
       "      <td>0.000000</td>\n",
       "      <td>0.00000</td>\n",
       "      <td>...</td>\n",
       "      <td>0.0</td>\n",
       "      <td>0.0</td>\n",
       "      <td>0.0</td>\n",
       "      <td>0.027785</td>\n",
       "      <td>0.0</td>\n",
       "      <td>0.0</td>\n",
       "      <td>0.0</td>\n",
       "      <td>0.000000</td>\n",
       "      <td>0.0</td>\n",
       "      <td>0.029524</td>\n",
       "    </tr>\n",
       "    <tr>\n",
       "      <th>3</th>\n",
       "      <td>0.071558</td>\n",
       "      <td>0.051278</td>\n",
       "      <td>0.010310</td>\n",
       "      <td>0.0</td>\n",
       "      <td>0.0</td>\n",
       "      <td>0.0</td>\n",
       "      <td>0.0</td>\n",
       "      <td>0.037455</td>\n",
       "      <td>0.015810</td>\n",
       "      <td>0.00000</td>\n",
       "      <td>...</td>\n",
       "      <td>0.0</td>\n",
       "      <td>0.0</td>\n",
       "      <td>0.0</td>\n",
       "      <td>0.013511</td>\n",
       "      <td>0.0</td>\n",
       "      <td>0.0</td>\n",
       "      <td>0.0</td>\n",
       "      <td>0.018499</td>\n",
       "      <td>0.0</td>\n",
       "      <td>0.000000</td>\n",
       "    </tr>\n",
       "    <tr>\n",
       "      <th>4</th>\n",
       "      <td>0.011463</td>\n",
       "      <td>0.043808</td>\n",
       "      <td>0.000000</td>\n",
       "      <td>0.0</td>\n",
       "      <td>0.0</td>\n",
       "      <td>0.0</td>\n",
       "      <td>0.0</td>\n",
       "      <td>0.071997</td>\n",
       "      <td>0.000000</td>\n",
       "      <td>0.00000</td>\n",
       "      <td>...</td>\n",
       "      <td>0.0</td>\n",
       "      <td>0.0</td>\n",
       "      <td>0.0</td>\n",
       "      <td>0.000000</td>\n",
       "      <td>0.0</td>\n",
       "      <td>0.0</td>\n",
       "      <td>0.0</td>\n",
       "      <td>0.000000</td>\n",
       "      <td>0.0</td>\n",
       "      <td>0.000000</td>\n",
       "    </tr>\n",
       "  </tbody>\n",
       "</table>\n",
       "<p>5 rows × 2134 columns</p>\n",
       "</div>"
      ],
      "text/plain": [
       "      gonna      good   goodbye  goodness  goodnight  gooey  goofy       got  \\\n",
       "0  0.045290  0.064909  0.019577       0.0        0.0    0.0    0.0  0.059264   \n",
       "1  0.058033  0.099806  0.000000       0.0        0.0    0.0    0.0  0.036450   \n",
       "2  0.024527  0.011717  0.000000       0.0        0.0    0.0    0.0  0.000000   \n",
       "3  0.071558  0.051278  0.010310       0.0        0.0    0.0    0.0  0.037455   \n",
       "4  0.011463  0.043808  0.000000       0.0        0.0    0.0    0.0  0.071997   \n",
       "\n",
       "      gotta   gotten    ...      yu  yue  yugoda       yup  zhang  zhangs  \\\n",
       "0  0.015010  0.00000    ...     0.0  0.0     0.0  0.000000    0.0     0.0   \n",
       "1  0.030772  0.03171    ...     0.0  0.0     0.0  0.000000    0.0     0.0   \n",
       "2  0.000000  0.00000    ...     0.0  0.0     0.0  0.027785    0.0     0.0   \n",
       "3  0.015810  0.00000    ...     0.0  0.0     0.0  0.013511    0.0     0.0   \n",
       "4  0.000000  0.00000    ...     0.0  0.0     0.0  0.000000    0.0     0.0   \n",
       "\n",
       "   zhao   zigzags  zone      zuko  \n",
       "0   0.0  0.000000   0.0  0.054517  \n",
       "1   0.0  0.000000   0.0  0.000000  \n",
       "2   0.0  0.000000   0.0  0.029524  \n",
       "3   0.0  0.018499   0.0  0.000000  \n",
       "4   0.0  0.000000   0.0  0.000000  \n",
       "\n",
       "[5 rows x 2134 columns]"
      ]
     },
     "execution_count": 93,
     "metadata": {},
     "output_type": "execute_result"
    }
   ],
   "source": [
    "vectorizer = TfidfVectorizer(stop_words = stopwords_set)\n",
    "X = vectorizer.fit_transform(corpus)\n",
    "feature_names = vectorizer.get_feature_names()\n",
    "dico = vectorizer.get_feature_names()\n",
    "dense = X.todense()\n",
    "denselist = dense.tolist()\n",
    "df_tfidf = pd.DataFrame(denselist, columns=feature_names)\n",
    "df_tfidf.loc[:,'gonna':].head()"
   ]
  },
  {
   "cell_type": "code",
   "execution_count": 94,
   "metadata": {},
   "outputs": [
    {
     "data": {
      "text/html": [
       "<div>\n",
       "<style scoped>\n",
       "    .dataframe tbody tr th:only-of-type {\n",
       "        vertical-align: middle;\n",
       "    }\n",
       "\n",
       "    .dataframe tbody tr th {\n",
       "        vertical-align: top;\n",
       "    }\n",
       "\n",
       "    .dataframe thead th {\n",
       "        text-align: right;\n",
       "    }\n",
       "</style>\n",
       "<table border=\"1\" class=\"dataframe\">\n",
       "  <thead>\n",
       "    <tr style=\"text-align: right;\">\n",
       "      <th></th>\n",
       "      <th>16th</th>\n",
       "      <th>41st</th>\n",
       "      <th>aaahh</th>\n",
       "      <th>aaahhh</th>\n",
       "      <th>aag</th>\n",
       "      <th>aahh</th>\n",
       "      <th>aang</th>\n",
       "      <th>aangy</th>\n",
       "      <th>aargh</th>\n",
       "      <th>abandon</th>\n",
       "      <th>...</th>\n",
       "      <th>yu</th>\n",
       "      <th>yue</th>\n",
       "      <th>yugoda</th>\n",
       "      <th>yup</th>\n",
       "      <th>zhang</th>\n",
       "      <th>zhangs</th>\n",
       "      <th>zhao</th>\n",
       "      <th>zigzags</th>\n",
       "      <th>zone</th>\n",
       "      <th>zuko</th>\n",
       "    </tr>\n",
       "  </thead>\n",
       "  <tbody>\n",
       "    <tr>\n",
       "      <th>0</th>\n",
       "      <td>0.0</td>\n",
       "      <td>0.0</td>\n",
       "      <td>0.0</td>\n",
       "      <td>0.0</td>\n",
       "      <td>0.0</td>\n",
       "      <td>0.0</td>\n",
       "      <td>0.134384</td>\n",
       "      <td>0.07025</td>\n",
       "      <td>0.0</td>\n",
       "      <td>0.0</td>\n",
       "      <td>...</td>\n",
       "      <td>0.0</td>\n",
       "      <td>0.0</td>\n",
       "      <td>0.0</td>\n",
       "      <td>0.0</td>\n",
       "      <td>0.0</td>\n",
       "      <td>0.0</td>\n",
       "      <td>0.0</td>\n",
       "      <td>0.0</td>\n",
       "      <td>0.0</td>\n",
       "      <td>0.054517</td>\n",
       "    </tr>\n",
       "  </tbody>\n",
       "</table>\n",
       "<p>1 rows × 3332 columns</p>\n",
       "</div>"
      ],
      "text/plain": [
       "   16th  41st  aaahh  aaahhh  aag  aahh      aang    aangy  aargh  abandon  \\\n",
       "0   0.0   0.0    0.0     0.0  0.0   0.0  0.134384  0.07025    0.0      0.0   \n",
       "\n",
       "     ...      yu  yue  yugoda  yup  zhang  zhangs  zhao  zigzags  zone  \\\n",
       "0    ...     0.0  0.0     0.0  0.0    0.0     0.0   0.0      0.0   0.0   \n",
       "\n",
       "       zuko  \n",
       "0  0.054517  \n",
       "\n",
       "[1 rows x 3332 columns]"
      ]
     },
     "execution_count": 94,
     "metadata": {},
     "output_type": "execute_result"
    }
   ],
   "source": [
    "vect = df_tfidf.iloc[[0]]\n",
    "vect"
   ]
  },
  {
   "cell_type": "code",
   "execution_count": 96,
   "metadata": {},
   "outputs": [],
   "source": [
    "matrix_tfidf = df_tfidf.values"
   ]
  },
  {
   "cell_type": "code",
   "execution_count": 117,
   "metadata": {},
   "outputs": [
    {
     "data": {
      "text/plain": [
       "array([3, 3, 0, 3, 0, 3, 3, 2, 3, 0, 3, 3, 0, 3, 2, 2, 0, 0, 1, 0, 3],\n",
       "      dtype=int32)"
      ]
     },
     "execution_count": 117,
     "metadata": {},
     "output_type": "execute_result"
    }
   ],
   "source": [
    "from sklearn.cluster import KMeans\n",
    "kmeans = KMeans(n_clusters=4, random_state=0).fit(matrix_tfidf)\n",
    "kmeans.labels_"
   ]
  },
  {
   "cell_type": "code",
   "execution_count": 99,
   "metadata": {},
   "outputs": [],
   "source": [
    "def similarity_matrix(m) :\n",
    "    simil = []\n",
    "    for i in range(0, len(m)) :\n",
    "        ep1 = m[i]\n",
    "        v = []\n",
    "        for j in range(0, len(m)) :\n",
    "            ep2 = m[j]\n",
    "            v.append(-distance_euclidienne(ep1, ep2))\n",
    "        \n",
    "        simil.append(v)\n",
    "    \n",
    "    return np.array(simil)"
   ]
  },
  {
   "cell_type": "code",
   "execution_count": 103,
   "metadata": {},
   "outputs": [
    {
     "data": {
      "text/plain": [
       "21"
      ]
     },
     "execution_count": 103,
     "metadata": {},
     "output_type": "execute_result"
    }
   ],
   "source": [
    "sm = similarity_matrix(matrix_tfidf)\n",
    "len(sm[0])"
   ]
  },
  {
   "cell_type": "code",
   "execution_count": 107,
   "metadata": {},
   "outputs": [
    {
     "data": {
      "text/plain": [
       "array([18, 18, 18, 11, 11, 18, 18, 18, 11, 18, 18, 18, 18, 18, 11, 18, 18,\n",
       "       18, 11, 18, 18])"
      ]
     },
     "execution_count": 107,
     "metadata": {},
     "output_type": "execute_result"
    }
   ],
   "source": [
    "np.argmin(sm, axis=1)"
   ]
  },
  {
   "cell_type": "code",
   "execution_count": null,
   "metadata": {},
   "outputs": [],
   "source": []
  },
  {
   "cell_type": "code",
   "execution_count": null,
   "metadata": {},
   "outputs": [],
   "source": []
  },
  {
   "cell_type": "code",
   "execution_count": null,
   "metadata": {},
   "outputs": [],
   "source": []
  },
  {
   "cell_type": "code",
   "execution_count": null,
   "metadata": {},
   "outputs": [],
   "source": []
  },
  {
   "cell_type": "code",
   "execution_count": null,
   "metadata": {},
   "outputs": [],
   "source": []
  },
  {
   "cell_type": "code",
   "execution_count": null,
   "metadata": {},
   "outputs": [],
   "source": []
  },
  {
   "cell_type": "code",
   "execution_count": null,
   "metadata": {},
   "outputs": [],
   "source": []
  },
  {
   "cell_type": "code",
   "execution_count": null,
   "metadata": {},
   "outputs": [],
   "source": []
  },
  {
   "cell_type": "code",
   "execution_count": null,
   "metadata": {},
   "outputs": [],
   "source": []
  },
  {
   "cell_type": "code",
   "execution_count": null,
   "metadata": {},
   "outputs": [],
   "source": []
  },
  {
   "cell_type": "code",
   "execution_count": null,
   "metadata": {},
   "outputs": [],
   "source": []
  },
  {
   "cell_type": "code",
   "execution_count": null,
   "metadata": {},
   "outputs": [],
   "source": []
  },
  {
   "cell_type": "code",
   "execution_count": null,
   "metadata": {},
   "outputs": [],
   "source": []
  },
  {
   "cell_type": "code",
   "execution_count": null,
   "metadata": {},
   "outputs": [],
   "source": []
  },
  {
   "cell_type": "code",
   "execution_count": null,
   "metadata": {},
   "outputs": [],
   "source": []
  }
 ],
 "metadata": {
  "kernelspec": {
   "display_name": "Python 3",
   "language": "python",
   "name": "python3"
  },
  "language_info": {
   "codemirror_mode": {
    "name": "ipython",
    "version": 3
   },
   "file_extension": ".py",
   "mimetype": "text/x-python",
   "name": "python",
   "nbconvert_exporter": "python",
   "pygments_lexer": "ipython3",
   "version": "3.6.4"
  }
 },
 "nbformat": 4,
 "nbformat_minor": 2
}
