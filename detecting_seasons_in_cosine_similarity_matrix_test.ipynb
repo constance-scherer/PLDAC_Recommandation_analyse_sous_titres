{
 "cells": [
  {
   "cell_type": "markdown",
   "metadata": {},
   "source": [
    "# Detecting seasons in cosine similarity matrix"
   ]
  },
  {
   "cell_type": "markdown",
   "metadata": {},
   "source": [
    "On utilise ici la série *Spaced* qui contient 2 saisons de 7 épisodes chacune."
   ]
  },
  {
   "cell_type": "code",
   "execution_count": 2,
   "metadata": {},
   "outputs": [],
   "source": [
    "from utils.preprocessing_cleaned_data import *\n",
    "from utils.swSets import *\n",
    "import scipy\n",
    "from sklearn.metrics.pairwise import cosine_similarity\n",
    "from scipy.sparse import csr_matrix"
   ]
  },
  {
   "cell_type": "code",
   "execution_count": 3,
   "metadata": {},
   "outputs": [],
   "source": [
    "#path = \"/Vrac/PLDAC_reco/seasons_detection_data\"\n",
    "\n",
    "#new_dir = \"/Vrac/PLDAC_reco/cleaned_seasons_detection_data\"\n",
    "\n",
    "#createCleanedData(path, new_dir)"
   ]
  },
  {
   "cell_type": "code",
   "execution_count": 4,
   "metadata": {},
   "outputs": [],
   "source": [
    "path = \"/Vrac/PLDAC_reco/cleaned_seasons_detection_data\"\n",
    "corpus = get_corpus(path, texts_as=\"episodes\")\n",
    "sparse_mat = getTfidfSparseMat(corpus, my_stopwords=stopwords_set)"
   ]
  },
  {
   "cell_type": "code",
   "execution_count": 5,
   "metadata": {},
   "outputs": [],
   "source": [
    "similarities = cosine_similarity(sparse_mat)"
   ]
  },
  {
   "cell_type": "markdown",
   "metadata": {},
   "source": [
    "Matrice de similarité entre les 14 épisodes de *Spaced* :"
   ]
  },
  {
   "cell_type": "code",
   "execution_count": 6,
   "metadata": {},
   "outputs": [
    {
     "data": {
      "text/plain": [
       "array([[1.        , 0.64178363, 0.55893205, 0.66017335, 0.54658705,\n",
       "        0.63558439, 0.63573339, 0.05447226, 0.06828639, 0.03272237,\n",
       "        0.05064966, 0.06698257, 0.05381733, 0.07758623],\n",
       "       [0.64178363, 1.        , 0.6164828 , 0.72969989, 0.60465589,\n",
       "        0.69331369, 0.69028931, 0.04395959, 0.05312949, 0.02632564,\n",
       "        0.03752067, 0.04440061, 0.03559418, 0.05141506],\n",
       "       [0.55893205, 0.6164828 , 1.        , 0.61874102, 0.51718807,\n",
       "        0.59908198, 0.59093215, 0.03435287, 0.0330165 , 0.03067214,\n",
       "        0.03029418, 0.03811182, 0.02847901, 0.03348918],\n",
       "       [0.66017335, 0.72969989, 0.61874102, 1.        , 0.68937905,\n",
       "        0.69856682, 0.69629444, 0.035387  , 0.04140151, 0.02740164,\n",
       "        0.03583904, 0.05684772, 0.02941634, 0.06950909],\n",
       "       [0.54658705, 0.60465589, 0.51718807, 0.68937905, 1.        ,\n",
       "        0.58096819, 0.60337088, 0.02599091, 0.03187172, 0.02319352,\n",
       "        0.03212103, 0.03418412, 0.02520741, 0.03908701],\n",
       "       [0.63558439, 0.69331369, 0.59908198, 0.69856682, 0.58096819,\n",
       "        1.        , 0.66931574, 0.03673944, 0.06269331, 0.03759948,\n",
       "        0.05534794, 0.04870687, 0.04303207, 0.06206691],\n",
       "       [0.63573339, 0.69028931, 0.59093215, 0.69629444, 0.60337088,\n",
       "        0.66931574, 1.        , 0.04161721, 0.05059544, 0.03689101,\n",
       "        0.04544534, 0.05137133, 0.04179923, 0.06408416],\n",
       "       [0.05447226, 0.04395959, 0.03435287, 0.035387  , 0.02599091,\n",
       "        0.03673944, 0.04161721, 1.        , 0.25323929, 0.2393648 ,\n",
       "        0.21234643, 0.24254542, 0.27299686, 0.26967514],\n",
       "       [0.06828639, 0.05312949, 0.0330165 , 0.04140151, 0.03187172,\n",
       "        0.06269331, 0.05059544, 0.25323929, 1.        , 0.17249324,\n",
       "        0.23425253, 0.24092418, 0.26352159, 0.28408375],\n",
       "       [0.03272237, 0.02632564, 0.03067214, 0.02740164, 0.02319352,\n",
       "        0.03759948, 0.03689101, 0.2393648 , 0.17249324, 1.        ,\n",
       "        0.15289356, 0.17033081, 0.18088937, 0.18482332],\n",
       "       [0.05064966, 0.03752067, 0.03029418, 0.03583904, 0.03212103,\n",
       "        0.05534794, 0.04544534, 0.21234643, 0.23425253, 0.15289356,\n",
       "        1.        , 0.26103851, 0.25012742, 0.26099719],\n",
       "       [0.06698257, 0.04440061, 0.03811182, 0.05684772, 0.03418412,\n",
       "        0.04870687, 0.05137133, 0.24254542, 0.24092418, 0.17033081,\n",
       "        0.26103851, 1.        , 0.30714785, 0.30241732],\n",
       "       [0.05381733, 0.03559418, 0.02847901, 0.02941634, 0.02520741,\n",
       "        0.04303207, 0.04179923, 0.27299686, 0.26352159, 0.18088937,\n",
       "        0.25012742, 0.30714785, 1.        , 0.27401756],\n",
       "       [0.07758623, 0.05141506, 0.03348918, 0.06950909, 0.03908701,\n",
       "        0.06206691, 0.06408416, 0.26967514, 0.28408375, 0.18482332,\n",
       "        0.26099719, 0.30241732, 0.27401756, 1.        ]])"
      ]
     },
     "execution_count": 6,
     "metadata": {},
     "output_type": "execute_result"
    }
   ],
   "source": [
    "similarities"
   ]
  },
  {
   "cell_type": "markdown",
   "metadata": {},
   "source": [
    "On observe bien des blocs correspondants aux deux saisons (cf papier surligné)."
   ]
  }
 ],
 "metadata": {
  "kernelspec": {
   "display_name": "Python 3",
   "language": "python",
   "name": "python3"
  },
  "language_info": {
   "codemirror_mode": {
    "name": "ipython",
    "version": 3
   },
   "file_extension": ".py",
   "mimetype": "text/x-python",
   "name": "python",
   "nbconvert_exporter": "python",
   "pygments_lexer": "ipython3",
   "version": "3.5.3"
  }
 },
 "nbformat": 4,
 "nbformat_minor": 2
}
