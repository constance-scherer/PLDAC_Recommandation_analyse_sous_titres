{
 "cells": [
  {
   "cell_type": "markdown",
   "metadata": {},
   "source": [
    "# Detecting seasons in cosine similarity matrix"
   ]
  },
  {
   "cell_type": "markdown",
   "metadata": {},
   "source": [
    "On utilise ici la série *Spaced* qui contient 2 saisons de 7 épisodes chacune."
   ]
  },
  {
   "cell_type": "code",
   "execution_count": 3,
   "metadata": {},
   "outputs": [],
   "source": [
    "from utils.preprocessing_cleaned_data import *\n",
    "from utils.swSets import *\n",
    "import scipy\n",
    "from sklearn.metrics.pairwise import cosine_similarity\n",
    "from scipy.sparse import csr_matrix"
   ]
  },
  {
   "cell_type": "code",
   "execution_count": 11,
   "metadata": {},
   "outputs": [],
   "source": [
    "sparse_mat = getTfidfSparseMat(corpus, my_stopwords=stopwords_set)"
   ]
  },
  {
   "cell_type": "code",
   "execution_count": 2,
   "metadata": {},
   "outputs": [],
   "source": [
    "path = \"/Vrac/PLDAC_reco/seasons_detection_data\"\n",
    "\n",
    "new_path = \"/Vrac/PLDAC_reco/cleaned_seasons_detection_data\"\n",
    "\n",
    "createCleanedData(path, new_path)"
   ]
  },
  {
   "cell_type": "code",
   "execution_count": 3,
   "metadata": {},
   "outputs": [],
   "source": [
    "path = \"/Vrac/PLDAC_reco/cleaned_seasons_detection_data\"\n",
    "corpus = get_corpus(path, texts_as=\"episodes\")\n",
    "sparse_mat = getTfidfSparseMat(corpus, my_stopwords=stopwords_set)"
   ]
  },
  {
   "cell_type": "code",
   "execution_count": 6,
   "metadata": {},
   "outputs": [],
   "source": [
    "similarities = cosine_similarity(sparse_mat)"
   ]
  },
  {
   "cell_type": "markdown",
   "metadata": {},
   "source": [
    "Matrice de similarité entre les 14 épisodes de *Spaced* :"
   ]
  },
  {
   "cell_type": "code",
   "execution_count": 7,
   "metadata": {},
   "outputs": [
    {
     "data": {
      "text/plain": [
       "array([[1.        , 0.93582526, 0.90377861, 0.89506909, 0.88072671,\n",
       "        0.88194613, 0.88146527, 0.04875071, 0.06532839, 0.06508249,\n",
       "        0.06876895, 0.07409452, 0.07320711, 0.07773457],\n",
       "       [0.93582526, 1.        , 0.97123368, 0.96553941, 0.95176976,\n",
       "        0.95247596, 0.95178065, 0.04702375, 0.06199386, 0.06171354,\n",
       "        0.06445978, 0.06812471, 0.06666528, 0.07023428],\n",
       "       [0.90377861, 0.97123368, 1.        , 0.98611041, 0.96897524,\n",
       "        0.96808322, 0.9656392 , 0.04482602, 0.05834573, 0.05938814,\n",
       "        0.0620182 , 0.0654706 , 0.06372428, 0.0665483 ],\n",
       "       [0.89506909, 0.96553941, 0.98611041, 1.        , 0.98769652,\n",
       "        0.98542572, 0.98224075, 0.04233621, 0.05544587, 0.05646342,\n",
       "        0.05945476, 0.06382985, 0.06170041, 0.06557853],\n",
       "       [0.88072671, 0.95176976, 0.96897524, 0.98769652, 1.        ,\n",
       "        0.99517582, 0.99119514, 0.03978169, 0.05241088, 0.05359326,\n",
       "        0.05690265, 0.06094373, 0.05884406, 0.06243563],\n",
       "       [0.88194613, 0.95247596, 0.96808322, 0.98542572, 0.99517582,\n",
       "        1.        , 0.99620561, 0.04033365, 0.05524504, 0.05636755,\n",
       "        0.06037999, 0.06424461, 0.06214923, 0.06594786],\n",
       "       [0.88146527, 0.95178065, 0.9656392 , 0.98224075, 0.99119514,\n",
       "        0.99620561, 1.        , 0.0410651 , 0.05621195, 0.05774789,\n",
       "        0.06194038, 0.06585119, 0.06377529, 0.06773086],\n",
       "       [0.04875071, 0.04702375, 0.04482602, 0.04233621, 0.03978169,\n",
       "        0.04033365, 0.0410651 , 1.        , 0.84066767, 0.79042504,\n",
       "        0.72962359, 0.69926843, 0.67271297, 0.661802  ],\n",
       "       [0.06532839, 0.06199386, 0.05834573, 0.05544587, 0.05241088,\n",
       "        0.05524504, 0.05621195, 0.84066767, 1.        , 0.91818802,\n",
       "        0.86456752, 0.83233704, 0.80049737, 0.79207441],\n",
       "       [0.06508249, 0.06171354, 0.05938814, 0.05646342, 0.05359326,\n",
       "        0.05636755, 0.05774789, 0.79042504, 0.91818802, 1.        ,\n",
       "        0.92925582, 0.88587872, 0.84204033, 0.82864454],\n",
       "       [0.06876895, 0.06445978, 0.0620182 , 0.05945476, 0.05690265,\n",
       "        0.06037999, 0.06194038, 0.72962359, 0.86456752, 0.92925582,\n",
       "        1.        , 0.9579457 , 0.90720864, 0.89212309],\n",
       "       [0.07409452, 0.06812471, 0.0654706 , 0.06382985, 0.06094373,\n",
       "        0.06424461, 0.06585119, 0.69926843, 0.83233704, 0.88587872,\n",
       "        0.9579457 , 1.        , 0.95103453, 0.93624163],\n",
       "       [0.07320711, 0.06666528, 0.06372428, 0.06170041, 0.05884406,\n",
       "        0.06214923, 0.06377529, 0.67271297, 0.80049737, 0.84204033,\n",
       "        0.90720864, 0.95103453, 1.        , 0.97931087],\n",
       "       [0.07773457, 0.07023428, 0.0665483 , 0.06557853, 0.06243563,\n",
       "        0.06594786, 0.06773086, 0.661802  , 0.79207441, 0.82864454,\n",
       "        0.89212309, 0.93624163, 0.97931087, 1.        ]])"
      ]
     },
     "execution_count": 7,
     "metadata": {},
     "output_type": "execute_result"
    }
   ],
   "source": [
    "similarities"
   ]
  },
  {
   "cell_type": "markdown",
   "metadata": {},
   "source": [
    "On observe bien des blocs correspondants aux deux saisons (cf papier surligné)"
   ]
  }
 ],
 "metadata": {
  "kernelspec": {
   "display_name": "Python 3",
   "language": "python",
   "name": "python3"
  },
  "language_info": {
   "codemirror_mode": {
    "name": "ipython",
    "version": 3
   },
   "file_extension": ".py",
   "mimetype": "text/x-python",
   "name": "python",
   "nbconvert_exporter": "python",
   "pygments_lexer": "ipython3",
   "version": "3.5.3"
  }
 },
 "nbformat": 4,
 "nbformat_minor": 2
}
