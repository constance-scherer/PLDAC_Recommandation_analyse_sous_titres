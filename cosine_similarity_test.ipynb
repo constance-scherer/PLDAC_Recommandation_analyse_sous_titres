{
 "cells": [
  {
   "cell_type": "code",
   "execution_count": 1,
   "metadata": {},
   "outputs": [],
   "source": [
    "from preprocessing import *\n",
    "from remove_empty_folders import *\n",
    "from language_detector import *\n",
    "from swSets import *\n",
    "\n",
    "import scipy\n",
    "from sklearn.metrics.pairwise import cosine_similarity\n",
    "from scipy.sparse import csr_matrix"
   ]
  },
  {
   "cell_type": "code",
   "execution_count": 2,
   "metadata": {},
   "outputs": [],
   "source": [
    "path = \"data\""
   ]
  },
  {
   "cell_type": "code",
   "execution_count": 3,
   "metadata": {},
   "outputs": [],
   "source": [
    "#removeFilesAndFoldersThatNeedToGo(path)"
   ]
  },
  {
   "cell_type": "code",
   "execution_count": 4,
   "metadata": {},
   "outputs": [],
   "source": [
    "corpus = get_corpus(path, texts_as=\"shows\")"
   ]
  },
  {
   "cell_type": "code",
   "execution_count": 6,
   "metadata": {},
   "outputs": [],
   "source": [
    "df = getTfidfDataFrame(corpus, my_stopwords=stopwords_set)"
   ]
  },
  {
   "cell_type": "code",
   "execution_count": 8,
   "metadata": {},
   "outputs": [],
   "source": [
    "sparse_mat = scipy.sparse.csr_matrix(df.values)\n",
    "similarities = cosine_similarity(sparse_mat)"
   ]
  },
  {
   "cell_type": "code",
   "execution_count": 12,
   "metadata": {},
   "outputs": [],
   "source": [
    "d_info, d_name = getDicts(path)"
   ]
  },
  {
   "cell_type": "code",
   "execution_count": 13,
   "metadata": {},
   "outputs": [
    {
     "data": {
      "text/plain": [
       "{1: '122___Malcolm_In_The_Middle',\n",
       " 2: '132___NCIS',\n",
       " 3: '15___House',\n",
       " 4: '186___American_Dad',\n",
       " 5: '24___Scrubs',\n",
       " 6: '28___Bones',\n",
       " 7: '30___Grey_s_Anatomy',\n",
       " 8: '3103___House_of_Cards_(2013)',\n",
       " 9: '57___CSI__Crime_Scene_Investigation',\n",
       " 10: '71___The_Wire'}"
      ]
     },
     "execution_count": 13,
     "metadata": {},
     "output_type": "execute_result"
    }
   ],
   "source": [
    "d_name"
   ]
  },
  {
   "cell_type": "code",
   "execution_count": 59,
   "metadata": {},
   "outputs": [],
   "source": [
    "most_similar = dict()\n",
    "for i in range(len(similarities)):\n",
    "    show = np.array(similarities[i])\n",
    "    ind = np.argpartition(show, -2)[-2:]\n",
    "    ind = ind[np.argsort(show[ind])]\n",
    "    most_similar[d_name[i+1]] = d_name[ind[0]+1]"
   ]
  },
  {
   "cell_type": "code",
   "execution_count": 60,
   "metadata": {},
   "outputs": [
    {
     "data": {
      "text/plain": [
       "{'122___Malcolm_In_The_Middle': '24___Scrubs',\n",
       " '132___NCIS': '57___CSI__Crime_Scene_Investigation',\n",
       " '15___House': '30___Grey_s_Anatomy',\n",
       " '186___American_Dad': '24___Scrubs',\n",
       " '24___Scrubs': '30___Grey_s_Anatomy',\n",
       " '28___Bones': '57___CSI__Crime_Scene_Investigation',\n",
       " '30___Grey_s_Anatomy': '24___Scrubs',\n",
       " '3103___House_of_Cards_(2013)': '57___CSI__Crime_Scene_Investigation',\n",
       " '57___CSI__Crime_Scene_Investigation': '15___House',\n",
       " '71___The_Wire': '3103___House_of_Cards_(2013)'}"
      ]
     },
     "execution_count": 60,
     "metadata": {},
     "output_type": "execute_result"
    }
   ],
   "source": [
    "most_similar"
   ]
  }
 ],
 "metadata": {
  "kernelspec": {
   "display_name": "Python 3",
   "language": "python",
   "name": "python3"
  },
  "language_info": {
   "codemirror_mode": {
    "name": "ipython",
    "version": 3
   },
   "file_extension": ".py",
   "mimetype": "text/x-python",
   "name": "python",
   "nbconvert_exporter": "python",
   "pygments_lexer": "ipython3",
   "version": "3.5.1"
  }
 },
 "nbformat": 4,
 "nbformat_minor": 2
}
