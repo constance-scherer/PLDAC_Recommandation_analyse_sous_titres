{
 "cells": [
  {
   "cell_type": "markdown",
   "metadata": {},
   "source": [
    "# Recommandation filtrage collaboratif"
   ]
  },
  {
   "cell_type": "code",
   "execution_count": 163,
   "metadata": {},
   "outputs": [],
   "source": [
    "import os\n",
    "import re\n",
    "import pandas as pd\n",
    "from sklearn.decomposition import NMF\n",
    "from scipy.sparse import dok_matrix\n",
    "import numpy as np\n",
    "import pandas as pd\n",
    "from scipy.spatial.distance import sqeuclidean, cosine"
   ]
  },
  {
   "cell_type": "code",
   "execution_count": 50,
   "metadata": {},
   "outputs": [],
   "source": [
    "# take as input two lists of ratings\n",
    "\n",
    "def MSE_err(truth,pred):\n",
    "    \"\"\"\n",
    "    computes MSE from real-pred difference\n",
    "    \"\"\"\n",
    "    return np.mean((truth-pred)**2)\n",
    "\n",
    "def MAE_err(truth,pred):\n",
    "    \"\"\"\n",
    "    computes MAE from real-pred difference\n",
    "    \"\"\"\n",
    "    return np.mean(abs(np.array(truth-pred)))\n",
    "        "
   ]
  },
  {
   "cell_type": "code",
   "execution_count": 51,
   "metadata": {},
   "outputs": [],
   "source": [
    "#path = '/Vrac/PLDAC_addic7ed/ratings/small_ratings'\n",
    "#path = \"/Users/constancescherer/Desktop/ratings/ratings_60\"\n",
    "path = \"ratings_60\""
   ]
  },
  {
   "cell_type": "code",
   "execution_count": 52,
   "metadata": {},
   "outputs": [],
   "source": [
    "d_user = dict() #{username : {serie: note, serie : note}}\n",
    "\n",
    "for user in sorted(os.listdir(path)):\n",
    "    username = re.sub(\".txt\", \"\", user)\n",
    "    d_user[username] = dict()\n",
    "    with open(path+\"/\"+user) as file: \n",
    "        lignes = file.readlines()\n",
    "        for ligne in lignes :\n",
    "            serie, rating = ligne.split(\" \")\n",
    "            rating = rating.rstrip(\"\\n\")\n",
    "            rating = float(rating)\n",
    "            \n",
    "            d_user[username][serie] = rating"
   ]
  },
  {
   "cell_type": "code",
   "execution_count": 53,
   "metadata": {},
   "outputs": [
    {
     "data": {
      "text/plain": [
       "1357"
      ]
     },
     "execution_count": 53,
     "metadata": {},
     "output_type": "execute_result"
    }
   ],
   "source": [
    "liste_series = set()\n",
    "for username, d_s in d_user.items() :\n",
    "    for serie, rating in d_s.items() :\n",
    "        liste_series.add(serie)\n",
    "liste_series = list(liste_series)\n",
    "len(liste_series)"
   ]
  },
  {
   "cell_type": "code",
   "execution_count": 54,
   "metadata": {},
   "outputs": [],
   "source": [
    "data = []\n",
    "for username, d_s in d_user.items() :\n",
    "    for serie, rating in d_s.items() :\n",
    "        data.append( (username, serie, rating) )"
   ]
  },
  {
   "cell_type": "code",
   "execution_count": 55,
   "metadata": {},
   "outputs": [
    {
     "data": {
      "text/plain": [
       "('ianlouisiana', 'father-figure', 1.0)"
      ]
     },
     "execution_count": 55,
     "metadata": {},
     "output_type": "execute_result"
    }
   ],
   "source": [
    "data[0]"
   ]
  },
  {
   "cell_type": "code",
   "execution_count": 56,
   "metadata": {},
   "outputs": [
    {
     "name": "stdout",
     "output_type": "stream",
     "text": [
      "60 users and 1357 items.\n"
     ]
    }
   ],
   "source": [
    "# We first remap users and item to ids between (0,len(user)) and (0,len(item))\n",
    "u_dic = {} #{username : user id}\n",
    "i_dic = {} #{item title : item id}\n",
    "        \n",
    "all_data = [] #[(user id, item id, rating)]\n",
    "    \n",
    "d_username_id = dict()\n",
    "d_itemname_id = dict()\n",
    "for uid,iid,rating in data:  # iterating on all data\n",
    "    \n",
    "    uk = u_dic.setdefault(uid,len(u_dic))\n",
    "    ik = i_dic.setdefault(iid,len(i_dic))\n",
    "    all_data.append((uk,ik,float(rating)))\n",
    "    d_username_id[uid] = uk\n",
    "    d_itemname_id[iid] = ik\n",
    "\n",
    "num_user = len(u_dic)\n",
    "num_item = len(i_dic)\n",
    "\n",
    "print(str(num_user)+\" users and \"+str(num_item)+\" items.\")"
   ]
  },
  {
   "cell_type": "code",
   "execution_count": 57,
   "metadata": {},
   "outputs": [
    {
     "data": {
      "text/plain": [
       "(1357, 25)"
      ]
     },
     "execution_count": 57,
     "metadata": {},
     "output_type": "execute_result"
    }
   ],
   "source": [
    "# (1) Create sparse matrix from all ratings\n",
    "Full = dok_matrix((num_user, num_item), dtype=np.float32)\n",
    "\n",
    "for uid,iid,rating in all_data:\n",
    "    Full[uid,iid] = float(rating)\n",
    "    \n",
    "    \n",
    "# (2) Factorizing matrix\n",
    "\n",
    "model = NMF(n_components=25, init='random', random_state=0, max_iter=350)\n",
    "U = model.fit_transform(Full) #users\n",
    "I = model.components_      #items\n",
    "\n",
    "I = I.transpose()\n",
    "I.shape\n"
   ]
  },
  {
   "cell_type": "code",
   "execution_count": 58,
   "metadata": {},
   "outputs": [
    {
     "data": {
      "text/plain": [
       "<60x1357 sparse matrix of type '<class 'numpy.float32'>'\n",
       "\twith 3673 stored elements in Dictionary Of Keys format>"
      ]
     },
     "execution_count": 58,
     "metadata": {},
     "output_type": "execute_result"
    }
   ],
   "source": [
    "Full"
   ]
  },
  {
   "cell_type": "code",
   "execution_count": 59,
   "metadata": {},
   "outputs": [
    {
     "data": {
      "text/plain": [
       "(60, 1357)"
      ]
     },
     "execution_count": 59,
     "metadata": {},
     "output_type": "execute_result"
    }
   ],
   "source": [
    "Full.shape"
   ]
  },
  {
   "cell_type": "code",
   "execution_count": 60,
   "metadata": {},
   "outputs": [
    {
     "data": {
      "text/plain": [
       "3673"
      ]
     },
     "execution_count": 60,
     "metadata": {},
     "output_type": "execute_result"
    }
   ],
   "source": [
    "len(all_data)"
   ]
  },
  {
   "cell_type": "code",
   "execution_count": 61,
   "metadata": {},
   "outputs": [
    {
     "name": "stdout",
     "output_type": "stream",
     "text": [
      "Number of train examples:  3305\n",
      "Number of test examples:  368\n"
     ]
    }
   ],
   "source": [
    "# We take 10% of the train set as test data\n",
    "train_mat = dok_matrix((num_user, num_item), dtype=np.float32)\n",
    "test = []\n",
    "train = []\n",
    "    \n",
    "for i,(uid,iid,rating) in enumerate(all_data):\n",
    "    if i%10 == 0: #one out of 10 is for test\n",
    "        test.append((uid,iid,rating))\n",
    "    else:\n",
    "        train.append((uid,iid,rating))\n",
    "        train_mat[uid,iid] = rating\n",
    "    \n",
    "print(\"Number of train examples: \", train_mat.nnz)\n",
    "print(\"Number of test examples: \", len(test))\n"
   ]
  },
  {
   "cell_type": "code",
   "execution_count": 62,
   "metadata": {},
   "outputs": [
    {
     "data": {
      "text/plain": [
       "(60, 1357)"
      ]
     },
     "execution_count": 62,
     "metadata": {},
     "output_type": "execute_result"
    }
   ],
   "source": [
    "train_mat.shape"
   ]
  },
  {
   "cell_type": "code",
   "execution_count": 66,
   "metadata": {},
   "outputs": [
    {
     "name": "stdout",
     "output_type": "stream",
     "text": [
      "----------------------NMF---------------------------\n",
      "Shapes :\n",
      "(60, 16)\n",
      "(1357, 16)\n",
      "Training Error:\n",
      "MSE: 25.42516863586805\n",
      "MAE: 4.271334194527465\n",
      "Test Error:\n",
      "MSE: 51.88690779991371\n",
      "MAE: 6.750066716516392\n"
     ]
    }
   ],
   "source": [
    "from sklearn.decomposition import NMF, TruncatedSVD\n",
    "\n",
    "\n",
    "print(\"----------------------NMF---------------------------\")\n",
    "\n",
    "\n",
    "\n",
    "## NMF model\n",
    "model = NMF(n_components=16, solver='cd' ,random_state=0, max_iter=100,alpha=5,l1_ratio=0.5)\n",
    "\n",
    "#get submatrices\n",
    "U_nmf = model.fit_transform(train_mat)\n",
    "I_nmf = model.components_.transpose()\n",
    "\n",
    "print(\"Shapes :\")\n",
    "print(U_nmf.shape) ## see the shapes of your submatrices\n",
    "print(I_nmf.shape)\n",
    "\n",
    "## to complete\n",
    "def pred_func_nmf(uid,iid):\n",
    "    \n",
    "    Uu = U_nmf[uid]\n",
    "    Ii = I_nmf[iid]\n",
    "    \n",
    "    return  np.dot(Uu, Ii)\n",
    "\n",
    "\n",
    "## Getting the truth values\n",
    "truth_tr = np.array([rating for (uid,iid),rating in train_mat.items()])\n",
    "truth_te = np.array([rating for uid,iid,rating in test])\n",
    "\n",
    "prediction_tr = np.array([pred_func_nmf(u, i) for (u,i),rating in train_mat.items()])\n",
    "prediction_te = np.array([pred_func_nmf(u, i) for u,i,rating in test])\n",
    "\n",
    "\n",
    "print(\"Training Error:\")\n",
    "print(\"MSE:\",  MSE_err(prediction_tr,truth_tr))\n",
    "print(\"MAE:\",  MAE_err(prediction_tr,truth_tr))\n",
    "    \n",
    "print(\"Test Error:\")\n",
    "print(\"MSE:\",  MSE_err(prediction_te,truth_te))\n",
    "print(\"MAE:\",  MAE_err(prediction_te,truth_te))"
   ]
  },
  {
   "cell_type": "code",
   "execution_count": 67,
   "metadata": {},
   "outputs": [
    {
     "name": "stdout",
     "output_type": "stream",
     "text": [
      "----------------------SVD---------------------------\n",
      "Training Error:\n",
      "MSE: 1.1096638e-11\n",
      "MAE: 2.4564868e-06\n",
      "Test Error:\n",
      "MSE: 60.90488546635258\n",
      "MAE: 7.388586571976479\n"
     ]
    }
   ],
   "source": [
    "print(\"----------------------SVD---------------------------\")\n",
    "\n",
    "## SVD Model\n",
    "\n",
    "model = TruncatedSVD(n_components=150)\n",
    "\n",
    "#get submatrices\n",
    "U_svd = model.fit_transform(train_mat)\n",
    "I_svd = model.components_.transpose()\n",
    "\n",
    "\n",
    "def pred_func_svd(uid,iid):\n",
    "    \n",
    "    Uu = U_svd[uid]\n",
    "    Ii = I_svd[iid]\n",
    "    \n",
    "    return np.dot(Uu, Ii)  \n",
    "\n",
    "    \n",
    "prediction_tr = np.array([pred_func_svd(u, i) for (u,i),rating in train_mat.items()])\n",
    "prediction_te = np.array([pred_func_svd(u, i) for u,i,rating in test])\n",
    "\n",
    "\n",
    "print(\"Training Error:\")\n",
    "print(\"MSE:\",  MSE_err(prediction_tr,truth_tr))\n",
    "print(\"MAE:\",  MAE_err(prediction_tr,truth_tr))\n",
    "    \n",
    "print(\"Test Error:\")\n",
    "print(\"MSE:\",  MSE_err(prediction_te,truth_te))\n",
    "print(\"MAE:\",  MAE_err(prediction_te,truth_te))"
   ]
  },
  {
   "cell_type": "code",
   "execution_count": 68,
   "metadata": {},
   "outputs": [
    {
     "name": "stdout",
     "output_type": "stream",
     "text": [
      "----------------------MEAN ONLY---------------------------\n",
      "mean rating is  7.369138\n",
      "Training Error:\n",
      "MSE: 6.1753864\n",
      "MAE: 1.9692961\n",
      "Test Error:\n",
      "MSE: 6.314052361355291\n",
      "MAE: 1.973389278287473\n"
     ]
    }
   ],
   "source": [
    "print(\"----------------------MEAN ONLY---------------------------\")\n",
    "\n",
    "\n",
    "# compute mean training ratings (~3.5)\n",
    "mean = np.mean([rating for (uid,iid),rating in train_mat.items()])\n",
    "\n",
    "\n",
    "def pred_func_mean(uid,iid):\n",
    "    \n",
    "    \n",
    "    return mean\n",
    "\n",
    "print(\"mean rating is \", mean)\n",
    "\n",
    "\n",
    "prediction_tr = np.array([pred_func_mean(u, i) for (u,i),rating in train_mat.items()])\n",
    "prediction_te = np.array([pred_func_mean(u, i) for u,i,rating in test])\n",
    "\n",
    "print(\"Training Error:\")\n",
    "print(\"MSE:\",  MSE_err(prediction_tr,truth_tr))\n",
    "print(\"MAE:\",  MAE_err(prediction_tr,truth_tr))\n",
    "    \n",
    "print(\"Test Error:\")\n",
    "print(\"MSE:\",  MSE_err(prediction_te,truth_te))\n",
    "print(\"MAE:\",  MAE_err(prediction_te,truth_te))"
   ]
  },
  {
   "cell_type": "code",
   "execution_count": 69,
   "metadata": {},
   "outputs": [
    {
     "name": "stdout",
     "output_type": "stream",
     "text": [
      "Training Error:\n",
      "MSE: 1.1855937e-12\n",
      "MAE: 6.6548e-07\n",
      "Test Error:\n",
      "MSE: 6.314052483242787\n",
      "MAE: 1.9733892795832262\n"
     ]
    }
   ],
   "source": [
    "from sklearn.decomposition import NMF, TruncatedSVD\n",
    "\n",
    "\n",
    "# (1) compute mean of training ratings\n",
    "mean = mean\n",
    "\n",
    "\n",
    "\n",
    "\n",
    "# (2) mean normalize training matrix\n",
    "tmn = dok_matrix((num_user, num_item), dtype=np.float32)\n",
    "\n",
    "for (uid,iid), rating in train_mat.items():\n",
    "    tmn[uid,iid] = rating - mean\n",
    "\n",
    "# (3) factorize matrix\n",
    "model_norm = TruncatedSVD(n_components=150)\n",
    "\n",
    "#get submatrices\n",
    "U_msvd = model.fit_transform(tmn)\n",
    "I_msvd = model.components_.transpose()\n",
    "\n",
    "def pred_func_msvd(uid,iid): \n",
    "    \n",
    "    Uu = U_msvd[uid]\n",
    "    Ii = I_msvd[iid]\n",
    "    \n",
    "    return np.dot(Uu, Ii) + mean\n",
    "\n",
    "\n",
    "prediction_tr = np.array([pred_func_msvd(u, i) for (u,i),rating in train_mat.items()])\n",
    "prediction_te = np.array([pred_func_msvd(u, i) for u,i,rating in test])\n",
    "\n",
    "\n",
    "print(\"Training Error:\")\n",
    "print(\"MSE:\",  MSE_err(prediction_tr,truth_tr))\n",
    "print(\"MAE:\",  MAE_err(prediction_tr,truth_tr))\n",
    "    \n",
    "print(\"Test Error:\")\n",
    "print(\"MSE:\",  MSE_err(prediction_te,truth_te))\n",
    "print(\"MAE:\",  MAE_err(prediction_te,truth_te))\n",
    "    "
   ]
  },
  {
   "cell_type": "code",
   "execution_count": 70,
   "metadata": {},
   "outputs": [
    {
     "name": "stdout",
     "output_type": "stream",
     "text": [
      "Training Error:\n",
      "MSE: 5.903622099668938e-13\n",
      "MAE: 5.307904076570574e-07\n",
      "Test Error:\n",
      "MSE: 5.756102910616171\n",
      "MAE: 1.860425479002328\n"
     ]
    }
   ],
   "source": [
    "from sklearn.decomposition import NMF, TruncatedSVD\n",
    "\n",
    "\n",
    "def group_by_user(tuple_list):\n",
    "    r_dic = {}\n",
    "    for uid,iid,rating in tuple_list:\n",
    "        list_rev = r_dic.get(uid,[])\n",
    "        list_rev.append(rating)\n",
    "    \n",
    "        r_dic[uid] =list_rev\n",
    "    return r_dic\n",
    "\n",
    "\n",
    "def group_by_item(tuple_list):\n",
    "    r_dic = {}\n",
    "    for uid,iid,rating in tuple_list:\n",
    "        list_rev = r_dic.get(iid,[])\n",
    "        list_rev.append(rating)\n",
    "    \n",
    "        r_dic[iid] =list_rev\n",
    "    return r_dic\n",
    "\n",
    "\n",
    "\n",
    "\n",
    "\n",
    "# (1) compute means of training set\n",
    "mean = mean\n",
    "\n",
    "# user and item deviation to mean\n",
    "u_means = {u:(np.mean(ratings - mean)) for u,ratings in group_by_user(train).items()}\n",
    "i_means = {i:(np.mean(ratings) - mean) for i,ratings in group_by_item(train).items()}\n",
    "\n",
    "\n",
    "\n",
    "\n",
    "# (2) normalize training matrix\n",
    "tmn_k = dok_matrix((num_user, num_item), dtype=np.float32)\n",
    "\n",
    "for (uid,iid), rating in train_mat.items():\n",
    "    tmn_k[uid,iid] = rating - mean - u_means.get(uid,0) - i_means.get(iid,0)\n",
    "    \n",
    "# (3) factorize matrix\n",
    "model_kor = TruncatedSVD(n_components=150)\n",
    "\n",
    "\n",
    "U_ksvd = model.fit_transform(tmn_k)\n",
    "I_ksvd = model.components_.transpose()\n",
    "\n",
    "\n",
    "def pred_func_ksvd(uid,iid):\n",
    "    Uu = U_ksvd[uid]\n",
    "    Ii = I_ksvd[iid]\n",
    "    Bu = u_means.get(uid,0)\n",
    "    Bi = i_means.get(iid, 0)\n",
    "    \n",
    "    return np.dot(Uu, Ii) + mean + Bu + Bi\n",
    "\n",
    "\n",
    "prediction_tr = np.array([pred_func_ksvd(u, i) for (u,i),rating in train_mat.items()])\n",
    "prediction_te = np.array([pred_func_ksvd(u, i) for u,i,rating in test])\n",
    "\n",
    "\n",
    "print(\"Training Error:\")\n",
    "print(\"MSE:\",  MSE_err(prediction_tr,truth_tr))\n",
    "print(\"MAE:\",  MAE_err(prediction_tr,truth_tr))\n",
    "    \n",
    "print(\"Test Error:\")\n",
    "print(\"MSE:\",  MSE_err(prediction_te,truth_te))\n",
    "print(\"MAE:\",  MAE_err(prediction_te,truth_te))"
   ]
  },
  {
   "cell_type": "code",
   "execution_count": 71,
   "metadata": {},
   "outputs": [
    {
     "data": {
      "text/plain": [
       "0.7942854176010882"
      ]
     },
     "execution_count": 71,
     "metadata": {},
     "output_type": "execute_result"
    }
   ],
   "source": [
    "# The dcg@k is the sum of the relevance, penalized gradually\n",
    "def dcg_at_k(r, k):\n",
    "    \"\"\"Score is discounted cumulative gain (dcg)\n",
    "        r: Relevance scores (list or numpy) in rank order\n",
    "            (first element is the first item)\n",
    "        k: Number of results to consider\n",
    "        \n",
    "    \"\"\"\n",
    "    r = np.asfarray(r)[:k]\n",
    "    if r.size:\n",
    "        return np.sum(r / np.log2(np.arange(2, r.size + 2)))\n",
    "        \n",
    "    return 0.\n",
    "\n",
    "# test values\n",
    "# r = [3, 2, 3, 0, 0, 1, 2, 2, 3, 0]\n",
    "# dcg_at_k(r, 1) => 3.0\n",
    "# dcg_at_k(r, 2) => 4.2618595071429155\n",
    "    \n",
    "\n",
    "# And it's normalized version\n",
    "def ndcg_at_k(r, k):\n",
    "    \"\"\"\n",
    "        r: Relevance scores (list or numpy) in rank order\n",
    "            (first element is the first item)\n",
    "        k: Number of results to consider\n",
    "    \"\"\"\n",
    "    dcg_max =  dcg_at_k(sorted(r)[::-1], k)\n",
    "    if not dcg_max:\n",
    "        return 0.\n",
    "    return dcg_at_k(r, k) / dcg_max\n",
    "\n",
    "# test values\n",
    "# r = [3, 2, 3, 0, 0, 1, 2, 2, 3, 0]\n",
    "# ndcg_at_k(r, 1) => 1.0\n",
    "# ndcg_at_k(r, 4) => 0.794285\n",
    "    \n",
    "r = [3, 2, 3, 0, 0, 1, 2, 2, 3, 0]    \n",
    "ndcg_at_k(r, 4)   "
   ]
  },
  {
   "cell_type": "code",
   "execution_count": 72,
   "metadata": {},
   "outputs": [
    {
     "name": "stdout",
     "output_type": "stream",
     "text": [
      "train\n",
      "----------\n",
      "mean == random 0.7501640499066579\n",
      "ndcg nmf 0.8852155036620905\n",
      "ndcg svd 1.0\n",
      "ndcg svd + mean 0.8852155036620905\n",
      "ndcg svd koren 1.0\n",
      " \n",
      "test\n",
      "----------\n",
      "mean == random 0.9310830872377991\n",
      "ndcg nmf 0.9457446096440696\n",
      "ndcg svd 0.9379596860894555\n",
      "ndcg svd + mean 0.9457446096440696\n",
      "ndcg svd koren 0.952903111651975\n"
     ]
    }
   ],
   "source": [
    "from random import shuffle\n",
    "\n",
    "#1) Group (uid,iid,rating) per uid\n",
    "def group_by_user(tuple_list):\n",
    "    r_dic = {}\n",
    "    for uid,iid,rating in tuple_list:\n",
    "        list_rev = r_dic.get(uid,[])\n",
    "        list_rev.append((uid,iid,rating))\n",
    "    \n",
    "        r_dic[uid] =list_rev\n",
    "    return r_dic #returns {uid:[(uid,iid,rating),...],...}\n",
    "\n",
    "\n",
    "\n",
    "userg_train = group_by_user(train)  #returns {uid:[(uid,iid,rating),...],...}\n",
    "userg_test = group_by_user(test)\n",
    "\n",
    "\n",
    "# Function to compute a random shuffle ndcg\n",
    "def random_ndcg(uid_group_tuples,k=10):\n",
    "    mean_ndcg = 0\n",
    "    num_users = 0\n",
    "    \n",
    "    #for each test set\n",
    "    for _,list_rating in uid_group_tuples.items():\n",
    "\n",
    "        #shuffle real ratings.\n",
    "        real_ratings = [rating for uid,iid,rating in list_rating]\n",
    "        shuffle(real_ratings)\n",
    "        pred_objects = real_ratings\n",
    "\n",
    "        mean_ndcg += ndcg_at_k(pred_objects,k)\n",
    "        num_users += 1\n",
    "\n",
    "    return  mean_ndcg/num_users\n",
    "\n",
    "\n",
    "\n",
    "#Function to compute ndcg on test set\n",
    "def mean_ndcg_UI(U,I,pred_function,uid_group_tuples,k=10):\n",
    "    mean_ndcg = 0\n",
    "    num_users = 0\n",
    "    \n",
    "    #for each test set\n",
    "    for _,list_rating in uid_group_tuples.items():\n",
    "        \n",
    "        #2)compute predictions\n",
    "        pred_ratings = [pred_function(uid, iid) for uid, iid, rating in list_rating ]\n",
    "        \n",
    "        #3)to sort real ratings\n",
    "        real_ratings = [rating for uid,iid,rating in list_rating]\n",
    "        pred_objects = [ real_ratings[rid] for rid in np.argsort(pred_ratings)[::-1]]\n",
    "        \n",
    "        #4)and compute ndcg\n",
    "        mean_ndcg += ndcg_at_k(pred_objects,k)\n",
    "        num_users += 1\n",
    "\n",
    "    return  mean_ndcg/num_users\n",
    "    \n",
    "    \n",
    "\n",
    "print(\"train\") \n",
    "print(\"-\"*10)\n",
    "print(\"mean == random\", random_ndcg(userg_train))\n",
    "print(\"ndcg nmf\", mean_ndcg_UI(U_nmf,I_nmf,pred_func_nmf,userg_train)) \n",
    "print(\"ndcg svd\", mean_ndcg_UI(U_svd,I_svd,pred_func_svd,userg_train))\n",
    "print(\"ndcg svd + mean\", mean_ndcg_UI(U_msvd,I_msvd,pred_func_nmf,userg_train))\n",
    "print(\"ndcg svd koren\", mean_ndcg_UI(U_ksvd,I_ksvd,pred_func_ksvd,userg_train))\n",
    "\n",
    "print(\" \")\n",
    "\n",
    "print(\"test\")    \n",
    "print(\"-\"*10) \n",
    "print(\"mean == random\", random_ndcg(userg_test))\n",
    "print(\"ndcg nmf\", mean_ndcg_UI(U_nmf,I_nmf,pred_func_nmf,userg_test)) \n",
    "print(\"ndcg svd\", mean_ndcg_UI(U_svd,I_svd,pred_func_svd,userg_test))\n",
    "print(\"ndcg svd + mean\", mean_ndcg_UI(U_msvd,I_msvd,pred_func_nmf,userg_test))\n",
    "print(\"ndcg svd koren\", mean_ndcg_UI(U_ksvd,I_ksvd,pred_func_ksvd,userg_test))\n"
   ]
  },
  {
   "cell_type": "code",
   "execution_count": 73,
   "metadata": {},
   "outputs": [
    {
     "name": "stdout",
     "output_type": "stream",
     "text": [
      "mean == random 0.006194394928816213\n",
      "ndcg pop 0.033854063241665906\n",
      "ndcg nmf 0.01205926922355665\n",
      "ndcg svd 0.014423844767087805\n",
      "ndcg svd + mean 0.01205926922355665\n",
      "ndcg svd koren 0.004585390866403519\n"
     ]
    }
   ],
   "source": [
    "from collections import Counter\n",
    "\n",
    "counts = Counter(iid for _,iid,_ in train)\n",
    "\n",
    "#the popularity predictor\n",
    "def pop_pred(uid,iid):\n",
    "    return counts[iid]\n",
    "\n",
    "#Random ndcg, return a shuffled lists of all possible ratings\n",
    "def random_ndcg_full(k=10,default=0):\n",
    "    mean_ndcg = 0\n",
    "    num_users = 0\n",
    "    \n",
    "    for _,list_rating in userg_test.items():\n",
    "\n",
    "        #all possible ratings\n",
    "        real_ratings = [rating for uid,iid,rating in list_rating] + [default]*(num_item - len(list_rating) - len(userg_train[uid]))\n",
    "        shuffle(real_ratings)\n",
    "        pred_objects = real_ratings\n",
    "        \n",
    "        mean_ndcg += ndcg_at_k(pred_objects,k)\n",
    "        num_users += 1\n",
    "\n",
    "    return  mean_ndcg/len(userg_test)\n",
    "\n",
    "\n",
    "def mean_ndcg_UI_FULL(U,I,pred_function,k=10,default=0):\n",
    "    mean_ndcg = 0\n",
    "    \n",
    "    test_users = set(uid for uid,_,_ in test)\n",
    "    \n",
    "    for user in test_users:\n",
    "        u_train_set = set(iid for _,iid,_ in userg_train[uid])\n",
    "        u_test_dic =  {iid:rating for uid,iid,rating in userg_test[uid]}\n",
    "        \n",
    "        pred_ratings = []\n",
    "        real_ratings = []\n",
    "        \n",
    "        \n",
    "        for item in range(num_item):\n",
    "            \n",
    "            if item in u_train_set:\n",
    "                continue\n",
    "            else:\n",
    "                p_rating = pred_function(user,item)\n",
    "            \n",
    "            pred_ratings.append(p_rating)\n",
    "            real_ratings.append(u_test_dic.get(item,default))\n",
    "            \n",
    "        #pred_objects = [] ##### complete here\n",
    "        pred_objects = [ real_ratings[rid] for rid in np.argsort(pred_ratings)[::-1]]\n",
    "        \n",
    "        mean_ndcg += ndcg_at_k(pred_objects,k)\n",
    "\n",
    "    return  mean_ndcg/len(test_users)\n",
    "\n",
    "print(\"mean == random\", random_ndcg_full())\n",
    "print(\"ndcg pop\", mean_ndcg_UI_FULL(U_nmf,I_nmf,pop_pred)) \n",
    "print(\"ndcg nmf\", mean_ndcg_UI_FULL(U_nmf,I_nmf,pred_func_nmf)) \n",
    "print(\"ndcg svd\", mean_ndcg_UI_FULL(U_svd,I_svd,pred_func_svd))\n",
    "print(\"ndcg svd + mean\", mean_ndcg_UI_FULL(U_msvd,I_msvd,pred_func_nmf))\n",
    "print(\"ndcg svd koren\", mean_ndcg_UI_FULL(U_msvd,I_msvd,pred_func_ksvd))"
   ]
  },
  {
   "cell_type": "code",
   "execution_count": 74,
   "metadata": {},
   "outputs": [],
   "source": [
    "def create_sparse_mat(data) : \n",
    "    # We first remap users and item to ids between (0,len(user)) and (0,len(item))\n",
    "    u_dic = {}\n",
    "    i_dic = {}\n",
    "\n",
    "    all_data = []\n",
    "\n",
    "    d_username_id = dict()\n",
    "    d_itemname_id = dict()\n",
    "    for uid,iid,rating in data:  # iterating on all data\n",
    "\n",
    "        uk = u_dic.setdefault(uid,len(u_dic))\n",
    "        ik = i_dic.setdefault(iid,len(i_dic))\n",
    "        all_data.append((uk,ik,float(rating)))\n",
    "        d_username_id[uid] = uk\n",
    "        d_itemname_id[iid] = ik\n",
    "\n",
    "    num_user = len(u_dic)\n",
    "    num_item = len(i_dic)\n",
    "    \n",
    "    # (1) Create sparse matrix from all ratings\n",
    "    Full = dok_matrix((num_user, num_item), dtype=np.float32)\n",
    "\n",
    "    for uid,iid,rating in all_data:\n",
    "        Full[uid,iid] = float(rating)\n",
    "        \n",
    "    return d_username_id, d_itemname_id, Full"
   ]
  },
  {
   "cell_type": "code",
   "execution_count": 139,
   "metadata": {},
   "outputs": [],
   "source": [
    "reversed_u_dic =  dict([[v,k] for k,v in u_dic.items()]) #{user id : username}\n",
    "reversed_i_dic = dict([[v,k] for k,v in i_dic.items()]) #{item id: item title}"
   ]
  },
  {
   "cell_type": "code",
   "execution_count": 76,
   "metadata": {},
   "outputs": [],
   "source": [
    "def plus_proche_voisin(username, d_username_id, Full) :\n",
    "    user_id = d_username_id[username]\n",
    "    f = Full[user_id].todense()\n",
    "    d_min = 1000\n",
    "    i_min = -1\n",
    "    for i in range(0, Full.shape[0]) :\n",
    "        if i != user_id :\n",
    "            fi = Full[i].todense()\n",
    "            d = cosine(f, fi)\n",
    "            if d < d_min :\n",
    "                i_min = i\n",
    "                d_min = d\n",
    "    return i_min"
   ]
  },
  {
   "cell_type": "code",
   "execution_count": 140,
   "metadata": {},
   "outputs": [
    {
     "data": {
      "text/plain": [
       "'Johnny-the-Film-Sentinel-2187'"
      ]
     },
     "execution_count": 140,
     "metadata": {},
     "output_type": "execute_result"
    }
   ],
   "source": [
    "ppv = plus_proche_voisin('WeAreLive', d_username_id, Full)\n",
    "reversed_u_dic[ppv]"
   ]
  },
  {
   "cell_type": "code",
   "execution_count": 78,
   "metadata": {},
   "outputs": [
    {
     "data": {
      "text/plain": [
       "{'arrow': 6.0,\n",
       " 'avengers-assemble': 10.0,\n",
       " 'batgirl-year-one': 8.0,\n",
       " 'batman': 10.0,\n",
       " 'batman-beyond': 9.0,\n",
       " 'batman-the-animated-series': 10.0,\n",
       " 'batman-the-brave-and-the-bold': 10.0,\n",
       " 'ben-10': 10.0,\n",
       " 'ben-10-alien-force': 10.0,\n",
       " 'ben-10-omniverse': 10.0,\n",
       " 'ben-10-ultimate-alien': 8.0,\n",
       " 'beware-the-batman': 9.0,\n",
       " 'clone': 10.0,\n",
       " 'dinosaur-king': 6.0,\n",
       " 'duck-dodgers': 7.0,\n",
       " 'evolution': 4.0,\n",
       " 'fantastic-four': 7.0,\n",
       " 'generator-rex': 10.0,\n",
       " 'gotham': 3.0,\n",
       " 'green-lantern-the-animated-series': 10.0,\n",
       " 'hot-wheels-battle-force-5': 10.0,\n",
       " 'hulk-and-the-agents-of-smash': 6.0,\n",
       " 'iron-man': 5.0,\n",
       " 'iron-man-armored-adventures': 5.0,\n",
       " 'justice': 10.0,\n",
       " 'justice-league': 10.0,\n",
       " 'legends': 8.0,\n",
       " 'legion-of-super-heroes': 9.0,\n",
       " 'mr-bean': 10.0,\n",
       " 'regular-show': 10.0,\n",
       " 'silver-surfer': 1.0,\n",
       " 'smallville': 10.0,\n",
       " 'star-wars-rebels': 6.0,\n",
       " 'star-wars-the-clone-wars': 10.0,\n",
       " 'static-shock': 10.0,\n",
       " 'steven-universe': 7.0,\n",
       " 'supergirl': 4.0,\n",
       " 'sym-bionic-titan': 10.0,\n",
       " 'teen-titans': 10.0,\n",
       " 'teen-titans-go-': 1.0,\n",
       " 'the-avengers': 9.0,\n",
       " 'the-batman': 8.0,\n",
       " 'the-flash': 10.0,\n",
       " 'the-garfield-show': 10.0,\n",
       " 'the-new-batman-adventures': 10.0,\n",
       " 'the-spectacular-spider-man': 7.0,\n",
       " 'transformers-prime': 10.0,\n",
       " 'ultimate-spider-man': 10.0,\n",
       " 'uncle': 3.0,\n",
       " 'uncle-grandpa': 3.0,\n",
       " 'vixen': 10.0,\n",
       " 'we-bare-bears': 7.0,\n",
       " 'wolverine': 8.0,\n",
       " 'wolverine-and-the-x-men': 8.0,\n",
       " 'x-men': 7.0,\n",
       " 'x-men-evolution': 4.0,\n",
       " 'young-justice': 10.0}"
      ]
     },
     "execution_count": 78,
     "metadata": {},
     "output_type": "execute_result"
    }
   ],
   "source": [
    "d_user['WeAreLive']"
   ]
  },
  {
   "cell_type": "code",
   "execution_count": 50,
   "metadata": {},
   "outputs": [
    {
     "data": {
      "text/plain": [
       "{'american-horror-story': 8.0,\n",
       " 'archer': 10.0,\n",
       " 'avatar-the-last-airbender': 9.0,\n",
       " 'batman': 10.0,\n",
       " 'batman-beyond': 9.0,\n",
       " 'batman-the-animated-series': 10.0,\n",
       " 'better-call-saul': 10.0,\n",
       " 'beware-the-batman': 7.0,\n",
       " 'black-mirror': 10.0,\n",
       " 'boardwalk-empire': 10.0,\n",
       " 'bojack-horseman': 10.0,\n",
       " 'breaking-bad': 10.0,\n",
       " 'brotherhood': 10.0,\n",
       " 'clone': 9.0,\n",
       " 'cowboy-bebop': 10.0,\n",
       " 'daredevil': 10.0,\n",
       " 'doctor-who': 10.0,\n",
       " 'empire': 10.0,\n",
       " 'fargo': 10.0,\n",
       " 'farscape': 9.0,\n",
       " 'fawlty-towers': 10.0,\n",
       " 'game-of-thrones': 10.0,\n",
       " 'gravity': 10.0,\n",
       " 'gravity-falls': 10.0,\n",
       " 'justice': 10.0,\n",
       " 'justice-league': 10.0,\n",
       " 'last-week-tonight-with-john-oliver': 9.0,\n",
       " 'lupin-the-3rd': 9.0,\n",
       " 'rick-and-morty': 10.0,\n",
       " 'samurai-jack': 9.0,\n",
       " 'seinfeld': 10.0,\n",
       " 'sherlock': 10.0,\n",
       " 'smallville': 9.0,\n",
       " 'star-trek-continues': 9.0,\n",
       " 'star-wars-rebels': 9.0,\n",
       " 'star-wars-the-clone-wars': 9.0,\n",
       " 'steven-universe': 10.0,\n",
       " 'teen-titans-go-': 2.0,\n",
       " 'the-batman': 4.0,\n",
       " 'the-man-in-the-high-castle': 9.0,\n",
       " 'the-muppet-show': 10.0,\n",
       " 'the-new-batman-adventures': 9.0,\n",
       " 'the-tick': 9.0,\n",
       " 'the-twilight-zone': 10.0,\n",
       " 'true-detective': 10.0,\n",
       " 'twilight-zone': 10.0,\n",
       " 'x-men': 10.0,\n",
       " 'young-justice': 9.0}"
      ]
     },
     "execution_count": 50,
     "metadata": {},
     "output_type": "execute_result"
    }
   ],
   "source": [
    "d_user['Johnny-the-Film-Sentinel-2187']"
   ]
  },
  {
   "cell_type": "markdown",
   "metadata": {},
   "source": [
    "Deux utilisateurs qui ont regardé et noté beaucoup de séries de superhéros."
   ]
  },
  {
   "cell_type": "code",
   "execution_count": 106,
   "metadata": {},
   "outputs": [],
   "source": [
    "def series_pas_en_commun(username1, username2, d_user, d_itemname_id) :\n",
    "    \"\"\"id series que user2 a vu et pas user1\"\"\"\n",
    "    series_u1 = d_user[username1].keys()\n",
    "    series_u2 = d_user[username2].keys()\n",
    "    \n",
    "    s = set()\n",
    "    #for s1 in series_u1 :\n",
    "     #   if s1 not in series_u2 and d_user[username1][s1] >= 7:\n",
    "            \n",
    "      #      s.add(d_itemname_id[s1])\n",
    "            \n",
    "    for s2 in series_u2:\n",
    "        if s2 not in series_u1 and d_user[username2][s2] >= 7:\n",
    "            s.add(d_itemname_id[s2])\n",
    "            \n",
    "    return list(s)"
   ]
  },
  {
   "cell_type": "code",
   "execution_count": 141,
   "metadata": {},
   "outputs": [],
   "source": [
    "pascomm = series_pas_en_commun(\"Johnny-the-Film-Sentinel-2187\", \"WeAreLive\", d_user, d_itemname_id)"
   ]
  },
  {
   "cell_type": "code",
   "execution_count": 142,
   "metadata": {},
   "outputs": [
    {
     "name": "stdout",
     "output_type": "stream",
     "text": [
      "vixen\n",
      "generator-rex\n",
      "batgirl-year-one\n",
      "sym-bionic-titan\n",
      "ultimate-spider-man\n",
      "ben-10-ultimate-alien\n",
      "legion-of-super-heroes\n",
      "regular-show\n",
      "teen-titans\n",
      "duck-dodgers\n",
      "ben-10-alien-force\n",
      "the-avengers\n",
      "ben-10-omniverse\n",
      "we-bare-bears\n",
      "ben-10\n",
      "transformers-prime\n",
      "hot-wheels-battle-force-5\n",
      "fantastic-four\n",
      "the-spectacular-spider-man\n",
      "the-flash\n",
      "wolverine-and-the-x-men\n",
      "wolverine\n",
      "the-garfield-show\n",
      "batman-the-brave-and-the-bold\n",
      "legends\n",
      "mr-bean\n",
      "static-shock\n",
      "avengers-assemble\n",
      "green-lantern-the-animated-series\n"
     ]
    }
   ],
   "source": [
    "for ID in pascomm:\n",
    "    print(reversed_i_dic[ID])"
   ]
  },
  {
   "cell_type": "code",
   "execution_count": 147,
   "metadata": {},
   "outputs": [],
   "source": [
    "def recommandation(username1, data, d_user, nb_pred) :\n",
    "    d_username_id, d_itemname_id, Full = create_sparse_mat(data)\n",
    "    \n",
    "    ppv = plus_proche_voisin(username1, d_username_id, Full)\n",
    "    username2 = \"\"\n",
    "    for username, ID in d_username_id.items() :\n",
    "        if ID == ppv :\n",
    "            username2 = username\n",
    "            break\n",
    "    if username2 == \"\" :\n",
    "        print(\"problème avec le nom du plus proche voisin\")\n",
    "        return\n",
    "\n",
    "    series_non_vues = series_pas_en_commun(username1, username2, d_user, d_itemname_id)\n",
    "\n",
    "    predictions =dict()\n",
    "    for i in series_non_vues:\n",
    "        predictions[i] = pred_func_ksvd(d_username_id[username1], i)  #{id serie: note predite}\n",
    "    sorted_rec = [(k, predictions[k]) for k in sorted(predictions, key=predictions.get, reverse=True)]\n",
    "    res = [reversed_i_dic[sorted_rec[i][0]] for i in range(nb_pred)]\n",
    "    \n",
    "    return res, sorted_rec"
   ]
  },
  {
   "cell_type": "code",
   "execution_count": 167,
   "metadata": {},
   "outputs": [],
   "source": [
    "top3_reco, p = recommandation('Johnny-the-Film-Sentinel-2187', data, d_user, 3)"
   ]
  },
  {
   "cell_type": "code",
   "execution_count": 168,
   "metadata": {},
   "outputs": [
    {
     "data": {
      "text/plain": [
       "['generator-rex', 'sym-bionic-titan', 'ultimate-spider-man']"
      ]
     },
     "execution_count": 168,
     "metadata": {},
     "output_type": "execute_result"
    }
   ],
   "source": [
    "top3_reco"
   ]
  },
  {
   "cell_type": "markdown",
   "metadata": {},
   "source": [
    "Pas mal du tout !"
   ]
  },
  {
   "cell_type": "code",
   "execution_count": 150,
   "metadata": {},
   "outputs": [],
   "source": [
    "user2 = d_user['WeAreLive']"
   ]
  },
  {
   "cell_type": "code",
   "execution_count": 171,
   "metadata": {},
   "outputs": [],
   "source": [
    "s = [reversed_i_dic[p[i][0]] for i in range(len(p))]"
   ]
  },
  {
   "cell_type": "code",
   "execution_count": 172,
   "metadata": {},
   "outputs": [],
   "source": [
    "notes_predites_user1 = [p[i][1] for i in range(len(p))]"
   ]
  },
  {
   "cell_type": "code",
   "execution_count": 177,
   "metadata": {},
   "outputs": [],
   "source": [
    "notes_ppv = [user2[reversed_i_dic[p[i][0]]] for i in range(len(p))]"
   ]
  },
  {
   "cell_type": "code",
   "execution_count": 181,
   "metadata": {},
   "outputs": [],
   "source": [
    "l = [('Serie', s), ('Note predite pour Johnny', notes_predites_user1), ('Note donnee par son plus proche voisin', notes_ppv)]"
   ]
  },
  {
   "cell_type": "code",
   "execution_count": 182,
   "metadata": {},
   "outputs": [],
   "source": [
    "df = pd.DataFrame.from_items(l)"
   ]
  },
  {
   "cell_type": "code",
   "execution_count": 183,
   "metadata": {},
   "outputs": [
    {
     "data": {
      "text/html": [
       "<div>\n",
       "<style scoped>\n",
       "    .dataframe tbody tr th:only-of-type {\n",
       "        vertical-align: middle;\n",
       "    }\n",
       "\n",
       "    .dataframe tbody tr th {\n",
       "        vertical-align: top;\n",
       "    }\n",
       "\n",
       "    .dataframe thead th {\n",
       "        text-align: right;\n",
       "    }\n",
       "</style>\n",
       "<table border=\"1\" class=\"dataframe\">\n",
       "  <thead>\n",
       "    <tr style=\"text-align: right;\">\n",
       "      <th></th>\n",
       "      <th>Serie</th>\n",
       "      <th>Note predite pour Johnny</th>\n",
       "      <th>Note donnee par son plus proche voisin</th>\n",
       "    </tr>\n",
       "  </thead>\n",
       "  <tbody>\n",
       "    <tr>\n",
       "      <th>0</th>\n",
       "      <td>generator-rex</td>\n",
       "      <td>11.903590</td>\n",
       "      <td>10.0</td>\n",
       "    </tr>\n",
       "    <tr>\n",
       "      <th>1</th>\n",
       "      <td>sym-bionic-titan</td>\n",
       "      <td>11.903590</td>\n",
       "      <td>10.0</td>\n",
       "    </tr>\n",
       "    <tr>\n",
       "      <th>2</th>\n",
       "      <td>ultimate-spider-man</td>\n",
       "      <td>11.903590</td>\n",
       "      <td>10.0</td>\n",
       "    </tr>\n",
       "    <tr>\n",
       "      <th>3</th>\n",
       "      <td>regular-show</td>\n",
       "      <td>11.903590</td>\n",
       "      <td>10.0</td>\n",
       "    </tr>\n",
       "    <tr>\n",
       "      <th>4</th>\n",
       "      <td>teen-titans</td>\n",
       "      <td>11.903590</td>\n",
       "      <td>10.0</td>\n",
       "    </tr>\n",
       "    <tr>\n",
       "      <th>5</th>\n",
       "      <td>ben-10-alien-force</td>\n",
       "      <td>11.903590</td>\n",
       "      <td>10.0</td>\n",
       "    </tr>\n",
       "    <tr>\n",
       "      <th>6</th>\n",
       "      <td>ben-10-omniverse</td>\n",
       "      <td>11.903590</td>\n",
       "      <td>10.0</td>\n",
       "    </tr>\n",
       "    <tr>\n",
       "      <th>7</th>\n",
       "      <td>ben-10</td>\n",
       "      <td>11.903590</td>\n",
       "      <td>10.0</td>\n",
       "    </tr>\n",
       "    <tr>\n",
       "      <th>8</th>\n",
       "      <td>hot-wheels-battle-force-5</td>\n",
       "      <td>11.903590</td>\n",
       "      <td>10.0</td>\n",
       "    </tr>\n",
       "    <tr>\n",
       "      <th>9</th>\n",
       "      <td>batman-the-brave-and-the-bold</td>\n",
       "      <td>11.903590</td>\n",
       "      <td>10.0</td>\n",
       "    </tr>\n",
       "    <tr>\n",
       "      <th>10</th>\n",
       "      <td>green-lantern-the-animated-series</td>\n",
       "      <td>11.903590</td>\n",
       "      <td>10.0</td>\n",
       "    </tr>\n",
       "    <tr>\n",
       "      <th>11</th>\n",
       "      <td>the-avengers</td>\n",
       "      <td>11.403590</td>\n",
       "      <td>9.0</td>\n",
       "    </tr>\n",
       "    <tr>\n",
       "      <th>12</th>\n",
       "      <td>legion-of-super-heroes</td>\n",
       "      <td>10.903590</td>\n",
       "      <td>9.0</td>\n",
       "    </tr>\n",
       "    <tr>\n",
       "      <th>13</th>\n",
       "      <td>transformers-prime</td>\n",
       "      <td>10.903590</td>\n",
       "      <td>10.0</td>\n",
       "    </tr>\n",
       "    <tr>\n",
       "      <th>14</th>\n",
       "      <td>wolverine</td>\n",
       "      <td>10.403590</td>\n",
       "      <td>8.0</td>\n",
       "    </tr>\n",
       "    <tr>\n",
       "      <th>15</th>\n",
       "      <td>avengers-assemble</td>\n",
       "      <td>10.403590</td>\n",
       "      <td>10.0</td>\n",
       "    </tr>\n",
       "    <tr>\n",
       "      <th>16</th>\n",
       "      <td>the-spectacular-spider-man</td>\n",
       "      <td>10.236922</td>\n",
       "      <td>7.0</td>\n",
       "    </tr>\n",
       "    <tr>\n",
       "      <th>17</th>\n",
       "      <td>batgirl-year-one</td>\n",
       "      <td>9.903590</td>\n",
       "      <td>8.0</td>\n",
       "    </tr>\n",
       "    <tr>\n",
       "      <th>18</th>\n",
       "      <td>ben-10-ultimate-alien</td>\n",
       "      <td>9.903590</td>\n",
       "      <td>8.0</td>\n",
       "    </tr>\n",
       "    <tr>\n",
       "      <th>19</th>\n",
       "      <td>wolverine-and-the-x-men</td>\n",
       "      <td>9.903590</td>\n",
       "      <td>8.0</td>\n",
       "    </tr>\n",
       "    <tr>\n",
       "      <th>20</th>\n",
       "      <td>vixen</td>\n",
       "      <td>9.272727</td>\n",
       "      <td>10.0</td>\n",
       "    </tr>\n",
       "    <tr>\n",
       "      <th>21</th>\n",
       "      <td>we-bare-bears</td>\n",
       "      <td>9.272727</td>\n",
       "      <td>7.0</td>\n",
       "    </tr>\n",
       "    <tr>\n",
       "      <th>22</th>\n",
       "      <td>static-shock</td>\n",
       "      <td>9.272727</td>\n",
       "      <td>10.0</td>\n",
       "    </tr>\n",
       "    <tr>\n",
       "      <th>23</th>\n",
       "      <td>duck-dodgers</td>\n",
       "      <td>8.903590</td>\n",
       "      <td>7.0</td>\n",
       "    </tr>\n",
       "    <tr>\n",
       "      <th>24</th>\n",
       "      <td>fantastic-four</td>\n",
       "      <td>8.903589</td>\n",
       "      <td>7.0</td>\n",
       "    </tr>\n",
       "    <tr>\n",
       "      <th>25</th>\n",
       "      <td>the-garfield-show</td>\n",
       "      <td>8.903589</td>\n",
       "      <td>10.0</td>\n",
       "    </tr>\n",
       "    <tr>\n",
       "      <th>26</th>\n",
       "      <td>the-flash</td>\n",
       "      <td>8.721771</td>\n",
       "      <td>10.0</td>\n",
       "    </tr>\n",
       "    <tr>\n",
       "      <th>27</th>\n",
       "      <td>legends</td>\n",
       "      <td>6.153590</td>\n",
       "      <td>8.0</td>\n",
       "    </tr>\n",
       "    <tr>\n",
       "      <th>28</th>\n",
       "      <td>mr-bean</td>\n",
       "      <td>5.570257</td>\n",
       "      <td>10.0</td>\n",
       "    </tr>\n",
       "  </tbody>\n",
       "</table>\n",
       "</div>"
      ],
      "text/plain": [
       "                                Serie  Note predite pour Johnny  \\\n",
       "0                       generator-rex                 11.903590   \n",
       "1                    sym-bionic-titan                 11.903590   \n",
       "2                 ultimate-spider-man                 11.903590   \n",
       "3                        regular-show                 11.903590   \n",
       "4                         teen-titans                 11.903590   \n",
       "5                  ben-10-alien-force                 11.903590   \n",
       "6                    ben-10-omniverse                 11.903590   \n",
       "7                              ben-10                 11.903590   \n",
       "8           hot-wheels-battle-force-5                 11.903590   \n",
       "9       batman-the-brave-and-the-bold                 11.903590   \n",
       "10  green-lantern-the-animated-series                 11.903590   \n",
       "11                       the-avengers                 11.403590   \n",
       "12             legion-of-super-heroes                 10.903590   \n",
       "13                 transformers-prime                 10.903590   \n",
       "14                          wolverine                 10.403590   \n",
       "15                  avengers-assemble                 10.403590   \n",
       "16         the-spectacular-spider-man                 10.236922   \n",
       "17                   batgirl-year-one                  9.903590   \n",
       "18              ben-10-ultimate-alien                  9.903590   \n",
       "19            wolverine-and-the-x-men                  9.903590   \n",
       "20                              vixen                  9.272727   \n",
       "21                      we-bare-bears                  9.272727   \n",
       "22                       static-shock                  9.272727   \n",
       "23                       duck-dodgers                  8.903590   \n",
       "24                     fantastic-four                  8.903589   \n",
       "25                  the-garfield-show                  8.903589   \n",
       "26                          the-flash                  8.721771   \n",
       "27                            legends                  6.153590   \n",
       "28                            mr-bean                  5.570257   \n",
       "\n",
       "    Note donnee par son plus proche voisin  \n",
       "0                                     10.0  \n",
       "1                                     10.0  \n",
       "2                                     10.0  \n",
       "3                                     10.0  \n",
       "4                                     10.0  \n",
       "5                                     10.0  \n",
       "6                                     10.0  \n",
       "7                                     10.0  \n",
       "8                                     10.0  \n",
       "9                                     10.0  \n",
       "10                                    10.0  \n",
       "11                                     9.0  \n",
       "12                                     9.0  \n",
       "13                                    10.0  \n",
       "14                                     8.0  \n",
       "15                                    10.0  \n",
       "16                                     7.0  \n",
       "17                                     8.0  \n",
       "18                                     8.0  \n",
       "19                                     8.0  \n",
       "20                                    10.0  \n",
       "21                                     7.0  \n",
       "22                                    10.0  \n",
       "23                                     7.0  \n",
       "24                                     7.0  \n",
       "25                                    10.0  \n",
       "26                                    10.0  \n",
       "27                                     8.0  \n",
       "28                                    10.0  "
      ]
     },
     "execution_count": 183,
     "metadata": {},
     "output_type": "execute_result"
    }
   ],
   "source": [
    "df"
   ]
  },
  {
   "cell_type": "markdown",
   "metadata": {},
   "source": [
    "Remarque : peut-être faut-il ramener les notes prédites > 10 à 10 ?"
   ]
  }
 ],
 "metadata": {
  "kernelspec": {
   "display_name": "Python 3",
   "language": "python",
   "name": "python3"
  },
  "language_info": {
   "codemirror_mode": {
    "name": "ipython",
    "version": 3
   },
   "file_extension": ".py",
   "mimetype": "text/x-python",
   "name": "python",
   "nbconvert_exporter": "python",
   "pygments_lexer": "ipython3",
   "version": "3.5.3"
  }
 },
 "nbformat": 4,
 "nbformat_minor": 2
}
