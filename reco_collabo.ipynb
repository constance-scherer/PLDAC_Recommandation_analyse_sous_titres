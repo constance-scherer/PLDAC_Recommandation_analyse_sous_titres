{
 "cells": [
  {
   "cell_type": "markdown",
   "metadata": {},
   "source": [
    "# Recommandation filtrage collaboratif"
   ]
  },
  {
   "cell_type": "code",
   "execution_count": 52,
   "metadata": {},
   "outputs": [],
   "source": [
    "import os\n",
    "import re\n",
    "import pandas as pd\n",
    "from sklearn.decomposition import NMF\n",
    "from scipy.sparse import dok_matrix\n",
    "import numpy as np"
   ]
  },
  {
   "cell_type": "code",
   "execution_count": 73,
   "metadata": {},
   "outputs": [],
   "source": [
    "# take as input two lists of ratings\n",
    "\n",
    "def MSE_err(truth,pred):\n",
    "    \"\"\"\n",
    "    computes MSE from real-pred difference\n",
    "    \"\"\"\n",
    "    return np.mean((truth-pred)**2)\n",
    "\n",
    "def MAE_err(truth,pred):\n",
    "    \"\"\"\n",
    "    computes MAE from real-pred difference\n",
    "    \"\"\"\n",
    "    return np.mean(abs(np.array(truth-pred)))\n",
    "        "
   ]
  },
  {
   "cell_type": "code",
   "execution_count": 23,
   "metadata": {},
   "outputs": [],
   "source": [
    "path = '/Vrac/PLDAC_addic7ed/ratings/small_ratings'"
   ]
  },
  {
   "cell_type": "code",
   "execution_count": 44,
   "metadata": {},
   "outputs": [
    {
     "data": {
      "text/plain": [
       "{'=G=': {'alias': 7.0,\n",
       "  'angels-in-america': 7.0,\n",
       "  'band-of-brothers': 10.0,\n",
       "  'brothers': 10.0,\n",
       "  'cambridge-spies': 6.0,\n",
       "  'csi-crime-scene-investigation': 8.0,\n",
       "  'csi-miami': 7.0,\n",
       "  'daniel-deronda': 7.0,\n",
       "  'empire-falls': 7.0,\n",
       "  'jack-the-ripper': 5.0,\n",
       "  'profiler': 5.0,\n",
       "  'the-closer': 5.0,\n",
       "  'the-shield': 7.0,\n",
       "  'the-sopranos': 9.0,\n",
       "  'the-west-wing': 10.0,\n",
       "  'the-wire': 10.0,\n",
       "  'touching-evil': 7.0},\n",
       " 'B24': {'any-human-heart': 8.0,\n",
       "  'big-love': 9.0,\n",
       "  'boardwalk-empire': 7.0,\n",
       "  'bosch': 8.0,\n",
       "  'copper': 6.0,\n",
       "  'deutschland-83': 7.0,\n",
       "  'downton-abbey': 7.0,\n",
       "  'empire': 7.0,\n",
       "  'grantchester': 6.0,\n",
       "  'homeland': 4.0,\n",
       "  'john-adams': 9.0,\n",
       "  'outlander': 2.0,\n",
       "  'please-like-me': 10.0,\n",
       "  'slings-and-arrows': 8.0,\n",
       "  'the-borgias': 7.0,\n",
       "  'to-the-ends-of-the-earth': 10.0,\n",
       "  'true-blood': 6.0,\n",
       "  'turn': 5.0,\n",
       "  'zen': 8.0},\n",
       " 'Brave_TraveIor': {'bloodline': 9.0,\n",
       "  'breaking-bad': 10.0,\n",
       "  'californication': 10.0,\n",
       "  'chosen': 10.0,\n",
       "  'crash': 9.0,\n",
       "  'desperate-housewives': 8.0,\n",
       "  'fargo': 9.0,\n",
       "  'how-to-get-away-with-murder': 7.0,\n",
       "  'kingdom': 9.0,\n",
       "  'louie': 10.0,\n",
       "  'mad-dogs': 10.0,\n",
       "  'magic-city': 10.0,\n",
       "  'power': 10.0,\n",
       "  'southland': 10.0,\n",
       "  'terriers': 10.0,\n",
       "  'the-knick': 10.0,\n",
       "  'the-last-kingdom': 9.0,\n",
       "  'the-leftovers': 10.0,\n",
       "  'wentworth': 7.0},\n",
       " 'Franklie': {'a-to-z': 7.0,\n",
       "  'broadchurch': 8.0,\n",
       "  'copper': 2.0,\n",
       "  'crowded': 3.0,\n",
       "  'dci-banks': 6.0,\n",
       "  'detectorists': 9.0,\n",
       "  'expedition-unknown': 3.0,\n",
       "  'galavant': 1.0,\n",
       "  'glee': 7.0,\n",
       "  'going-postal': 10.0,\n",
       "  'grantchester': 5.0,\n",
       "  'hinterland': 7.0,\n",
       "  'kevin-from-work': 2.0,\n",
       "  'quantico': 5.0,\n",
       "  'scorpion': 10.0,\n",
       "  'shetland': 7.0,\n",
       "  'stitchers': 2.0,\n",
       "  'the-escape-artist': 3.0,\n",
       "  'the-mysteries-of-laura': 3.0,\n",
       "  'vera': 10.0},\n",
       " 'Miles-10': {'glitch': 6.0,\n",
       "  'golden-boy': 6.0,\n",
       "  'homicide-life-on-the-street': 9.0,\n",
       "  'keeping-up-with-the-kardashians': 1.0,\n",
       "  'mad': 9.0,\n",
       "  'mad-men': 9.0,\n",
       "  'mental': 2.0,\n",
       "  'orphan-black': 8.0,\n",
       "  'pushing-daisies': 10.0,\n",
       "  'rubicon': 2.0,\n",
       "  'sense8': 6.0,\n",
       "  'terminator-the-sarah-connor-chronicles': 6.0,\n",
       "  'the-first-world-war': 9.0,\n",
       "  'the-man-in-the-high-castle': 9.0,\n",
       "  'the-street': 9.0},\n",
       " 'SeriousJest': {'band-of-brothers': 9.0,\n",
       "  'big-love': 6.0,\n",
       "  'boardwalk-empire': 10.0,\n",
       "  'brothers': 9.0,\n",
       "  'carlos': 8.0,\n",
       "  'cheers': 8.0,\n",
       "  'community': 9.0,\n",
       "  'empire': 10.0,\n",
       "  'hello-ladies': 4.0,\n",
       "  'house': 5.0,\n",
       "  'house-of-cards': 5.0,\n",
       "  'lilyhammer': 5.0,\n",
       "  'modern-family': 8.0,\n",
       "  'nip-tuck': 6.0,\n",
       "  'scrubs': 8.0,\n",
       "  'the-newsroom': 9.0,\n",
       "  'the-pacific': 9.0,\n",
       "  'the-walking-dead': 10.0,\n",
       "  'true-blood': 5.0,\n",
       "  'undeclared': 6.0},\n",
       " 'aliases-53334': {'californication': 7.0,\n",
       "  'chicago-fire': 6.0,\n",
       "  'daredevil': 6.0,\n",
       "  'drop-dead-diva': 8.0,\n",
       "  'fringe': 8.0,\n",
       "  'gilmore-girls': 10.0,\n",
       "  'girls': 10.0,\n",
       "  'jane-the-virgin': 9.0,\n",
       "  'las-vegas': 4.0,\n",
       "  'mistresses': 9.0,\n",
       "  'scandal': 3.0,\n",
       "  'suits': 6.0,\n",
       "  'supergirl': 9.0,\n",
       "  'survivor': 7.0,\n",
       "  'teen-wolf': 7.0,\n",
       "  'the-flash': 1.0,\n",
       "  'the-fosters': 10.0,\n",
       "  'the-walking-dead': 7.0,\n",
       "  'vegas': 4.0,\n",
       "  'wayward-pines': 4.0},\n",
       " 'alindsay-al': {'arrow': 8.0,\n",
       "  'constantine': 4.0,\n",
       "  'daredevil': 10.0,\n",
       "  'game-of-thrones': 10.0,\n",
       "  'gotham': 6.0,\n",
       "  'halo-4-forward-unto-dawn': 3.0,\n",
       "  'legends': 7.0,\n",
       "  'save-me': 7.0,\n",
       "  'sneaky-pete': 6.0,\n",
       "  'spartacus-gods-of-the-arena': 9.0,\n",
       "  'star-wars-rebels': 9.0,\n",
       "  'supergirl': 5.0,\n",
       "  'the-blacklist': 8.0,\n",
       "  'the-defenders': 7.0,\n",
       "  'the-flash': 7.0,\n",
       "  'the-walking-dead': 5.0,\n",
       "  'true-detective': 8.0},\n",
       " 'backup-50362': {'american-dad': 1.0,\n",
       "  'anger-management': 2.0,\n",
       "  'broad-city': 1.0,\n",
       "  'cougar-town': 1.0,\n",
       "  'episodes': 1.0,\n",
       "  'friends': 1.0,\n",
       "  'game-of-thrones': 1.0,\n",
       "  'joey': 1.0,\n",
       "  'malcolm-in-the-middle': 8.0,\n",
       "  'melissa-joey': 1.0,\n",
       "  'mr-robot': 1.0,\n",
       "  'rick-and-morty': 1.0,\n",
       "  'south-park': 1.0,\n",
       "  'the-cleveland-show': 1.0,\n",
       "  'the-last-man-on-earth': 1.0,\n",
       "  'the-middle': 8.0,\n",
       "  'the-odd-couple': 1.0},\n",
       " 'bigverybadtom': {'fawlty-towers': 7.0,\n",
       "  'get-smart': 9.0,\n",
       "  'hetty-wainthropp-investigates': 4.0,\n",
       "  'hong-kong-phooey': 8.0,\n",
       "  'keeping-up-appearances': 2.0,\n",
       "  'last-of-the-summer-wine': 7.0,\n",
       "  'longmire': 1.0,\n",
       "  'midsomer-murders': 3.0,\n",
       "  'monk': 2.0,\n",
       "  'shogun': 6.0,\n",
       "  'the-benny-hill-show': 7.0,\n",
       "  'the-cosby-show': 5.0,\n",
       "  'the-simpsons': 4.0,\n",
       "  'the-two-ronnies': 1.0,\n",
       "  'the-vicar-of-dibley': 2.0},\n",
       " 'claudio_carvalho': {'5ive-days-to-midnight': 7.0,\n",
       "  'andromeda': 6.0,\n",
       "  'bag-of-bones': 7.0,\n",
       "  'blade-the-series': 7.0,\n",
       "  'children-of-dune': 5.0,\n",
       "  'halo-4-forward-unto-dawn': 5.0,\n",
       "  'halo-nightfall': 7.0,\n",
       "  'kingdom-hospital': 6.0,\n",
       "  'lightfields': 8.0,\n",
       "  'the-10th-kingdom': 8.0,\n",
       "  'the-andromeda-strain': 6.0,\n",
       "  'the-day-of-the-triffids': 3.0,\n",
       "  'the-last-templar': 4.0,\n",
       "  'the-triangle': 7.0},\n",
       " 'ikrani': {'avengers-assemble': 2.0,\n",
       "  'beware-the-batman': 7.0,\n",
       "  'cake-boss': 7.0,\n",
       "  'gotham': 5.0,\n",
       "  'my-little-pony-friendship-is-magic': 8.0,\n",
       "  'over-the-garden-wall': 10.0,\n",
       "  'street-fighter-ii-v': 9.0,\n",
       "  'teen-titans-go-': 1.0,\n",
       "  'the-13-ghosts-of-scooby-doo': 5.0,\n",
       "  'the-a-team': 10.0,\n",
       "  'the-guild': 1.0,\n",
       "  'the-tom-and-jerry-show': 3.0,\n",
       "  'ultimate-spider-man': 6.0},\n",
       " 'mike-ryan455': {'andromeda': 1.0,\n",
       "  'caprica': 3.0,\n",
       "  'deadliest-warrior': 6.0,\n",
       "  'defiance': 6.0,\n",
       "  'extant': 5.0,\n",
       "  'haven': 7.0,\n",
       "  'helix': 3.0,\n",
       "  'other-space': 3.0,\n",
       "  'primeval-new-world': 6.0,\n",
       "  'ringer': 4.0,\n",
       "  'robot-combat-league': 4.0,\n",
       "  'siberia': 3.0,\n",
       "  'the-andromeda-strain': 1.0,\n",
       "  'the-event': 2.0,\n",
       "  'the-man-in-the-high-castle': 6.0,\n",
       "  'true-blood': 8.0,\n",
       "  'tut': 5.0,\n",
       "  'warehouse-13': 7.0,\n",
       "  'zero-hour': 7.0},\n",
       " 'pavanratnaker': {'big-love': 6.0,\n",
       "  'homeland': 9.0,\n",
       "  'hunted': 6.0,\n",
       "  'il-capo-dei-capi': 9.0,\n",
       "  'maison-close': 7.0,\n",
       "  'prime-suspect': 9.0,\n",
       "  'romanzo-criminale': 9.0,\n",
       "  'secret-state': 8.0,\n",
       "  'sherlock': 9.0,\n",
       "  'six-feet-under': 8.0,\n",
       "  'spartacus-gods-of-the-arena': 8.0,\n",
       "  'state-of-play': 8.0,\n",
       "  'the-borgias': 8.0,\n",
       "  'the-pillars-of-the-earth': 9.0,\n",
       "  'the-sopranos': 10.0,\n",
       "  'touch': 7.0,\n",
       "  'white-heat': 8.0},\n",
       " 'tinyone2': {'12-monkeys': 8.0,\n",
       "  'boston-legal': 10.0,\n",
       "  'californication': 1.0,\n",
       "  'halt-and-catch-fire': 9.0,\n",
       "  'hannibal': 6.0,\n",
       "  'hemlock-grove': 3.0,\n",
       "  'long-way-down': 2.0,\n",
       "  'maison-close': 1.0,\n",
       "  'mr-robot': 1.0,\n",
       "  'reign': 3.0,\n",
       "  'republic-of-doyle': 8.0,\n",
       "  'ripper-street': 3.0,\n",
       "  'suits': 4.0,\n",
       "  'the-americans': 10.0,\n",
       "  'the-blacklist': 6.0,\n",
       "  'the-magicians': 5.0,\n",
       "  'unbreakable-kimmy-schmidt': 2.0},\n",
       " 'willz187': {'benched': 5.0,\n",
       "  'beware-the-batman': 9.0,\n",
       "  'broad-city': 10.0,\n",
       "  'daredevil': 9.0,\n",
       "  'gotham': 7.0,\n",
       "  'legends': 2.0,\n",
       "  'manhattan-love-story': 4.0,\n",
       "  'mom': 3.0,\n",
       "  'one-big-happy': 6.0,\n",
       "  'supergirl': 6.0,\n",
       "  'teen-titans-go-': 10.0,\n",
       "  'the-avengers': 7.0,\n",
       "  'the-batman': 6.0,\n",
       "  'the-flash': 7.0,\n",
       "  'the-librarians': 2.0,\n",
       "  'transformers-prime': 9.0,\n",
       "  'unbreakable-kimmy-schmidt': 8.0,\n",
       "  'undateable': 3.0}}"
      ]
     },
     "execution_count": 44,
     "metadata": {},
     "output_type": "execute_result"
    }
   ],
   "source": [
    "d_user = dict()\n",
    "cpt = 0\n",
    "for user in os.listdir(path) :\n",
    "    username = re.sub(\".txt\", \"\", user)\n",
    "    d_user[username] = dict()\n",
    "    with open(path+\"/\"+user) as file: \n",
    "        lignes = file.readlines()\n",
    "        for ligne in lignes :\n",
    "            serie, rating = ligne.split(\" \")\n",
    "            rating = rating.rstrip(\"\\n\")\n",
    "            rating = float(rating)\n",
    "            \n",
    "            d_user[username][serie] = rating\n",
    "    \n",
    "    cpt += 1\n",
    "    if cpt > 30 :\n",
    "        break\n",
    "    \n",
    "d_user"
   ]
  },
  {
   "cell_type": "code",
   "execution_count": 45,
   "metadata": {},
   "outputs": [
    {
     "data": {
      "text/plain": [
       "237"
      ]
     },
     "execution_count": 45,
     "metadata": {},
     "output_type": "execute_result"
    }
   ],
   "source": [
    "liste_series = set()\n",
    "for username, d_s in d_user.items() :\n",
    "    for serie, rating in d_s.items() :\n",
    "        liste_series.add(serie)\n",
    "liste_series = list(liste_series)\n",
    "len(liste_series)"
   ]
  },
  {
   "cell_type": "code",
   "execution_count": 46,
   "metadata": {},
   "outputs": [
    {
     "data": {
      "text/plain": [
       "5.0"
      ]
     },
     "execution_count": 46,
     "metadata": {},
     "output_type": "execute_result"
    }
   ],
   "source": [
    "d_user['ikrani']['the-13-ghosts-of-scooby-doo']"
   ]
  },
  {
   "cell_type": "code",
   "execution_count": 61,
   "metadata": {},
   "outputs": [],
   "source": [
    "data = []\n",
    "for username, d_s in d_user.items() :\n",
    "    for serie, rating in d_s.items() :\n",
    "        data.append( (username, serie, rating) )"
   ]
  },
  {
   "cell_type": "code",
   "execution_count": 62,
   "metadata": {},
   "outputs": [
    {
     "data": {
      "text/plain": [
       "('ikrani', 'cake-boss', 7.0)"
      ]
     },
     "execution_count": 62,
     "metadata": {},
     "output_type": "execute_result"
    }
   ],
   "source": [
    "data[0]"
   ]
  },
  {
   "cell_type": "code",
   "execution_count": 95,
   "metadata": {},
   "outputs": [
    {
     "name": "stdout",
     "output_type": "stream",
     "text": [
      "16 users and 237 items.\n"
     ]
    }
   ],
   "source": [
    "# We first remap users and item to ids between (0,len(user)) and (0,len(item))\n",
    "u_dic = {}\n",
    "i_dic = {}\n",
    "        \n",
    "all_data = []\n",
    "    \n",
    "d_username_id = dict()\n",
    "d_itemname_id = dict()\n",
    "for uid,iid,rating in data:  # iterating on all data\n",
    "    \n",
    "    uk = u_dic.setdefault(uid,len(u_dic))\n",
    "    ik = i_dic.setdefault(iid,len(i_dic))\n",
    "    all_data.append((uk,ik,float(rating)))\n",
    "    d_username_id[uid] = uk\n",
    "    d_itemname_id[iid] = ik\n",
    "\n",
    "num_user = len(u_dic)\n",
    "num_item = len(i_dic)\n",
    "\n",
    "print(str(num_user)+\" users and \"+str(num_item)+\" items.\")"
   ]
  },
  {
   "cell_type": "code",
   "execution_count": 70,
   "metadata": {},
   "outputs": [
    {
     "data": {
      "text/plain": [
       "(237, 25)"
      ]
     },
     "execution_count": 70,
     "metadata": {},
     "output_type": "execute_result"
    }
   ],
   "source": [
    "# (1) Create sparse matrix from all ratings\n",
    "Full = dok_matrix((num_user, num_item), dtype=np.float32)\n",
    "\n",
    "for uid,iid,rating in all_data:\n",
    "    Full[uid,iid] = float(rating)\n",
    "    \n",
    "    \n",
    "# (2) Factorizing matrix\n",
    "\n",
    "model = NMF(n_components=25, init='random', random_state=0, max_iter=350)\n",
    "U = model.fit_transform(Full) #users\n",
    "I = model.components_      #items\n",
    "\n",
    "I = I.transpose()\n",
    "I.shape\n"
   ]
  },
  {
   "cell_type": "code",
   "execution_count": 75,
   "metadata": {},
   "outputs": [
    {
     "data": {
      "text/plain": [
       "(16, 237)"
      ]
     },
     "execution_count": 75,
     "metadata": {},
     "output_type": "execute_result"
    }
   ],
   "source": [
    "Full.shape"
   ]
  },
  {
   "cell_type": "code",
   "execution_count": 76,
   "metadata": {},
   "outputs": [
    {
     "data": {
      "text/plain": [
       "277"
      ]
     },
     "execution_count": 76,
     "metadata": {},
     "output_type": "execute_result"
    }
   ],
   "source": [
    "len(all_data)"
   ]
  },
  {
   "cell_type": "code",
   "execution_count": 72,
   "metadata": {},
   "outputs": [
    {
     "name": "stdout",
     "output_type": "stream",
     "text": [
      "Number of train examples:  249\n",
      "Number of test examples:  28\n"
     ]
    }
   ],
   "source": [
    "# We take 10% of the train set as test data\n",
    "train_mat = dok_matrix((num_user, num_item), dtype=np.float32)\n",
    "test = []\n",
    "train = []\n",
    "    \n",
    "for i,(uid,iid,rating) in enumerate(all_data):\n",
    "    if i%10 == 0: #one out of 10 is for test\n",
    "        test.append((uid,iid,rating))\n",
    "    else:\n",
    "        train.append((uid,iid,rating))\n",
    "        train_mat[uid,iid] = rating\n",
    "    \n",
    "print(\"Number of train examples: \", train_mat.nnz)\n",
    "print(\"Number of test examples: \", len(test))\n"
   ]
  },
  {
   "cell_type": "code",
   "execution_count": 80,
   "metadata": {},
   "outputs": [
    {
     "data": {
      "text/plain": [
       "(16, 237)"
      ]
     },
     "execution_count": 80,
     "metadata": {},
     "output_type": "execute_result"
    }
   ],
   "source": [
    "train_mat.shape"
   ]
  },
  {
   "cell_type": "code",
   "execution_count": 82,
   "metadata": {},
   "outputs": [
    {
     "name": "stdout",
     "output_type": "stream",
     "text": [
      "----------------------NMF---------------------------\n",
      "Shapes :\n",
      "(16, 16)\n",
      "(237, 16)\n",
      "Training Error:\n",
      "MSE: 0.9487589144661032\n",
      "MAE: 0.9432337597884808\n",
      "Test Error:\n",
      "MSE: 49.296604283096336\n",
      "MAE: 6.533775280831252\n"
     ]
    }
   ],
   "source": [
    "from sklearn.decomposition import NMF, TruncatedSVD\n",
    "\n",
    "\n",
    "print(\"----------------------NMF---------------------------\")\n",
    "\n",
    "\n",
    "\n",
    "## NMF model\n",
    "model = NMF(n_components=16, solver='cd' ,random_state=0, max_iter=100,alpha=5,l1_ratio=0.5)\n",
    "\n",
    "#get submatrices\n",
    "U_nmf = model.fit_transform(train_mat)\n",
    "I_nmf = model.components_.transpose()\n",
    "\n",
    "print(\"Shapes :\")\n",
    "print(U_nmf.shape) ## see the shapes of your submatrices\n",
    "print(I_nmf.shape)\n",
    "\n",
    "## to complete\n",
    "def pred_func_nmf(uid,iid):\n",
    "    \n",
    "    Uu = U_nmf[uid]\n",
    "    Ii = I_nmf[iid]\n",
    "    \n",
    "    return  np.dot(Uu, Ii)\n",
    "\n",
    "\n",
    "## Getting the truth values\n",
    "truth_tr = np.array([rating for (uid,iid),rating in train_mat.items()])\n",
    "truth_te = np.array([rating for uid,iid,rating in test])\n",
    "\n",
    "prediction_tr = np.array([pred_func_nmf(u, i) for (u,i),rating in train_mat.items()])\n",
    "prediction_te = np.array([pred_func_nmf(u, i) for u,i,rating in test])\n",
    "\n",
    "\n",
    "print(\"Training Error:\")\n",
    "print(\"MSE:\",  MSE_err(prediction_tr,truth_tr))\n",
    "print(\"MAE:\",  MAE_err(prediction_tr,truth_tr))\n",
    "    \n",
    "print(\"Test Error:\")\n",
    "print(\"MSE:\",  MSE_err(prediction_te,truth_te))\n",
    "print(\"MAE:\",  MAE_err(prediction_te,truth_te))"
   ]
  },
  {
   "cell_type": "code",
   "execution_count": 83,
   "metadata": {},
   "outputs": [
    {
     "name": "stdout",
     "output_type": "stream",
     "text": [
      "----------------------SVD---------------------------\n",
      "Training Error:\n",
      "MSE: 7.2488773e-12\n",
      "MAE: 1.9341587e-06\n",
      "Test Error:\n",
      "MSE: 49.321429316912536\n",
      "MAE: 6.535714407846865\n"
     ]
    }
   ],
   "source": [
    "print(\"----------------------SVD---------------------------\")\n",
    "\n",
    "## SVD Model\n",
    "\n",
    "model = TruncatedSVD(n_components=150)\n",
    "\n",
    "#get submatrices\n",
    "U_svd = model.fit_transform(train_mat)\n",
    "I_svd = model.components_.transpose()\n",
    "\n",
    "\n",
    "def pred_func_svd(uid,iid):\n",
    "    \n",
    "    Uu = U_svd[uid]\n",
    "    Ii = I_svd[iid]\n",
    "    \n",
    "    return np.dot(Uu, Ii)  \n",
    "\n",
    "    \n",
    "prediction_tr = np.array([pred_func_svd(u, i) for (u,i),rating in train_mat.items()])\n",
    "prediction_te = np.array([pred_func_svd(u, i) for u,i,rating in test])\n",
    "\n",
    "\n",
    "print(\"Training Error:\")\n",
    "print(\"MSE:\",  MSE_err(prediction_tr,truth_tr))\n",
    "print(\"MAE:\",  MAE_err(prediction_tr,truth_tr))\n",
    "    \n",
    "print(\"Test Error:\")\n",
    "print(\"MSE:\",  MSE_err(prediction_te,truth_te))\n",
    "print(\"MAE:\",  MAE_err(prediction_te,truth_te))"
   ]
  },
  {
   "cell_type": "code",
   "execution_count": 84,
   "metadata": {},
   "outputs": [
    {
     "name": "stdout",
     "output_type": "stream",
     "text": [
      "----------------------MEAN ONLY---------------------------\n",
      "mean rating is  6.2208834\n",
      "Training Error:\n",
      "MSE: 8.115869\n",
      "MAE: 2.395026\n",
      "Test Error:\n",
      "MSE: 6.704985852777229\n",
      "MAE: 2.091365473611014\n"
     ]
    }
   ],
   "source": [
    "print(\"----------------------MEAN ONLY---------------------------\")\n",
    "\n",
    "\n",
    "# compute mean training ratings (~3.5)\n",
    "mean = np.mean([rating for (uid,iid),rating in train_mat.items()])\n",
    "\n",
    "\n",
    "def pred_func_mean(uid,iid):\n",
    "    \n",
    "    \n",
    "    return mean\n",
    "\n",
    "print(\"mean rating is \", mean)\n",
    "\n",
    "\n",
    "prediction_tr = np.array([pred_func_mean(u, i) for (u,i),rating in train_mat.items()])\n",
    "prediction_te = np.array([pred_func_mean(u, i) for u,i,rating in test])\n",
    "\n",
    "print(\"Training Error:\")\n",
    "print(\"MSE:\",  MSE_err(prediction_tr,truth_tr))\n",
    "print(\"MAE:\",  MAE_err(prediction_tr,truth_tr))\n",
    "    \n",
    "print(\"Test Error:\")\n",
    "print(\"MSE:\",  MSE_err(prediction_te,truth_te))\n",
    "print(\"MAE:\",  MAE_err(prediction_te,truth_te))"
   ]
  },
  {
   "cell_type": "code",
   "execution_count": 85,
   "metadata": {},
   "outputs": [
    {
     "name": "stdout",
     "output_type": "stream",
     "text": [
      "Training Error:\n",
      "MSE: 3.9292727e-12\n",
      "MAE: 1.11262e-06\n",
      "Test Error:\n",
      "MSE: 6.70498565197497\n",
      "MAE: 2.0913653884615218\n"
     ]
    }
   ],
   "source": [
    "from sklearn.decomposition import NMF, TruncatedSVD\n",
    "\n",
    "\n",
    "# (1) compute mean of training ratings\n",
    "mean = mean\n",
    "\n",
    "\n",
    "\n",
    "\n",
    "# (2) mean normalize training matrix\n",
    "tmn = dok_matrix((num_user, num_item), dtype=np.float32)\n",
    "\n",
    "for (uid,iid), rating in train_mat.items():\n",
    "    tmn[uid,iid] = rating - mean\n",
    "\n",
    "# (3) factorize matrix\n",
    "model_norm = TruncatedSVD(n_components=150)\n",
    "\n",
    "#get submatrices\n",
    "U_msvd = model.fit_transform(tmn)\n",
    "I_msvd = model.components_.transpose()\n",
    "\n",
    "def pred_func_msvd(uid,iid): \n",
    "    \n",
    "    Uu = U_msvd[uid]\n",
    "    Ii = I_msvd[iid]\n",
    "    \n",
    "    return np.dot(Uu, Ii) + mean\n",
    "\n",
    "\n",
    "prediction_tr = np.array([pred_func_msvd(u, i) for (u,i),rating in train_mat.items()])\n",
    "prediction_te = np.array([pred_func_msvd(u, i) for u,i,rating in test])\n",
    "\n",
    "\n",
    "print(\"Training Error:\")\n",
    "print(\"MSE:\",  MSE_err(prediction_tr,truth_tr))\n",
    "print(\"MAE:\",  MAE_err(prediction_tr,truth_tr))\n",
    "    \n",
    "print(\"Test Error:\")\n",
    "print(\"MSE:\",  MSE_err(prediction_te,truth_te))\n",
    "print(\"MAE:\",  MAE_err(prediction_te,truth_te))\n",
    "    "
   ]
  },
  {
   "cell_type": "code",
   "execution_count": 86,
   "metadata": {},
   "outputs": [
    {
     "name": "stdout",
     "output_type": "stream",
     "text": [
      "Training Error:\n",
      "MSE: 1.2324639727784308e-12\n",
      "MAE: 6.962742018929482e-07\n",
      "Test Error:\n",
      "MSE: 4.791732325396362\n",
      "MAE: 1.777179756553365\n"
     ]
    }
   ],
   "source": [
    "from sklearn.decomposition import NMF, TruncatedSVD\n",
    "\n",
    "\n",
    "def group_by_user(tuple_list):\n",
    "    r_dic = {}\n",
    "    for uid,iid,rating in tuple_list:\n",
    "        list_rev = r_dic.get(uid,[])\n",
    "        list_rev.append(rating)\n",
    "    \n",
    "        r_dic[uid] =list_rev\n",
    "    return r_dic\n",
    "\n",
    "\n",
    "def group_by_item(tuple_list):\n",
    "    r_dic = {}\n",
    "    for uid,iid,rating in tuple_list:\n",
    "        list_rev = r_dic.get(iid,[])\n",
    "        list_rev.append(rating)\n",
    "    \n",
    "        r_dic[iid] =list_rev\n",
    "    return r_dic\n",
    "\n",
    "\n",
    "\n",
    "\n",
    "\n",
    "# (1) compute means of training set\n",
    "mean = mean\n",
    "\n",
    "# user and item deviation to mean\n",
    "u_means = {u:(np.mean(ratings - mean)) for u,ratings in group_by_user(train).items()}\n",
    "i_means = {i:(np.mean(ratings) - mean) for i,ratings in group_by_item(train).items()}\n",
    "\n",
    "\n",
    "\n",
    "\n",
    "# (2) normalize training matrix\n",
    "tmn_k = dok_matrix((num_user, num_item), dtype=np.float32)\n",
    "\n",
    "for (uid,iid), rating in train_mat.items():\n",
    "    tmn_k[uid,iid] = rating - mean - u_means.get(uid,0) - i_means.get(iid,0)\n",
    "    \n",
    "# (3) factorize matrix\n",
    "model_kor = TruncatedSVD(n_components=150)\n",
    "\n",
    "\n",
    "U_ksvd = model.fit_transform(tmn_k)\n",
    "I_ksvd = model.components_.transpose()\n",
    "\n",
    "\n",
    "def pred_func_ksvd(uid,iid):\n",
    "    Uu = U_ksvd[uid]\n",
    "    Ii = I_ksvd[iid]\n",
    "    Bu = u_means.get(uid,0)\n",
    "    Bi = i_means.get(iid, 0)\n",
    "    \n",
    "    return np.dot(Uu, Ii) + mean + Bu + Bi\n",
    "\n",
    "\n",
    "prediction_tr = np.array([pred_func_ksvd(u, i) for (u,i),rating in train_mat.items()])\n",
    "prediction_te = np.array([pred_func_ksvd(u, i) for u,i,rating in test])\n",
    "\n",
    "\n",
    "print(\"Training Error:\")\n",
    "print(\"MSE:\",  MSE_err(prediction_tr,truth_tr))\n",
    "print(\"MAE:\",  MAE_err(prediction_tr,truth_tr))\n",
    "    \n",
    "print(\"Test Error:\")\n",
    "print(\"MSE:\",  MSE_err(prediction_te,truth_te))\n",
    "print(\"MAE:\",  MAE_err(prediction_te,truth_te))"
   ]
  },
  {
   "cell_type": "code",
   "execution_count": 87,
   "metadata": {},
   "outputs": [
    {
     "data": {
      "text/plain": [
       "0.7942854176010882"
      ]
     },
     "execution_count": 87,
     "metadata": {},
     "output_type": "execute_result"
    }
   ],
   "source": [
    "# The dcg@k is the sum of the relevance, penalized gradually\n",
    "def dcg_at_k(r, k):\n",
    "    \"\"\"Score is discounted cumulative gain (dcg)\n",
    "        r: Relevance scores (list or numpy) in rank order\n",
    "            (first element is the first item)\n",
    "        k: Number of results to consider\n",
    "        \n",
    "    \"\"\"\n",
    "    r = np.asfarray(r)[:k]\n",
    "    if r.size:\n",
    "        return np.sum(r / np.log2(np.arange(2, r.size + 2)))\n",
    "        \n",
    "    return 0.\n",
    "\n",
    "# test values\n",
    "# r = [3, 2, 3, 0, 0, 1, 2, 2, 3, 0]\n",
    "# dcg_at_k(r, 1) => 3.0\n",
    "# dcg_at_k(r, 2) => 4.2618595071429155\n",
    "    \n",
    "\n",
    "# And it's normalized version\n",
    "def ndcg_at_k(r, k):\n",
    "    \"\"\"\n",
    "        r: Relevance scores (list or numpy) in rank order\n",
    "            (first element is the first item)\n",
    "        k: Number of results to consider\n",
    "    \"\"\"\n",
    "    dcg_max =  dcg_at_k(sorted(r)[::-1], k)\n",
    "    if not dcg_max:\n",
    "        return 0.\n",
    "    return dcg_at_k(r, k) / dcg_max\n",
    "\n",
    "# test values\n",
    "# r = [3, 2, 3, 0, 0, 1, 2, 2, 3, 0]\n",
    "# ndcg_at_k(r, 1) => 1.0\n",
    "# ndcg_at_k(r, 4) => 0.794285\n",
    "    \n",
    "r = [3, 2, 3, 0, 0, 1, 2, 2, 3, 0]    \n",
    "ndcg_at_k(r, 4)   "
   ]
  },
  {
   "cell_type": "code",
   "execution_count": 88,
   "metadata": {},
   "outputs": [
    {
     "name": "stdout",
     "output_type": "stream",
     "text": [
      "train\n",
      "----------\n",
      "mean == random 0.7714964009460706\n",
      "ndcg nmf 1.0\n",
      "ndcg svd 1.0\n",
      "ndcg svd + mean 1.0\n",
      "ndcg svd koren 1.0\n",
      " \n",
      "test\n",
      "----------\n",
      "mean == random 0.9667664184149902\n",
      "ndcg nmf 0.9694001957209294\n",
      "ndcg svd 0.9760932453788536\n",
      "ndcg svd + mean 0.9694001957209294\n",
      "ndcg svd koren 0.9686241782530138\n"
     ]
    }
   ],
   "source": [
    "from random import shuffle\n",
    "\n",
    "#1) Group (uid,iid,rating) per uid\n",
    "def group_by_user(tuple_list):\n",
    "    r_dic = {}\n",
    "    for uid,iid,rating in tuple_list:\n",
    "        list_rev = r_dic.get(uid,[])\n",
    "        list_rev.append((uid,iid,rating))\n",
    "    \n",
    "        r_dic[uid] =list_rev\n",
    "    return r_dic #returns {uid:[(uid,iid,rating),...],...}\n",
    "\n",
    "\n",
    "\n",
    "userg_train = group_by_user(train)  #returns {uid:[(uid,iid,rating),...],...}\n",
    "userg_test = group_by_user(test)\n",
    "\n",
    "\n",
    "# Function to compute a random shuffle ndcg\n",
    "def random_ndcg(uid_group_tuples,k=10):\n",
    "    mean_ndcg = 0\n",
    "    num_users = 0\n",
    "    \n",
    "    #for each test set\n",
    "    for _,list_rating in uid_group_tuples.items():\n",
    "\n",
    "        #shuffle real ratings.\n",
    "        real_ratings = [rating for uid,iid,rating in list_rating]\n",
    "        shuffle(real_ratings)\n",
    "        pred_objects = real_ratings\n",
    "\n",
    "        mean_ndcg += ndcg_at_k(pred_objects,k)\n",
    "        num_users += 1\n",
    "\n",
    "    return  mean_ndcg/num_users\n",
    "\n",
    "\n",
    "\n",
    "#Function to compute ndcg on test set\n",
    "def mean_ndcg_UI(U,I,pred_function,uid_group_tuples,k=10):\n",
    "    mean_ndcg = 0\n",
    "    num_users = 0\n",
    "    \n",
    "    #for each test set\n",
    "    for _,list_rating in uid_group_tuples.items():\n",
    "        \n",
    "        #2)compute predictions\n",
    "        pred_ratings = [pred_function(uid, iid) for uid, iid, rating in list_rating ]\n",
    "        \n",
    "        #3)to sort real ratings\n",
    "        real_ratings = [rating for uid,iid,rating in list_rating]\n",
    "        pred_objects = [ real_ratings[rid] for rid in np.argsort(pred_ratings)[::-1]]\n",
    "        \n",
    "        #4)and compute ndcg\n",
    "        mean_ndcg += ndcg_at_k(pred_objects,k)\n",
    "        num_users += 1\n",
    "\n",
    "    return  mean_ndcg/num_users\n",
    "    \n",
    "    \n",
    "\n",
    "print(\"train\") \n",
    "print(\"-\"*10)\n",
    "print(\"mean == random\", random_ndcg(userg_train))\n",
    "print(\"ndcg nmf\", mean_ndcg_UI(U_nmf,I_nmf,pred_func_nmf,userg_train)) \n",
    "print(\"ndcg svd\", mean_ndcg_UI(U_svd,I_svd,pred_func_svd,userg_train))\n",
    "print(\"ndcg svd + mean\", mean_ndcg_UI(U_msvd,I_msvd,pred_func_nmf,userg_train))\n",
    "print(\"ndcg svd koren\", mean_ndcg_UI(U_ksvd,I_ksvd,pred_func_ksvd,userg_train))\n",
    "\n",
    "print(\" \")\n",
    "\n",
    "print(\"test\")    \n",
    "print(\"-\"*10) \n",
    "print(\"mean == random\", random_ndcg(userg_test))\n",
    "print(\"ndcg nmf\", mean_ndcg_UI(U_nmf,I_nmf,pred_func_nmf,userg_test)) \n",
    "print(\"ndcg svd\", mean_ndcg_UI(U_svd,I_svd,pred_func_svd,userg_test))\n",
    "print(\"ndcg svd + mean\", mean_ndcg_UI(U_msvd,I_msvd,pred_func_nmf,userg_test))\n",
    "print(\"ndcg svd koren\", mean_ndcg_UI(U_ksvd,I_ksvd,pred_func_ksvd,userg_test))\n"
   ]
  },
  {
   "cell_type": "code",
   "execution_count": 89,
   "metadata": {},
   "outputs": [
    {
     "name": "stdout",
     "output_type": "stream",
     "text": [
      "mean == random 0.0\n",
      "ndcg pop 0.18792186028912342\n",
      "ndcg nmf 0.011745116268070217\n",
      "ndcg svd 0.011745116268070217\n",
      "ndcg svd + mean 0.011745116268070217\n",
      "ndcg svd koren 0.0\n"
     ]
    }
   ],
   "source": [
    "from collections import Counter\n",
    "\n",
    "counts = Counter(iid for _,iid,_ in train)\n",
    "\n",
    "#the popularity predictor\n",
    "def pop_pred(uid,iid):\n",
    "    return counts[iid]\n",
    "\n",
    "#Random ndcg, return a shuffled lists of all possible ratings\n",
    "def random_ndcg_full(k=10,default=0):\n",
    "    mean_ndcg = 0\n",
    "    num_users = 0\n",
    "    \n",
    "    for _,list_rating in userg_test.items():\n",
    "\n",
    "        #all possible ratings\n",
    "        real_ratings = [rating for uid,iid,rating in list_rating] + [default]*(num_item - len(list_rating) - len(userg_train[uid]))\n",
    "        shuffle(real_ratings)\n",
    "        pred_objects = real_ratings\n",
    "        \n",
    "        mean_ndcg += ndcg_at_k(pred_objects,k)\n",
    "        num_users += 1\n",
    "\n",
    "    return  mean_ndcg/len(userg_test)\n",
    "\n",
    "\n",
    "def mean_ndcg_UI_FULL(U,I,pred_function,k=10,default=0):\n",
    "    mean_ndcg = 0\n",
    "    \n",
    "    test_users = set(uid for uid,_,_ in test)\n",
    "    \n",
    "    for user in test_users:\n",
    "        u_train_set = set(iid for _,iid,_ in userg_train[uid])\n",
    "        u_test_dic =  {iid:rating for uid,iid,rating in userg_test[uid]}\n",
    "        \n",
    "        pred_ratings = []\n",
    "        real_ratings = []\n",
    "        \n",
    "        \n",
    "        for item in range(num_item):\n",
    "            \n",
    "            if item in u_train_set:\n",
    "                continue\n",
    "            else:\n",
    "                p_rating = pred_function(user,item)\n",
    "            \n",
    "            pred_ratings.append(p_rating)\n",
    "            real_ratings.append(u_test_dic.get(item,default))\n",
    "            \n",
    "        #pred_objects = [] ##### complete here\n",
    "        pred_objects = [ real_ratings[rid] for rid in np.argsort(pred_ratings)[::-1]]\n",
    "        \n",
    "        mean_ndcg += ndcg_at_k(pred_objects,k)\n",
    "\n",
    "    return  mean_ndcg/len(test_users)\n",
    "\n",
    "print(\"mean == random\", random_ndcg_full())\n",
    "print(\"ndcg pop\", mean_ndcg_UI_FULL(U_nmf,I_nmf,pop_pred)) \n",
    "print(\"ndcg nmf\", mean_ndcg_UI_FULL(U_nmf,I_nmf,pred_func_nmf)) \n",
    "print(\"ndcg svd\", mean_ndcg_UI_FULL(U_svd,I_svd,pred_func_svd))\n",
    "print(\"ndcg svd + mean\", mean_ndcg_UI_FULL(U_msvd,I_msvd,pred_func_nmf))\n",
    "print(\"ndcg svd koren\", mean_ndcg_UI_FULL(U_msvd,I_msvd,pred_func_ksvd))"
   ]
  },
  {
   "cell_type": "code",
   "execution_count": 100,
   "metadata": {},
   "outputs": [],
   "source": [
    "def create_sparse_mat(data) : \n",
    "    # We first remap users and item to ids between (0,len(user)) and (0,len(item))\n",
    "    u_dic = {}\n",
    "    i_dic = {}\n",
    "\n",
    "    all_data = []\n",
    "\n",
    "    d_username_id = dict()\n",
    "    d_itemname_id = dict()\n",
    "    for uid,iid,rating in data:  # iterating on all data\n",
    "\n",
    "        uk = u_dic.setdefault(uid,len(u_dic))\n",
    "        ik = i_dic.setdefault(iid,len(i_dic))\n",
    "        all_data.append((uk,ik,float(rating)))\n",
    "        d_username_id[uid] = uk\n",
    "        d_itemname_id[iid] = ik\n",
    "\n",
    "    num_user = len(u_dic)\n",
    "    num_item = len(i_dic)\n",
    "    \n",
    "    # (1) Create sparse matrix from all ratings\n",
    "    Full = dok_matrix((num_user, num_item), dtype=np.float32)\n",
    "\n",
    "    for uid,iid,rating in all_data:\n",
    "        Full[uid,iid] = float(rating)\n",
    "        \n",
    "    return d_username_id, d_itemname_id, Full"
   ]
  },
  {
   "cell_type": "code",
   "execution_count": 128,
   "metadata": {},
   "outputs": [],
   "source": [
    "def plus_proche_voisin(username, d_username_id, Full) :\n",
    "    user_id = d_username_id[username]\n",
    "    f = Full[user_id].todense()\n",
    "    d_max = 0\n",
    "    i_max = 0\n",
    "    for i in range(0, Full.shape[0]) :\n",
    "        if i != user_id :\n",
    "            fi = Full[i].todense()\n",
    "            d = sqeuclidean(f, fi)\n",
    "            if d > d_max :\n",
    "                i_max = i\n",
    "                d_max = d\n",
    "    return i_max"
   ]
  },
  {
   "cell_type": "code",
   "execution_count": 130,
   "metadata": {},
   "outputs": [],
   "source": [
    "ppv = plus_proche_voisin('ikrani', d_username_id, Full)"
   ]
  },
  {
   "cell_type": "code",
   "execution_count": 131,
   "metadata": {
    "scrolled": true
   },
   "outputs": [
    {
     "data": {
      "text/plain": [
       "{'=G=': 15,\n",
       " 'B24': 1,\n",
       " 'Brave_TraveIor': 3,\n",
       " 'Franklie': 9,\n",
       " 'Miles-10': 6,\n",
       " 'SeriousJest': 14,\n",
       " 'aliases-53334': 13,\n",
       " 'alindsay-al': 8,\n",
       " 'backup-50362': 2,\n",
       " 'bigverybadtom': 7,\n",
       " 'claudio_carvalho': 4,\n",
       " 'ikrani': 0,\n",
       " 'mike-ryan455': 12,\n",
       " 'pavanratnaker': 11,\n",
       " 'tinyone2': 10,\n",
       " 'willz187': 5}"
      ]
     },
     "execution_count": 131,
     "metadata": {},
     "output_type": "execute_result"
    }
   ],
   "source": [
    "d_username_id"
   ]
  },
  {
   "cell_type": "code",
   "execution_count": 132,
   "metadata": {},
   "outputs": [
    {
     "data": {
      "text/plain": [
       "{'bloodline': 9.0,\n",
       " 'breaking-bad': 10.0,\n",
       " 'californication': 10.0,\n",
       " 'chosen': 10.0,\n",
       " 'crash': 9.0,\n",
       " 'desperate-housewives': 8.0,\n",
       " 'fargo': 9.0,\n",
       " 'how-to-get-away-with-murder': 7.0,\n",
       " 'kingdom': 9.0,\n",
       " 'louie': 10.0,\n",
       " 'mad-dogs': 10.0,\n",
       " 'magic-city': 10.0,\n",
       " 'power': 10.0,\n",
       " 'southland': 10.0,\n",
       " 'terriers': 10.0,\n",
       " 'the-knick': 10.0,\n",
       " 'the-last-kingdom': 9.0,\n",
       " 'the-leftovers': 10.0,\n",
       " 'wentworth': 7.0}"
      ]
     },
     "execution_count": 132,
     "metadata": {},
     "output_type": "execute_result"
    }
   ],
   "source": [
    "d_user['Brave_TraveIor']"
   ]
  },
  {
   "cell_type": "code",
   "execution_count": 133,
   "metadata": {},
   "outputs": [
    {
     "data": {
      "text/plain": [
       "{'avengers-assemble': 2.0,\n",
       " 'beware-the-batman': 7.0,\n",
       " 'cake-boss': 7.0,\n",
       " 'gotham': 5.0,\n",
       " 'my-little-pony-friendship-is-magic': 8.0,\n",
       " 'over-the-garden-wall': 10.0,\n",
       " 'street-fighter-ii-v': 9.0,\n",
       " 'teen-titans-go-': 1.0,\n",
       " 'the-13-ghosts-of-scooby-doo': 5.0,\n",
       " 'the-a-team': 10.0,\n",
       " 'the-guild': 1.0,\n",
       " 'the-tom-and-jerry-show': 3.0,\n",
       " 'ultimate-spider-man': 6.0}"
      ]
     },
     "execution_count": 133,
     "metadata": {},
     "output_type": "execute_result"
    }
   ],
   "source": [
    "d_user['ikrani']"
   ]
  },
  {
   "cell_type": "code",
   "execution_count": 104,
   "metadata": {},
   "outputs": [],
   "source": [
    "f0 = Full[0].todense()\n",
    "f1 = Full[1].todense()"
   ]
  },
  {
   "cell_type": "code",
   "execution_count": 116,
   "metadata": {},
   "outputs": [],
   "source": [
    "from scipy.spatial.distance import sqeuclidean"
   ]
  },
  {
   "cell_type": "code",
   "execution_count": 117,
   "metadata": {},
   "outputs": [
    {
     "data": {
      "text/plain": [
       "1560.0"
      ]
     },
     "execution_count": 117,
     "metadata": {},
     "output_type": "execute_result"
    }
   ],
   "source": [
    "sqeuclidean(f0, f1)"
   ]
  },
  {
   "cell_type": "code",
   "execution_count": null,
   "metadata": {},
   "outputs": [],
   "source": []
  },
  {
   "cell_type": "code",
   "execution_count": null,
   "metadata": {},
   "outputs": [],
   "source": []
  },
  {
   "cell_type": "code",
   "execution_count": null,
   "metadata": {},
   "outputs": [],
   "source": []
  },
  {
   "cell_type": "code",
   "execution_count": null,
   "metadata": {},
   "outputs": [],
   "source": []
  },
  {
   "cell_type": "code",
   "execution_count": null,
   "metadata": {},
   "outputs": [],
   "source": []
  },
  {
   "cell_type": "code",
   "execution_count": null,
   "metadata": {},
   "outputs": [],
   "source": []
  },
  {
   "cell_type": "code",
   "execution_count": null,
   "metadata": {},
   "outputs": [],
   "source": []
  },
  {
   "cell_type": "code",
   "execution_count": null,
   "metadata": {},
   "outputs": [],
   "source": []
  },
  {
   "cell_type": "code",
   "execution_count": null,
   "metadata": {},
   "outputs": [],
   "source": []
  },
  {
   "cell_type": "code",
   "execution_count": null,
   "metadata": {},
   "outputs": [],
   "source": []
  },
  {
   "cell_type": "code",
   "execution_count": null,
   "metadata": {},
   "outputs": [],
   "source": []
  },
  {
   "cell_type": "code",
   "execution_count": null,
   "metadata": {},
   "outputs": [],
   "source": []
  },
  {
   "cell_type": "code",
   "execution_count": null,
   "metadata": {},
   "outputs": [],
   "source": []
  },
  {
   "cell_type": "code",
   "execution_count": null,
   "metadata": {},
   "outputs": [],
   "source": []
  }
 ],
 "metadata": {
  "kernelspec": {
   "display_name": "Python 3",
   "language": "python",
   "name": "python3"
  },
  "language_info": {
   "codemirror_mode": {
    "name": "ipython",
    "version": 3
   },
   "file_extension": ".py",
   "mimetype": "text/x-python",
   "name": "python",
   "nbconvert_exporter": "python",
   "pygments_lexer": "ipython3",
   "version": "3.5.3"
  }
 },
 "nbformat": 4,
 "nbformat_minor": 2
}
