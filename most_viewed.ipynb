{
 "cells": [
  {
   "cell_type": "markdown",
   "metadata": {},
   "source": [
    "# Recommandation - séries les plus vues"
   ]
  },
  {
   "cell_type": "markdown",
   "metadata": {},
   "source": [
    "Nous avons remarqué un problème dans nos recommandations : on renvoit souvent les mêmes (qui sont en plus des séries assez peu connues - on pense que ce problème vient de leur biais très élevé, car le peu de gens les ayant notées les ont très bien notées).  \n",
    "Pour régler ce problème, nous recourrons à l'heuristique suivante lorsque les notes max prédites pour un utilisateur sont toutes les mêmes : on recommande les séries les plus vues / les mieux notées."
   ]
  },
  {
   "cell_type": "code",
   "execution_count": 1,
   "metadata": {},
   "outputs": [],
   "source": [
    "import os\n",
    "import re\n",
    "import pandas as pd\n",
    "from sklearn.decomposition import NMF\n",
    "from scipy.sparse import dok_matrix\n",
    "import numpy as np\n",
    "import pandas as pd\n",
    "from scipy.spatial.distance import sqeuclidean, cosine\n",
    "import pickle\n",
    "from collections import OrderedDict\n",
    "import matplotlib.pyplot as plt\n",
    "from utils.collaborative import *\n",
    "from utils.similarities import *\n",
    "from utils.predictions_content import *\n",
    "from utils.ndcg import *\n",
    "import operator\n",
    "import pickle\n",
    "from collections import OrderedDict\n",
    "from utils.predictions_notes import *\n",
    "from utils.recommandation import *"
   ]
  },
  {
   "cell_type": "code",
   "execution_count": 2,
   "metadata": {},
   "outputs": [],
   "source": [
    "#path_d_user = \"/Users/constancescherer/Desktop/pickles/d_user.p\"\n",
    "#path_sim = \"/Users/constancescherer/Desktop/pickles/sim.p\"\n",
    "#path_most_sim = \"/Users/constancescherer/Desktop/pickles/most_sim.p\"\n",
    "\n",
    "path_d_user = \"/Vrac/PLDAC_addic7ed/pickles/d_user.p\"\n",
    "path_sim = \"/Vrac/PLDAC_addic7ed/pickles/sim.p\"\n",
    "path_most_sim = \"/Vrac/PLDAC_addic7ed/pickles/most_sim.p\"\n",
    "path_d_pert_user = \"/Vrac/PLDAC_addic7ed/pickles/d_pert_user_k3.p\"\n",
    "path_d_user = \"/Vrac/PLDAC_addic7ed/pickles/d_user.p\"\n",
    "\n",
    "# dictionnaire d_users\n",
    "# {username : {serie : rating}}\n",
    "with open(path_d_user, 'rb') as pickle_file:\n",
    "    d_user = pickle.load(pickle_file)\n",
    "\n",
    "# matrice des similarités cosinus\n",
    "with open(path_sim, 'rb') as pickle_file:\n",
    "    sim = pickle.load(pickle_file)\n",
    "\n",
    "# dictionnaire des séries les plus similaires\n",
    "with open(path_most_sim, 'rb') as pickle_file:\n",
    "    most_similar = pickle.load(pickle_file)\n",
    "    \n",
    "with open(path_d_pert_user, 'rb') as pickle_file:\n",
    "    d_pert_user = pickle.load(pickle_file)\n",
    "    \n",
    "with open(path_d_user, 'rb') as pickle_file:\n",
    "    d_user = pickle.load(pickle_file)"
   ]
  },
  {
   "cell_type": "code",
   "execution_count": 3,
   "metadata": {},
   "outputs": [],
   "source": [
    "#path_ratings = \"/Users/constancescherer/Desktop/ratings/ratings_imdb/users\"\n",
    "path_ratings = \"/Vrac/PLDAC_addic7ed/ratings/ratings_imdb/users\"\n",
    "\n",
    "liste_series = get_liste_series(d_user)\n",
    "data = get_data(d_user)\n",
    "all_data, num_user, num_item = get_all_data(data)\n",
    "train, train_mat, test = get_train_test(num_user, num_item, all_data, test_size=10)\n",
    "mean, u_means, i_means,U_ksvd, I_ksvd =  get_Uksvd_Iksvd(train, train_mat, num_user, num_item)\n",
    "d_username_id, d_itemname_id, Full = create_sparse_mat(data)\n",
    "\n",
    "\n",
    "#path_series = \"/Users/constancescherer/Desktop/addic7ed_good_encoding\"\n",
    "path_series = '/Vrac/PLDAC_addic7ed/addic7ed_final'\n",
    "\n",
    "d_info, d_name = getDicts(path_series)\n",
    "d_ind = reverse_dict(d_name)\n",
    "d_titre_filename = get_d_titre_filename(\"titles/title-filename.txt\")\n",
    "d_filename_titre = reverse_dict(d_titre_filename)\n",
    "d_id_username = reverse_dict(d_username_id)\n",
    "d_id_serie = reverse_dict(d_itemname_id)\n",
    "\n",
    "reversed_u_dic, reversed_i_dic = create_reversed_dic(d_username_id, d_itemname_id)"
   ]
  },
  {
   "cell_type": "markdown",
   "metadata": {},
   "source": [
    "## Popularité"
   ]
  },
  {
   "cell_type": "markdown",
   "metadata": {},
   "source": [
    "Pour calculer la popularité d'une série, nous comptons le nombre d'utilisateurs ayant mis une note supérieure ou égale à 7. "
   ]
  },
  {
   "cell_type": "code",
   "execution_count": 4,
   "metadata": {},
   "outputs": [],
   "source": [
    "#path_series_ratings = \"/Users/constancescherer/Desktop/ratings/ratings_imdb/series\"\n",
    "path_series_ratings = \"/Vrac/PLDAC_addic7ed/ratings/ratings_imdb/series\"\n",
    "d_series = dict() #{serie : {username: note, username : note}}\n",
    "\n",
    "for serie in sorted(os.listdir(path_series_ratings)):\n",
    "    if serie[0] == '.' :\n",
    "        continue\n",
    "    seriename = re.sub(\".txt\", \"\", serie)\n",
    "    dico = dict()\n",
    "    with open(path_series_ratings+\"/\"+serie) as file: \n",
    "        lignes = file.readlines()\n",
    "    for ligne in lignes :\n",
    "        l = ligne.split(\" \")\n",
    "        username = l[0]\n",
    "        rating = l[-1]\n",
    "        #username, rating = ligne.split(\" \")\n",
    "        rating = rating.rstrip(\"\\n\")\n",
    "        rating = float(rating)\n",
    "        dico[username] = rating\n",
    "        if len(dico) > 1 :\n",
    "            d_series[seriename] = dico"
   ]
  },
  {
   "cell_type": "code",
   "execution_count": 5,
   "metadata": {},
   "outputs": [],
   "source": [
    "d_pop = dict.fromkeys(d_series.keys(), 0)\n",
    "for serie, d_notes in d_series.items() :\n",
    "    for user, note in d_notes.items() :\n",
    "        if note >= 7 :\n",
    "            d_pop[serie] += 1"
   ]
  },
  {
   "cell_type": "code",
   "execution_count": 6,
   "metadata": {},
   "outputs": [],
   "source": [
    "pickle.dump( d_pop, open( \"/Vrac/PLDAC_addic7ed/pickles/d_pop.p\", \"wb\" ))"
   ]
  },
  {
   "cell_type": "markdown",
   "metadata": {},
   "source": [
    "## Anciennes recommandations"
   ]
  },
  {
   "cell_type": "code",
   "execution_count": 7,
   "metadata": {},
   "outputs": [],
   "source": [
    "path_mat_corpus = \"/Vrac/PLDAC_addic7ed/pickles_new/pickles/mat_voc_50000_mindf_20_max_df_0.4.p\"\n",
    "with open(path_mat_corpus, 'rb') as pickle_file:\n",
    "    mat_corpus = pickle.load(pickle_file)\n",
    "    \n",
    "sim = similarities_from_sparse_mat(mat_corpus)\n",
    "\n",
    "username = 'shannen-l-c'\n",
    "top_reco = reco_content(username,\n",
    "\td_username_id,\n",
    "\td_itemname_id,\n",
    "\td_name,\n",
    "\td_user,\n",
    "\td_ind, \n",
    "\td_titre_filename, \n",
    "\td_filename_titre, \n",
    "\td_id_username, \n",
    "\td_id_serie, \n",
    "\tsim)"
   ]
  },
  {
   "cell_type": "code",
   "execution_count": 8,
   "metadata": {},
   "outputs": [
    {
     "data": {
      "text/plain": [
       "0.026598491194515538"
      ]
     },
     "execution_count": 8,
     "metadata": {},
     "output_type": "execute_result"
    }
   ],
   "source": [
    "ndcg(top_reco, username, d_pert_user, d_user)"
   ]
  },
  {
   "cell_type": "markdown",
   "metadata": {},
   "source": [
    "## Nouvelles recommandations"
   ]
  },
  {
   "cell_type": "markdown",
   "metadata": {},
   "source": [
    "Dans le cas où il y a plus de séries avec la note max que de recommandations.  \n",
    "S'il y en a moins, on les renvoie toutes. Peut-être intéressant de les trier par popularité quand même parmi les groupes de séries ayant la même notes ?"
   ]
  },
  {
   "cell_type": "code",
   "execution_count": 11,
   "metadata": {},
   "outputs": [],
   "source": [
    "def tri_par_pop(liste_series, d_pop) :\n",
    "    \"\"\"\n",
    "    liste_series : liste de series ayant la meme note\n",
    "    d_pop : dictionnaire des popularités\n",
    "    \"\"\"\n",
    "    \n",
    "    l_pop = dict()\n",
    "    i = 0\n",
    "    for serie in liste_series :\n",
    "        if serie not in d_pop.keys() :\n",
    "            i+= 1\n",
    "            continue\n",
    "        l_pop[i] = d_pop[serie]\n",
    "        i += 1\n",
    "    sorted_x = sorted(l_pop.items(), key=lambda kv: kv[1])\n",
    "    sorted_x.reverse()\n",
    "\n",
    "    sorted_dict = OrderedDict(sorted_x)\n",
    "    reco = [liste_series[i] for i, pop in sorted_x]\n",
    "    return reco"
   ]
  },
  {
   "cell_type": "code",
   "execution_count": 12,
   "metadata": {},
   "outputs": [
    {
     "name": "stdout",
     "output_type": "stream",
     "text": [
      "user =  shannen-l-c\n",
      "recommandations =  ['dexter', 'house-of-cards', 'nova', 'a-place-to-call-home', 'victorious', 'the-sarah-silverman-program', 'texas-rising', 'count-arthur-strong', 'how-not-to-live-your-life', 'joan-of-arcadia']\n"
     ]
    }
   ],
   "source": [
    "path_mat_corpus = \"/Vrac/PLDAC_addic7ed/pickles_new/pickles/mat_voc_50000_mindf_20_max_df_0.4.p\"\n",
    "with open(path_mat_corpus, 'rb') as pickle_file:\n",
    "    mat_corpus = pickle.load(pickle_file)\n",
    "    \n",
    "sim = similarities_from_sparse_mat(mat_corpus)\n",
    "nb_reco = 10\n",
    "username = 'shannen-l-c'\n",
    "print('user = ', username)\n",
    "\n",
    "uid = d_username_id[username]\n",
    "d_notes = dict()\n",
    "for serie, iid in d_itemname_id.items() :\n",
    "    if serie not in d_user[username].keys() :\n",
    "        # prediction\n",
    "        p = pred_content(uid, iid, d_name,\n",
    "\td_user, \n",
    "\td_ind, \n",
    "\td_titre_filename, \n",
    "\td_filename_titre, \n",
    "\td_id_username, \n",
    "\td_id_serie, \n",
    "\tsim)\n",
    "        if p > 10 :\n",
    "            p = 10\n",
    "        d_notes[serie] = p \n",
    "\n",
    "\n",
    "sorted_x = sorted(d_notes.items(), key=lambda kv: kv[1])\n",
    "sorted_x.reverse()\n",
    "\n",
    "sorted_dict = OrderedDict(sorted_x)\n",
    "liste_notes_max = []\n",
    "note_max = sorted_x[0][1]\n",
    "\n",
    "for serie, note in sorted_x :\n",
    "    if note == note_max :\n",
    "        liste_notes_max.append(serie)\n",
    "#print(len(liste_notes_max))        \n",
    "if len(liste_notes_max) < nb_reco :\n",
    "    reco = list(sorted_dict)\n",
    "    top3_reco = reco[:nb_reco]\n",
    "else :\n",
    "\n",
    "    reco = tri_par_pop(liste_notes_max, d_pop)\n",
    "    top3_reco = reco[:nb_reco]\n",
    "    \n",
    "\n",
    "print(\"recommandations = \", top3_reco)"
   ]
  },
  {
   "cell_type": "code",
   "execution_count": 13,
   "metadata": {},
   "outputs": [
    {
     "data": {
      "text/plain": [
       "0.05265332855649792"
      ]
     },
     "execution_count": 13,
     "metadata": {},
     "output_type": "execute_result"
    }
   ],
   "source": [
    "ndcg(top3_reco, username, d_pert_user, d_user)"
   ]
  },
  {
   "cell_type": "markdown",
   "metadata": {},
   "source": [
    "Très grosse amélioration !"
   ]
  },
  {
   "cell_type": "code",
   "execution_count": null,
   "metadata": {},
   "outputs": [],
   "source": [
    "    l_pop = dict()\n",
    "    i = 0\n",
    "    for serie in liste_notes_max :\n",
    "        if serie not in d_pop.keys() :\n",
    "            i+= 1\n",
    "            continue\n",
    "        l_pop[i] = d_pop[serie]\n",
    "        i += 1\n",
    "    sorted_x = sorted(l_pop.items(), key=lambda kv: kv[1])\n",
    "    sorted_x.reverse()\n",
    "\n",
    "    sorted_dict = OrderedDict(sorted_x)\n",
    "    reco = [liste_notes_max[i] for i, pop in sorted_x]"
   ]
  },
  {
   "cell_type": "code",
   "execution_count": null,
   "metadata": {},
   "outputs": [],
   "source": []
  },
  {
   "cell_type": "code",
   "execution_count": null,
   "metadata": {},
   "outputs": [],
   "source": []
  },
  {
   "cell_type": "code",
   "execution_count": null,
   "metadata": {},
   "outputs": [],
   "source": []
  },
  {
   "cell_type": "code",
   "execution_count": null,
   "metadata": {},
   "outputs": [],
   "source": []
  },
  {
   "cell_type": "code",
   "execution_count": null,
   "metadata": {},
   "outputs": [],
   "source": []
  },
  {
   "cell_type": "code",
   "execution_count": null,
   "metadata": {},
   "outputs": [],
   "source": []
  },
  {
   "cell_type": "code",
   "execution_count": null,
   "metadata": {},
   "outputs": [],
   "source": []
  },
  {
   "cell_type": "code",
   "execution_count": null,
   "metadata": {},
   "outputs": [],
   "source": []
  },
  {
   "cell_type": "code",
   "execution_count": null,
   "metadata": {},
   "outputs": [],
   "source": []
  },
  {
   "cell_type": "code",
   "execution_count": null,
   "metadata": {},
   "outputs": [],
   "source": []
  },
  {
   "cell_type": "code",
   "execution_count": null,
   "metadata": {},
   "outputs": [],
   "source": []
  },
  {
   "cell_type": "code",
   "execution_count": null,
   "metadata": {},
   "outputs": [],
   "source": []
  },
  {
   "cell_type": "code",
   "execution_count": null,
   "metadata": {},
   "outputs": [],
   "source": []
  },
  {
   "cell_type": "code",
   "execution_count": null,
   "metadata": {},
   "outputs": [],
   "source": []
  },
  {
   "cell_type": "code",
   "execution_count": null,
   "metadata": {},
   "outputs": [],
   "source": []
  },
  {
   "cell_type": "code",
   "execution_count": null,
   "metadata": {},
   "outputs": [],
   "source": []
  }
 ],
 "metadata": {
  "kernelspec": {
   "display_name": "Python 3",
   "language": "python",
   "name": "python3"
  },
  "language_info": {
   "codemirror_mode": {
    "name": "ipython",
    "version": 3
   },
   "file_extension": ".py",
   "mimetype": "text/x-python",
   "name": "python",
   "nbconvert_exporter": "python",
   "pygments_lexer": "ipython3",
   "version": "3.5.3"
  }
 },
 "nbformat": 4,
 "nbformat_minor": 2
}
