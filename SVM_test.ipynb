{
 "cells": [
  {
   "cell_type": "code",
   "execution_count": 6,
   "metadata": {},
   "outputs": [],
   "source": [
    "import numpy as np\n",
    "from utils.preprocessing_cleaned_data import *\n",
    "from utils.swSets import *\n",
    "from sklearn import naive_bayes, metrics, svm\n",
    "from sklearn.model_selection import train_test_split, cross_val_score"
   ]
  },
  {
   "cell_type": "markdown",
   "metadata": {},
   "source": [
    "# Classifier des épisodes dans la bonne série avec SVM"
   ]
  },
  {
   "cell_type": "markdown",
   "metadata": {},
   "source": [
    "## Avec 20 séries"
   ]
  },
  {
   "cell_type": "markdown",
   "metadata": {},
   "source": [
    "Un premier corpus de 20 séries, pour un total de 3108 épisodes."
   ]
  },
  {
   "cell_type": "code",
   "execution_count": 2,
   "metadata": {},
   "outputs": [
    {
     "data": {
      "text/plain": [
       "{1: '10___Smallville',\n",
       " 2: '122___Malcolm_In_The_Middle',\n",
       " 3: '12___Doctor_Who',\n",
       " 4: '132___NCIS',\n",
       " 5: '15___House',\n",
       " 6: '16___Desperate_Housewives',\n",
       " 7: '186___American_Dad',\n",
       " 8: '2381___Scandal',\n",
       " 9: '24___Scrubs',\n",
       " 10: '28___Bones',\n",
       " 11: '30___Grey_s_Anatomy',\n",
       " 12: '3103___House_of_Cards_(2013)',\n",
       " 13: '32___Veronica_Mars',\n",
       " 14: '366___True_Blood',\n",
       " 15: '51___How_I_Met_Your_Mother',\n",
       " 16: '57___CSI__Crime_Scene_Investigation',\n",
       " 17: '615___The_Good_Wife',\n",
       " 18: '66___Ugly_Betty',\n",
       " 19: '71___The_Wire',\n",
       " 20: '880___Pretty_Little_Liars'}"
      ]
     },
     "execution_count": 2,
     "metadata": {},
     "output_type": "execute_result"
    }
   ],
   "source": [
    "path = \"/Vrac/PLDAC_reco/cleaned_data20\"\n",
    "\n",
    "d_info, d_name = getDicts(path)\n",
    "d_name"
   ]
  },
  {
   "cell_type": "code",
   "execution_count": 50,
   "metadata": {},
   "outputs": [],
   "source": [
    "corpus = get_corpus(path, texts_as=\"episode\")\n",
    "X = getTfidfSparseMat(corpus, my_stopwords = stopwords_set)"
   ]
  },
  {
   "cell_type": "code",
   "execution_count": 51,
   "metadata": {},
   "outputs": [],
   "source": [
    "#Labelisation\n",
    "nb_eps_per_show = []\n",
    "for i in range(1, len(d_info.keys())+1):\n",
    "    nb_eps_per_show.append(sum(d_info[i].values()))\n",
    "Y = []\n",
    "nb_shows = len(nb_eps_per_show)\n",
    "somme_cumul = np.cumsum(nb_eps_per_show)\n",
    "indMin = 0\n",
    "for i in range(0, nb_shows):\n",
    "    indMax = somme_cumul[i]\n",
    "    for j in range(indMin, indMax):\n",
    "        Y.append(i+1)\n",
    "    indMin = indMax"
   ]
  },
  {
   "cell_type": "code",
   "execution_count": 13,
   "metadata": {},
   "outputs": [],
   "source": [
    "# SVM instanciation - Linear\n",
    "lsvm_clf = svm.LinearSVC()"
   ]
  },
  {
   "cell_type": "code",
   "execution_count": 14,
   "metadata": {},
   "outputs": [
    {
     "data": {
      "text/plain": [
       "array([0.99841017, 0.99680511, 0.9983871 , 1.        , 0.99675325])"
      ]
     },
     "execution_count": 14,
     "metadata": {},
     "output_type": "execute_result"
    }
   ],
   "source": [
    "cv = 5\n",
    "scores = cross_val_score(lsvm_clf, X, Y, cv=cv)\n",
    "scores"
   ]
  },
  {
   "cell_type": "code",
   "execution_count": 15,
   "metadata": {},
   "outputs": [
    {
     "data": {
      "text/plain": [
       "0.998071126045858"
      ]
     },
     "execution_count": 15,
     "metadata": {},
     "output_type": "execute_result"
    }
   ],
   "source": [
    "np.mean(scores)"
   ]
  },
  {
   "cell_type": "code",
   "execution_count": 16,
   "metadata": {},
   "outputs": [
    {
     "data": {
      "text/plain": [
       "0.0012062291815240506"
      ]
     },
     "execution_count": 16,
     "metadata": {},
     "output_type": "execute_result"
    }
   ],
   "source": [
    "np.std(scores)"
   ]
  },
  {
   "cell_type": "code",
   "execution_count": 18,
   "metadata": {},
   "outputs": [
    {
     "data": {
      "text/plain": [
       "array([0.99685535, 1.        , 1.        , 0.99681529, 1.        ,\n",
       "       0.99678457, 1.        , 1.        , 1.        , 1.        ])"
      ]
     },
     "execution_count": 18,
     "metadata": {},
     "output_type": "execute_result"
    }
   ],
   "source": [
    "cv = 10\n",
    "scores = cross_val_score(lsvm_clf, X, Y, cv=cv)\n",
    "scores"
   ]
  },
  {
   "cell_type": "code",
   "execution_count": 19,
   "metadata": {},
   "outputs": [
    {
     "data": {
      "text/plain": [
       "0.9990455198452552"
      ]
     },
     "execution_count": 19,
     "metadata": {},
     "output_type": "execute_result"
    }
   ],
   "source": [
    "np.mean(scores)"
   ]
  },
  {
   "cell_type": "code",
   "execution_count": 20,
   "metadata": {},
   "outputs": [
    {
     "data": {
      "text/plain": [
       "0.0014580789178722524"
      ]
     },
     "execution_count": 20,
     "metadata": {},
     "output_type": "execute_result"
    }
   ],
   "source": [
    "np.std(scores)"
   ]
  },
  {
   "cell_type": "markdown",
   "metadata": {},
   "source": [
    "## Avec 50 séries"
   ]
  },
  {
   "cell_type": "markdown",
   "metadata": {},
   "source": [
    "Un second corpus, de 50 séries, avec 5630 épisodes."
   ]
  },
  {
   "cell_type": "code",
   "execution_count": 68,
   "metadata": {},
   "outputs": [
    {
     "data": {
      "text/plain": [
       "{1: '10___Smallville',\n",
       " 2: '1149___Downton_Abbey',\n",
       " 3: '119___Robin_Hood',\n",
       " 4: '121___Gossip_Girl',\n",
       " 5: '122___Malcolm_In_The_Middle',\n",
       " 6: '12___Doctor_Who',\n",
       " 7: '132___NCIS',\n",
       " 8: '152___Star_Trek__The_Animated_Series',\n",
       " 9: '15___House',\n",
       " 10: '16___Desperate_Housewives',\n",
       " 11: '182___Friends',\n",
       " 12: '186___American_Dad',\n",
       " 13: '1___Lost',\n",
       " 14: '2381___Scandal',\n",
       " 15: '240___Breaking_Bad',\n",
       " 16: '24___Scrubs',\n",
       " 17: '28___Bones',\n",
       " 18: '2964___Vikings',\n",
       " 19: '2___Heroes',\n",
       " 20: '30___Grey_s_Anatomy',\n",
       " 21: '3103___House_of_Cards_(2013)',\n",
       " 22: '32___Veronica_Mars',\n",
       " 23: '334___Buffy_The_Vampire_Slayer',\n",
       " 24: '364___Legend_of_the_Seeker',\n",
       " 25: '366___True_Blood',\n",
       " 26: '376___The_Mentalist',\n",
       " 27: '384___H2O__Just_Add_Water',\n",
       " 28: '3861___Orange_is_the_New_Black',\n",
       " 29: '3990___Peaky_Blinders',\n",
       " 30: '406___Agatha_Christie__Poirot',\n",
       " 31: '4679___Outlander',\n",
       " 32: '46___The_Tudors',\n",
       " 33: '4___Prison_Break',\n",
       " 34: '51___How_I_Met_Your_Mother',\n",
       " 35: '5423___The_Last_Kingdom',\n",
       " 36: '54___Seinfeld',\n",
       " 37: '565___Andromeda',\n",
       " 38: '57___CSI__Crime_Scene_Investigation',\n",
       " 39: '597___Charmed',\n",
       " 40: '5___Supernatural',\n",
       " 41: '600___The_Vampire_Diaries',\n",
       " 42: '615___The_Good_Wife',\n",
       " 43: '630___The_Nanny',\n",
       " 44: '66___Ugly_Betty',\n",
       " 45: '68___Black_Books',\n",
       " 46: '6___Dexter',\n",
       " 47: '71___The_Wire',\n",
       " 48: '73___Rome',\n",
       " 49: '79___The_Office_(UK)',\n",
       " 50: '880___Pretty_Little_Liars'}"
      ]
     },
     "execution_count": 68,
     "metadata": {},
     "output_type": "execute_result"
    }
   ],
   "source": [
    "path = \"/Vrac/PLDAC_reco/cleaned_data50\"\n",
    "\n",
    "d_info, d_name = getDicts(path)\n",
    "d_name"
   ]
  },
  {
   "cell_type": "code",
   "execution_count": 70,
   "metadata": {},
   "outputs": [
    {
     "data": {
      "text/plain": [
       "5630"
      ]
     },
     "execution_count": 70,
     "metadata": {},
     "output_type": "execute_result"
    }
   ],
   "source": [
    "nb_eps = 0\n",
    "for info in d_info.values():\n",
    "    nb_eps += sum(list(info.values()))\n",
    "        \n",
    "nb_eps"
   ]
  },
  {
   "cell_type": "code",
   "execution_count": 71,
   "metadata": {},
   "outputs": [],
   "source": [
    "corpus = get_corpus(path, texts_as=\"episode\")\n",
    "X = getTfidfSparseMat(corpus, my_stopwords = stopwords_set)"
   ]
  },
  {
   "cell_type": "code",
   "execution_count": 72,
   "metadata": {},
   "outputs": [],
   "source": [
    "#Labelisation\n",
    "nb_eps_per_show = []\n",
    "for i in range(1, len(d_info.keys())+1):\n",
    "    nb_eps_per_show.append(sum(d_info[i].values()))\n",
    "Y = []\n",
    "nb_shows = len(nb_eps_per_show)\n",
    "somme_cumul = np.cumsum(nb_eps_per_show)\n",
    "indMin = 0\n",
    "for i in range(0, nb_shows):\n",
    "    indMax = somme_cumul[i]\n",
    "    for j in range(indMin, indMax):\n",
    "        Y.append(i+1)\n",
    "    indMin = indMax"
   ]
  },
  {
   "cell_type": "code",
   "execution_count": 74,
   "metadata": {},
   "outputs": [],
   "source": [
    "# SVM instanciation - Linear\n",
    "lsvm_clf = svm.LinearSVC()"
   ]
  },
  {
   "cell_type": "code",
   "execution_count": 75,
   "metadata": {},
   "outputs": [
    {
     "name": "stderr",
     "output_type": "stream",
     "text": [
      "/usr/local/lib/python3.5/dist-packages/sklearn/model_selection/_split.py:605: Warning: The least populated class in y has only 3 members, which is too few. The minimum number of members in any class cannot be less than n_splits=5.\n",
      "  % (min_groups, self.n_splits)), Warning)\n"
     ]
    },
    {
     "data": {
      "text/plain": [
       "array([0.9965035 , 0.99648506, 0.9991119 , 0.99731183, 0.99638336])"
      ]
     },
     "execution_count": 75,
     "metadata": {},
     "output_type": "execute_result"
    }
   ],
   "source": [
    "cv = 5\n",
    "scores = cross_val_score(lsvm_clf, X, Y, cv=cv)\n",
    "scores"
   ]
  },
  {
   "cell_type": "code",
   "execution_count": 76,
   "metadata": {},
   "outputs": [
    {
     "data": {
      "text/plain": [
       "0.9971591299953481"
      ]
     },
     "execution_count": 76,
     "metadata": {},
     "output_type": "execute_result"
    }
   ],
   "source": [
    "np.mean(scores)"
   ]
  },
  {
   "cell_type": "code",
   "execution_count": 77,
   "metadata": {},
   "outputs": [
    {
     "data": {
      "text/plain": [
       "0.00103176225314876"
      ]
     },
     "execution_count": 77,
     "metadata": {},
     "output_type": "execute_result"
    }
   ],
   "source": [
    "np.std(scores)"
   ]
  },
  {
   "cell_type": "code",
   "execution_count": 79,
   "metadata": {},
   "outputs": [
    {
     "name": "stderr",
     "output_type": "stream",
     "text": [
      "/usr/local/lib/python3.5/dist-packages/sklearn/model_selection/_split.py:605: Warning: The least populated class in y has only 3 members, which is too few. The minimum number of members in any class cannot be less than n_splits=10.\n",
      "  % (min_groups, self.n_splits)), Warning)\n"
     ]
    },
    {
     "data": {
      "text/plain": [
       "array([0.9948542 , 1.        , 1.        , 0.99649123, 1.        ,\n",
       "       0.99821747, 0.99820144, 0.99637681, 0.9981685 , 0.99815157])"
      ]
     },
     "execution_count": 79,
     "metadata": {},
     "output_type": "execute_result"
    }
   ],
   "source": [
    "cv = 10\n",
    "scores = cross_val_score(lsvm_clf, X, Y, cv=cv)\n",
    "scores"
   ]
  },
  {
   "cell_type": "code",
   "execution_count": 80,
   "metadata": {},
   "outputs": [
    {
     "data": {
      "text/plain": [
       "0.9980461219053384"
      ]
     },
     "execution_count": 80,
     "metadata": {},
     "output_type": "execute_result"
    }
   ],
   "source": [
    "np.mean(scores)"
   ]
  },
  {
   "cell_type": "code",
   "execution_count": 81,
   "metadata": {},
   "outputs": [
    {
     "data": {
      "text/plain": [
       "0.0016408881530731965"
      ]
     },
     "execution_count": 81,
     "metadata": {},
     "output_type": "execute_result"
    }
   ],
   "source": [
    "np.std(scores)"
   ]
  },
  {
   "cell_type": "markdown",
   "metadata": {},
   "source": [
    "# Tentative de recommandation avec SVM"
   ]
  },
  {
   "cell_type": "markdown",
   "metadata": {},
   "source": [
    "<b>Idée :</b> \n",
    "- Entrainer le classifieur d'épisodes sur un ensemble de séries.  \n",
    "- Prendre une série hors de cet ensemble.\n",
    "- Tenter de classifier ses épisodes dans les séries aprises par le classifieur.\n",
    "- Renvoyer la série apparaissant le plus dans les classifications comme étant la plus proche."
   ]
  },
  {
   "cell_type": "code",
   "execution_count": 82,
   "metadata": {},
   "outputs": [],
   "source": [
    "path_test = \"/Vrac/PLDAC_reco/cleaned_data_reco_bayes\"\n",
    "\n",
    "corpus = get_corpus(path_test, texts_as=\"episode\")"
   ]
  },
  {
   "cell_type": "code",
   "execution_count": 83,
   "metadata": {},
   "outputs": [],
   "source": [
    "d_info, d_name = getDicts(path_test)"
   ]
  },
  {
   "cell_type": "code",
   "execution_count": 84,
   "metadata": {},
   "outputs": [
    {
     "data": {
      "text/plain": [
       "457"
      ]
     },
     "execution_count": 84,
     "metadata": {},
     "output_type": "execute_result"
    }
   ],
   "source": [
    "nb_eps = 0\n",
    "for i in range(50, 58):\n",
    "    nb_eps += sum(list(d_info[i].values()))\n",
    "        \n",
    "nb_eps  "
   ]
  },
  {
   "cell_type": "code",
   "execution_count": 85,
   "metadata": {},
   "outputs": [],
   "source": [
    "X = getTfidfSparseMat(corpus, my_stopwords = stopwords_set)"
   ]
  },
  {
   "cell_type": "code",
   "execution_count": 86,
   "metadata": {},
   "outputs": [],
   "source": [
    "X1 = X[:-457]\n",
    "X2 = X[-457:]"
   ]
  },
  {
   "cell_type": "code",
   "execution_count": 87,
   "metadata": {},
   "outputs": [],
   "source": [
    "d_info, d_name = getDicts(path_test)\n",
    "\n",
    "for i in range(50, 58):\n",
    "    del d_info[i]"
   ]
  },
  {
   "cell_type": "code",
   "execution_count": 88,
   "metadata": {},
   "outputs": [
    {
     "data": {
      "text/plain": [
       "{1: '108___Mad_Men',\n",
       " 2: '10___Smallville',\n",
       " 3: '1149___Downton_Abbey',\n",
       " 4: '119___Robin_Hood',\n",
       " 5: '121___Gossip_Girl',\n",
       " 6: '122___Malcolm_In_The_Middle',\n",
       " 7: '12___Doctor_Who',\n",
       " 8: '132___NCIS',\n",
       " 9: '152___Star_Trek__The_Animated_Series',\n",
       " 10: '15___House',\n",
       " 11: '16___Desperate_Housewives',\n",
       " 12: '182___Friends',\n",
       " 13: '186___American_Dad',\n",
       " 14: '1___Lost',\n",
       " 15: '2381___Scandal',\n",
       " 16: '240___Breaking_Bad',\n",
       " 17: '24___Scrubs',\n",
       " 18: '262___Only_Fools_and_Horses',\n",
       " 19: '2766___Major_Crimes',\n",
       " 20: '28___Bones',\n",
       " 21: '2964___Vikings',\n",
       " 22: '2___Heroes',\n",
       " 23: '30___Grey_s_Anatomy',\n",
       " 24: '3103___House_of_Cards_(2013)',\n",
       " 25: '32___Veronica_Mars',\n",
       " 26: '334___Buffy_The_Vampire_Slayer',\n",
       " 27: '364___Legend_of_the_Seeker',\n",
       " 28: '366___True_Blood',\n",
       " 29: '376___The_Mentalist',\n",
       " 30: '384___H2O__Just_Add_Water',\n",
       " 31: '3861___Orange_is_the_New_Black',\n",
       " 32: '3990___Peaky_Blinders',\n",
       " 33: '406___Agatha_Christie__Poirot',\n",
       " 34: '4679___Outlander',\n",
       " 35: '46___The_Tudors',\n",
       " 36: '48___Everybody_Hates_Chris',\n",
       " 37: '4___Prison_Break',\n",
       " 38: '51___How_I_Met_Your_Mother',\n",
       " 39: '5423___The_Last_Kingdom',\n",
       " 40: '54___Seinfeld',\n",
       " 41: '55___The_Sopranos',\n",
       " 42: '565___Andromeda',\n",
       " 43: '57___CSI__Crime_Scene_Investigation',\n",
       " 44: '597___Charmed',\n",
       " 45: '5___Supernatural',\n",
       " 46: '600___The_Vampire_Diaries',\n",
       " 47: '615___The_Good_Wife',\n",
       " 48: '630___The_Nanny',\n",
       " 49: '66___Ugly_Betty',\n",
       " 50: '68___Black_Books',\n",
       " 51: '6___Dexter',\n",
       " 52: '71___The_Wire',\n",
       " 53: '73___Rome',\n",
       " 54: '793___The_League_of_Gentlemen',\n",
       " 55: '79___The_Office_(UK)',\n",
       " 56: '880___Pretty_Little_Liars',\n",
       " 57: '95___Sex___the_City'}"
      ]
     },
     "execution_count": 88,
     "metadata": {},
     "output_type": "execute_result"
    }
   ],
   "source": [
    "d_name"
   ]
  },
  {
   "cell_type": "code",
   "execution_count": 89,
   "metadata": {},
   "outputs": [],
   "source": [
    "#Labelisation\n",
    "nb_eps_per_show = []\n",
    "for i in range(1, len(d_info.keys())+1):\n",
    "    nb_eps_per_show.append(sum(d_info[i].values()))\n",
    "Y = []\n",
    "nb_shows = len(nb_eps_per_show)\n",
    "somme_cumul = np.cumsum(nb_eps_per_show)\n",
    "indMin = 0\n",
    "for i in range(0, nb_shows):\n",
    "    indMax = somme_cumul[i]\n",
    "    for j in range(indMin, indMax):\n",
    "        Y.append(i+1)\n",
    "    indMin = indMax"
   ]
  },
  {
   "cell_type": "code",
   "execution_count": 90,
   "metadata": {},
   "outputs": [
    {
     "data": {
      "text/plain": [
       "LinearSVC(C=1.0, class_weight=None, dual=True, fit_intercept=True,\n",
       "     intercept_scaling=1, loss='squared_hinge', max_iter=1000,\n",
       "     multi_class='ovr', penalty='l2', random_state=None, tol=0.0001,\n",
       "     verbose=0)"
      ]
     },
     "execution_count": 90,
     "metadata": {},
     "output_type": "execute_result"
    }
   ],
   "source": [
    "# Linear SVM\n",
    "lsvm_clf = svm.LinearSVC()\n",
    "lsvm_clf.fit(X1, Y)"
   ]
  },
  {
   "cell_type": "code",
   "execution_count": 92,
   "metadata": {},
   "outputs": [],
   "source": [
    "predictions = lsvm_clf.predict(X2)"
   ]
  },
  {
   "cell_type": "code",
   "execution_count": 93,
   "metadata": {},
   "outputs": [
    {
     "data": {
      "text/plain": [
       "array([ 7, 48, 48, 48, 48, 48, 48,  7, 16, 48, 48,  7, 48, 48,  7, 48, 48,\n",
       "       48, 43, 43, 43, 43, 43, 43, 43, 43, 43, 43, 43, 43, 41, 41, 43, 29,\n",
       "       43, 43, 43, 43, 41, 43, 43, 41, 43, 29, 29, 41, 41, 41, 43, 41, 43,\n",
       "       43, 41, 41, 43, 43, 43, 43, 43, 43, 43, 43, 43, 45, 43, 43, 41, 43,\n",
       "       43, 43, 31, 31, 43, 43, 17, 43, 43, 43, 43, 43, 43, 19, 41, 19, 43,\n",
       "       45, 43, 43, 43, 43, 19, 38, 19, 41, 43, 41, 43, 43, 43, 41, 43, 43,\n",
       "       43, 43, 41, 43, 41, 43, 41, 31, 41, 43, 43, 49, 43, 41, 31, 31, 31,\n",
       "       41, 31, 31, 31, 31, 31, 31, 31, 31, 41, 41, 31, 31, 31, 31, 31, 31,\n",
       "       41, 31, 31, 24, 41, 31, 31, 31, 31, 31, 31, 31, 31, 31, 41, 31, 41,\n",
       "       31, 31, 31, 31, 36, 31, 31, 31, 31, 31, 31, 31, 31, 41, 31, 31, 31,\n",
       "       41, 41, 31, 31, 31, 41, 40,  7, 40,  7, 40, 40,  7, 35, 40, 40, 40,\n",
       "       40,  7, 21,  7, 29, 21,  7, 29,  7,  7,  7,  7, 20,  7,  7,  7, 12,\n",
       "       40,  7,  7,  7,  7,  7,  7,  7,  7,  7, 41,  7,  7,  7,  7, 20,  7,\n",
       "        7,  7,  7,  7, 43,  7,  7,  7,  7, 43, 12, 12, 12,  6, 11, 12, 12,\n",
       "       29, 23, 12, 19, 12, 11, 12, 44, 11, 10, 12, 11, 11, 11, 11, 11, 11,\n",
       "       11, 11, 11, 11, 11, 11, 11, 14, 11, 23, 12, 11, 45, 45, 43, 12, 25,\n",
       "       10, 23, 22, 10, 45, 43, 43, 12, 10, 11, 44, 43, 43, 43, 44, 44, 44,\n",
       "       44, 45, 23,  1, 23, 44, 11, 12,  6,  6, 29,  6,  6, 29, 12, 12,  1,\n",
       "       23, 25, 43, 19, 11, 44,  5,  6, 44, 20, 43, 12, 10,  6, 25, 44, 12,\n",
       "       44, 11, 45, 43, 12, 43, 43, 43, 10,  1, 19, 10, 11, 12, 15, 11, 43,\n",
       "        7, 43, 19, 38, 43, 11, 11, 11, 15, 29,  1, 11, 43, 43, 11, 11, 43,\n",
       "        2, 45, 37,  2,  2, 43, 12, 12,  1, 12,  1, 38, 12, 14, 12, 12, 12,\n",
       "        1, 12, 12, 12, 12, 43, 12, 40, 13, 12, 12, 12, 12, 12, 43, 12, 12,\n",
       "       12, 12, 14, 13, 12, 12, 13, 41, 13, 12, 20, 31, 43, 12, 38, 43, 12,\n",
       "       12, 45, 12, 12, 48, 12, 43, 13, 13, 12, 23, 13, 12, 13,  1, 31, 12,\n",
       "       12, 36, 13, 13, 40, 40, 40, 40, 40, 40, 40, 40, 13, 12, 13, 40, 13,\n",
       "       40, 12, 12, 12, 12, 13, 13, 13, 13, 13, 12, 13,  1, 33, 13])"
      ]
     },
     "execution_count": 93,
     "metadata": {},
     "output_type": "execute_result"
    }
   ],
   "source": [
    "predictions"
   ]
  },
  {
   "cell_type": "code",
   "execution_count": 100,
   "metadata": {},
   "outputs": [],
   "source": [
    "d_info, d_name = getDicts(path_test)"
   ]
  },
  {
   "cell_type": "code",
   "execution_count": 103,
   "metadata": {},
   "outputs": [
    {
     "data": {
      "text/plain": [
       "{1: {1: 13, 2: 13, 3: 13, 4: 13, 5: 13, 6: 13, 7: 14},\n",
       " 2: {1: 21, 2: 23, 3: 22, 4: 22, 5: 22, 6: 22, 7: 20, 8: 22, 9: 21, 10: 21},\n",
       " 3: {1: 7, 2: 10, 3: 9, 4: 10, 5: 11, 6: 6},\n",
       " 4: {1: 13, 2: 13, 3: 13},\n",
       " 5: {1: 18, 2: 25, 3: 22, 4: 22, 5: 24, 6: 11},\n",
       " 6: {1: 16, 2: 6, 3: 22, 4: 22, 5: 21},\n",
       " 7: {1: 14, 2: 16, 3: 15, 4: 20, 5: 17, 6: 16, 7: 23, 8: 27, 9: 8},\n",
       " 8: {1: 23,\n",
       "  2: 23,\n",
       "  3: 24,\n",
       "  4: 24,\n",
       "  5: 19,\n",
       "  6: 25,\n",
       "  7: 24,\n",
       "  8: 24,\n",
       "  9: 24,\n",
       "  10: 24,\n",
       "  11: 24,\n",
       "  12: 24,\n",
       "  13: 6},\n",
       " 9: {1: 16, 2: 6},\n",
       " 10: {1: 22, 2: 24, 3: 24, 4: 16, 5: 24, 6: 21, 7: 23, 8: 23},\n",
       " 11: {1: 23, 2: 24, 3: 23, 4: 17, 5: 24, 6: 23, 7: 23, 8: 23},\n",
       " 12: {1: 23, 2: 24, 3: 25, 4: 24, 5: 24, 6: 25, 7: 24, 8: 24, 9: 23, 10: 18},\n",
       " 13: {1: 23,\n",
       "  2: 19,\n",
       "  3: 16,\n",
       "  4: 20,\n",
       "  5: 18,\n",
       "  6: 18,\n",
       "  7: 18,\n",
       "  8: 19,\n",
       "  9: 20,\n",
       "  10: 3,\n",
       "  11: 15},\n",
       " 14: {1: 24, 2: 24, 3: 24, 4: 13, 5: 19, 6: 20},\n",
       " 15: {1: 7, 2: 22, 3: 19, 4: 22, 5: 5},\n",
       " 16: {1: 7, 2: 13, 3: 13, 4: 14, 5: 16},\n",
       " 17: {1: 24, 2: 22, 3: 22, 4: 25, 5: 24, 6: 22, 7: 11, 8: 19, 9: 13},\n",
       " 18: {1: 7, 2: 8, 3: 8, 4: 7},\n",
       " 19: {1: 10, 2: 19, 3: 19, 4: 10},\n",
       " 20: {1: 22,\n",
       "  2: 21,\n",
       "  3: 15,\n",
       "  4: 26,\n",
       "  5: 22,\n",
       "  6: 23,\n",
       "  7: 13,\n",
       "  8: 24,\n",
       "  9: 24,\n",
       "  10: 22,\n",
       "  11: 4},\n",
       " 21: {1: 9, 2: 18, 3: 11},\n",
       " 22: {1: 24, 2: 11, 3: 26, 4: 19},\n",
       " 23: {1: 9,\n",
       "  2: 27,\n",
       "  3: 26,\n",
       "  4: 17,\n",
       "  5: 24,\n",
       "  6: 24,\n",
       "  7: 22,\n",
       "  8: 24,\n",
       "  9: 24,\n",
       "  10: 24,\n",
       "  11: 24,\n",
       "  12: 5},\n",
       " 24: {1: 14, 2: 13, 3: 13},\n",
       " 25: {1: 22, 2: 22, 3: 20, 4: 1},\n",
       " 26: {1: 13, 2: 22, 3: 21, 4: 22, 5: 22, 6: 22, 7: 22, 8: 1},\n",
       " 27: {1: 22, 2: 22},\n",
       " 28: {1: 12, 2: 12, 3: 12, 4: 12, 5: 13, 6: 10, 7: 11},\n",
       " 29: {1: 23, 2: 23, 3: 23, 4: 24, 5: 22, 6: 22, 7: 13},\n",
       " 30: {1: 24, 2: 3},\n",
       " 31: {1: 13, 2: 13, 3: 13},\n",
       " 32: {1: 6, 2: 6},\n",
       " 33: {1: 10,\n",
       "  2: 10,\n",
       "  3: 10,\n",
       "  4: 3,\n",
       "  5: 8,\n",
       "  6: 4,\n",
       "  7: 2,\n",
       "  8: 2,\n",
       "  9: 4,\n",
       "  10: 4,\n",
       "  11: 4,\n",
       "  12: 4,\n",
       "  13: 5},\n",
       " 34: {1: 16},\n",
       " 35: {1: 10, 2: 10, 3: 8, 4: 10},\n",
       " 36: {1: 22, 2: 22, 3: 22, 4: 22},\n",
       " 37: {1: 22, 2: 22, 3: 13, 4: 24},\n",
       " 38: {1: 22, 2: 22, 3: 20, 4: 24, 5: 24, 6: 24, 7: 24, 8: 24, 9: 24},\n",
       " 39: {1: 3},\n",
       " 40: {1: 5, 2: 12, 3: 23, 4: 23, 5: 22, 6: 24, 7: 24, 8: 22, 9: 24},\n",
       " 41: {1: 13, 2: 13, 3: 13, 4: 13, 5: 13, 6: 21},\n",
       " 42: {1: 22, 2: 22, 3: 22, 4: 22, 5: 22},\n",
       " 43: {1: 23,\n",
       "  2: 23,\n",
       "  3: 23,\n",
       "  4: 23,\n",
       "  5: 25,\n",
       "  6: 24,\n",
       "  7: 24,\n",
       "  8: 17,\n",
       "  9: 24,\n",
       "  10: 23,\n",
       "  11: 22,\n",
       "  12: 22,\n",
       "  13: 22,\n",
       "  14: 22,\n",
       "  15: 18,\n",
       "  16: 2},\n",
       " 44: {1: 23, 2: 22, 3: 22, 4: 22, 5: 23, 6: 23, 7: 22, 8: 22},\n",
       " 45: {1: 22,\n",
       "  2: 22,\n",
       "  3: 16,\n",
       "  4: 22,\n",
       "  5: 22,\n",
       "  6: 21,\n",
       "  7: 23,\n",
       "  8: 23,\n",
       "  9: 23,\n",
       "  10: 24,\n",
       "  11: 4},\n",
       " 46: {1: 22, 2: 22, 3: 22, 4: 23, 5: 22, 6: 22, 7: 3},\n",
       " 47: {1: 23, 2: 23, 3: 10, 4: 22, 5: 4},\n",
       " 48: {1: 22, 2: 26, 3: 27, 4: 26, 5: 22, 6: 21},\n",
       " 49: {1: 23, 2: 18, 3: 24, 4: 20},\n",
       " 50: {1: 6, 2: 6, 3: 6},\n",
       " 51: {1: 12, 2: 12, 3: 12, 4: 13, 5: 12, 6: 13, 7: 12, 8: 12},\n",
       " 52: {1: 13, 2: 12, 3: 12, 4: 13, 5: 10},\n",
       " 53: {1: 12, 2: 10},\n",
       " 54: {1: 6, 2: 6, 3: 6},\n",
       " 55: {1: 6, 2: 6, 3: 2},\n",
       " 56: {1: 23, 2: 25, 3: 24, 4: 25, 5: 26, 6: 10},\n",
       " 57: {1: 12, 2: 18, 3: 18, 4: 18, 5: 8, 6: 20}}"
      ]
     },
     "execution_count": 103,
     "metadata": {},
     "output_type": "execute_result"
    }
   ],
   "source": [
    "d_info"
   ]
  },
  {
   "cell_type": "code",
   "execution_count": 110,
   "metadata": {},
   "outputs": [],
   "source": [
    "cpt = 0\n",
    "pred_series = []\n",
    "for idSerie in range(50, 58) :\n",
    "    dico_saisons = d_info[idSerie]\n",
    "    pred_saisons = []\n",
    "    for idSaison in dico_saisons :\n",
    "        nb_ep = dico_saisons[idSaison]\n",
    "        for idSerieReco in predictions[cpt:cpt+nb_ep]:\n",
    "            pred_saisons.append(idSerieReco)\n",
    "        \n",
    "        cpt += nb_ep\n",
    "    pred_series.append(pred_saisons)\n",
    "        \n"
   ]
  },
  {
   "cell_type": "code",
   "execution_count": 113,
   "metadata": {},
   "outputs": [
    {
     "data": {
      "text/plain": [
       "[48, 43, 31, 7, 7, 7, 11, 12]"
      ]
     },
     "execution_count": 113,
     "metadata": {},
     "output_type": "execute_result"
    }
   ],
   "source": [
    "import operator\n",
    "\n",
    "l = []\n",
    "for idSerie in range(0, len(pred_series)) :\n",
    "    liste_series_recommandees = pred_series[idSerie]\n",
    "    dico_series = dict.fromkeys(set(liste_series_recommandees), 0)\n",
    "    for idSerieReco in liste_series_recommandees :\n",
    "        dico_series[idSerieReco] += 1\n",
    "    m = max(dico_series.items(), key=operator.itemgetter(1))[0]\n",
    "    l.append(m)\n",
    "\n",
    "l"
   ]
  },
  {
   "cell_type": "code",
   "execution_count": 117,
   "metadata": {},
   "outputs": [
    {
     "name": "stdout",
     "output_type": "stream",
     "text": [
      "-----------------------------------------------------------------------\n",
      "\n",
      "Si vous avez aimé la série 68___Black_Books\n",
      "\n",
      "\tvous aimerez sûrement la série 630___The_Nanny\n",
      "\n",
      "-----------------------------------------------------------------------\n",
      "\n",
      "Si vous avez aimé la série 6___Dexter\n",
      "\n",
      "\tvous aimerez sûrement la série 57___CSI__Crime_Scene_Investigation\n",
      "\n",
      "-----------------------------------------------------------------------\n",
      "\n",
      "Si vous avez aimé la série 71___The_Wire\n",
      "\n",
      "\tvous aimerez sûrement la série 3861___Orange_is_the_New_Black\n",
      "\n",
      "-----------------------------------------------------------------------\n",
      "\n",
      "Si vous avez aimé la série 73___Rome\n",
      "\n",
      "\tvous aimerez sûrement la série 12___Doctor_Who\n",
      "\n",
      "-----------------------------------------------------------------------\n",
      "\n",
      "Si vous avez aimé la série 793___The_League_of_Gentlemen\n",
      "\n",
      "\tvous aimerez sûrement la série 12___Doctor_Who\n",
      "\n",
      "-----------------------------------------------------------------------\n",
      "\n",
      "Si vous avez aimé la série 79___The_Office_(UK)\n",
      "\n",
      "\tvous aimerez sûrement la série 12___Doctor_Who\n",
      "\n",
      "-----------------------------------------------------------------------\n",
      "\n",
      "Si vous avez aimé la série 880___Pretty_Little_Liars\n",
      "\n",
      "\tvous aimerez sûrement la série 16___Desperate_Housewives\n",
      "\n",
      "-----------------------------------------------------------------------\n",
      "\n",
      "Si vous avez aimé la série 95___Sex___the_City\n",
      "\n",
      "\tvous aimerez sûrement la série 182___Friends\n",
      "\n"
     ]
    }
   ],
   "source": [
    "for idSerie in range(50, 58) :\n",
    "    print(\"-----------------------------------------------------------------------\\n\")\n",
    "    nomSerie = d_name[idSerie]\n",
    "    print(\"Si vous avez aimé la série \"+str(nomSerie)+\"\\n\")\n",
    "    idSerieReco = l[idSerie-50]\n",
    "    nomSerieReco = d_name[idSerieReco]\n",
    "    print(\"\\tvous aimerez sûrement la série \"+str(nomSerieReco)+\"\\n\")"
   ]
  },
  {
   "cell_type": "markdown",
   "metadata": {},
   "source": [
    "La recommandation ne semble pas trop mauvaise. Fait amusant : on remarque que pour les séries anglaises, on recommande aussi des séries anglaises."
   ]
  },
  {
   "cell_type": "code",
   "execution_count": null,
   "metadata": {},
   "outputs": [],
   "source": []
  },
  {
   "cell_type": "code",
   "execution_count": null,
   "metadata": {},
   "outputs": [],
   "source": []
  },
  {
   "cell_type": "code",
   "execution_count": null,
   "metadata": {},
   "outputs": [],
   "source": []
  },
  {
   "cell_type": "code",
   "execution_count": null,
   "metadata": {},
   "outputs": [],
   "source": []
  },
  {
   "cell_type": "code",
   "execution_count": null,
   "metadata": {},
   "outputs": [],
   "source": []
  },
  {
   "cell_type": "code",
   "execution_count": null,
   "metadata": {},
   "outputs": [],
   "source": []
  },
  {
   "cell_type": "code",
   "execution_count": null,
   "metadata": {},
   "outputs": [],
   "source": []
  },
  {
   "cell_type": "code",
   "execution_count": null,
   "metadata": {},
   "outputs": [],
   "source": []
  },
  {
   "cell_type": "code",
   "execution_count": null,
   "metadata": {},
   "outputs": [],
   "source": []
  },
  {
   "cell_type": "code",
   "execution_count": null,
   "metadata": {},
   "outputs": [],
   "source": []
  },
  {
   "cell_type": "code",
   "execution_count": null,
   "metadata": {},
   "outputs": [],
   "source": []
  },
  {
   "cell_type": "code",
   "execution_count": null,
   "metadata": {},
   "outputs": [],
   "source": []
  },
  {
   "cell_type": "code",
   "execution_count": null,
   "metadata": {},
   "outputs": [],
   "source": []
  },
  {
   "cell_type": "code",
   "execution_count": null,
   "metadata": {},
   "outputs": [],
   "source": []
  },
  {
   "cell_type": "code",
   "execution_count": null,
   "metadata": {},
   "outputs": [],
   "source": []
  },
  {
   "cell_type": "code",
   "execution_count": null,
   "metadata": {},
   "outputs": [],
   "source": []
  },
  {
   "cell_type": "code",
   "execution_count": null,
   "metadata": {},
   "outputs": [],
   "source": []
  },
  {
   "cell_type": "code",
   "execution_count": null,
   "metadata": {},
   "outputs": [],
   "source": []
  },
  {
   "cell_type": "code",
   "execution_count": null,
   "metadata": {},
   "outputs": [],
   "source": []
  },
  {
   "cell_type": "code",
   "execution_count": null,
   "metadata": {},
   "outputs": [],
   "source": []
  },
  {
   "cell_type": "code",
   "execution_count": null,
   "metadata": {},
   "outputs": [],
   "source": []
  },
  {
   "cell_type": "code",
   "execution_count": null,
   "metadata": {},
   "outputs": [],
   "source": []
  },
  {
   "cell_type": "code",
   "execution_count": null,
   "metadata": {},
   "outputs": [],
   "source": []
  },
  {
   "cell_type": "code",
   "execution_count": null,
   "metadata": {},
   "outputs": [],
   "source": []
  },
  {
   "cell_type": "code",
   "execution_count": null,
   "metadata": {},
   "outputs": [],
   "source": []
  },
  {
   "cell_type": "code",
   "execution_count": null,
   "metadata": {},
   "outputs": [],
   "source": []
  },
  {
   "cell_type": "code",
   "execution_count": null,
   "metadata": {},
   "outputs": [],
   "source": []
  }
 ],
 "metadata": {
  "kernelspec": {
   "display_name": "Python 3",
   "language": "python",
   "name": "python3"
  },
  "language_info": {
   "codemirror_mode": {
    "name": "ipython",
    "version": 3
   },
   "file_extension": ".py",
   "mimetype": "text/x-python",
   "name": "python",
   "nbconvert_exporter": "python",
   "pygments_lexer": "ipython3",
   "version": "3.5.3"
  }
 },
 "nbformat": 4,
 "nbformat_minor": 2
}
