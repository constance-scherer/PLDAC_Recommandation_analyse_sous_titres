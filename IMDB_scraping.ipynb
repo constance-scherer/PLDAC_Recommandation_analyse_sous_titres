{
 "cells": [
  {
   "cell_type": "markdown",
   "metadata": {},
   "source": [
    "# Toutes les séries de IMDB"
   ]
  },
  {
   "cell_type": "markdown",
   "metadata": {},
   "source": [
    "On veut récupérer les notes de tous les utilisateurs pour toutes les saisons de toutes les séries qui nous intéressent.\n",
    "\n",
    "On va faire des fichiers par série et par utilisateur :\n",
    "- par série : 'nom_série.txt' contient 'username note'\n",
    "- par utilisateur : 'username.txt' contient 'nom_serie note'\n"
   ]
  },
  {
   "cell_type": "code",
   "execution_count": 1,
   "metadata": {},
   "outputs": [],
   "source": [
    "from utils.scraping import *\n",
    "from utils.progress_bar import *\n",
    "from utils.multidl_mieux import *"
   ]
  },
  {
   "cell_type": "markdown",
   "metadata": {},
   "source": [
    "## Titres et ID des séries"
   ]
  },
  {
   "cell_type": "markdown",
   "metadata": {},
   "source": [
    "On récupère les titres et les ID IMDB des séries."
   ]
  },
  {
   "cell_type": "code",
   "execution_count": 3,
   "metadata": {},
   "outputs": [],
   "source": [
    "titles = []\n",
    "titles_id = dict()\n",
    "with open('titles/titles_imdb_id.txt', 'r') as file :\n",
    "    lignes = file.readlines()\n",
    "    for ligne in lignes :\n",
    "        title, imdb_id = ligne.split(\" \")\n",
    "        imdb_id = imdb_id.rstrip('\\n')\n",
    "        \n",
    "        titles.append(title)\n",
    "        titles_id[title] = imdb_id"
   ]
  },
  {
   "cell_type": "markdown",
   "metadata": {},
   "source": [
    "## 10 séries"
   ]
  },
  {
   "cell_type": "markdown",
   "metadata": {},
   "source": [
    "On commence avec 10 séries pour voir ce que ça donne. Ne pas oublier que les dossiers `ratings_imdb/users` et `ratings_imdb/series` doivent être vides pour ne pas écrire de doublons dans les fichiers."
   ]
  },
  {
   "cell_type": "code",
   "execution_count": 4,
   "metadata": {},
   "outputs": [],
   "source": [
    "premiers = titles[0:10]"
   ]
  },
  {
   "cell_type": "code",
   "execution_count": null,
   "metadata": {},
   "outputs": [],
   "source": [
    "for nom_serie in log_progress(premiers, every=1) :\n",
    "    imdb_id = titles_id[nom_serie]\n",
    "    d = get_reviews_from_imdb(nom_serie, imdb_id)\n",
    "    for username in d.keys() :\n",
    "        if '/' in username : # on enlève les usernames avec un '/' dedans\n",
    "            continue\n",
    "        note = d[username][nom_serie]\n",
    "        \n",
    "        with open('ratings_imdb/users/'+username+'.txt', 'a') as file :\n",
    "            file.write(nom_serie+\" \"+str(note)+\"\\n\")\n",
    "            \n",
    "        with open('ratings_imdb/series/'+nom_serie+'.txt', 'a') as file:\n",
    "            file.write(username+\" \"+str(note)+\"\\n\")"
   ]
  },
  {
   "cell_type": "markdown",
   "metadata": {},
   "source": [
    "Ça a pris 5min pour 10 séries."
   ]
  },
  {
   "cell_type": "markdown",
   "metadata": {},
   "source": [
    "## Toutes les séries"
   ]
  },
  {
   "cell_type": "markdown",
   "metadata": {},
   "source": [
    "On récupère toutes les séries sur IMDB."
   ]
  },
  {
   "cell_type": "code",
   "execution_count": null,
   "metadata": {},
   "outputs": [],
   "source": [
    "for nom_serie in log_progress(titles, every=1) :\n",
    "    imdb_id = titles_id[nom_serie]\n",
    "    d = get_reviews_from_imdb(nom_serie, imdb_id)\n",
    "    for username in d.keys() :\n",
    "        if '/' in username : # on enlève les usernames avec un '/' dedans\n",
    "            continue\n",
    "        note = d[username][nom_serie]\n",
    "        \n",
    "        with open('ratings_imdb/users/'+username+'.txt', 'a') as file :\n",
    "            file.write(nom_serie+\" \"+str(note)+\"\\n\")\n",
    "            \n",
    "        with open('ratings_imdb/series/'+nom_serie+'.txt', 'a') as file:\n",
    "            file.write(username+\" \"+str(note)+\"\\n\")"
   ]
  }
 ],
 "metadata": {
  "kernelspec": {
   "display_name": "Python 3",
   "language": "python",
   "name": "python3"
  },
  "language_info": {
   "codemirror_mode": {
    "name": "ipython",
    "version": 3
   },
   "file_extension": ".py",
   "mimetype": "text/x-python",
   "name": "python",
   "nbconvert_exporter": "python",
   "pygments_lexer": "ipython3",
   "version": "3.6.4"
  }
 },
 "nbformat": 4,
 "nbformat_minor": 2
}
