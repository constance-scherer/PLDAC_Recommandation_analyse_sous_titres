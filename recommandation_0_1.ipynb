{
 "cells": [
  {
   "cell_type": "markdown",
   "metadata": {},
   "source": [
    "# Recommandation {0, 1}"
   ]
  },
  {
   "cell_type": "markdown",
   "metadata": {},
   "source": [
    "Évaluation de nos recommandations dans le contexte des pertinences {0, 1} entre séries et des pertinences utilisateurs recalculées avec."
   ]
  },
  {
   "cell_type": "code",
   "execution_count": 1,
   "metadata": {},
   "outputs": [
    {
     "name": "stdout",
     "output_type": "stream",
     "text": [
      "Import collaborative.py ok\n",
      "Import similarities ok\n",
      "Import predictions_notes ok\n",
      "Import predictions_content ok\n",
      "Import recommandation ok\n",
      "Import ndcg ok\n"
     ]
    }
   ],
   "source": [
    "from utils.collaborative import *\n",
    "from utils.similarities import *\n",
    "from utils.predictions_content import *\n",
    "from utils.ndcg import *\n",
    "import operator\n",
    "import pickle\n",
    "from collections import OrderedDict\n",
    "from utils.predictions_notes import *\n",
    "from utils.recommandation import *"
   ]
  },
  {
   "cell_type": "code",
   "execution_count": 2,
   "metadata": {},
   "outputs": [],
   "source": [
    "#path_d_user = \"/Users/constancescherer/Desktop/pickles/d_user.p\"\n",
    "#path_sim = \"/Users/constancescherer/Desktop/pickles/sim.p\"\n",
    "#path_most_sim = \"/Users/constancescherer/Desktop/pickles/most_sim.p\"\n",
    "#path_d_pert_user = \"/Users/constancescherer/Desktop/pickles/d_pert_user_01_real_k3.p\"\n",
    "\n",
    "\n",
    "path_d_user = \"/Vrac/PLDAC_addic7ed/pickles/d_user.p\"\n",
    "path_sim = \"/Vrac/PLDAC_addic7ed/pickles/sim.p\"\n",
    "path_most_sim = \"/Vrac/PLDAC_addic7ed/pickles/most_sim.p\"\n",
    "path_d_pert_user = \"/Vrac/PLDAC_addic7ed/pickles/d_pert_user_01_real_k3.p\"\n",
    "\n",
    "# dictionnaire d_users\n",
    "# {username : {serie : rating}}\n",
    "with open(path_d_user, 'rb') as pickle_file:\n",
    "    d_user = pickle.load(pickle_file)\n",
    "\n",
    "# matrice des similarités cosinus\n",
    "with open(path_sim, 'rb') as pickle_file:\n",
    "    sim = pickle.load(pickle_file)\n",
    "\n",
    "# dictionnaire des séries les plus similaires\n",
    "with open(path_most_sim, 'rb') as pickle_file:\n",
    "    most_similar = pickle.load(pickle_file)\n",
    "    \n",
    "with open(path_d_pert_user, 'rb') as pickle_file:\n",
    "    d_pert_user = pickle.load(pickle_file)\n",
    "    \n",
    "with open(path_d_user, 'rb') as pickle_file:\n",
    "    d_user = pickle.load(pickle_file)"
   ]
  },
  {
   "cell_type": "code",
   "execution_count": 3,
   "metadata": {},
   "outputs": [],
   "source": [
    "#path_ratings = \"/Users/constancescherer/Desktop/ratings/ratings_imdb/users\"\n",
    "path_ratings = \"/Vrac/PLDAC_addic7ed/ratings/ratings_imdb/users\"\n",
    "\n",
    "liste_series = get_liste_series(d_user)\n",
    "data = get_data(d_user)\n",
    "all_data, num_user, num_item = get_all_data(data)\n",
    "train, train_mat, test = get_train_test(num_user, num_item, all_data, test_size=10)\n",
    "mean, u_means, i_means,U_ksvd, I_ksvd =  get_Uksvd_Iksvd(train, train_mat, num_user, num_item)\n",
    "d_username_id, d_itemname_id, Full = create_sparse_mat(data)\n",
    "\n",
    "\n",
    "#path_series = \"/Users/constancescherer/Desktop/addic7ed_good_encoding\"\n",
    "path_series = '/Vrac/PLDAC_addic7ed/addic7ed_final'\n",
    "\n",
    "d_info, d_name = getDicts(path_series)\n",
    "d_ind = reverse_dict(d_name)\n",
    "d_titre_filename = get_d_titre_filename(\"titles/title-filename.txt\")\n",
    "d_filename_titre = reverse_dict(d_titre_filename)\n",
    "d_id_username = reverse_dict(d_username_id)\n",
    "d_id_serie = reverse_dict(d_itemname_id)\n",
    "\n",
    "reversed_u_dic, reversed_i_dic = create_reversed_dic(d_username_id, d_itemname_id)"
   ]
  },
  {
   "cell_type": "markdown",
   "metadata": {},
   "source": [
    "## Filtrage collaboratif"
   ]
  },
  {
   "cell_type": "markdown",
   "metadata": {},
   "source": [
    "Pour le filtrage collaboratif, nous utilisons une fonction de prédiction des notes basées sur le kSVD (la NMF ?) pour prédire les notes d'un utilisateur.  \n",
    "Cette fonction prend en compte les biais utilisateur et item dans le calcul de la note.  \n",
    "Les notes supérieures à 10 sont remises à 10 et les notes inférieures à 1 sont remises à 1.  \n",
    "On calcule la moyenne de la nDCG sur tous les utilisateurs."
   ]
  },
  {
   "cell_type": "code",
   "execution_count": 4,
   "metadata": {},
   "outputs": [
    {
     "data": {
      "text/plain": [
       "0.27015050783852407"
      ]
     },
     "execution_count": 4,
     "metadata": {},
     "output_type": "execute_result"
    }
   ],
   "source": [
    "ndcg_moy_fc(d_pert_user, d_username_id, \n",
    "        d_itemname_id, \n",
    "        d_user,\n",
    "        U_ksvd,\n",
    "        I_ksvd,\n",
    "        u_means,\n",
    "        i_means,\n",
    "        mean)"
   ]
  },
  {
   "cell_type": "markdown",
   "metadata": {},
   "source": [
    "## Contenu"
   ]
  },
  {
   "cell_type": "markdown",
   "metadata": {},
   "source": [
    "Pour la recommandation par le contenu, on prédit la note d'une série en faisant la moyenne des notes que l'utilisateur a données aux kppv de la série.  \n",
    "On calcule la moyenne de la ndcg sur tous les utilisateurs pour plusieurs corpus créés avec différents paramètres."
   ]
  },
  {
   "cell_type": "markdown",
   "metadata": {},
   "source": [
    "### Premier essai"
   ]
  },
  {
   "cell_type": "code",
   "execution_count": 5,
   "metadata": {},
   "outputs": [
    {
     "data": {
      "text/plain": [
       "0.2065953112721524"
      ]
     },
     "execution_count": 5,
     "metadata": {},
     "output_type": "execute_result"
    }
   ],
   "source": [
    "ndcg_moy_content(d_pert_user,\n",
    "        d_username_id,\n",
    "        d_itemname_id,\n",
    "        d_name,\n",
    "        d_user,\n",
    "        d_ind, \n",
    "        d_titre_filename, \n",
    "        d_filename_titre, \n",
    "        d_id_username, \n",
    "        d_id_serie, \n",
    "        sim )"
   ]
  },
  {
   "cell_type": "markdown",
   "metadata": {},
   "source": [
    "### Corpus voc = 25000 ; min_df = 20 ; max_df = 0.4"
   ]
  },
  {
   "cell_type": "code",
   "execution_count": 8,
   "metadata": {},
   "outputs": [
    {
     "data": {
      "text/plain": [
       "0.051152625899244006"
      ]
     },
     "execution_count": 8,
     "metadata": {},
     "output_type": "execute_result"
    }
   ],
   "source": [
    "path_mat_corpus = \"/Users/constancescherer/Desktop/pickles_new/pickles/mat_voc_25000_mindf_20_max_df_0.4.p\"\n",
    "#path_mat_corpus = \"/Vrac/PLDAC_addic7ed/pickles_new/pickles/mat_voc_25000_mindf_20_max_df_0.4.p\"\n",
    "with open(path_mat_corpus, 'rb') as pickle_file:\n",
    "    mat_corpus = pickle.load(pickle_file)\n",
    "    \n",
    "sim = similarities_from_sparse_mat(mat_corpus)\n",
    "\n",
    "ndcg_moy_content(d_pert_user,\n",
    "        d_username_id,\n",
    "        d_itemname_id,\n",
    "        d_name,\n",
    "        d_user,\n",
    "        d_ind, \n",
    "        d_titre_filename, \n",
    "        d_filename_titre, \n",
    "        d_id_username, \n",
    "        d_id_serie, \n",
    "        sim )"
   ]
  },
  {
   "cell_type": "markdown",
   "metadata": {},
   "source": [
    "### Corpus voc = 50000 ; min_df = 20 ; max_df = 0.4"
   ]
  },
  {
   "cell_type": "code",
   "execution_count": 9,
   "metadata": {},
   "outputs": [
    {
     "data": {
      "text/plain": [
       "0.05093139273360626"
      ]
     },
     "execution_count": 9,
     "metadata": {},
     "output_type": "execute_result"
    }
   ],
   "source": [
    "path_mat_corpus = \"/Users/constancescherer/Desktop/pickles_new/pickles/mat_voc_50000_mindf_20_max_df_0.4.p\"\n",
    "#path_mat_corpus = \"/Vrac/PLDAC_addic7ed/pickles_new/pickles/mat_voc_50000_mindf_20_max_df_0.4.p\"\n",
    "with open(path_mat_corpus, 'rb') as pickle_file:\n",
    "    mat_corpus = pickle.load(pickle_file)\n",
    "    \n",
    "sim = similarities_from_sparse_mat(mat_corpus)\n",
    "\n",
    "ndcg_moy_content(d_pert_user,\n",
    "        d_username_id,\n",
    "        d_itemname_id,\n",
    "        d_name,\n",
    "        d_user,\n",
    "        d_ind, \n",
    "        d_titre_filename, \n",
    "        d_filename_titre, \n",
    "        d_id_username, \n",
    "        d_id_serie, \n",
    "        sim )"
   ]
  },
  {
   "cell_type": "markdown",
   "metadata": {},
   "source": [
    "### Corpus voc = 53540 ; min_df = 20 ; max_df = 0.4"
   ]
  },
  {
   "cell_type": "code",
   "execution_count": 10,
   "metadata": {},
   "outputs": [
    {
     "data": {
      "text/plain": [
       "0.05089008122328466"
      ]
     },
     "execution_count": 10,
     "metadata": {},
     "output_type": "execute_result"
    }
   ],
   "source": [
    "path_mat_corpus = \"/Users/constancescherer/Desktop/pickles_new/pickles/mat_voc_53540_mindf_20_max_df_0.4.p\"\n",
    "#path_mat_corpus = \"/Vrac/PLDAC_addic7ed/pickles_new/pickles/mat_voc_53540_mindf_20_max_df_0.4.p\"\n",
    "with open(path_mat_corpus, 'rb') as pickle_file:\n",
    "    mat_corpus = pickle.load(pickle_file)\n",
    "    \n",
    "sim = similarities_from_sparse_mat(mat_corpus)\n",
    "\n",
    "ndcg_moy_content(d_pert_user,\n",
    "        d_username_id,\n",
    "        d_itemname_id,\n",
    "        d_name,\n",
    "        d_user,\n",
    "        d_ind, \n",
    "        d_titre_filename, \n",
    "        d_filename_titre, \n",
    "        d_id_username, \n",
    "        d_id_serie, \n",
    "        sim )"
   ]
  },
  {
   "cell_type": "markdown",
   "metadata": {},
   "source": [
    "### Corpus voc = 141418 ; min_df = 3 ; max_df = 0.4"
   ]
  },
  {
   "cell_type": "code",
   "execution_count": 11,
   "metadata": {},
   "outputs": [
    {
     "data": {
      "text/plain": [
       "0.052530900376575144"
      ]
     },
     "execution_count": 11,
     "metadata": {},
     "output_type": "execute_result"
    }
   ],
   "source": [
    "path_mat_corpus = \"/Users/constancescherer/Desktop/pickles_new/pickles/mat_voc_141418_mindf_3_max_df_0.4.p\"\n",
    "#path_mat_corpus = \"/Vrac/PLDAC_addic7ed/pickles_new/pickles/mat_voc_141418_mindf_3_max_df_0.4.p\"\n",
    "with open(path_mat_corpus, 'rb') as pickle_file:\n",
    "    mat_corpus = pickle.load(pickle_file)\n",
    "    \n",
    "sim = similarities_from_sparse_mat(mat_corpus)\n",
    "\n",
    "ndcg_moy_content(d_pert_user,\n",
    "        d_username_id,\n",
    "        d_itemname_id,\n",
    "        d_name,\n",
    "        d_user,\n",
    "        d_ind, \n",
    "        d_titre_filename, \n",
    "        d_filename_titre, \n",
    "        d_id_username, \n",
    "        d_id_serie, \n",
    "        sim )"
   ]
  },
  {
   "cell_type": "markdown",
   "metadata": {},
   "source": [
    "### Corpus voc = 50000 ; min_df = 3 ; max_df = 0.4"
   ]
  },
  {
   "cell_type": "code",
   "execution_count": 12,
   "metadata": {},
   "outputs": [
    {
     "data": {
      "text/plain": [
       "0.05324863770327106"
      ]
     },
     "execution_count": 12,
     "metadata": {},
     "output_type": "execute_result"
    }
   ],
   "source": [
    "path_mat_corpus = \"/Users/constancescherer/Desktop/pickles_new/pickles/mat_voc_50000_mindf_3_max_df_0.4.p\"\n",
    "#path_mat_corpus = \"/Vrac/PLDAC_addic7ed/pickles_new/pickles/mat_voc_50000_mindf_3_max_df_0.4.p\"\n",
    "with open(path_mat_corpus, 'rb') as pickle_file:\n",
    "    mat_corpus = pickle.load(pickle_file)\n",
    "    \n",
    "sim = similarities_from_sparse_mat(mat_corpus)\n",
    "\n",
    "ndcg_moy_content(d_pert_user,\n",
    "        d_username_id,\n",
    "        d_itemname_id,\n",
    "        d_name,\n",
    "        d_user,\n",
    "        d_ind, \n",
    "        d_titre_filename, \n",
    "        d_filename_titre, \n",
    "        d_id_username, \n",
    "        d_id_serie, \n",
    "        sim )"
   ]
  },
  {
   "cell_type": "markdown",
   "metadata": {},
   "source": [
    "### Corpus voc = 50000 ; min_df = 10 ; max_df = 0.4"
   ]
  },
  {
   "cell_type": "code",
   "execution_count": 13,
   "metadata": {},
   "outputs": [
    {
     "data": {
      "text/plain": [
       "0.052502075195042706"
      ]
     },
     "execution_count": 13,
     "metadata": {},
     "output_type": "execute_result"
    }
   ],
   "source": [
    "path_mat_corpus = \"/Users/constancescherer/Desktop/pickles_new/pickles/mat_voc_50000_mindf_10_max_df_0.4.p\"\n",
    "#path_mat_corpus = \"/Vrac/PLDAC_addic7ed/pickles_new/pickles/mat_voc_50000_mindf_10_max_df_0.4.p\"\n",
    "with open(path_mat_corpus, 'rb') as pickle_file:\n",
    "    mat_corpus = pickle.load(pickle_file)\n",
    "    \n",
    "sim = similarities_from_sparse_mat(mat_corpus)\n",
    "\n",
    "ndcg_moy_content(d_pert_user,\n",
    "        d_username_id,\n",
    "        d_itemname_id,\n",
    "        d_name,\n",
    "        d_user,\n",
    "        d_ind, \n",
    "        d_titre_filename, \n",
    "        d_filename_titre, \n",
    "        d_id_username, \n",
    "        d_id_serie, \n",
    "        sim )"
   ]
  },
  {
   "cell_type": "markdown",
   "metadata": {},
   "source": [
    "### Corpus voc = 50000 ; min_df = 15 ; max_df = 0.4"
   ]
  },
  {
   "cell_type": "code",
   "execution_count": 14,
   "metadata": {},
   "outputs": [
    {
     "data": {
      "text/plain": [
       "0.05146133733304084"
      ]
     },
     "execution_count": 14,
     "metadata": {},
     "output_type": "execute_result"
    }
   ],
   "source": [
    "path_mat_corpus = \"/Users/constancescherer/Desktop/pickles_new/pickles/mat_voc_50000_mindf_15_max_df_0.4.p\"\n",
    "#path_mat_corpus = \"/Vrac/PLDAC_addic7ed/pickles_new/pickles/mat_voc_50000_mindf_15_max_df_0.4.p\"\n",
    "with open(path_mat_corpus, 'rb') as pickle_file:\n",
    "    mat_corpus = pickle.load(pickle_file)\n",
    "    \n",
    "sim = similarities_from_sparse_mat(mat_corpus)\n",
    "ndcg_moy_content(d_pert_user,\n",
    "        d_username_id,\n",
    "        d_itemname_id,\n",
    "        d_name,\n",
    "        d_user,\n",
    "        d_ind, \n",
    "        d_titre_filename, \n",
    "        d_filename_titre, \n",
    "        d_id_username, \n",
    "        d_id_serie, \n",
    "        sim )"
   ]
  },
  {
   "cell_type": "markdown",
   "metadata": {},
   "source": [
    "### Corpus voc = 50000 ; min_df = 5 ; max_df = 0.4"
   ]
  },
  {
   "cell_type": "code",
   "execution_count": 15,
   "metadata": {},
   "outputs": [
    {
     "data": {
      "text/plain": [
       "0.05189078567929385"
      ]
     },
     "execution_count": 15,
     "metadata": {},
     "output_type": "execute_result"
    }
   ],
   "source": [
    "path_mat_corpus = \"/Users/constancescherer/Desktop/pickles_new/pickles/mat_voc_50000_mindf_5_max_df_0.4.p\"\n",
    "#path_mat_corpus = \"/Vrac/PLDAC_addic7ed/pickles_new/pickles/mat_voc_50000_mindf_5_max_df_0.4.p\"\n",
    "with open(path_mat_corpus, 'rb') as pickle_file:\n",
    "    mat_corpus = pickle.load(pickle_file)\n",
    "    \n",
    "sim = similarities_from_sparse_mat(mat_corpus)\n",
    "ndcg_moy_content(d_pert_user,\n",
    "        d_username_id,\n",
    "        d_itemname_id,\n",
    "        d_name,\n",
    "        d_user,\n",
    "        d_ind, \n",
    "        d_titre_filename, \n",
    "        d_filename_titre, \n",
    "        d_id_username, \n",
    "        d_id_serie, \n",
    "        sim )"
   ]
  },
  {
   "cell_type": "code",
   "execution_count": null,
   "metadata": {},
   "outputs": [],
   "source": []
  }
 ],
 "metadata": {
  "kernelspec": {
   "display_name": "Python 3",
   "language": "python",
   "name": "python3"
  },
  "language_info": {
   "codemirror_mode": {
    "name": "ipython",
    "version": 3
   },
   "file_extension": ".py",
   "mimetype": "text/x-python",
   "name": "python",
   "nbconvert_exporter": "python",
   "pygments_lexer": "ipython3",
   "version": "3.5.3"
  }
 },
 "nbformat": 4,
 "nbformat_minor": 2
}
