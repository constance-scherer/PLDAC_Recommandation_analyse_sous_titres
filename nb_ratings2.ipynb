{
 "cells": [
  {
   "cell_type": "code",
   "execution_count": 1,
   "metadata": {},
   "outputs": [],
   "source": [
    "import os\n",
    "import matplotlib.pyplot as plt"
   ]
  },
  {
   "cell_type": "code",
   "execution_count": 2,
   "metadata": {},
   "outputs": [],
   "source": [
    "def k_ratings(path, k):\n",
    "    res = 0\n",
    "    nb_files = 0\n",
    "    for file in sorted(os.listdir(path)):\n",
    "        nb_files += 1\n",
    "        user_path = path+'/'+file\n",
    "        with open(user_path) as f:\n",
    "            nb = 0\n",
    "            while f.readline():\n",
    "                nb += 1\n",
    "        if nb <= k:\n",
    "            res+= 1\n",
    "    return res, nb_files"
   ]
  },
  {
   "cell_type": "code",
   "execution_count": 3,
   "metadata": {},
   "outputs": [
    {
     "data": {
      "text/plain": [
       "(0, 3099)"
      ]
     },
     "execution_count": 3,
     "metadata": {},
     "output_type": "execute_result"
    }
   ],
   "source": [
    "path = \"/Vrac/PLDAC_reco/ratings/ratings/ratings_imdb/users\"\n",
    "k_ratings(path, 3)"
   ]
  },
  {
   "cell_type": "code",
   "execution_count": 4,
   "metadata": {},
   "outputs": [],
   "source": [
    "def dict_k_ratings(path):\n",
    "    dico = dict()\n",
    "    for file in sorted(os.listdir(path)):\n",
    "        user_path = path+'/'+file\n",
    "        with open(user_path) as f:\n",
    "            nb = 0\n",
    "            while f.readline():\n",
    "                nb += 1\n",
    "        if nb in dico.keys():\n",
    "            dico[nb] += 1\n",
    "        else:\n",
    "            dico[nb] = 1\n",
    "    return dico"
   ]
  },
  {
   "cell_type": "code",
   "execution_count": 5,
   "metadata": {},
   "outputs": [],
   "source": [
    "dico  = dict_k_ratings(path)"
   ]
  },
  {
   "cell_type": "code",
   "execution_count": 11,
   "metadata": {},
   "outputs": [
    {
     "data": {
      "text/plain": [
       "<BarContainer object of 80 artists>"
      ]
     },
     "execution_count": 11,
     "metadata": {},
     "output_type": "execute_result"
    },
    {
     "data": {
      "image/png": "[encoded data removed]",
      "text/plain": [
       "<Figure size 432x288 with 1 Axes>"
      ]
     },
     "metadata": {},
     "output_type": "display_data"
    }
   ],
   "source": [
    "plt.xlim(0, 150)\n",
    "plt.bar(dico.keys(), dico.values(), log=True, color='mediumvioletred')"
   ]
  },
  {
   "cell_type": "code",
   "execution_count": 80,
   "metadata": {},
   "outputs": [],
   "source": [
    "def remove_k_ratings(path, k):\n",
    "    for file in sorted(os.listdir(path)):\n",
    "        user_path = path+'/'+file\n",
    "        with open(user_path) as f:\n",
    "            nb = 0\n",
    "            while f.readline():\n",
    "                nb += 1\n",
    "        if nb <= k:\n",
    "            os.remove(user_path)\n",
    "    return"
   ]
  },
  {
   "cell_type": "code",
   "execution_count": 81,
   "metadata": {},
   "outputs": [],
   "source": [
    "remove_k_ratings(path, 3)"
   ]
  },
  {
   "cell_type": "code",
   "execution_count": 82,
   "metadata": {},
   "outputs": [
    {
     "data": {
      "text/plain": [
       "3099"
      ]
     },
     "execution_count": 82,
     "metadata": {},
     "output_type": "execute_result"
    }
   ],
   "source": [
    "len(sorted(os.listdir(path)))"
   ]
  },
  {
   "cell_type": "code",
   "execution_count": 12,
   "metadata": {},
   "outputs": [],
   "source": [
    "path_m = \"/Vrac/PLDAC_reco/ratings/ratings/ratings_metacritic/users\""
   ]
  },
  {
   "cell_type": "code",
   "execution_count": 98,
   "metadata": {},
   "outputs": [],
   "source": [
    "def virer_doublons(path):\n",
    "    for file in sorted(os.listdir(path)):\n",
    "        user_path = path+'/'+file\n",
    "        new_file = path+'/'+file[:-8]+\"_new.txt\"\n",
    "        with open(user_path, \"r\") as f:\n",
    "            lines_seen = set()\n",
    "            lines = f.readlines()\n",
    "            with open(new_file, \"w\") as output: \n",
    "                for line in lines:\n",
    "                    if line not in lines_seen:\n",
    "                        output.write(line)\n",
    "                        lines_seen.add(line)\n",
    "        os.replace(user_path, new_file)\n",
    "        os.rename(new_file, user_path) "
   ]
  },
  {
   "cell_type": "markdown",
   "metadata": {},
   "source": [
    "virer_doublons(path_m)"
   ]
  },
  {
   "cell_type": "code",
   "execution_count": 103,
   "metadata": {},
   "outputs": [],
   "source": [
    "def renaming(path):\n",
    "    for file in sorted(os.listdir(path)):\n",
    "        user_path = path+'/'+file\n",
    "        new_file = path+'/'+file[:-8]+\".txt\"\n",
    "        os.rename(user_path, new_file)      "
   ]
  },
  {
   "cell_type": "markdown",
   "metadata": {},
   "source": [
    "renaming(path_m)"
   ]
  },
  {
   "cell_type": "code",
   "execution_count": 105,
   "metadata": {},
   "outputs": [],
   "source": [
    "remove_k_ratings(path_m, 3)"
   ]
  },
  {
   "cell_type": "markdown",
   "metadata": {},
   "source": [
    "anonymous viré à la main"
   ]
  },
  {
   "cell_type": "code",
   "execution_count": 106,
   "metadata": {},
   "outputs": [
    {
     "data": {
      "text/plain": [
       "1395"
      ]
     },
     "execution_count": 106,
     "metadata": {},
     "output_type": "execute_result"
    }
   ],
   "source": [
    "len(sorted(os.listdir(path_m)))"
   ]
  },
  {
   "cell_type": "code",
   "execution_count": 14,
   "metadata": {},
   "outputs": [],
   "source": [
    "dico  = dict_k_ratings(path_m)"
   ]
  },
  {
   "cell_type": "code",
   "execution_count": 15,
   "metadata": {},
   "outputs": [
    {
     "data": {
      "text/plain": [
       "<BarContainer object of 43 artists>"
      ]
     },
     "execution_count": 15,
     "metadata": {},
     "output_type": "execute_result"
    },
    {
     "data": {
      "image/png": "[encoded data removed]",
      "text/plain": [
       "<Figure size 432x288 with 1 Axes>"
      ]
     },
     "metadata": {},
     "output_type": "display_data"
    }
   ],
   "source": [
    "plt.xlim(0, 150)\n",
    "plt.bar(dico.keys(), dico.values(), log=True, color='teal')"
   ]
  },
  {
   "cell_type": "code",
   "execution_count": 19,
   "metadata": {},
   "outputs": [
    {
     "name": "stdout",
     "output_type": "stream",
     "text": [
      "Bonjour, Monde !\n"
     ]
    }
   ],
   "source": [
    "print(\"Bonjour, Monde !\")"
   ]
  },
  {
   "cell_type": "code",
   "execution_count": null,
   "metadata": {},
   "outputs": [],
   "source": []
  }
 ],
 "metadata": {
  "kernelspec": {
   "display_name": "Python 3",
   "language": "python",
   "name": "python3"
  },
  "language_info": {
   "codemirror_mode": {
    "name": "ipython",
    "version": 3
   },
   "file_extension": ".py",
   "mimetype": "text/x-python",
   "name": "python",
   "nbconvert_exporter": "python",
   "pygments_lexer": "ipython3",
   "version": "3.5.3"
  }
 },
 "nbformat": 4,
 "nbformat_minor": 2
}
