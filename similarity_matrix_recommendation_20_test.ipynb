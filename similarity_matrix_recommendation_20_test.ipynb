{
 "cells": [
  {
   "cell_type": "code",
   "execution_count": 1,
   "metadata": {},
   "outputs": [],
   "source": [
    "from utils.preprocessing_cleaned_data import *\n",
    "from utils.swSets import *\n",
    "import scipy\n",
    "from sklearn.metrics.pairwise import cosine_similarity\n",
    "from scipy.sparse import csr_matrix"
   ]
  },
  {
   "cell_type": "code",
   "execution_count": 3,
   "metadata": {},
   "outputs": [],
   "source": [
    "path = \"/Vrac/PLDAC_reco/cleaned_data20\"\n"
   ]
  },
  {
   "cell_type": "code",
   "execution_count": 6,
   "metadata": {},
   "outputs": [],
   "source": [
    "d_info, d_name = getDicts(path)"
   ]
  },
  {
   "cell_type": "markdown",
   "metadata": {},
   "source": [
    "Notre corpus contient les 20 séries suivantes:"
   ]
  },
  {
   "cell_type": "code",
   "execution_count": 7,
   "metadata": {},
   "outputs": [
    {
     "data": {
      "text/plain": [
       "{1: '10___Smallville',\n",
       " 2: '122___Malcolm_In_The_Middle',\n",
       " 3: '12___Doctor_Who',\n",
       " 4: '132___NCIS',\n",
       " 5: '15___House',\n",
       " 6: '16___Desperate_Housewives',\n",
       " 7: '186___American_Dad',\n",
       " 8: '2381___Scandal',\n",
       " 9: '24___Scrubs',\n",
       " 10: '28___Bones',\n",
       " 11: '30___Grey_s_Anatomy',\n",
       " 12: '3103___House_of_Cards_(2013)',\n",
       " 13: '32___Veronica_Mars',\n",
       " 14: '366___True_Blood',\n",
       " 15: '51___How_I_Met_Your_Mother',\n",
       " 16: '57___CSI__Crime_Scene_Investigation',\n",
       " 17: '615___The_Good_Wife',\n",
       " 18: '66___Ugly_Betty',\n",
       " 19: '71___The_Wire',\n",
       " 20: '880___Pretty_Little_Liars'}"
      ]
     },
     "execution_count": 7,
     "metadata": {},
     "output_type": "execute_result"
    }
   ],
   "source": [
    "d_name"
   ]
  },
  {
   "cell_type": "markdown",
   "metadata": {},
   "source": [
    "On construit la matrice de TF-IDF où chaque ligne représente une série."
   ]
  },
  {
   "cell_type": "code",
   "execution_count": 4,
   "metadata": {},
   "outputs": [],
   "source": [
    "corpus = get_corpus(path, texts_as=\"shows\")"
   ]
  },
  {
   "cell_type": "code",
   "execution_count": 4,
   "metadata": {},
   "outputs": [],
   "source": [
    "sparse_mat = getTfidfSparseMat(corpus, my_stopwords=stopwords_set)"
   ]
  },
  {
   "cell_type": "markdown",
   "metadata": {},
   "source": [
    "On construit la matrice de similarité cosinus entre les séries."
   ]
  },
  {
   "cell_type": "code",
   "execution_count": 5,
   "metadata": {},
   "outputs": [],
   "source": [
    "similarities = cosine_similarity(sparse_mat)"
   ]
  },
  {
   "cell_type": "markdown",
   "metadata": {},
   "source": [
    "On recommande les nb_reco séries les plus similaires."
   ]
  },
  {
   "cell_type": "code",
   "execution_count": 8,
   "metadata": {},
   "outputs": [],
   "source": [
    "nb_reco = 3\n",
    "\n",
    "most_similar = dict()\n",
    "for i in range(len(similarities)):\n",
    "    show = np.array(similarities[i])\n",
    "    ind = np.argpartition(show, -(nb_reco+1))[-(nb_reco+1):]\n",
    "    ind = ind[np.argsort(show[ind])]\n",
    "    ind = list(ind[:-1])\n",
    "    ind.reverse()\n",
    "    most_similar[d_name[i+1]] = [d_name[ind[j]+1] for j in range(0, nb_reco)]"
   ]
  },
  {
   "cell_type": "code",
   "execution_count": 9,
   "metadata": {},
   "outputs": [
    {
     "name": "stdout",
     "output_type": "stream",
     "text": [
      "If you liked 186___American_Dad you might like :\n",
      "\n",
      "- 16___Desperate_Housewives\n",
      "\n",
      "- 57___CSI__Crime_Scene_Investigation\n",
      "\n",
      "- 24___Scrubs\n",
      "\n",
      "\n",
      "\n",
      "\n",
      "If you liked 24___Scrubs you might like :\n",
      "\n",
      "- 30___Grey_s_Anatomy\n",
      "\n",
      "- 15___House\n",
      "\n",
      "- 16___Desperate_Housewives\n",
      "\n",
      "\n",
      "\n",
      "\n",
      "If you liked 66___Ugly_Betty you might like :\n",
      "\n",
      "- 16___Desperate_Housewives\n",
      "\n",
      "- 30___Grey_s_Anatomy\n",
      "\n",
      "- 24___Scrubs\n",
      "\n",
      "\n",
      "\n",
      "\n",
      "If you liked 30___Grey_s_Anatomy you might like :\n",
      "\n",
      "- 24___Scrubs\n",
      "\n",
      "- 15___House\n",
      "\n",
      "- 16___Desperate_Housewives\n",
      "\n",
      "\n",
      "\n",
      "\n",
      "If you liked 122___Malcolm_In_The_Middle you might like :\n",
      "\n",
      "- 16___Desperate_Housewives\n",
      "\n",
      "- 32___Veronica_Mars\n",
      "\n",
      "- 57___CSI__Crime_Scene_Investigation\n",
      "\n",
      "\n",
      "\n",
      "\n",
      "If you liked 28___Bones you might like :\n",
      "\n",
      "- 57___CSI__Crime_Scene_Investigation\n",
      "\n",
      "- 30___Grey_s_Anatomy\n",
      "\n",
      "- 24___Scrubs\n",
      "\n",
      "\n",
      "\n",
      "\n",
      "If you liked 366___True_Blood you might like :\n",
      "\n",
      "- 71___The_Wire\n",
      "\n",
      "- 16___Desperate_Housewives\n",
      "\n",
      "- 57___CSI__Crime_Scene_Investigation\n",
      "\n",
      "\n",
      "\n",
      "\n",
      "If you liked 15___House you might like :\n",
      "\n",
      "- 30___Grey_s_Anatomy\n",
      "\n",
      "- 57___CSI__Crime_Scene_Investigation\n",
      "\n",
      "- 24___Scrubs\n",
      "\n",
      "\n",
      "\n",
      "\n",
      "If you liked 3103___House_of_Cards_(2013) you might like :\n",
      "\n",
      "- 2381___Scandal\n",
      "\n",
      "- 57___CSI__Crime_Scene_Investigation\n",
      "\n",
      "- 16___Desperate_Housewives\n",
      "\n",
      "\n",
      "\n",
      "\n",
      "If you liked 12___Doctor_Who you might like :\n",
      "\n",
      "- 24___Scrubs\n",
      "\n",
      "- 57___CSI__Crime_Scene_Investigation\n",
      "\n",
      "- 15___House\n",
      "\n",
      "\n",
      "\n",
      "\n",
      "If you liked 71___The_Wire you might like :\n",
      "\n",
      "- 366___True_Blood\n",
      "\n",
      "- 3103___House_of_Cards_(2013)\n",
      "\n",
      "- 57___CSI__Crime_Scene_Investigation\n",
      "\n",
      "\n",
      "\n",
      "\n",
      "If you liked 16___Desperate_Housewives you might like :\n",
      "\n",
      "- 30___Grey_s_Anatomy\n",
      "\n",
      "- 24___Scrubs\n",
      "\n",
      "- 15___House\n",
      "\n",
      "\n",
      "\n",
      "\n",
      "If you liked 132___NCIS you might like :\n",
      "\n",
      "- 57___CSI__Crime_Scene_Investigation\n",
      "\n",
      "- 15___House\n",
      "\n",
      "- 32___Veronica_Mars\n",
      "\n",
      "\n",
      "\n",
      "\n",
      "If you liked 880___Pretty_Little_Liars you might like :\n",
      "\n",
      "- 16___Desperate_Housewives\n",
      "\n",
      "- 57___CSI__Crime_Scene_Investigation\n",
      "\n",
      "- 32___Veronica_Mars\n",
      "\n",
      "\n",
      "\n",
      "\n",
      "If you liked 615___The_Good_Wife you might like :\n",
      "\n",
      "- 57___CSI__Crime_Scene_Investigation\n",
      "\n",
      "- 16___Desperate_Housewives\n",
      "\n",
      "- 3103___House_of_Cards_(2013)\n",
      "\n",
      "\n",
      "\n",
      "\n",
      "If you liked 10___Smallville you might like :\n",
      "\n",
      "- 57___CSI__Crime_Scene_Investigation\n",
      "\n",
      "- 16___Desperate_Housewives\n",
      "\n",
      "- 15___House\n",
      "\n",
      "\n",
      "\n",
      "\n",
      "If you liked 51___How_I_Met_Your_Mother you might like :\n",
      "\n",
      "- 16___Desperate_Housewives\n",
      "\n",
      "- 24___Scrubs\n",
      "\n",
      "- 57___CSI__Crime_Scene_Investigation\n",
      "\n",
      "\n",
      "\n",
      "\n",
      "If you liked 32___Veronica_Mars you might like :\n",
      "\n",
      "- 57___CSI__Crime_Scene_Investigation\n",
      "\n",
      "- 16___Desperate_Housewives\n",
      "\n",
      "- 15___House\n",
      "\n",
      "\n",
      "\n",
      "\n",
      "If you liked 2381___Scandal you might like :\n",
      "\n",
      "- 3103___House_of_Cards_(2013)\n",
      "\n",
      "- 57___CSI__Crime_Scene_Investigation\n",
      "\n",
      "- 16___Desperate_Housewives\n",
      "\n",
      "\n",
      "\n",
      "\n",
      "If you liked 57___CSI__Crime_Scene_Investigation you might like :\n",
      "\n",
      "- 15___House\n",
      "\n",
      "- 32___Veronica_Mars\n",
      "\n",
      "- 28___Bones\n",
      "\n",
      "\n",
      "\n",
      "\n"
     ]
    }
   ],
   "source": [
    "for show, similar_shows in most_similar.items():\n",
    "    print(\"If you liked \"+str(show)+\" you might like :\\n\")\n",
    "    for sim in similar_shows:\n",
    "        print(\"- \"+str(sim)+\"\\n\")\n",
    "    print(\"\\n\\n\")"
   ]
  },
  {
   "cell_type": "markdown",
   "metadata": {},
   "source": [
    "Quand on stem, mêmes résultats mais bien plus long à se lancer."
   ]
  }
 ],
 "metadata": {
  "kernelspec": {
   "display_name": "Python 3",
   "language": "python",
   "name": "python3"
  },
  "language_info": {
   "codemirror_mode": {
    "name": "ipython",
    "version": 3
   },
   "file_extension": ".py",
   "mimetype": "text/x-python",
   "name": "python",
   "nbconvert_exporter": "python",
   "pygments_lexer": "ipython3",
   "version": "3.5.3"
  }
 },
 "nbformat": 4,
 "nbformat_minor": 2
}
