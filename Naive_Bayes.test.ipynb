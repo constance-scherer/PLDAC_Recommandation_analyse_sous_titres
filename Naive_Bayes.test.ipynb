{
 "cells": [
  {
   "cell_type": "code",
   "execution_count": null,
   "metadata": {},
   "outputs": [],
   "source": [
    "#!/usr/bin/env python3\n",
    "# -*- coding: utf-8 -*-\n",
    "\n",
    "import numpy as np\n",
    "from utils.preprocessing_cleaned_data import *\n",
    "from utils.swSets import *\n",
    "from sklearn import naive_bayes, metrics\n",
    "from sklearn.model_selection import train_test_split, cross_val_score"
   ]
  },
  {
   "cell_type": "markdown",
   "metadata": {},
   "source": [
    "# Classifier des épisodes dans la bonne série avec Naive Bayes"
   ]
  },
  {
   "cell_type": "markdown",
   "metadata": {},
   "source": [
    "## Avec 20 séries"
   ]
  },
  {
   "cell_type": "code",
   "execution_count": null,
   "metadata": {},
   "outputs": [],
   "source": [
    "path = \"/Vrac/PLDAC_reco/data20\" #20 TV-shows, 3108 episodes\n",
    "new_path = \"/Vrac/PLDAC_reco/cleaned_data20\"\n",
    "\n",
    "createCleanedData(path, new_path)"
   ]
  },
  {
   "cell_type": "markdown",
   "metadata": {},
   "source": [
    "Les séries de notre corpus qui contient 20 séries pour un total de 3108 episodes:"
   ]
  },
  {
   "cell_type": "code",
   "execution_count": null,
   "metadata": {},
   "outputs": [],
   "source": [
    "path = \"/Vrac/PLDAC_reco/cleaned_data20\"\n",
    "\n",
    "d_info, d_name = getDicts(path)\n",
    "d_name"
   ]
  },
  {
   "cell_type": "markdown",
   "metadata": {},
   "source": [
    "On construit la matrice de TF-IDF où chaque ligne représente un épisode."
   ]
  },
  {
   "cell_type": "code",
   "execution_count": null,
   "metadata": {},
   "outputs": [],
   "source": [
    "corpus = get_corpus(path, texts_as=\"episode\")\n",
    "X = getTfidfSparseMat(corpus, my_stopwords = stopwords_set)"
   ]
  },
  {
   "cell_type": "markdown",
   "metadata": {},
   "source": [
    "On labelise chaque épisode par l'identifiant de la série auquel il appartient."
   ]
  },
  {
   "cell_type": "code",
   "execution_count": null,
   "metadata": {},
   "outputs": [],
   "source": [
    "#Labelisation\n",
    "nb_eps_per_show = []\n",
    "for i in range(1, len(d_info.keys())+1):\n",
    "    nb_eps_per_show.append(sum(d_info[i].values()))\n",
    "Y = []\n",
    "nb_shows = len(nb_eps_per_show)\n",
    "somme_cumul = np.cumsum(nb_eps_per_show)\n",
    "indMin = 0\n",
    "for i in range(0, nb_shows):\n",
    "    indMax = somme_cumul[i]\n",
    "    for j in range(indMin, indMax):\n",
    "        Y.append(i+1)\n",
    "    indMin = indMax"
   ]
  },
  {
   "cell_type": "markdown",
   "metadata": {},
   "source": [
    "On instancie un classifieur bayesien naif."
   ]
  },
  {
   "cell_type": "code",
   "execution_count": null,
   "metadata": {},
   "outputs": [],
   "source": [
    "#Naives Bayes classifier instantiation\n",
    "nb_clf = naive_bayes.MultinomialNB()"
   ]
  },
  {
   "cell_type": "markdown",
   "metadata": {},
   "source": [
    "On utilise la cross-validation pour évaluer le classifieur."
   ]
  },
  {
   "cell_type": "markdown",
   "metadata": {},
   "source": [
    "5 folds :"
   ]
  },
  {
   "cell_type": "code",
   "execution_count": null,
   "metadata": {},
   "outputs": [],
   "source": [
    "cv = 5\n",
    "scores = cross_val_score(nb_clf, X, Y, cv=cv)\n",
    "scores"
   ]
  },
  {
   "cell_type": "markdown",
   "metadata": {},
   "source": [
    "Accuracy moyenne:"
   ]
  },
  {
   "cell_type": "code",
   "execution_count": null,
   "metadata": {},
   "outputs": [],
   "source": [
    "np.mean(scores)"
   ]
  },
  {
   "cell_type": "markdown",
   "metadata": {},
   "source": [
    "Ecart-type:"
   ]
  },
  {
   "cell_type": "code",
   "execution_count": null,
   "metadata": {},
   "outputs": [],
   "source": [
    "np.std(scores)"
   ]
  },
  {
   "cell_type": "markdown",
   "metadata": {},
   "source": [
    "10 folds :"
   ]
  },
  {
   "cell_type": "code",
   "execution_count": null,
   "metadata": {},
   "outputs": [],
   "source": [
    "cv = 10\n",
    "scores = cross_val_score(nb_clf, X, Y, cv=cv)\n",
    "scores"
   ]
  },
  {
   "cell_type": "markdown",
   "metadata": {},
   "source": [
    "Accuracy moyenne:"
   ]
  },
  {
   "cell_type": "code",
   "execution_count": null,
   "metadata": {},
   "outputs": [],
   "source": [
    "np.mean(scores)"
   ]
  },
  {
   "cell_type": "markdown",
   "metadata": {},
   "source": [
    "Ecart-type:"
   ]
  },
  {
   "cell_type": "code",
   "execution_count": null,
   "metadata": {},
   "outputs": [],
   "source": [
    "np.std(scores)"
   ]
  },
  {
   "cell_type": "markdown",
   "metadata": {},
   "source": [
    "## Avec 50 séries, 5630 épisodes"
   ]
  },
  {
   "cell_type": "code",
   "execution_count": 35,
   "metadata": {},
   "outputs": [
    {
     "data": {
      "text/plain": [
       "5630"
      ]
     },
     "execution_count": 35,
     "metadata": {},
     "output_type": "execute_result"
    }
   ],
   "source": [
    "nb_eps = 0\n",
    "for info in d_info.values():\n",
    "    nb_eps += sum(list(info.values()))\n",
    "        \n",
    "nb_eps"
   ]
  },
  {
   "cell_type": "code",
   "execution_count": 36,
   "metadata": {},
   "outputs": [
    {
     "data": {
      "text/plain": [
       "{1: '10___Smallville',\n",
       " 2: '1149___Downton_Abbey',\n",
       " 3: '119___Robin_Hood',\n",
       " 4: '121___Gossip_Girl',\n",
       " 5: '122___Malcolm_In_The_Middle',\n",
       " 6: '12___Doctor_Who',\n",
       " 7: '132___NCIS',\n",
       " 8: '152___Star_Trek__The_Animated_Series',\n",
       " 9: '15___House',\n",
       " 10: '16___Desperate_Housewives',\n",
       " 11: '182___Friends',\n",
       " 12: '186___American_Dad',\n",
       " 13: '1___Lost',\n",
       " 14: '2381___Scandal',\n",
       " 15: '240___Breaking_Bad',\n",
       " 16: '24___Scrubs',\n",
       " 17: '28___Bones',\n",
       " 18: '2964___Vikings',\n",
       " 19: '2___Heroes',\n",
       " 20: '30___Grey_s_Anatomy',\n",
       " 21: '3103___House_of_Cards_(2013)',\n",
       " 22: '32___Veronica_Mars',\n",
       " 23: '334___Buffy_The_Vampire_Slayer',\n",
       " 24: '364___Legend_of_the_Seeker',\n",
       " 25: '366___True_Blood',\n",
       " 26: '376___The_Mentalist',\n",
       " 27: '384___H2O__Just_Add_Water',\n",
       " 28: '3861___Orange_is_the_New_Black',\n",
       " 29: '3990___Peaky_Blinders',\n",
       " 30: '406___Agatha_Christie__Poirot',\n",
       " 31: '4679___Outlander',\n",
       " 32: '46___The_Tudors',\n",
       " 33: '4___Prison_Break',\n",
       " 34: '51___How_I_Met_Your_Mother',\n",
       " 35: '5423___The_Last_Kingdom',\n",
       " 36: '54___Seinfeld',\n",
       " 37: '565___Andromeda',\n",
       " 38: '57___CSI__Crime_Scene_Investigation',\n",
       " 39: '597___Charmed',\n",
       " 40: '5___Supernatural',\n",
       " 41: '600___The_Vampire_Diaries',\n",
       " 42: '615___The_Good_Wife',\n",
       " 43: '630___The_Nanny',\n",
       " 44: '66___Ugly_Betty',\n",
       " 45: '68___Black_Books',\n",
       " 46: '6___Dexter',\n",
       " 47: '71___The_Wire',\n",
       " 48: '73___Rome',\n",
       " 49: '79___The_Office_(UK)',\n",
       " 50: '880___Pretty_Little_Liars'}"
      ]
     },
     "execution_count": 36,
     "metadata": {},
     "output_type": "execute_result"
    }
   ],
   "source": [
    "path = \"/Vrac/PLDAC_reco/cleaned_data50\"\n",
    "\n",
    "d_info, d_name = getDicts(path)\n",
    "d_name"
   ]
  },
  {
   "cell_type": "code",
   "execution_count": 37,
   "metadata": {},
   "outputs": [],
   "source": [
    "corpus = get_corpus(path, texts_as=\"episode\")\n",
    "X = getTfidfSparseMat(corpus, my_stopwords = stopwords_set)"
   ]
  },
  {
   "cell_type": "code",
   "execution_count": 38,
   "metadata": {},
   "outputs": [],
   "source": [
    "#Labelisation\n",
    "nb_eps_per_show = []\n",
    "for i in range(1, len(d_info.keys())+1):\n",
    "    nb_eps_per_show.append(sum(d_info[i].values()))\n",
    "Y = []\n",
    "nb_shows = len(nb_eps_per_show)\n",
    "somme_cumul = np.cumsum(nb_eps_per_show)\n",
    "indMin = 0\n",
    "for i in range(0, nb_shows):\n",
    "    indMax = somme_cumul[i]\n",
    "    for j in range(indMin, indMax):\n",
    "        Y.append(i+1)\n",
    "    indMin = indMax"
   ]
  },
  {
   "cell_type": "code",
   "execution_count": 40,
   "metadata": {},
   "outputs": [],
   "source": [
    "#Naives Bayes classifier instantiation\n",
    "nb_clf = naive_bayes.MultinomialNB()"
   ]
  },
  {
   "cell_type": "code",
   "execution_count": 41,
   "metadata": {},
   "outputs": [
    {
     "name": "stderr",
     "output_type": "stream",
     "text": [
      "/usr/local/lib/python3.5/dist-packages/sklearn/model_selection/_split.py:605: Warning: The least populated class in y has only 3 members, which is too few. The minimum number of members in any class cannot be less than n_splits=5.\n",
      "  % (min_groups, self.n_splits)), Warning)\n"
     ]
    },
    {
     "data": {
      "text/plain": [
       "array([0.65734266, 0.75395431, 0.77886323, 0.79121864, 0.77034358])"
      ]
     },
     "execution_count": 41,
     "metadata": {},
     "output_type": "execute_result"
    }
   ],
   "source": [
    "cv = 5\n",
    "scores = cross_val_score(nb_clf, X, Y, cv=cv)\n",
    "scores"
   ]
  },
  {
   "cell_type": "code",
   "execution_count": 42,
   "metadata": {},
   "outputs": [
    {
     "data": {
      "text/plain": [
       "0.7503444828574721"
      ]
     },
     "execution_count": 42,
     "metadata": {},
     "output_type": "execute_result"
    }
   ],
   "source": [
    "np.mean(scores)"
   ]
  },
  {
   "cell_type": "code",
   "execution_count": 43,
   "metadata": {},
   "outputs": [
    {
     "name": "stderr",
     "output_type": "stream",
     "text": [
      "/usr/local/lib/python3.5/dist-packages/sklearn/model_selection/_split.py:605: Warning: The least populated class in y has only 3 members, which is too few. The minimum number of members in any class cannot be less than n_splits=10.\n",
      "  % (min_groups, self.n_splits)), Warning)\n"
     ]
    },
    {
     "data": {
      "text/plain": [
       "array([0.67581475, 0.73195876, 0.77526132, 0.79824561, 0.80884956,\n",
       "       0.81105169, 0.82014388, 0.82789855, 0.82234432, 0.78373383])"
      ]
     },
     "execution_count": 43,
     "metadata": {},
     "output_type": "execute_result"
    }
   ],
   "source": [
    "cv = 10\n",
    "scores = cross_val_score(nb_clf, X, Y, cv=cv)\n",
    "scores"
   ]
  },
  {
   "cell_type": "code",
   "execution_count": 44,
   "metadata": {},
   "outputs": [
    {
     "data": {
      "text/plain": [
       "0.7855302287385441"
      ]
     },
     "execution_count": 44,
     "metadata": {},
     "output_type": "execute_result"
    }
   ],
   "source": [
    "np.mean(scores)"
   ]
  },
  {
   "cell_type": "code",
   "execution_count": 45,
   "metadata": {},
   "outputs": [
    {
     "data": {
      "text/plain": [
       "0.045520698672970476"
      ]
     },
     "execution_count": 45,
     "metadata": {},
     "output_type": "execute_result"
    }
   ],
   "source": [
    "np.std(scores)"
   ]
  },
  {
   "cell_type": "markdown",
   "metadata": {},
   "source": [
    "# Tentative de recommandation avec Naive Bayes"
   ]
  },
  {
   "cell_type": "markdown",
   "metadata": {},
   "source": [
    "<b>Idée :</b> \n",
    "- Entrainer le classifieur d'épisodes sur un ensemble de séries.  \n",
    "- Prendre une série hors de cet ensemble.\n",
    "- Tenter de classifier ses épisodes dans les séries aprises par le classifieur.\n",
    "- Renvoyer la série apparaissant le plus dans les classifications comme étant la plus proche."
   ]
  },
  {
   "cell_type": "code",
   "execution_count": 55,
   "metadata": {},
   "outputs": [],
   "source": [
    "path_test = \"/Vrac/PLDAC_reco/cleaned_data_reco_bayes\"\n",
    "\n",
    "corpus = get_corpus(path_test, texts_as=\"episode\")"
   ]
  },
  {
   "cell_type": "code",
   "execution_count": 62,
   "metadata": {},
   "outputs": [],
   "source": [
    "d_info, d_name = getDicts(path_test)"
   ]
  },
  {
   "cell_type": "code",
   "execution_count": 63,
   "metadata": {},
   "outputs": [
    {
     "data": {
      "text/plain": [
       "457"
      ]
     },
     "execution_count": 63,
     "metadata": {},
     "output_type": "execute_result"
    }
   ],
   "source": [
    "nb_eps = 0\n",
    "for i in range(50, 58):\n",
    "    nb_eps += sum(list(d_info[i].values()))\n",
    "        \n",
    "nb_eps    "
   ]
  },
  {
   "cell_type": "code",
   "execution_count": 81,
   "metadata": {},
   "outputs": [],
   "source": [
    "c1 = list(corpus[:-457])\n",
    "c2 = list(corpus[-457:])"
   ]
  },
  {
   "cell_type": "code",
   "execution_count": 74,
   "metadata": {
    "scrolled": false
   },
   "outputs": [],
   "source": [
    "d_info, d_name = getDicts(path_test)\n",
    "\n",
    "for i in range(50, 58):\n",
    "    del d_info[i]"
   ]
  },
  {
   "cell_type": "code",
   "execution_count": 76,
   "metadata": {},
   "outputs": [],
   "source": [
    "#Labelisation\n",
    "nb_eps_per_show = []\n",
    "for i in range(1, len(d_info.keys())+1):\n",
    "    nb_eps_per_show.append(sum(d_info[i].values()))\n",
    "Y = []\n",
    "nb_shows = len(nb_eps_per_show)\n",
    "somme_cumul = np.cumsum(nb_eps_per_show)\n",
    "indMin = 0\n",
    "for i in range(0, nb_shows):\n",
    "    indMax = somme_cumul[i]\n",
    "    for j in range(indMin, indMax):\n",
    "        Y.append(i+1)\n",
    "    indMin = indMax"
   ]
  },
  {
   "cell_type": "code",
   "execution_count": 83,
   "metadata": {},
   "outputs": [],
   "source": [
    "X = getTfidfSparseMat(c1, my_stopwords = stopwords_set)"
   ]
  },
  {
   "cell_type": "code",
   "execution_count": 84,
   "metadata": {},
   "outputs": [
    {
     "data": {
      "text/plain": [
       "MultinomialNB(alpha=1.0, class_prior=None, fit_prior=True)"
      ]
     },
     "execution_count": 84,
     "metadata": {},
     "output_type": "execute_result"
    }
   ],
   "source": [
    "#Naives Bayes classifier instantiation\n",
    "nb_clf = naive_bayes.MultinomialNB()\n",
    "\n",
    "nb_clf.fit(X, Y)"
   ]
  },
  {
   "cell_type": "code",
   "execution_count": 85,
   "metadata": {},
   "outputs": [],
   "source": [
    "X_test_reco = getTfidfSparseMat(c2, my_stopwords = stopwords_set)"
   ]
  },
  {
   "cell_type": "code",
   "execution_count": 88,
   "metadata": {},
   "outputs": [
    {
     "data": {
      "text/plain": [
       "<5639x121597 sparse matrix of type '<class 'numpy.float64'>'\n",
       "\twith 20708046 stored elements in Compressed Sparse Row format>"
      ]
     },
     "execution_count": 88,
     "metadata": {},
     "output_type": "execute_result"
    }
   ],
   "source": [
    "X"
   ]
  },
  {
   "cell_type": "code",
   "execution_count": 87,
   "metadata": {},
   "outputs": [
    {
     "data": {
      "text/plain": [
       "<457x31672 sparse matrix of type '<class 'numpy.float64'>'\n",
       "\twith 1282148 stored elements in Compressed Sparse Row format>"
      ]
     },
     "execution_count": 87,
     "metadata": {},
     "output_type": "execute_result"
    }
   ],
   "source": [
    "X_test_reco"
   ]
  },
  {
   "cell_type": "code",
   "execution_count": null,
   "metadata": {},
   "outputs": [],
   "source": [
    "nb_clf.predict(X_test_reco)"
   ]
  },
  {
   "cell_type": "code",
   "execution_count": null,
   "metadata": {},
   "outputs": [],
   "source": [
    "#predict on test\n",
    "predictions = nb_clf.predict(X_test_reco)"
   ]
  }
 ],
 "metadata": {
  "kernelspec": {
   "display_name": "Python 3",
   "language": "python",
   "name": "python3"
  },
  "language_info": {
   "codemirror_mode": {
    "name": "ipython",
    "version": 3
   },
   "file_extension": ".py",
   "mimetype": "text/x-python",
   "name": "python",
   "nbconvert_exporter": "python",
   "pygments_lexer": "ipython3",
   "version": "3.5.3"
  }
 },
 "nbformat": 4,
 "nbformat_minor": 2
}
