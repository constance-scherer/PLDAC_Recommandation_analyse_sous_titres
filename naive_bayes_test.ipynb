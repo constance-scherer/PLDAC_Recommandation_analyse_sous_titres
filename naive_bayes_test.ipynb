{
 "cells": [
  {
   "cell_type": "code",
   "execution_count": 27,
   "metadata": {},
   "outputs": [],
   "source": [
    "from preprocessing import *\n",
    "from swSets import *\n",
    "from sklearn import naive_bayes, metrics\n",
    "from sklearn.model_selection import train_test_split, cross_val_score\n",
    "import scipy\n",
    "from scipy.sparse import csr_matrix"
   ]
  },
  {
   "cell_type": "markdown",
   "metadata": {},
   "source": [
    "# <font color =\"mediumvioletred\">Classifier épisodes dans la bonne série avec Naive Bayes</font>"
   ]
  },
  {
   "cell_type": "code",
   "execution_count": 2,
   "metadata": {},
   "outputs": [],
   "source": [
    "path = \"data\" #20 TV-shows, 3108 episodes"
   ]
  },
  {
   "cell_type": "code",
   "execution_count": 3,
   "metadata": {},
   "outputs": [],
   "source": [
    "corpus = get_corpus(path, texts_as=\"episode\")"
   ]
  },
  {
   "cell_type": "code",
   "execution_count": 4,
   "metadata": {},
   "outputs": [],
   "source": [
    "df = getTfidfDataFrame(corpus, my_stopwords=stopwords_set)"
   ]
  },
  {
   "cell_type": "code",
   "execution_count": 6,
   "metadata": {},
   "outputs": [],
   "source": [
    "X = scipy.sparse.csr_matrix(df.values)"
   ]
  },
  {
   "cell_type": "code",
   "execution_count": 7,
   "metadata": {},
   "outputs": [],
   "source": [
    "d_info, d_name = getDicts(path)"
   ]
  },
  {
   "cell_type": "code",
   "execution_count": 28,
   "metadata": {},
   "outputs": [
    {
     "data": {
      "text/plain": [
       "{1: '10___Smallville',\n",
       " 2: '122___Malcolm_In_The_Middle',\n",
       " 3: '12___Doctor_Who',\n",
       " 4: '132___NCIS',\n",
       " 5: '15___House',\n",
       " 6: '16___Desperate_Housewives',\n",
       " 7: '186___American_Dad',\n",
       " 8: '2381___Scandal',\n",
       " 9: '24___Scrubs',\n",
       " 10: '28___Bones',\n",
       " 11: '30___Grey_s_Anatomy',\n",
       " 12: '3103___House_of_Cards_(2013)',\n",
       " 13: '32___Veronica_Mars',\n",
       " 14: '366___True_Blood',\n",
       " 15: '51___How_I_Met_Your_Mother',\n",
       " 16: '57___CSI__Crime_Scene_Investigation',\n",
       " 17: '615___The_Good_Wife',\n",
       " 18: '66___Ugly_Betty',\n",
       " 19: '71___The_Wire',\n",
       " 20: '880___Pretty_Little_Liars'}"
      ]
     },
     "execution_count": 28,
     "metadata": {},
     "output_type": "execute_result"
    }
   ],
   "source": [
    "d_name"
   ]
  },
  {
   "cell_type": "code",
   "execution_count": 25,
   "metadata": {},
   "outputs": [],
   "source": [
    "nb_eps_per_show = []\n",
    "for i in range(1, len(d_info.keys())+1):\n",
    "    nb_eps_per_show.append(sum(d_info[i].values()))"
   ]
  },
  {
   "cell_type": "code",
   "execution_count": 12,
   "metadata": {},
   "outputs": [],
   "source": [
    "#labelisation\n",
    "Y = []\n",
    "nb_shows = len(nb_eps_per_show)\n",
    "somme_cumul = np.cumsum(nb_eps_per_show)\n",
    "indMin = 0\n",
    "for i in range(0, nb_shows):\n",
    "    indMax = somme_cumul[i]\n",
    "    for j in range(indMin, indMax):\n",
    "        Y.append(i+1)\n",
    "    indMin = indMax"
   ]
  },
  {
   "cell_type": "code",
   "execution_count": 18,
   "metadata": {},
   "outputs": [],
   "source": [
    "#split dataSet and LabelSet into train/test sets\n",
    "X_train, X_test, Y_train, Y_test = train_test_split(X, Y, test_size=0.20, random_state=42)"
   ]
  },
  {
   "cell_type": "code",
   "execution_count": 34,
   "metadata": {},
   "outputs": [],
   "source": [
    "#Naives Bayes classifier instanciation\n",
    "nb_clf = naive_bayes.MultinomialNB()"
   ]
  },
  {
   "cell_type": "code",
   "execution_count": 20,
   "metadata": {},
   "outputs": [
    {
     "data": {
      "text/plain": [
       "MultinomialNB(alpha=1.0, class_prior=None, fit_prior=True)"
      ]
     },
     "execution_count": 20,
     "metadata": {},
     "output_type": "execute_result"
    }
   ],
   "source": [
    "#train classifier on training data\n",
    "nb_clf.fit(X_train, Y_train)"
   ]
  },
  {
   "cell_type": "code",
   "execution_count": 21,
   "metadata": {},
   "outputs": [],
   "source": [
    "#predict on test\n",
    "predictions = nb_clf.predict(X_test)"
   ]
  },
  {
   "cell_type": "code",
   "execution_count": 22,
   "metadata": {},
   "outputs": [
    {
     "data": {
      "text/plain": [
       "128"
      ]
     },
     "execution_count": 22,
     "metadata": {},
     "output_type": "execute_result"
    }
   ],
   "source": [
    "nb_errors = 0\n",
    "for i in range(len(Y_test)):\n",
    "    if Y_test[i] != predictions[i]:\n",
    "        nb_errors += 1\n",
    "        \n",
    "nb_errors"
   ]
  },
  {
   "cell_type": "code",
   "execution_count": 23,
   "metadata": {},
   "outputs": [
    {
     "data": {
      "text/plain": [
       "0.79421221864951763"
      ]
     },
     "execution_count": 23,
     "metadata": {},
     "output_type": "execute_result"
    }
   ],
   "source": [
    "#accuracy\n",
    "nb_clf.score(X_test, Y_test, sample_weight=None)"
   ]
  },
  {
   "cell_type": "markdown",
   "metadata": {},
   "source": [
    "<font color =\"darkorange\"><b>Accuracy de 0.79421221864951763</b></font>"
   ]
  },
  {
   "cell_type": "markdown",
   "metadata": {},
   "source": [
    "# <font color =\"mediumvioletred\">Cross Validation</font>"
   ]
  },
  {
   "cell_type": "markdown",
   "metadata": {},
   "source": [
    "### <font color =\"forestgreen\">5 folds</font>"
   ]
  },
  {
   "cell_type": "code",
   "execution_count": 35,
   "metadata": {},
   "outputs": [],
   "source": [
    "cv = 5\n",
    "scores = cross_val_score(nb_clf, X, Y, cv=cv)"
   ]
  },
  {
   "cell_type": "code",
   "execution_count": 36,
   "metadata": {},
   "outputs": [
    {
     "data": {
      "text/plain": [
       "array([ 0.74721781,  0.76996805,  0.80483871,  0.81523501,  0.76785714])"
      ]
     },
     "execution_count": 36,
     "metadata": {},
     "output_type": "execute_result"
    }
   ],
   "source": [
    "scores"
   ]
  },
  {
   "cell_type": "code",
   "execution_count": 37,
   "metadata": {},
   "outputs": [
    {
     "data": {
      "text/plain": [
       "0.78102334355956726"
      ]
     },
     "execution_count": 37,
     "metadata": {},
     "output_type": "execute_result"
    }
   ],
   "source": [
    "np.mean(scores)"
   ]
  },
  {
   "cell_type": "markdown",
   "metadata": {},
   "source": [
    "<font color =\"darkorange\"><b>Accuracy de 0.78102334355956726</b></font>"
   ]
  },
  {
   "cell_type": "markdown",
   "metadata": {},
   "source": [
    "## <font color =\"forestgreen\">10 folds</font>"
   ]
  },
  {
   "cell_type": "code",
   "execution_count": 38,
   "metadata": {},
   "outputs": [],
   "source": [
    "cv = 10\n",
    "scores = cross_val_score(nb_clf, X, Y, cv=cv)"
   ]
  },
  {
   "cell_type": "code",
   "execution_count": 39,
   "metadata": {},
   "outputs": [
    {
     "data": {
      "text/plain": [
       "array([ 0.77987421,  0.77672956,  0.78095238,  0.78025478,  0.83757962,\n",
       "        0.81672026,  0.83116883,  0.82622951,  0.81188119,  0.76490066])"
      ]
     },
     "execution_count": 39,
     "metadata": {},
     "output_type": "execute_result"
    }
   ],
   "source": [
    "scores"
   ]
  },
  {
   "cell_type": "code",
   "execution_count": 40,
   "metadata": {},
   "outputs": [
    {
     "data": {
      "text/plain": [
       "0.80062909964124918"
      ]
     },
     "execution_count": 40,
     "metadata": {},
     "output_type": "execute_result"
    }
   ],
   "source": [
    "np.mean(scores)"
   ]
  },
  {
   "cell_type": "markdown",
   "metadata": {},
   "source": [
    "<font color =\"darkorange\"><b>Accuracy de 0.80062909964124918</b></font>"
   ]
  }
 ],
 "metadata": {
  "kernelspec": {
   "display_name": "Python 3",
   "language": "python",
   "name": "python3"
  },
  "language_info": {
   "codemirror_mode": {
    "name": "ipython",
    "version": 3
   },
   "file_extension": ".py",
   "mimetype": "text/x-python",
   "name": "python",
   "nbconvert_exporter": "python",
   "pygments_lexer": "ipython3",
   "version": "3.5.1"
  }
 },
 "nbformat": 4,
 "nbformat_minor": 2
}
